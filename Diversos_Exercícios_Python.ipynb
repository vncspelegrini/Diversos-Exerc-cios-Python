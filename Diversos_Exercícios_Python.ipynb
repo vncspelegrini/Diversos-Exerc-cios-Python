{
  "nbformat": 4,
  "nbformat_minor": 0,
  "metadata": {
    "colab": {
      "name": "Diversos Exercícios Python",
      "provenance": [],
      "collapsed_sections": [],
      "authorship_tag": "ABX9TyNMKzXSlx8rSrj1jHcF8rzC",
      "include_colab_link": true
    },
    "kernelspec": {
      "name": "python3",
      "display_name": "Python 3"
    },
    "language_info": {
      "name": "python"
    }
  },
  "cells": [
    {
      "cell_type": "markdown",
      "metadata": {
        "id": "view-in-github",
        "colab_type": "text"
      },
      "source": [
        "<a href=\"https://colab.research.google.com/github/vncspelegrini/execiciosPython/blob/main/Diversos_Exerc%C3%ADcios_Python.ipynb\" target=\"_parent\"><img src=\"https://colab.research.google.com/assets/colab-badge.svg\" alt=\"Open In Colab\"/></a>"
      ]
    },
    {
      "cell_type": "code",
      "metadata": {
        "id": "TA7Yt3D5tBjc",
        "colab": {
          "base_uri": "https://localhost:8080/"
        },
        "outputId": "9fda731e-f280-45a5-d869-9dc4164ff005"
      },
      "source": [
        "n = 0\n",
        "while n < 100 or n > 500 :\n",
        "  try :\n",
        "    s = input ('Digite N no intervalo [100, 500]: ')\n",
        "    n = int(s)\n",
        "  except:\n",
        "    print ('{} não é um número'.format(s))\n",
        "    n = 0\n",
        "  else : \n",
        "    if n < 100 or n > 500:\n",
        "      print ('O valor lido {} está fora do intervalo' .format(n))\n",
        "    else:\n",
        "      print ('O valor lido {} está ok.' .format (n))\n",
        "  finally:\n",
        "    print ('\\n\\n')"
      ],
      "execution_count": null,
      "outputs": [
        {
          "output_type": "stream",
          "name": "stdout",
          "text": [
            "Digite N no intervalo [100, 500]: 8\n",
            "O valor lido 8 está fora do intervalo\n",
            "\n",
            "\n",
            "\n",
            "Digite N no intervalo [100, 500]: 100\n",
            "O valor lido 100 está ok.\n",
            "\n",
            "\n",
            "\n"
          ]
        }
      ]
    },
    {
      "cell_type": "code",
      "metadata": {
        "colab": {
          "base_uri": "https://localhost:8080/"
        },
        "id": "7IN7s7k3AE5q",
        "outputId": "ab752423-34d1-4913-9b81-ca326da3e68f"
      },
      "source": [
        "n = int(input('Digite um número: '))\n",
        "if n % 2 == 0:\n",
        "  print('O número digitado é par.')\n",
        "else:\n",
        "  print('O número digitado é ímpar')"
      ],
      "execution_count": null,
      "outputs": [
        {
          "output_type": "stream",
          "name": "stdout",
          "text": [
            "Digite um número: 9\n",
            "O número digitado é ímpar\n"
          ]
        }
      ]
    },
    {
      "cell_type": "code",
      "metadata": {
        "id": "w5QnzYsHaFsq"
      },
      "source": [
        "import random\n",
        "from random import randint\n",
        "n = int (input('Digite N: '))\n",
        "total = 0 \n",
        "i = 1 \n",
        "while i <= n:\n",
        "  x = randint(1, 50)\n",
        "  print ('Valor {} gerado = {}' .format(i, x))\n",
        "  total = total + x \n",
        "  i += 1\n",
        "\n",
        "print ('\\n Soma dos valores gerados = {}' . format (total))\n",
        "\n"
      ],
      "execution_count": null,
      "outputs": []
    },
    {
      "cell_type": "code",
      "metadata": {
        "id": "Zcl2XJ2-lDKL"
      },
      "source": [
        "print ('Sequência de Fibonacci \\n')\n",
        "\n",
        "n = 0\n",
        "while n < 2:\n",
        "  try:\n",
        "    n = int (input('Digite n(>1 ): '))\n",
        "    if n < 2:\n",
        "      print('Digite n >=2')\n",
        "  except:\n",
        "    print('O dado digitado deve ser um numero inteiro.')\n",
        "\n",
        "a = 0\n",
        "b = 1\n",
        "print ('0, 1,', end='')\n",
        "\n",
        "i = 0\n",
        "while i < n-2:\n",
        "  c = a + b\n",
        "  print('{}, '.format(c), end = '')\n",
        "\n",
        "  a = b\n",
        "  b = c\n",
        "  i +=1\n",
        "print ('\\n\\nFim do Programa')\n",
        "\n",
        "\n"
      ],
      "execution_count": null,
      "outputs": []
    },
    {
      "cell_type": "code",
      "metadata": {
        "id": "SLuJ98NcP1us"
      },
      "source": [
        "print ('Desafio 01')\n",
        "\n",
        "nome = input ('Digite seu nome')\n",
        "\n",
        "print ('Ola!',nome,'prazer em te conhecer!' )"
      ],
      "execution_count": null,
      "outputs": []
    },
    {
      "cell_type": "code",
      "metadata": {
        "id": "YH0YHhPaRERy",
        "colab": {
          "base_uri": "https://localhost:8080/"
        },
        "outputId": "5ca03f82-1874-47e4-e3f7-3c2f31fb8ed7"
      },
      "source": [
        "print ('Desafio 02')\n",
        "\n",
        "dia = input ('Dia =')\n",
        "mes = input ('Mês = ')\n",
        "ano = input ('Ano = ')\n",
        "\n",
        "print ('Você nasceu no dia', dia, 'de', mes, 'de',ano, '.Correto?')"
      ],
      "execution_count": null,
      "outputs": [
        {
          "output_type": "stream",
          "name": "stdout",
          "text": [
            "Desafio 02\n",
            "Dia =4\n",
            "Mês = 4\n",
            "Ano = 4\n",
            "Você nasceu no dia 4 de 4 de 4 .Correto?\n"
          ]
        }
      ]
    },
    {
      "cell_type": "code",
      "metadata": {
        "id": "9jwKyKZ3B3he"
      },
      "source": [
        "n1 = 'a'\n",
        "n2 = 'a'\n",
        "while n1 or n2 != int:\n",
        "  try:\n",
        "    n1 = int(input('Digite um número inteiro: '))\n",
        "    n2 = int(input('Digite outro número inteiro: '))\n",
        "    if n1 < n2 :\n",
        "      print('{} é menor que {}'.format(n1, n2))\n",
        "    elif n1 > n2:\n",
        "        print('{} é menor que {}'.format(n2,n1))\n",
        "    else:\n",
        "        print('Os números são iguais')\n",
        "    break\n",
        "  except:\n",
        "    print('Você deve digitar um número inteiro !!!')"
      ],
      "execution_count": null,
      "outputs": []
    },
    {
      "cell_type": "code",
      "metadata": {
        "colab": {
          "base_uri": "https://localhost:8080/"
        },
        "id": "84n-qeqqSCsW",
        "outputId": "e5d4b535-a3c1-4fd1-9477-deb3f68b93ad"
      },
      "source": [
        "n1 = float(input('Digite o primeiro número: '))\n",
        "n2 = float(input('Digite o segundo número: '))\n",
        "n3 = float(input('Digite o terceiro número: '))\n",
        "if n1 < n2 + n3 and n2 < n1 + n3 and n3 < n1 + n2:\n",
        "  if n1 == n2 and n2 == n3:\n",
        "    print('Triângulo equilátero')\n",
        "  elif n1 == n2 or n1 == n3 or n2 == n3:\n",
        "    print ('Triângulo isósceles')\n",
        "  else:\n",
        "    print('Triângulo escaleno')\n",
        "else:\n",
        "  print('Não é um triângulo')\n",
        "\n",
        "\n",
        "\n"
      ],
      "execution_count": null,
      "outputs": [
        {
          "output_type": "stream",
          "name": "stdout",
          "text": [
            "Digite o primeiro número: 7\n",
            "Digite o segundo número: 8\n",
            "Digite o terceiro número: 3\n",
            "Triângulo escaleno\n"
          ]
        }
      ]
    },
    {
      "cell_type": "code",
      "metadata": {
        "id": "rgZllDom_fXV"
      },
      "source": [
        "try:\n",
        "  nome = input('Digite o nome: ')\n",
        "  peso = float(input('Digite o peso: '))\n",
        "  cat = ''\n",
        "  \n",
        "  if peso < 65 :\n",
        "    cat = 'Pena'\n",
        "  elif peso >= 65 and peso < 72:\n",
        "    cat = 'Leve'\n",
        "  elif peso >= 72 and peso < 79:\n",
        "    cat = 'Ligeiro'\n",
        "  elif peso >= 79 and peso < 86:\n",
        "    cat = 'Meio-médio'\n",
        "  elif peso >= 86 and peso < 93:\n",
        "    cat = 'Médio'\n",
        "  elif peso >= 93 and peso < 100:\n",
        "    cat = 'Meio-pesado'\n",
        "  else:\n",
        "    cat = 'pesado'\n",
        "  print('O lutador {} pesa {} e se enquadra na categoria {}.'.format(nome, peso, cat))\n",
        "except:\n",
        "  print('Peso deve ser um número e o nome letras')"
      ],
      "execution_count": null,
      "outputs": []
    },
    {
      "cell_type": "code",
      "metadata": {
        "colab": {
          "base_uri": "https://localhost:8080/"
        },
        "id": "VudTnFT-wJiS",
        "outputId": "4f3e356a-e18b-4a62-9def-70baf90f85a5"
      },
      "source": [
        "valho = float (input('Digite o valor da hora: '))\n",
        "qtho = int (input('Digite a quantidade de horas: '))\n",
        "extra = int (input('Digite a quantidade de horas extras: '))\n",
        "\n",
        "valext = valho * extra * 2\n",
        "pag = valext + (qtho * valho)\n",
        "\n",
        "print('Valor a receber R$ {} '.format(pag))"
      ],
      "execution_count": null,
      "outputs": [
        {
          "output_type": "stream",
          "name": "stdout",
          "text": [
            "Digite o valor da hora: 5\n",
            "Digite a quantidade de horas: 2\n",
            "Digite a quantidade de horas extras: 1\n",
            "Valor a receber R$ 20.0 \n"
          ]
        }
      ]
    },
    {
      "cell_type": "code",
      "metadata": {
        "colab": {
          "base_uri": "https://localhost:8080/"
        },
        "id": "zVinxiP50Vpt",
        "outputId": "5fb43e53-82b3-4933-f1b8-0792fae6d033"
      },
      "source": [
        "n = 0\n",
        "while n < 10 :\n",
        "  n += 1\n",
        "  print (n)"
      ],
      "execution_count": null,
      "outputs": [
        {
          "output_type": "stream",
          "name": "stdout",
          "text": [
            "1\n",
            "2\n",
            "3\n",
            "4\n",
            "5\n",
            "6\n",
            "7\n",
            "8\n",
            "9\n",
            "10\n"
          ]
        }
      ]
    },
    {
      "cell_type": "code",
      "metadata": {
        "colab": {
          "base_uri": "https://localhost:8080/"
        },
        "id": "OwApyMPK1mjB",
        "outputId": "398f3080-f770-4727-e889-c6f7fc736def"
      },
      "source": [
        "t = int (input('Digite um número: '))\n",
        "n = 0\n",
        "while n < 10 :\n",
        "  n += 1\n",
        "  print ('{} x {} = {}'.format (t, n, t*n))\n",
        "  "
      ],
      "execution_count": null,
      "outputs": [
        {
          "output_type": "stream",
          "name": "stdout",
          "text": [
            "Digite um número: 4\n",
            "4 x 1 = 4\n",
            "4 x 2 = 8\n",
            "4 x 3 = 12\n",
            "4 x 4 = 16\n",
            "4 x 5 = 20\n",
            "4 x 6 = 24\n",
            "4 x 7 = 28\n",
            "4 x 8 = 32\n",
            "4 x 9 = 36\n",
            "4 x 10 = 40\n"
          ]
        }
      ]
    },
    {
      "cell_type": "code",
      "metadata": {
        "colab": {
          "base_uri": "https://localhost:8080/"
        },
        "id": "VypdpJPm57Vp",
        "outputId": "233aec71-beaa-476f-e83f-d182c78ca497"
      },
      "source": [
        "n = int (input('Digite a quantidade de números a serem somados: '))\n",
        "s = float (0)\n",
        "while n > 0 :\n",
        "  r = float (input('Digite o valor: '))\n",
        "  if r > 0:\n",
        "    s = s + r\n",
        "    n -= 1\n",
        "  else:\n",
        "    n -= 1\n",
        "print('A soma deu {}'.format(s))\n",
        "  "
      ],
      "execution_count": null,
      "outputs": [
        {
          "output_type": "stream",
          "name": "stdout",
          "text": [
            "Digite a quantidade de números a serem somados: 7\n",
            "Digite o valor: -1\n",
            "Digite o valor: 1\n",
            "Digite o valor: 1\n",
            "Digite o valor: 1\n",
            "Digite o valor: 1\n",
            "Digite o valor: 1\n",
            "Digite o valor: 1\n",
            "A soma deu 6.0\n"
          ]
        }
      ]
    },
    {
      "cell_type": "code",
      "metadata": {
        "colab": {
          "base_uri": "https://localhost:8080/"
        },
        "id": "ON7027VA-ZLX",
        "outputId": "501d0499-755f-48bd-de02-259d2c17d9c7"
      },
      "source": [
        "n = ''\n",
        "p = int (0)\n",
        "i = int (0)\n",
        "while n != 0 :\n",
        "  n = int(input('Digite um número: '))\n",
        "  if n < 0 :\n",
        "    i = i + n\n",
        "  else:\n",
        "    p = p + n\n",
        "print('A soma dos números positivos foi {}'.format(p))\n",
        "print('A soma dos números negativos foi {}'.format(i))"
      ],
      "execution_count": null,
      "outputs": [
        {
          "output_type": "stream",
          "name": "stdout",
          "text": [
            "Digite um número: 1\n",
            "Digite um número: 4\n",
            "Digite um número: 4\n",
            "Digite um número: 4\n",
            "Digite um número: 0\n",
            "A soma dos números positivos foi 13\n",
            "A soma dos números negativos foi 0\n"
          ]
        }
      ]
    },
    {
      "cell_type": "code",
      "metadata": {
        "colab": {
          "base_uri": "https://localhost:8080/"
        },
        "id": "3flyK8PmQhH0",
        "outputId": "c84872f7-fb28-4c15-c6db-eaece65c4fbc"
      },
      "source": [
        "N = int (input('Digite a quantidade de termos da PG: '))\n",
        "R = int (input('Digite a razão: '))\n",
        "P = int (input('Digite o primeiro termo da PG: '))\n",
        "S = 0\n",
        "print(P)\n",
        "while N - 1 > 0 :\n",
        "  P = P * R\n",
        "  S = S + P\n",
        "  N -= 1\n",
        "  print(P)\n",
        "else:\n",
        "  print('A soma dos termos é {}'.format(S))\n",
        "  \n",
        "  "
      ],
      "execution_count": null,
      "outputs": [
        {
          "output_type": "stream",
          "name": "stdout",
          "text": [
            "Digite a quantidade de termos da PG: 5\n",
            "Digite a razão: 3\n",
            "Digite o primeiro termo da PG: 2\n",
            "2\n",
            "6\n",
            "18\n",
            "54\n",
            "162\n",
            "A soma dos termos é 240\n"
          ]
        }
      ]
    },
    {
      "cell_type": "code",
      "metadata": {
        "colab": {
          "base_uri": "https://localhost:8080/"
        },
        "id": "TgM0f399VbPv",
        "outputId": "26bc1940-9aeb-45c8-9d27-2696ce9a12b7"
      },
      "source": [
        "min = int (input('Digite o 1o. intervalo: '))\n",
        "max = int (input('Digite o 2o. intervalo: '))\n",
        "if min > max :\n",
        "  t = max\n",
        "  max = min\n",
        "  min = t\n",
        "  print('O 1o.intervalo é maior que o 2o. intervalo, os valores foram invertidos !!!')\n",
        "c = max - min\n",
        "while c >= 0 :\n",
        "  if min % 5 == 0 :\n",
        "    print(min)\n",
        "    min += 1\n",
        "    c = c - 1\n",
        "  else:\n",
        "    min += 1\n",
        "    c -= 1"
      ],
      "execution_count": null,
      "outputs": [
        {
          "output_type": "stream",
          "name": "stdout",
          "text": [
            "Digite o 1o. intervalo: 10\n",
            "Digite o 2o. intervalo: 1\n",
            "O 1o.intervalo é maior que o 2o. intervalo, os valores foram invertidos !!!\n",
            "5\n",
            "10\n"
          ]
        }
      ]
    },
    {
      "cell_type": "code",
      "metadata": {
        "colab": {
          "base_uri": "https://localhost:8080/"
        },
        "id": "-3x7G7Y6QkA7",
        "outputId": "ca83083b-c47d-4c56-8807-973e163f87e6"
      },
      "source": [
        "n = int (input('Digite um número: '))\n",
        "print('O sucessor de {} é {} e o seu antecessor é {}'.format(n, n + 1, n - 1))"
      ],
      "execution_count": null,
      "outputs": [
        {
          "output_type": "stream",
          "name": "stdout",
          "text": [
            "Digite um número: 5\n",
            "O sucessor de 5 é 6 e o seu antecessor é 4\n"
          ]
        }
      ]
    },
    {
      "cell_type": "code",
      "metadata": {
        "colab": {
          "base_uri": "https://localhost:8080/"
        },
        "id": "0ajAbV6aSPDZ",
        "outputId": "5c3dab0f-ae20-42dc-8a4c-877fc4eae726"
      },
      "source": [
        "n = int (input('Digite um número: '))\n",
        "print('O número digitado foi {}, o seu dobro é {}, o seu triplo é {} e a sua raiz quadrada é {}. '.format (n, 2*n, 3*n, n**(1/2)))"
      ],
      "execution_count": null,
      "outputs": [
        {
          "output_type": "stream",
          "name": "stdout",
          "text": [
            "Digite um número: 9\n",
            "O número digitado foi 9, o seu dobro é 18, o seu triplo é 27 e a sua raiz quadrada é 3.0. \n"
          ]
        }
      ]
    },
    {
      "cell_type": "code",
      "metadata": {
        "colab": {
          "base_uri": "https://localhost:8080/"
        },
        "id": "MDqCJcLdVnLC",
        "outputId": "880c9294-e81d-450c-b27d-f252546d5d78"
      },
      "source": [
        "n1 = float (input('Digite a primeira nota: '))\n",
        "n2 = float (input('Digite a segunda nota: '))\n",
        "m = (n1 + n2)/2\n",
        "print('A média das notas é {}'.format(m))"
      ],
      "execution_count": null,
      "outputs": [
        {
          "output_type": "stream",
          "name": "stdout",
          "text": [
            "Digite a primeira nota: 4\n",
            "Digite a segunda nota: 4\n",
            "A média das notas é 4.0\n"
          ]
        }
      ]
    },
    {
      "cell_type": "code",
      "metadata": {
        "colab": {
          "base_uri": "https://localhost:8080/"
        },
        "id": "CKy1aBRMXikO",
        "outputId": "aa2f63d6-7931-4c02-cb6e-10f08cca194d"
      },
      "source": [
        "m = int (input('Digite a metragem: '))\n",
        "c = m * 100\n",
        "mm = c * 10\n",
        "print('{} metro equivale a {} cm e a {} milímetros.'.format(m, c, mm))"
      ],
      "execution_count": null,
      "outputs": [
        {
          "output_type": "stream",
          "name": "stdout",
          "text": [
            "Digite a metragem: 1\n",
            "1 metro equivale a 100 cm e a 1000 milímetros.\n"
          ]
        }
      ]
    },
    {
      "cell_type": "code",
      "metadata": {
        "id": "HPCOAI5WaA8w"
      },
      "source": [
        "d = float (input('Quantidade de dinheiro: '))\n",
        "dl = d / 3.27\n",
        "print('Você pode comprar {:.2f} dolares.'.format(dl))"
      ],
      "execution_count": null,
      "outputs": []
    },
    {
      "cell_type": "code",
      "metadata": {
        "id": "5-6iOS1kyX6m"
      },
      "source": [
        "n = int (input('Digite um número: '))\n",
        "\n",
        "while n > 0 :\n",
        "  r = float (input('Digite o 1o. termo: '))\n",
        "  t = float (input('Digite o 2o. termo: '))\n",
        "  if r < t :\n",
        "    print('{} é menor {}'.format(r, t))\n",
        "    n -=1\n",
        "  else:\n",
        "    print('{} é menor {}'.format(t, r))\n",
        "    n -= 1\n",
        "    \n",
        "\n",
        "  "
      ],
      "execution_count": null,
      "outputs": []
    },
    {
      "cell_type": "code",
      "metadata": {
        "id": "13_9Y1xZ7UbB"
      },
      "source": [
        "n = int (input('Digite um número: '))\n",
        "\n",
        "while n > 0 :\n",
        "  r = float (input('Digite o 1o. termo: '))\n",
        "  t = float (input('Digite o 2o. termo: '))\n",
        "  if r < t :\n",
        "    if r < 0:\n",
        "      n -= 1\n",
        "    else:\n",
        "      n -= 1\n",
        "      print('{} é menor que {}.'.format(r, t))\n",
        "  elif t < r :\n",
        "    if t < 0 :\n",
        "      n -= 1\n",
        "    else:\n",
        "      print('{} é menor que {}.'.format(t, r))\n",
        "      n -= 1\n",
        "  else:\n",
        "    print('Números iguais.')\n",
        "    n -= 1"
      ],
      "execution_count": null,
      "outputs": []
    },
    {
      "cell_type": "code",
      "metadata": {
        "id": "hqbsYOikfQSL",
        "colab": {
          "base_uri": "https://localhost:8080/"
        },
        "outputId": "83843435-afed-4f91-8e8d-06902f3d3aa0"
      },
      "source": [
        "n = int (1)\n",
        "comp = 0\n",
        "maior = int ()\n",
        "menor = int (9)\n",
        "cont = int ()\n",
        "soma = int ()\n",
        "media = float ()\n",
        "while n >= 1:\n",
        "  n = int (input('Digite um número: '))\n",
        "  cont += 1\n",
        "  soma = soma + n\n",
        "  if n <= 0 :\n",
        "    print('fim')\n",
        "  elif n > maior :\n",
        "    maior = n\n",
        "    if n < menor :\n",
        "      menor = n\n",
        "if cont > 0:\n",
        "  cont -= 1\n",
        "  media = soma / cont \n",
        "  print('Maior número {}, menor número {}, quantidade de valores {}, soma foi de {} e média {}'.format(maior, menor, cont, soma, media))\n",
        "\n",
        "  "
      ],
      "execution_count": null,
      "outputs": [
        {
          "output_type": "stream",
          "name": "stdout",
          "text": [
            "Digite um número: 3\n",
            "Digite um número: 4\n",
            "Digite um número: 5\n",
            "Digite um número: 0\n",
            "fim\n",
            "Maior número 5, menor número 3, quantidade de valores 3, soma foi de 12 e média 4.0\n"
          ]
        }
      ]
    },
    {
      "cell_type": "code",
      "metadata": {
        "colab": {
          "base_uri": "https://localhost:8080/"
        },
        "id": "Lm0sQbTcMVrG",
        "outputId": "00353900-5ac8-47b8-b897-e345ed191987"
      },
      "source": [
        "n = int (1)\n",
        "while n != 0 :\n",
        "  n = int (input('Digite um número:'))\n",
        "  if n == 0 :\n",
        "    print('fim')\n",
        "  elif n % 2 == 0 and n % 3 == 0:\n",
        "    print('{} é divisível por 2 e por 3'.format(n))\n",
        "  elif n % 3 == 0 :\n",
        "    print('{} é divisível por 3'.format(n))\n",
        "  elif n % 2 == 0 :\n",
        "    print('{} é divisível por 2'.format(n))\n",
        "    "
      ],
      "execution_count": null,
      "outputs": [
        {
          "output_type": "stream",
          "name": "stdout",
          "text": [
            "Digite um número:-9\n",
            "-9 é divisível por 3\n",
            "Digite um número:0\n",
            "fim\n"
          ]
        }
      ]
    },
    {
      "cell_type": "code",
      "metadata": {
        "id": "SMeH6cvZQ_If"
      },
      "source": [
        "n = (int (input('Digite um número maior que 100: ')))\n",
        "soma = 0\n",
        "while n < 100:\n",
        "  n = (int (input('Digite um número maior que 100: ')))\n",
        "while n > 0 :\n",
        "  if n % 2 != 0 :\n",
        "    n -= 1\n",
        "  elif n % 2 == 0 :\n",
        "    print(n)\n",
        "    soma = soma + n\n",
        "    n -= 1\n",
        "print(soma)\n",
        "print('fim')\n"
      ],
      "execution_count": null,
      "outputs": []
    },
    {
      "cell_type": "code",
      "metadata": {
        "id": "ZbDWvlKVTxP4"
      },
      "source": [
        "# Exercício 21 não fiz "
      ],
      "execution_count": null,
      "outputs": []
    },
    {
      "cell_type": "code",
      "metadata": {
        "colab": {
          "base_uri": "https://localhost:8080/"
        },
        "id": "3dF7utnKf0gB",
        "outputId": "8ebdbfd5-e675-4334-f5a4-f28a6fe83c10"
      },
      "source": [
        "l = float(input('Digite a largura: '))\n",
        "h = float(input('Digite a altura: '))\n",
        "a = float(l * h)\n",
        "t = float (a / 2)\n",
        "print ('A área da parede é {} m2 e é necessário {} litros de tinta.'.format(a, t))\n",
        "\n"
      ],
      "execution_count": null,
      "outputs": [
        {
          "output_type": "stream",
          "name": "stdout",
          "text": [
            "Digite a largura: 1\n",
            "Digite a altura: 1\n",
            "A área da parede é 1.0 m2 e é necessário 0.5 litros de tinta.\n"
          ]
        }
      ]
    },
    {
      "cell_type": "code",
      "metadata": {
        "colab": {
          "base_uri": "https://localhost:8080/"
        },
        "id": "HXsoxDddsQJD",
        "outputId": "58ab7ffe-07c3-4ed5-9337-a5408a4c65a5"
      },
      "source": [
        "p = float(input('Digite o preço R$ '))\n",
        "d = float(p - (p * 5 / 100))\n",
        "print('Preço com desconto é R$ {}'.format(d))"
      ],
      "execution_count": null,
      "outputs": [
        {
          "output_type": "stream",
          "name": "stdout",
          "text": [
            "Digite o preço R$ 546\n",
            "Preço com desconto é R$ 518.7\n"
          ]
        }
      ]
    },
    {
      "cell_type": "code",
      "metadata": {
        "colab": {
          "base_uri": "https://localhost:8080/"
        },
        "id": "EuvLY2e8uEHH",
        "outputId": "6a6f6011-a7fc-4789-92e4-281479e5e516"
      },
      "source": [
        "s = float (input('Digite o salário R$ '))\n",
        "a = float (s + (s * 15 / 100))\n",
        "print('Novo salário R$ {}'.format(a))"
      ],
      "execution_count": null,
      "outputs": [
        {
          "output_type": "stream",
          "name": "stdout",
          "text": [
            "Digite o salário R$ 100\n",
            "Novo salário R$ 115.0\n"
          ]
        }
      ]
    },
    {
      "cell_type": "code",
      "metadata": {
        "id": "_JKo4pghZ4Ae"
      },
      "source": [
        "a = 'Vinicius'\n",
        "len (a)\n",
        "a [-2]\n"
      ],
      "execution_count": null,
      "outputs": []
    },
    {
      "cell_type": "code",
      "metadata": {
        "colab": {
          "base_uri": "https://localhost:8080/"
        },
        "id": "kuHPANOuPaYm",
        "outputId": "0ace2d2d-2a29-4665-8ff5-b3c1201ab000"
      },
      "source": [
        "from math import floor\n",
        "\n",
        "n = float(input('Digite um número: '))\n",
        "\n",
        "\n",
        "print('O número é {:.0f}'.format(n))"
      ],
      "execution_count": null,
      "outputs": [
        {
          "output_type": "stream",
          "name": "stdout",
          "text": [
            "Digite um número: 6.127\n",
            "O número é 6\n"
          ]
        }
      ]
    },
    {
      "cell_type": "code",
      "metadata": {
        "colab": {
          "base_uri": "https://localhost:8080/"
        },
        "id": "xEK-uYuVY2hh",
        "outputId": "9b4bf95b-cbef-4466-8f8c-bd07d7e050d9"
      },
      "source": [
        "from math import  hypot\n",
        "co = int(input('Digite o cateto oposto:'))\n",
        "ca = int(input('Digite o cateto adjacente'))\n",
        "\n",
        "h = hypot(co, ca)\n",
        "print(h)"
      ],
      "execution_count": null,
      "outputs": [
        {
          "output_type": "stream",
          "name": "stdout",
          "text": [
            "Digite o cateto oposto:4\n",
            "Digite o cateto adjacente7\n",
            "8.06225774829855\n"
          ]
        }
      ]
    },
    {
      "cell_type": "code",
      "metadata": {
        "id": "jlaSQsPQ9hJq"
      },
      "source": [
        "n = int(input('Digite o primeiro termo: '))\n",
        "r = int(input('Digite a razão: '))\n",
        "qt = int(input('Digite quantidade de termos: '))\n",
        "\n",
        "l=[]\n",
        "cont = 0\n",
        "while (cont < qt):\n",
        "  l.append(n)\n",
        "  n = n + r\n",
        "  cont += 1\n",
        "print('PA resultante: ', l)\n"
      ],
      "execution_count": null,
      "outputs": []
    },
    {
      "cell_type": "code",
      "metadata": {
        "id": "JtQvHkywRgxj",
        "colab": {
          "base_uri": "https://localhost:8080/"
        },
        "outputId": "0ef338b8-c7e7-4c05-8891-2110a7d8b4a1"
      },
      "source": [
        "import math \n",
        "\n",
        "n = int(input('Digite um angulo: '))\n",
        "seno = math.sin(math.radians(n))\n",
        "cos = math.cos(math.radians(n))\n",
        "tan = math.tan(math.radians(n))\n",
        "\n",
        "print('O seno de {} é {:.2f} o cosseno é {:.2f} e a tangente é {:.2f}'.format(n, seno, cos, tan))"
      ],
      "execution_count": null,
      "outputs": [
        {
          "output_type": "stream",
          "name": "stdout",
          "text": [
            "Digite um angulo: 30\n",
            "O seno de 30 é 0.50 o cosseno é 0.87 e a tangente é 0.58\n"
          ]
        }
      ]
    },
    {
      "cell_type": "code",
      "metadata": {
        "id": "lNdW6-eGQu_I",
        "colab": {
          "base_uri": "https://localhost:8080/"
        },
        "outputId": "efd46992-d10c-45da-b45c-757fc630ca74"
      },
      "source": [
        "import random\n",
        "\n",
        "nome = ['João', 'Maria', 'Jose', 'Pedro']\n",
        "\n",
        "print(random.choice(nome))"
      ],
      "execution_count": null,
      "outputs": [
        {
          "output_type": "stream",
          "name": "stdout",
          "text": [
            "Maria\n"
          ]
        }
      ]
    },
    {
      "cell_type": "code",
      "metadata": {
        "id": "herO6fGsLSm6"
      },
      "source": [
        ""
      ],
      "execution_count": null,
      "outputs": []
    },
    {
      "cell_type": "code",
      "metadata": {
        "id": "szrns-JvLUOg",
        "colab": {
          "base_uri": "https://localhost:8080/"
        },
        "outputId": "494a5f23-e903-4fda-b135-f33c782b19eb"
      },
      "source": [
        "import random\n",
        "\n",
        "nome = ['João', 'Maria', 'Jose', 'Pedro', 'Matheus', 'Paulo']\n",
        "\n",
        "while len(nome) > 0:\n",
        "  esc = random.choice(nome)\n",
        "  print(esc)\n",
        "  nome.remove(esc)\n",
        "  \n",
        "  "
      ],
      "execution_count": null,
      "outputs": [
        {
          "output_type": "stream",
          "name": "stdout",
          "text": [
            "Maria\n",
            "João\n",
            "Paulo\n",
            "Matheus\n",
            "Pedro\n",
            "Jose\n"
          ]
        }
      ]
    },
    {
      "cell_type": "code",
      "metadata": {
        "id": "rN8DJeckoAKd",
        "colab": {
          "base_uri": "https://localhost:8080/"
        },
        "outputId": "cae8ec39-2c47-4870-f2f6-f076010c4e0c"
      },
      "source": [
        "l = []\n",
        "n = int(input('Digite um número inteiro: '))\n",
        "while n != 0:\n",
        "  if n == 0:\n",
        "    print('Fim do programa')\n",
        "  else:\n",
        "    l.append(n)\n",
        "    n = int(input('Digite um número inteiro:'))\n",
        "print('A lista digitada foi {} e contém {} itens.'.format(l, len(l)))\n",
        "  \n"
      ],
      "execution_count": null,
      "outputs": [
        {
          "output_type": "stream",
          "name": "stdout",
          "text": [
            "Digite um número inteiro: 6\n",
            "Digite um número inteiro:7\n",
            "Digite um número inteiro:2\n",
            "Digite um número inteiro:0\n",
            "A lista digitada foi [6, 7, 2] e contém 3 itens.\n"
          ]
        }
      ]
    },
    {
      "cell_type": "code",
      "metadata": {
        "colab": {
          "base_uri": "https://localhost:8080/"
        },
        "id": "66wMoZBDTVfM",
        "outputId": "a97c7ce8-7835-436d-cb66-4caa7001fff7"
      },
      "source": [
        "v =[2, 4, 6, 8]\n",
        "print(id(v))\n",
        "l = [3, 5, 7]\n",
        "print(id(l))\n",
        "v = l\n",
        "print(id(v))\n",
        "print (v)"
      ],
      "execution_count": null,
      "outputs": [
        {
          "output_type": "stream",
          "name": "stdout",
          "text": [
            "140377686176944\n",
            "140377686011808\n",
            "140377686011808\n",
            "[3, 5, 7]\n"
          ]
        }
      ]
    },
    {
      "cell_type": "markdown",
      "metadata": {
        "id": "gIOtR7q7Z0Ky"
      },
      "source": [
        ""
      ]
    },
    {
      "cell_type": "code",
      "metadata": {
        "colab": {
          "base_uri": "https://localhost:8080/"
        },
        "id": "zNXzlz8dV02h",
        "outputId": "d754f208-1687-4f45-8f0e-64a408889d5c"
      },
      "source": [
        "nome = input('Digite seu nome: ')\n",
        "print(nome.upper())\n",
        "print(nome.lower())\n",
        "jun = nome.split()\n",
        "print(jun)\n",
        "n =''.join(jun)\n",
        "print(len(n))\n",
        "print(len(jun[0]))"
      ],
      "execution_count": null,
      "outputs": [
        {
          "output_type": "stream",
          "name": "stdout",
          "text": [
            "Digite seu nome: ana maria\n",
            "ANA MARIA\n",
            "ana maria\n",
            "['ana', 'maria']\n",
            "8\n",
            "3\n"
          ]
        }
      ]
    },
    {
      "cell_type": "code",
      "metadata": {
        "colab": {
          "base_uri": "https://localhost:8080/"
        },
        "id": "9bLr-GGSbSr6",
        "outputId": "aa3b7284-c9fe-4519-8243-0ca60d3f50e3"
      },
      "source": [
        "n = input('Digite um número entre 0 e 9999: ')\n",
        "print('Unidade = {} \\nDezena = {} \\nCentena = {} \\nMilhar = {}'.format(n[3], n[2], n[1], n[0]))"
      ],
      "execution_count": null,
      "outputs": [
        {
          "output_type": "stream",
          "name": "stdout",
          "text": [
            "Digite um número entre 0 e 9999: 1234\n",
            "Unidade = 4 \n",
            "Dezena = 3 \n",
            "Centena = 2 \n",
            "Milhar = 1\n"
          ]
        }
      ]
    },
    {
      "cell_type": "code",
      "metadata": {
        "colab": {
          "base_uri": "https://localhost:8080/"
        },
        "id": "R8nDIbYjFJ47",
        "outputId": "f845dff2-7cd1-42a8-88f1-7d4f028e0884"
      },
      "source": [
        "n = int(input('Digite um número entre 0 e 9999: '))\n",
        "u = n // 1 % 10\n",
        "d = n // 10 % 10\n",
        "c = n // 100 % 10\n",
        "m = n // 1000 % 10\n",
        "print('Unidade = {} \\nDezena = {} \\nCentena = {} \\nMilhar = {}'.format(u, d, c, m))"
      ],
      "execution_count": null,
      "outputs": [
        {
          "output_type": "stream",
          "name": "stdout",
          "text": [
            "Digite um número entre 0 e 9999: 789\n",
            "Unidade = 9 \n",
            "Dezena = 8 \n",
            "Centena = 7 \n",
            "Milhar = 0\n"
          ]
        }
      ]
    },
    {
      "cell_type": "code",
      "metadata": {
        "colab": {
          "base_uri": "https://localhost:8080/",
          "height": 248
        },
        "id": "PzjNABBAf8wh",
        "outputId": "c23b987b-b410-4c34-caf7-9ac58910e90d"
      },
      "source": [
        "nome = input('Digite o nome da sua cidade: ')\n",
        "n = nome.upper\n",
        "if 'SANTO' == n:\n",
        "  print('ok')\n",
        "else:\n",
        "  print('Não tem \"SANTO\" no nome digitado.')"
      ],
      "execution_count": null,
      "outputs": [
        {
          "name": "stdout",
          "output_type": "stream",
          "text": [
            "Digite o nome da sua cidade: Santo amaro\n"
          ]
        },
        {
          "output_type": "error",
          "ename": "TypeError",
          "evalue": "ignored",
          "traceback": [
            "\u001b[0;31m---------------------------------------------------------------------------\u001b[0m",
            "\u001b[0;31mTypeError\u001b[0m                                 Traceback (most recent call last)",
            "\u001b[0;32m<ipython-input-38-9e9ce1047295>\u001b[0m in \u001b[0;36m<module>\u001b[0;34m()\u001b[0m\n\u001b[1;32m      1\u001b[0m \u001b[0mnome\u001b[0m \u001b[0;34m=\u001b[0m \u001b[0minput\u001b[0m\u001b[0;34m(\u001b[0m\u001b[0;34m'Digite o nome da sua cidade: '\u001b[0m\u001b[0;34m)\u001b[0m\u001b[0;34m\u001b[0m\u001b[0;34m\u001b[0m\u001b[0m\n\u001b[1;32m      2\u001b[0m \u001b[0mn\u001b[0m \u001b[0;34m=\u001b[0m \u001b[0mnome\u001b[0m\u001b[0;34m.\u001b[0m\u001b[0mupper\u001b[0m\u001b[0;34m\u001b[0m\u001b[0;34m\u001b[0m\u001b[0m\n\u001b[0;32m----> 3\u001b[0;31m \u001b[0;32mif\u001b[0m \u001b[0;34m'SANTO'\u001b[0m \u001b[0;32min\u001b[0m \u001b[0mn\u001b[0m\u001b[0;34m:\u001b[0m\u001b[0;34m\u001b[0m\u001b[0;34m\u001b[0m\u001b[0m\n\u001b[0m\u001b[1;32m      4\u001b[0m   \u001b[0mprint\u001b[0m\u001b[0;34m(\u001b[0m\u001b[0;34m'ok'\u001b[0m\u001b[0;34m)\u001b[0m\u001b[0;34m\u001b[0m\u001b[0;34m\u001b[0m\u001b[0m\n\u001b[1;32m      5\u001b[0m \u001b[0;32melse\u001b[0m\u001b[0;34m:\u001b[0m\u001b[0;34m\u001b[0m\u001b[0;34m\u001b[0m\u001b[0m\n",
            "\u001b[0;31mTypeError\u001b[0m: argument of type 'builtin_function_or_method' is not iterable"
          ]
        }
      ]
    },
    {
      "cell_type": "code",
      "metadata": {
        "colab": {
          "base_uri": "https://localhost:8080/"
        },
        "id": "QI5WDcLEiK3E",
        "outputId": "c7268c59-8f40-4038-deeb-0d8ac38a7062"
      },
      "source": [
        "frase = input('Digite uma frase: ')\n",
        "\n",
        "print(frase.count('A'))\n"
      ],
      "execution_count": null,
      "outputs": [
        {
          "output_type": "stream",
          "name": "stdout",
          "text": [
            "Digite uma frase: Ajhho Agfjfj\n",
            "2\n",
            "0\n"
          ]
        }
      ]
    },
    {
      "cell_type": "code",
      "metadata": {
        "id": "kVIaQ2RTlOcm"
      },
      "source": [
        "nome = input('Digite o seu nome: ')\n",
        "l = nome.split()\n",
        "print('Primeiro: {} \\nUltimo: {}'.format(l[0], l[-1]))"
      ],
      "execution_count": null,
      "outputs": []
    },
    {
      "cell_type": "code",
      "metadata": {
        "colab": {
          "base_uri": "https://localhost:8080/"
        },
        "id": "IJ46jw6GjybK",
        "outputId": "c82c3016-697f-4bd6-df9e-4c4b69c40c0e"
      },
      "source": [
        "import random\n",
        "\n",
        "n = random.randint(0, 5)\n",
        "\n",
        "m = int(input('Tente adivinhar o número que eu escolhi: '))\n",
        "if n == m:\n",
        "  print('Acertou Mizeravi !!!')\n",
        "else:\n",
        "  print('Errou!!!!')\n",
        "  print('Eu escolhi o número {}'.format(n))"
      ],
      "execution_count": null,
      "outputs": [
        {
          "output_type": "stream",
          "name": "stdout",
          "text": [
            "Tente adivinhar o número que eu escolhi: 3\n",
            "Acertou Mizeravi !!!\n"
          ]
        }
      ]
    },
    {
      "cell_type": "code",
      "metadata": {
        "colab": {
          "base_uri": "https://localhost:8080/"
        },
        "id": "ldCE73-PoKCK",
        "outputId": "6f223497-02e5-43c7-b956-7c7325d8070d"
      },
      "source": [
        "v = float(input('Qual a velocidade do carro: '))\n",
        "if v > 80 :\n",
        "  m = (v - 80) * 7\n",
        "  print('Valor da multa R$ {}'.format(m))\n"
      ],
      "execution_count": null,
      "outputs": [
        {
          "output_type": "stream",
          "name": "stdout",
          "text": [
            "Qual a velocidade do carro: 81\n",
            "Valor da multa R$ 7.0\n"
          ]
        }
      ]
    },
    {
      "cell_type": "code",
      "metadata": {
        "colab": {
          "base_uri": "https://localhost:8080/"
        },
        "id": "9TIgVOa-r-i7",
        "outputId": "67e811d2-19e1-453a-d1dd-b1098905e4e6"
      },
      "source": [
        "n = int(input('Digite um número: '))\n",
        "if n % 2 == 0:\n",
        "  print('O número digitado é par ')\n",
        "else:\n",
        "  print('O número digitado é ímpar')"
      ],
      "execution_count": null,
      "outputs": [
        {
          "output_type": "stream",
          "name": "stdout",
          "text": [
            "Digite um número: 4\n",
            "O número digitado é par \n"
          ]
        }
      ]
    },
    {
      "cell_type": "code",
      "metadata": {
        "colab": {
          "base_uri": "https://localhost:8080/"
        },
        "id": "kRKVZiUattcX",
        "outputId": "d7788ec5-30ce-4469-9b26-2eb7f7526a1d"
      },
      "source": [
        "k = int(input('Quantos Km você irá viajar :'))\n",
        "if k <= 200 :\n",
        "  print('O valor da sua passagem será R$ {}'.format(k * 0.50))\n",
        "else:\n",
        "  print('O valor da sua passagem será R$ {}'.format(k * 0.45))"
      ],
      "execution_count": null,
      "outputs": [
        {
          "output_type": "stream",
          "name": "stdout",
          "text": [
            "Quantos Km você irá viajar :200\n",
            "O valor da sua passagem será R$ 100.0\n"
          ]
        }
      ]
    },
    {
      "cell_type": "code",
      "metadata": {
        "colab": {
          "base_uri": "https://localhost:8080/"
        },
        "id": "c8ivbamQxrTM",
        "outputId": "58c9b792-2a4e-4d3f-d070-7ea98d0e8e0b"
      },
      "source": [
        "n1 = int(input('Digite o primeiro número: '))\n",
        "n2 = int(input('Digite o segundo número: '))\n",
        "n3 = int(input('Digite o terceiro número: '))\n",
        "maior = n1\n",
        "if n2 > n1 and n2 > n3:\n",
        "  maior = n2\n",
        "if n3 > n1 and n3 > n2:\n",
        "  maior = n3\n",
        "print(maior)\n",
        "    "
      ],
      "execution_count": null,
      "outputs": [
        {
          "output_type": "stream",
          "name": "stdout",
          "text": [
            "Digite o primeiro número: 4\n",
            "Digite o segundo número: 2\n",
            "Digite o terceiro número: 3\n",
            "4\n"
          ]
        }
      ]
    },
    {
      "cell_type": "code",
      "metadata": {
        "colab": {
          "base_uri": "https://localhost:8080/"
        },
        "id": "0xx9jze9XzCA",
        "outputId": "4f6b61a6-ff98-42f4-caea-9ff927f8ae30"
      },
      "source": [
        "print('\\33[7;32;45m Vinicius')"
      ],
      "execution_count": null,
      "outputs": [
        {
          "output_type": "stream",
          "name": "stdout",
          "text": [
            "\u001b[7;32;45m Vinicius\n"
          ]
        }
      ]
    },
    {
      "cell_type": "code",
      "metadata": {
        "colab": {
          "base_uri": "https://localhost:8080/"
        },
        "id": "I5AzCpL8vTR_",
        "outputId": "499e1aff-8ee4-47d7-8a9f-f43992667ad2"
      },
      "source": [
        "valor = float(input('Digite o valor da casa R$ '))\n",
        "sal = float(input('Digite o seu salário R$ '))\n",
        "tem = int(input('Em quantos anos você deseja pagar ? ')) * 12\n",
        "\n",
        "prest = valor / tem\n",
        "psal = sal * 30 / 100 \n",
        "\n",
        "if psal < prest:\n",
        "  print('Não é possível fazer o financiamento')\n",
        "else:\n",
        "  print('Seu financiamento foi aprovado')\n",
        "  print('O valor mensal a ser pago será de R$ {} pagos em {} meses'.format(prest, tem))\n",
        "\n"
      ],
      "execution_count": null,
      "outputs": [
        {
          "output_type": "stream",
          "name": "stdout",
          "text": [
            "Digite o valor da casa R$ 10000\n",
            "Digite o seu salário R$ 1000\n",
            "Em quantos anos você deseja pagar ? 1\n",
            "Não é possível fazer o financiamento\n"
          ]
        }
      ]
    },
    {
      "cell_type": "code",
      "metadata": {
        "colab": {
          "base_uri": "https://localhost:8080/"
        },
        "id": "6EFz-tLNF7ER",
        "outputId": "6b759c97-5dd1-4404-a44d-74d3b69fe2c2"
      },
      "source": [
        "a = int(input('Digite um número: '))\n",
        "b = int(input('Digite outro número: '))\n",
        "if a > b :\n",
        "  print('O primeiro valor é maior')\n",
        "elif b > a:\n",
        "  print('O segundo valor é maior')\n",
        "else:\n",
        "  print('Os valores são iguais')"
      ],
      "execution_count": null,
      "outputs": [
        {
          "output_type": "stream",
          "name": "stdout",
          "text": [
            "Digite um número: 3\n",
            "Digite outro número: 3\n",
            "Os valores são iguais\n"
          ]
        }
      ]
    },
    {
      "cell_type": "code",
      "metadata": {
        "colab": {
          "base_uri": "https://localhost:8080/"
        },
        "id": "LVQyK7OYGzvT",
        "outputId": "2e776f45-1752-4e49-fb94-265a94cedd39"
      },
      "source": [
        "import random\n",
        "\n",
        "\n",
        "com = random.randint(1, 3)\n",
        "\n",
        "print('Faça a sua escolha: \\n1 - Pedra \\n2 - Papel\\n3 - Tesoura')\n",
        "\n",
        "eu = int(input('Escolha uma opção: '))\n",
        "\n",
        "if com == eu :\n",
        "  if eu == 1:\n",
        "    print('Eu escolhi Pedra e você Pedra')\n",
        "    print('Empate')\n",
        "  elif eu == 2:\n",
        "    print('Eu escolhi Papel e você Papel')\n",
        "    print('Empate')\n",
        "  else:\n",
        "    print('Eu escolhi Tesoura e você Tesoura')\n",
        "    print('Empate')\n",
        "elif com == 1:\n",
        "  if eu == 2:\n",
        "    print('Eu escolhi Pedra e você Papel')\n",
        "    print('Você ganhou')    \n",
        "  else:\n",
        "    print('Eu escolhi Pedra e você Tesoura')\n",
        "    print('Eu ganhei')\n",
        "elif com == 2:\n",
        "  if eu == 3:\n",
        "     print('Eu escolhi Papel e você Tesoura')\n",
        "     print('Você ganhou')\n",
        "  else:\n",
        "    print('Eu escolhi Papel e você Pedra')\n",
        "    print('Eu ganhei')\n",
        "else:\n",
        "  if eu == 1:\n",
        "    print('Eu escolhi Tesoura e você Pedra')\n",
        "    print('Você ganhou')\n",
        "  else:\n",
        "    print('Eu escolhi Tesoura e você papel')\n",
        "    print('Eu ganhei')\n",
        "    "
      ],
      "execution_count": null,
      "outputs": [
        {
          "output_type": "stream",
          "name": "stdout",
          "text": [
            "Faça a sua escolha: \n",
            "1 - Pedra \n",
            "2 - Papel\n",
            "3 - Tesoura\n",
            "Escolha uma opção: 1\n",
            "Eu escolhi Pedra e você Pedra\n",
            "Empate\n"
          ]
        }
      ]
    },
    {
      "cell_type": "code",
      "metadata": {
        "colab": {
          "base_uri": "https://localhost:8080/"
        },
        "id": "q4lyv53vhFyT",
        "outputId": "03e1050e-c69d-4b5b-9c76-c79d56926ea5"
      },
      "source": [
        "from time import sleep\n",
        "\n",
        "for c in range(10, -1, -1):\n",
        "  sleep(2)\n",
        "  print(c)\n",
        "print('kboom')"
      ],
      "execution_count": null,
      "outputs": [
        {
          "output_type": "stream",
          "name": "stdout",
          "text": [
            "10\n",
            "9\n",
            "8\n",
            "7\n",
            "6\n",
            "5\n",
            "4\n",
            "3\n",
            "2\n",
            "1\n",
            "0\n",
            "kboom\n"
          ]
        }
      ]
    },
    {
      "cell_type": "code",
      "metadata": {
        "id": "4hWu1pJy8xvM",
        "colab": {
          "base_uri": "https://localhost:8080/"
        },
        "outputId": "35df0af8-20cc-4897-a175-efc1c0bdaf25"
      },
      "source": [
        "for c in range (0,51,2):\n",
        "  print(c)"
      ],
      "execution_count": null,
      "outputs": [
        {
          "output_type": "stream",
          "name": "stdout",
          "text": [
            "0\n",
            "2\n",
            "4\n",
            "6\n",
            "8\n",
            "10\n",
            "12\n",
            "14\n",
            "16\n",
            "18\n",
            "20\n",
            "22\n",
            "24\n",
            "26\n",
            "28\n",
            "30\n",
            "32\n",
            "34\n",
            "36\n",
            "38\n",
            "40\n",
            "42\n",
            "44\n",
            "46\n",
            "48\n",
            "50\n"
          ]
        }
      ]
    },
    {
      "cell_type": "code",
      "metadata": {
        "id": "zFhMr8Hg9mU2"
      },
      "source": [
        "s = 0\n",
        "for c in range (0, 501):\n",
        "  if c % 2 == 1:\n",
        "    print(c)\n",
        "    if c % 3 == 0:\n",
        "      print(c)\n",
        "      s = s + c\n",
        "print(s)\n"
      ],
      "execution_count": null,
      "outputs": []
    },
    {
      "cell_type": "code",
      "metadata": {
        "id": "SmBenBJB_LWL"
      },
      "source": [
        "n = int(input('Qual tabuada você quer calcular? '))\n",
        "for c in range(0, 11):\n",
        "  r = n * c\n",
        "  print('{} x {} = {}'.format(n, c, r))\n",
        "\n",
        "  "
      ],
      "execution_count": null,
      "outputs": []
    },
    {
      "cell_type": "code",
      "metadata": {
        "id": "39qSr0CrAJyr"
      },
      "source": [
        "s = 0\n",
        "\n",
        "for c in range(0,6):\n",
        "  n = int(input('Digite um nḿero: '))\n",
        "  if n % 2 == 0:\n",
        "    s = s + n\n",
        "print('A soma dos números foi: {}'.format(s))\n",
        "\n"
      ],
      "execution_count": null,
      "outputs": []
    },
    {
      "cell_type": "code",
      "metadata": {
        "id": "dttKCxDgBe9W"
      },
      "source": [
        "pt = int(input('Digite o primeiro termo : '))\n",
        "rz = int(input('Digite a razão :'))\n",
        "for c in range(0, 10):\n",
        "  print(pt)\n",
        "  pt = pt + rz"
      ],
      "execution_count": null,
      "outputs": []
    },
    {
      "cell_type": "code",
      "metadata": {
        "colab": {
          "base_uri": "https://localhost:8080/"
        },
        "id": "_D7EtHTxEsXN",
        "outputId": "bfbc4155-4cd5-4140-ca8b-64e1db739628"
      },
      "source": [
        "n = int(input('Digite um número: '))\n",
        "if n == 2 or n == 3 or n == 5 or n == 5 or n == 7:\n",
        "  print(n)\n",
        "else:\n",
        "  if n % 2 != 0:\n",
        "    if n % 3 != 0:\n",
        "      if n % 5 != 0:\n",
        "        if n % 7 != 0:\n",
        "          print(n)\n"
      ],
      "execution_count": null,
      "outputs": [
        {
          "output_type": "stream",
          "name": "stdout",
          "text": [
            "Digite um número: 11\n",
            "11\n"
          ]
        }
      ]
    },
    {
      "cell_type": "code",
      "metadata": {
        "id": "2O63hjihNgOu"
      },
      "source": [
        "n = int(input('Digite um número: '))\n",
        "if n == 2 or n == 3 or n == 5 or n == 7:\n",
        "  print('{} é divisível por ')\n",
        "  if n % c == 0:\n",
        "    print('{} é divisível por {}'.format(n, c))\n",
        "    print('Não é primo')\n"
      ],
      "execution_count": null,
      "outputs": []
    },
    {
      "cell_type": "code",
      "metadata": {
        "id": "_XqeAFZTQEPS",
        "colab": {
          "base_uri": "https://localhost:8080/"
        },
        "outputId": "16af7f32-a210-4cd2-e81a-c7365cfd7ca0"
      },
      "source": [
        "f = str(input('Digite uma frase: ')).strip().lower().replace(' ','')\n",
        "i = f[::-1]\n",
        "if f == i :\n",
        "  print('A frase digitada é um palíndromo\\n')\n",
        "else:\n",
        "  print('A frase digitada não é um palíndromo\\n')\n",
        "print(f,'\\n')\n",
        "print(i)\n",
        "\n",
        "\n"
      ],
      "execution_count": null,
      "outputs": [
        {
          "output_type": "stream",
          "name": "stdout",
          "text": [
            "Digite uma frase: apos a sopa\n",
            "A frase digitada é um palíndromo\n",
            "\n",
            "aposasopa \n",
            "\n",
            "aposasopa\n"
          ]
        }
      ]
    },
    {
      "cell_type": "code",
      "metadata": {
        "colab": {
          "base_uri": "https://localhost:8080/"
        },
        "id": "1qw3Bh7zWc0J",
        "outputId": "4dca73fb-27a9-4c03-9b46-0d7adb16f29a"
      },
      "source": [
        "a =(1,)\n",
        "\n",
        "print(type(a[0]))\n"
      ],
      "execution_count": null,
      "outputs": [
        {
          "output_type": "stream",
          "name": "stdout",
          "text": [
            "<class 'int'>\n"
          ]
        }
      ]
    },
    {
      "cell_type": "code",
      "metadata": {
        "id": "7zL6zyW6riV-"
      },
      "source": [
        "t(range(10))\n",
        "\n",
        "print(t)"
      ],
      "execution_count": null,
      "outputs": []
    },
    {
      "cell_type": "code",
      "metadata": {
        "colab": {
          "base_uri": "https://localhost:8080/"
        },
        "id": "jighEBNj6a1h",
        "outputId": "8e6ab85c-5a60-42b5-e1a5-0d1f109fcd53"
      },
      "source": [
        "t = list(range(10))\n",
        "print(t)"
      ],
      "execution_count": null,
      "outputs": [
        {
          "output_type": "stream",
          "name": "stdout",
          "text": [
            "[0, 1, 2, 3, 4, 5, 6, 7, 8, 9]\n"
          ]
        }
      ]
    },
    {
      "cell_type": "code",
      "metadata": {
        "id": "5qyWChZC4wvj",
        "colab": {
          "base_uri": "https://localhost:8080/"
        },
        "outputId": "68785b9e-a313-4abb-b35f-175903c273f4"
      },
      "source": [
        "a = ((1, 2), (3, 4), (5, 6), (7, 8))\n",
        "for (x, y) in a:\n",
        "  print(y)"
      ],
      "execution_count": null,
      "outputs": [
        {
          "output_type": "stream",
          "name": "stdout",
          "text": [
            "2\n",
            "4\n",
            "6\n",
            "8\n"
          ]
        }
      ]
    },
    {
      "cell_type": "code",
      "metadata": {
        "id": "9D6A_79_xxlX"
      },
      "source": [
        "l = []\n",
        "x = int(input('Digite um valor: '))\n",
        "while x != 0:\n",
        "  p = 0\n",
        "  while p < len[l] and l[p] < x:\n",
        "    p += 1;\n",
        "  l.insert(p, x)\n",
        "  x = int(input('Digite um valor: '))\n",
        "print('Lista gerada', l)"
      ],
      "execution_count": null,
      "outputs": []
    },
    {
      "cell_type": "code",
      "metadata": {
        "colab": {
          "base_uri": "https://localhost:8080/"
        },
        "id": "4B0tCaNwZsD6",
        "outputId": "6d37d529-03d9-4b65-89bc-3d250f834c16"
      },
      "source": [
        "L = list(range(2, 18,2))\n",
        "print(L)"
      ],
      "execution_count": null,
      "outputs": [
        {
          "output_type": "stream",
          "name": "stdout",
          "text": [
            "[2, 4, 6, 8, 10, 12, 14, 16]\n"
          ]
        }
      ]
    },
    {
      "cell_type": "code",
      "metadata": {
        "colab": {
          "base_uri": "https://localhost:8080/"
        },
        "id": "apyj75gGMc0t",
        "outputId": "1170f2c8-d8cf-4c4f-8ccc-36539dd10c8f"
      },
      "source": [
        "x = []\n",
        "cont = 10\n",
        "while cont > 0:\n",
        "  a = input('Digite algo :')\n",
        "  x.append(a)\n",
        "  cont -= 1\n",
        "print(x)\n",
        "x.reverse()\n",
        "print(x)"
      ],
      "execution_count": null,
      "outputs": [
        {
          "output_type": "stream",
          "name": "stdout",
          "text": [
            "Digite algo :6\n",
            "Digite algo :lica\n",
            "Digite algo :tuca\n",
            "Digite algo :5\n",
            "Digite algo :maco\n",
            "Digite algo :gao\n",
            "Digite algo :6\n",
            "Digite algo :ppp\n",
            "Digite algo :teto\n",
            "Digite algo :ttt\n",
            "['6', 'lica', 'tuca', '5', 'maco', 'gao', '6', 'ppp', 'teto', 'ttt']\n",
            "['ttt', 'teto', 'ppp', '6', 'gao', 'maco', '5', 'tuca', 'lica', '6']\n"
          ]
        }
      ]
    },
    {
      "cell_type": "code",
      "metadata": {
        "colab": {
          "base_uri": "https://localhost:8080/"
        },
        "id": "cieRMzTIhOZ3",
        "outputId": "05244696-219d-4e3a-e659-dfea39b24069"
      },
      "source": [
        "s = input('Digite :').upper()\n",
        "while s not in 'MF':\n",
        "  s = input('Digite o sexo [M/F] : ').upper()\n",
        "  print(s)\n"
      ],
      "execution_count": null,
      "outputs": [
        {
          "name": "stdout",
          "output_type": "stream",
          "text": [
            "Digite :mf\n"
          ]
        }
      ]
    },
    {
      "cell_type": "code",
      "metadata": {
        "id": "gsqtfKFCTwPQ",
        "outputId": "04f06ce1-6ccb-4b93-88e6-e48b3cacdbf7",
        "colab": {
          "base_uri": "https://localhost:8080/"
        }
      },
      "source": [
        "from random import randint\n",
        "\n",
        "com = randint(0, 10)\n",
        "eu = int(input('Digite um nḿero entre 0 e 10: '))\n",
        "cont = 0\n",
        "\n",
        "while com != eu:\n",
        "  print('Errou você escolheu {} e eu escolhi {}'.format(eu, com))\n",
        "  cont += 1\n",
        "  com = randint(0,10)\n",
        "  eu = int(input('Digite um número entre 0 e 10: '))\n",
        "print('Acertou, você precisou de {} tentativas para ganhar'.format(cont))\n",
        "\n"
      ],
      "execution_count": null,
      "outputs": [
        {
          "output_type": "stream",
          "name": "stdout",
          "text": [
            "Digite um nḿero entre 0 e 10: 6\n",
            "Errou você escolheu 6 e eu escolhi 10\n",
            "Digite um número entre 0 e 10: 4\n",
            "Acertou, você precisou de 1 tentativas para ganhar\n"
          ]
        }
      ]
    },
    {
      "cell_type": "code",
      "metadata": {
        "id": "H-W_xcG6aFgb"
      },
      "source": [
        "l = 4\n",
        "e = 4\n",
        "while l == 4:\n",
        "  if e == 1:\n",
        "    print('\\nA soma é :{}'.format(a+b))\n",
        "    e = 4\n",
        "  elif e == 2:\n",
        "    print('\\nA multiplicação deu: {}'.format(a*b))\n",
        "    e = 4\n",
        "  elif e == 3:\n",
        "    if a < b:\n",
        "      print('\\n{} é maior do que {}'.format(b, a))\n",
        "    else:\n",
        "      print('\\n{} é maior do que {}'.format(a,b))\n",
        "    e = 4\n",
        "  elif e == 4:\n",
        "    a = int(input('\\nDigite um valor: '))\n",
        "    b = int(input('\\nDigite outro valor: '))\n",
        "    print('\\n[1] Somar: \\n[2] Multiplicar: \\n[3] Maior: \\n[4] Novos Números: \\n[5] Sair do Programa: ')\n",
        "    e = int(input('\\nEscolha uma opção: '))\n",
        "  elif e == 5:\n",
        "    print('Fim do Programa')\n",
        "    l = e\n",
        "  else:\n",
        "      print('Opção inválida')\n",
        "\n",
        "  "
      ],
      "execution_count": null,
      "outputs": []
    },
    {
      "cell_type": "code",
      "metadata": {
        "id": "rTo_77XuD-CS",
        "colab": {
          "base_uri": "https://localhost:8080/"
        },
        "outputId": "d79d2ca1-52d6-47d2-cbe9-9c4c3461c96a"
      },
      "source": [
        "n = int(input('Digite um numero: '))\n",
        "f = 1\n",
        "while n > 0:\n",
        "  f = n * f\n",
        "  n -= 1\n",
        "print('O fatoral é {}'.format(f)) "
      ],
      "execution_count": null,
      "outputs": [
        {
          "output_type": "stream",
          "name": "stdout",
          "text": [
            "Digite um numero: 6\n",
            "O fatoral é 720\n"
          ]
        }
      ]
    },
    {
      "cell_type": "code",
      "metadata": {
        "id": "YjdFrkhRLKJz"
      },
      "source": [
        "pt = int(input('Digite o primeiro termo da PA: '))\n",
        "rz = int(input('Digite a razão: '))\n",
        "nt = 10\n",
        "pa = 0\n",
        "PA = []\n",
        "\n",
        "while nt > 0:\n",
        "  pa = pa + rz\n",
        "  PA.append(pa)\n",
        "  nt -= 1\n",
        "print(PA)\n"
      ],
      "execution_count": null,
      "outputs": []
    },
    {
      "cell_type": "code",
      "metadata": {
        "colab": {
          "base_uri": "https://localhost:8080/"
        },
        "id": "PX0A6oHYO59q",
        "outputId": "8b702bd4-e477-4530-a2d1-7967e0b9d123"
      },
      "source": [
        "pt = int(input('Digite o primeiro termo da PA: '))\n",
        "rz = int(input('Digite a razão: '))\n",
        "nt = 10\n",
        "pa = 0\n",
        "PA = []\n",
        "\n",
        "while nt > 0:\n",
        "  pa = pa + rz\n",
        "  PA.append(pa)\n",
        "  nt -= 1\n",
        "  if nt == 0:\n",
        "    print(PA)\n",
        "    nt = int(input('Deseja exibir mais termos? : '))\n",
        "print('Fim')\n"
      ],
      "execution_count": null,
      "outputs": [
        {
          "output_type": "stream",
          "name": "stdout",
          "text": [
            "Digite o primeiro termo da PA: 8\n",
            "Digite a razão: 8\n",
            "[8, 16, 24, 32, 40, 48, 56, 64, 72, 80]\n",
            "Deseja exibir mais termos? : 0\n",
            "Fim\n"
          ]
        }
      ]
    },
    {
      "cell_type": "code",
      "metadata": {
        "colab": {
          "base_uri": "https://localhost:8080/"
        },
        "id": "gC1-MY_F198N",
        "outputId": "bcfa8e24-b468-44ac-b146-66d561c4e821"
      },
      "source": [
        "n = int(input('Digite a quantidade de termos: '))\n",
        "t1 = 0\n",
        "t2 = 1\n",
        "sq = 0\n",
        "print(t1,end=', ')\n",
        "print(t2,end=', ')\n",
        "while n-2 > 0 :\n",
        "  sq = t1 + t2\n",
        "  print(sq,end=' ')\n",
        "  t1 = t2\n",
        "  t2 = sq  \n",
        "  n -= 1\n"
      ],
      "execution_count": null,
      "outputs": [
        {
          "output_type": "stream",
          "name": "stdout",
          "text": [
            "Digite a quantidade de termos: 12\n",
            "0, 1, 1 2 3 5 8 13 21 34 55 89 "
          ]
        }
      ]
    },
    {
      "cell_type": "code",
      "metadata": {
        "id": "KzPXCw90A36B"
      },
      "source": [
        "n = 0\n",
        "cont = 0\n",
        "s = 0\n",
        "while n != 999:\n",
        "  n = int(input('Digite um número: '))\n",
        "  if n == 999:\n",
        "    print('Fim')\n",
        "  else:\n",
        "    s = s + n\n",
        "    cont += 1\n",
        "print('A quantidade de números digitados foi {} e sua soma deu {}'.format(cont, s))\n",
        "\n"
      ],
      "execution_count": null,
      "outputs": []
    },
    {
      "cell_type": "code",
      "metadata": {
        "colab": {
          "base_uri": "https://localhost:8080/"
        },
        "id": "XBf6401NDqd2",
        "outputId": "0a9970d8-fdfa-4c02-9c49-9cb97c97d5c4"
      },
      "source": [
        "p = 's'\n",
        "cont = 0\n",
        "s = 0\n",
        "n = 0\n",
        "maior = 0\n",
        "menor = 0\n",
        "\n",
        "while p == 's':\n",
        "  n = int(input('Digite um número: '))\n",
        "  if maior < n:\n",
        "    maior = n\n",
        "    if menor == 0:\n",
        "      menor = n\n",
        "    elif menor > n:\n",
        "      menor = n\n",
        "  if p == 'n':\n",
        "    print('fim')\n",
        "  else:\n",
        "    s = s + n\n",
        "    cont += 1\n",
        "    p = input('Quer continuar ? (s/n): ').lower().strip()\n",
        "print('A média foi {} e o maior número foi {} e o menor {}'.format((s/cont), maior, menor))\n",
        "\n"
      ],
      "execution_count": null,
      "outputs": [
        {
          "output_type": "stream",
          "name": "stdout",
          "text": [
            "Digite um número: 2\n",
            "Quer continuar ? (s/n): s\n",
            "Digite um número: 4\n",
            "Quer continuar ? (s/n): s\n",
            "Digite um número: 6\n",
            "Quer continuar ? (s/n): n\n",
            "A média foi 4.0 e o maior número foi 6 e o menor 2\n"
          ]
        }
      ]
    },
    {
      "cell_type": "code",
      "metadata": {
        "id": "mhBjwZ25BbPW"
      },
      "source": [
        "n = 0\n",
        "s = 0\n",
        "while True:\n",
        "  if n == 999:\n",
        "    break\n",
        "  else:\n",
        "    s += n\n",
        "    n = int(input('Digite um valor (999 para parar)'))\n",
        "print(f'A soma deu {s}')\n",
        "\n"
      ],
      "execution_count": null,
      "outputs": []
    },
    {
      "cell_type": "code",
      "metadata": {
        "id": "SWAj6VA6EO5x"
      },
      "source": [
        "while True:\n",
        "  n = int(input('Quer ver a tabuada de qual valor ?'))\n",
        "  cont = 1\n",
        "  if n >= 0:\n",
        "    while cont <= 10:\n",
        "      print(f'{n} x {cont} = {n * cont}')\n",
        "      cont += 1\n",
        "  else:\n",
        "    print('Programa Tabuada encerrado')\n",
        "    break"
      ],
      "execution_count": null,
      "outputs": []
    },
    {
      "cell_type": "code",
      "metadata": {
        "id": "G59-PaSAk15p"
      },
      "source": [
        "from random import randint\n",
        "print(14 * '=-')\n",
        "print('VAMOS JOGAR PAR OU ÍMPAR ?')\n",
        "print(14 * '=-')\n",
        "cont = 0\n",
        "while True:\n",
        "  eu = int(input('Diga um valor: '))\n",
        "  com = randint(0, 10)\n",
        "  res = (eu + com) % 2\n",
        "  PI = input('PAR OU ÍMPAR? [P/I]').upper().strip()\n",
        "  if PI == 'P':\n",
        "    if res == 0:\n",
        "      cont = cont + 1\n",
        "      print(14 * '-')\n",
        "      print(f'Você jogou {eu} e o computador {com}. Total de {eu + com}, resultado é PAR.')\n",
        "      print(14 * '-')\n",
        "      print('Você VENCEU !')\n",
        "      print('Vamos jogar novamente ...')\n",
        "      print(14 * '=-')\n",
        "    else:\n",
        "      print(14 * '-')\n",
        "      print(f'Você jogou {eu} e o computador {com}. Total de {eu + com}, resultado é ÍMPAR.')\n",
        "      print(14 * '-')\n",
        "      break\n",
        "  if PI == 'I':\n",
        "    if res == 0:\n",
        "      print(14 * '-')\n",
        "      print(f'Você jogou {eu} e o computador {com}. Total de {eu + com}, resultado é PAR.')\n",
        "      print(14 * '-')\n",
        "      break\n",
        "    else:\n",
        "      cont = cont + 1\n",
        "      print(14 * '-')\n",
        "      print(f'Você jogou {eu} e o computador {com}. Total de {eu + com}, resultado é ÍMPAR.')\n",
        "      print(14 * '-')\n",
        "      print('Você VENCEU !')\n",
        "      print('Vamos jogar novamente ...')\n",
        "      print(14 * '=-')\n",
        "print('Você Perdeu !')\n",
        "print(14 * '=-')\n",
        "print(f'GAME OVER ! Você venceu {cont} vezes.')\n",
        "\n"
      ],
      "execution_count": null,
      "outputs": []
    },
    {
      "cell_type": "code",
      "metadata": {
        "id": "P4gcsCe8kSqm"
      },
      "source": [
        "contI = 0\n",
        "contH = 0\n",
        "contM = 0\n",
        "while True:\n",
        "  i = int(input('Digite a idade: '))\n",
        "  s = input('Digite o sexo: [m/h]').lower().strip()\n",
        "  if i > 18:\n",
        "    contI += 1\n",
        "  if s == 'h':\n",
        "    contH += 1\n",
        "  if s == 'h' and i < 20:\n",
        "    contM += 1\n",
        "  p = input('Deseja continuar? [s/n]')\n",
        "  if p == 'n':\n",
        "    break\n",
        "print(f'Foram cadastradas {contI} pessoas com mais de 18 anos.')\n",
        "print(f'Foram cadastrados {contH} homens.')\n",
        "print(f'Foram cadastradas {contM} mulheres com menos de 20 anos.')\n"
      ],
      "execution_count": null,
      "outputs": []
    },
    {
      "cell_type": "code",
      "metadata": {
        "id": "EcbJqER9rCfF"
      },
      "source": [
        "print(30 * '-')\n",
        "print('      LOJA SUPER BARATÃO')\n",
        "print(30 * '-')\n",
        "total = 0\n",
        "prodb = 0\n",
        "nome = ''\n",
        "cont = 0\n",
        "while True:\n",
        "  p = input('Nome do produto: ')\n",
        "  v = float(input('Valor R$ '))\n",
        "  total += v\n",
        "  if prodb == 0 :\n",
        "    prodb = v\n",
        "    nome = p\n",
        "  elif v < prodb:\n",
        "    prodb = v\n",
        "    nome = p\n",
        "  elif v > 1000:\n",
        "    cont += 1\n",
        "\n",
        "  perg = input('Quer continuar ? [s/n] ')\n",
        "  if perg == 'n':\n",
        "    break\n",
        "print(f'O total da compra foi R$ {total}')\n",
        "print(f'Temos {cont} produto custando mais de R$ 1000.00')\n",
        "print(f'O produto mais barato foi {nome} que custa R$ {prodb}.')\n"
      ],
      "execution_count": null,
      "outputs": []
    },
    {
      "cell_type": "code",
      "metadata": {
        "id": "6l4ru-YmypWU"
      },
      "source": [
        "print(30 * '=')\n",
        "print('          Banco CEV')\n",
        "print(30 * '=')\n",
        "n = int(input('Que valor você quer sacar? R$ '))\n",
        "c = n // 50\n",
        "v = (n % 50) // 20\n",
        "d = ((n % 50) % 20) // 10\n",
        "u = (((n % 50) % 20) % 10) // 1\n",
        "print(f'Total de {c} cédulas de R$ 50.00')\n",
        "print(f'Total de {v} cédulas de R$ 20.00')\n",
        "print(f'Total de {d} cédulas de R$ 10.00')\n",
        "print(f'Total de {u} cédulas de R$ 1.00')\n"
      ],
      "execution_count": null,
      "outputs": []
    },
    {
      "cell_type": "code",
      "metadata": {
        "id": "3fhVoEMZynfy"
      },
      "source": [
        "def LerInteiro():\n",
        "  n = int(input('Digite um número inteiro: '))\n",
        "  return n\n",
        "\n",
        "x = LerInteiro()\n",
        "print('Valor lido na função = {0}'.format(x))\n"
      ],
      "execution_count": null,
      "outputs": []
    },
    {
      "cell_type": "code",
      "metadata": {
        "colab": {
          "base_uri": "https://localhost:8080/"
        },
        "id": "M72kbdPSWBLd",
        "outputId": "2f6ec34f-bb05-457c-aae2-64b5cb645fbd"
      },
      "source": [
        "def Soma (*valores):\n",
        "  r = 0\n",
        "  for i in valores:\n",
        "    r = r + i\n",
        "    return i\n",
        "\n",
        "Soma(9, 3, 3)"
      ],
      "execution_count": null,
      "outputs": [
        {
          "output_type": "execute_result",
          "data": {
            "text/plain": [
              "9"
            ]
          },
          "metadata": {},
          "execution_count": 24
        }
      ]
    },
    {
      "cell_type": "code",
      "metadata": {
        "id": "3V1MqsbKgC1x"
      },
      "source": [
        "def ExibeFormatado(a, b, c):\n",
        "  print('1o. Valor {}'.format(a))\n",
        "  print('2o. Valor {}'.format(b))\n",
        "  print('3o. Valor {}'.format(c))\n",
        "\n",
        "L = [1, 2, 3]\n",
        "ExibeFormatado(*L)"
      ],
      "execution_count": null,
      "outputs": []
    },
    {
      "cell_type": "code",
      "metadata": {
        "colab": {
          "base_uri": "https://localhost:8080/"
        },
        "id": "ekIbPmLyCGxz",
        "outputId": "7bd1cc3f-180a-40e5-a959-74dfcbe23da7"
      },
      "source": [
        "matriz = [[1, 2, 3], [4, 5, 6], [7, 8, 9]]\n",
        "print(matriz)\n",
        "for i in matriz:\n",
        "  for x in i:\n",
        "    print(i)\n",
        "  \n",
        "  print(i)"
      ],
      "execution_count": null,
      "outputs": [
        {
          "output_type": "stream",
          "name": "stdout",
          "text": [
            "[[1, 2, 3], [4, 5, 6], [7, 8, 9]]\n",
            "[1, 2, 3]\n",
            "[1, 2, 3]\n",
            "[1, 2, 3]\n",
            "[1, 2, 3]\n",
            "[4, 5, 6]\n",
            "[4, 5, 6]\n",
            "[4, 5, 6]\n",
            "[4, 5, 6]\n",
            "[7, 8, 9]\n",
            "[7, 8, 9]\n",
            "[7, 8, 9]\n",
            "[7, 8, 9]\n"
          ]
        }
      ]
    },
    {
      "cell_type": "code",
      "source": [
        "n = ('Zero', 'Um', 'Dois', 'Três', 'Quatro', \n",
        "'Cinco', 'Seis', 'Sete', 'Oito', 'Nove', 'Dez', \n",
        "'Onze', 'Doze', 'Treze', 'Catorze', 'Quinze', \n",
        "'Dezesseis', 'Dezesete', 'Deoito', 'Dezenove', 'Vinte')\n",
        "n1 = int(input('Digite um número entre 0 e 20: '))\n",
        "while True:\n",
        "  if n1 > 20 or n1 < 0:\n",
        "    n1 = int(input('Tente novamente. Digite um número entre 0 e 20: '))\n",
        "  else:\n",
        "    print(n[n1])\n",
        "    break"
      ],
      "metadata": {
        "colab": {
          "base_uri": "https://localhost:8080/"
        },
        "id": "JXOfF7S2dADy",
        "outputId": "bc9ba245-0346-4cc8-e748-6ad09d5d0dc6"
      },
      "execution_count": null,
      "outputs": [
        {
          "output_type": "stream",
          "name": "stdout",
          "text": [
            "Digite um número entre 0 e 20: 6\n",
            "Seis\n"
          ]
        }
      ]
    },
    {
      "cell_type": "code",
      "source": [
        "times = ('Santos', 'Corinthians', 'Palmeiras', 'São Paulo',\n",
        "         'Flamengo', 'Botafogo', 'Vasco', 'Fluminense', \n",
        "         'Atlético Mineiro', 'Cruzeiro', 'Portuguesa',\n",
        "         'Bragantino', 'Bahia', 'Vitória', 'Guarani',\n",
        "         'Coritiba', 'Chapecoense', 'Avaí', 'Ponte Preta')\n",
        "print(f'Os cinco primeiros são {times[:5]}')\n",
        "print(times[-4:])\n",
        "print(sorted(times))\n",
        "print(times.index('Chapecoense')+1)"
      ],
      "metadata": {
        "colab": {
          "base_uri": "https://localhost:8080/"
        },
        "id": "ufOznUethW8A",
        "outputId": "48f68f9b-9572-44e5-9972-930aaac47d61"
      },
      "execution_count": null,
      "outputs": [
        {
          "output_type": "stream",
          "name": "stdout",
          "text": [
            "Os cinco primeiros são ('Santos', 'Corinthians', 'Palmeiras', 'São Paulo', 'Flamengo')\n",
            "('Coritiba', 'Chapecoense', 'Avaí', 'Ponte Preta')\n",
            "['Atlético Mineiro', 'Avaí', 'Bahia', 'Botafogo', 'Bragantino', 'Chapecoense', 'Corinthians', 'Coritiba', 'Cruzeiro', 'Flamengo', 'Fluminense', 'Guarani', 'Palmeiras', 'Ponte Preta', 'Portuguesa', 'Santos', 'São Paulo', 'Vasco', 'Vitória']\n",
            "17\n"
          ]
        }
      ]
    },
    {
      "cell_type": "code",
      "source": [
        "from random import randint\n",
        "numeros = (randint(1, 10), randint(1, 10), randint(1, 10), randint(1,10), randint(1, 10))\n",
        "print(f'Os números sorteados foram: {numeros}')\n",
        "print(f'O maior número foi : {max(numeros)}')\n",
        "print(f'O menor número foi : {min(numeros)}')"
      ],
      "metadata": {
        "colab": {
          "base_uri": "https://localhost:8080/"
        },
        "id": "-sUaPQ8Ygcin",
        "outputId": "623e8c7f-ffb2-4690-e23f-ec0b1cdca6c2"
      },
      "execution_count": null,
      "outputs": [
        {
          "output_type": "stream",
          "name": "stdout",
          "text": [
            "Os números sorteados foram: (7, 4, 5, 1, 8)\n",
            "O maior número foi : 8\n",
            "O menor número foi : 1\n"
          ]
        }
      ]
    },
    {
      "cell_type": "code",
      "source": [
        "valores = (int(input('Digite um valor: ')), int(input('Digite outro valor: ')), \n",
        "           int(input('Digite mais um valor: ')), int(input('Digite o último valor: ')))\n",
        "print(f'Você digitou os valores : {valores}')\n",
        "print(f'O valor 9 apareceu {valores.count(9)} vezes.')\n",
        "if 3 in valores:\n",
        "  print(f'O valor 3 apareceu na {valores.index(3)+1}a. posição.')\n",
        "else:\n",
        "  print('O valor 3 não apareceu em nenhuma posição.')\n",
        "print('Os valores pares digitados foram: ', end = ' ')\n",
        "for v in valores:\n",
        "  if v % 2 == 0:\n",
        "    print(v, end=' ')\n",
        "\n"
      ],
      "metadata": {
        "colab": {
          "base_uri": "https://localhost:8080/"
        },
        "id": "uIMvkzsWJnY6",
        "outputId": "e924d7eb-2956-4ee3-d226-367551f32cb8"
      },
      "execution_count": null,
      "outputs": [
        {
          "output_type": "stream",
          "name": "stdout",
          "text": [
            "Digite um valor: 9\n",
            "Digite outro valor: 3\n",
            "Digite mais um valor: 8\n",
            "Digite o último valor: 9\n",
            "Você digitou os valores : (9, 3, 8, 9)\n",
            "O valor 9 apareceu 2 vezes.\n",
            "O valor 3 apareceu na 2a. posição.\n",
            "Os valores pares digitados foram:  8 "
          ]
        }
      ]
    },
    {
      "cell_type": "code",
      "source": [
        "lista = ('Lápis', 1.3, 'Borracha', 2, 'Apontador', 3.43,\n",
        "         'Papel', .30, 'Estojo', 5.40, 'Mochila', 47.90,\n",
        "         'Livro', 30, 'Compasso', 7.3, 'Canetas', 3)\n",
        "print('-' * 40)\n",
        "print(f'{\"Listagem de Preço\":^40}')\n",
        "print('-' * 40)\n",
        "for pos in range(0, len(lista)):\n",
        "  if pos % 2 == 0:\n",
        "    print(f'{lista[pos]:.<30}', end='')\n",
        "  else:\n",
        "    print(f'R${lista[pos]:>7.2f}')"
      ],
      "metadata": {
        "colab": {
          "base_uri": "https://localhost:8080/"
        },
        "id": "4KW2SBf0HR65",
        "outputId": "6071475f-6c76-43ed-ee5c-541d506f620e"
      },
      "execution_count": null,
      "outputs": [
        {
          "output_type": "stream",
          "name": "stdout",
          "text": [
            "----------------------------------------\n",
            "           Listagem de Preço            \n",
            "----------------------------------------\n",
            "Lápis.........................R$   1.30\n",
            "Borracha......................R$   2.00\n",
            "Apontador.....................R$   3.43\n",
            "Papel.........................R$   0.30\n",
            "Estojo........................R$   5.40\n",
            "Mochila.......................R$  47.90\n",
            "Livro.........................R$  30.00\n",
            "Compasso......................R$   7.30\n",
            "Canetas.......................R$   3.00\n"
          ]
        }
      ]
    },
    {
      "cell_type": "code",
      "source": [
        "lista = ('casa', 'papel', 'bolacha', 'brinquedo',\n",
        "       'bola', 'colher', 'vidro', 'celular')\n",
        "for p in lista:\n",
        "  print(f'\\nNa palavra {p} temos ', end='')\n",
        "  for letra in p:\n",
        "    if letra in 'aeiou':\n",
        "      print(letra, end=' ')\n"
      ],
      "metadata": {
        "colab": {
          "base_uri": "https://localhost:8080/"
        },
        "id": "xYVarVdpM75e",
        "outputId": "7f2471e5-4733-406a-afeb-4eb383909909"
      },
      "execution_count": null,
      "outputs": [
        {
          "output_type": "stream",
          "name": "stdout",
          "text": [
            "\n",
            "Na palavra casa temos a a \n",
            "Na palavra papel temos a e \n",
            "Na palavra bolacha temos o a a \n",
            "Na palavra brinquedo temos i u e o \n",
            "Na palavra bola temos o a \n",
            "Na palavra colher temos o e \n",
            "Na palavra vidro temos i o \n",
            "Na palavra celular temos e u a "
          ]
        }
      ]
    },
    {
      "cell_type": "code",
      "source": [
        "lista = list()\n",
        "m = 0\n",
        "n = 0\n",
        "\n",
        "for c in range(0, 5):\n",
        "  lista.append(int(input(f'Digite um valor para a posição {c}: ')))\n",
        "print('=-' * 30)\n",
        "print(f'Você digitou os valores {lista}')\n",
        "\n",
        "\n",
        "print(f'O maior valor digitado foi {max(lista)} nas posições {lista.index(max(lista))} ...', end=' ')\n",
        "print(f'{lista.index(max(lista), 0, -1)} ... ')\n",
        "print(f'O menor valor digitado foi {min(lista)} nas posições {lista.index(min(lista))} ...')\n",
        "\n",
        "print(lista.count(lista.index(max(lista))))\n",
        "print\n",
        "\n",
        "    "
      ],
      "metadata": {
        "colab": {
          "base_uri": "https://localhost:8080/"
        },
        "id": "eDK_h7-fsgG3",
        "outputId": "a0cdba8c-a726-4df3-bf38-1d162469a241"
      },
      "execution_count": null,
      "outputs": [
        {
          "output_type": "stream",
          "name": "stdout",
          "text": [
            "Digite um valor para a posição 0: 8\n",
            "Digite um valor para a posição 1: 9\n",
            "Digite um valor para a posição 2: 9\n",
            "Digite um valor para a posição 3: 5\n",
            "Digite um valor para a posição 4: 4\n",
            "=-=-=-=-=-=-=-=-=-=-=-=-=-=-=-=-=-=-=-=-=-=-=-=-=-=-=-=-=-=-\n",
            "Você digitou os valores [8, 9, 9, 5, 4]\n",
            "O maior valor digitado foi 9 nas posições 1 ... 1 ... \n",
            "O menor valor digitado foi 4 nas posições 4 ...\n",
            "0\n"
          ]
        }
      ]
    },
    {
      "cell_type": "code",
      "source": [
        "lista = list()\n",
        "resp = 's'\n",
        "while True:\n",
        "  if resp in 'sS':\n",
        "    lista.append(int(input('Digite um valor: ')))\n",
        "    resp = input('Deseja continuar [S/N]: ')\n",
        "  elif resp in 'nN':\n",
        "    break    \n",
        "  else:\n",
        "    resp = input('Digite S ou N: ')\n",
        "print(f'Você digitou {len(lista)} elementos.')\n",
        "lista.sort(reverse = True)\n",
        "print(f'Os valores em ordem decrescente sao {lista}')\n",
        "if 5 in lista:\n",
        "  print('O valor 5 faz parte da lista!')\n",
        "else:\n",
        "  print('O valor 5 não faz parte da lista!')\n"
      ],
      "metadata": {
        "colab": {
          "base_uri": "https://localhost:8080/"
        },
        "id": "UfLV090v6MeX",
        "outputId": "6d405d5f-dd6c-4c1f-894d-f322fe273f58"
      },
      "execution_count": null,
      "outputs": [
        {
          "output_type": "stream",
          "name": "stdout",
          "text": [
            "Digite um valor: 8\n",
            "Deseja continuar [S/N]: s\n",
            "Digite um valor: 7\n",
            "Deseja continuar [S/N]: s\n",
            "Digite um valor: 1\n",
            "Deseja continuar [S/N]: k\n",
            "Digite S ou N: s\n",
            "Digite um valor: 9\n",
            "Deseja continuar [S/N]: n\n",
            "Você digitou 4 elementos.\n",
            "Os valores em ordem decrescente sao [9, 8, 7, 1]\n",
            "O valor 5 não faz parte da lista!\n"
          ]
        }
      ]
    },
    {
      "cell_type": "code",
      "source": [
        "lista = list()\n",
        "listap = list()\n",
        "listai = list()\n",
        "while True:\n",
        "  lista.append(int(input('Digite um valor: ')))\n",
        "  resp = input('Deseja continuar ?: ')\n",
        "  if resp in 'nN':\n",
        "    break\n",
        "for c in range(0, len(lista)):\n",
        "  if c % 2 == 0:\n",
        "    listap.append(c)\n",
        "  else:\n",
        "    listai.append(c)\n",
        "print(f'A lista completa é {lista}')\n",
        "print(f'A lista de pares é {listap}')\n",
        "print(f'A lista de ímpares é {listai}')"
      ],
      "metadata": {
        "id": "ySZfW54vFSo8"
      },
      "execution_count": null,
      "outputs": []
    },
    {
      "cell_type": "code",
      "source": [
        "expr = input('Digite uma expressão: ')\n",
        "lista = list()\n",
        "p1 = list()\n",
        "p2 = list()\n",
        "\n",
        "for c in expr:\n",
        "  if c == ')':\n",
        "    p1.append(c)\n",
        "  elif c == '(':\n",
        "    p2.append(c)\n",
        "if len(p1) == len(p2):\n",
        "  print('Expressão válida')\n",
        "else: \n",
        "  print('Expressão inválida')\n",
        "print(p1)\n",
        "print(p2)\n",
        "\n"
      ],
      "metadata": {
        "colab": {
          "base_uri": "https://localhost:8080/"
        },
        "id": "xqHXL1Q5HMvm",
        "outputId": "3ffc148a-6a2c-4dbd-eb03-9d0e404dd4aa"
      },
      "execution_count": null,
      "outputs": [
        {
          "output_type": "stream",
          "name": "stdout",
          "text": [
            "Digite uma expressão: (9-8)\n",
            "Expressão válida\n",
            "[')']\n",
            "['(']\n"
          ]
        }
      ]
    },
    {
      "cell_type": "code",
      "source": [
        "lista = list()\n",
        "lst = list()\n",
        "maior = float()\n",
        "menor = float()\n",
        "while True:\n",
        "  lst.append(input('Nome: '))\n",
        "  lst.append(float(input('Peso: ')))\n",
        "  if len(lista) == 0:\n",
        "    maior = menor = lst[1]\n",
        "  else:\n",
        "    if lst[1] > maior:\n",
        "      maior = lst[1]\n",
        "    if lst[1] < menor:\n",
        "      menor = lst[1]\n",
        "  resp = input('Deseja continuar ? [S/N]: ')\n",
        "  lista.append(lst[:])\n",
        "  lst.clear()\n",
        "  if resp in 'Nn':\n",
        "    break\n",
        "\n",
        "print(f'Ao todo, você cadastrou {len(lista)} pessoas.')\n",
        "print(f'O maior peso foi {maior}',end=' ')\n",
        "for p in lista:\n",
        "  if p[1] == maior:\n",
        "    print(p[0],end=' ')\n",
        "print(' ')\n",
        "print(f'O menor peso foi {menor}', end=' ')\n",
        "for p in lista:\n",
        "  if p[1] == menor:\n",
        "    print(p[0], end=' ')\n",
        "\n"
      ],
      "metadata": {
        "id": "OPh0bvuYlYqQ"
      },
      "execution_count": null,
      "outputs": []
    },
    {
      "cell_type": "code",
      "source": [
        "lista = [[],[]]\n",
        "for c in range(0, 7):\n",
        "  num = int(input(f'Digite o {c + 1}o. valor: '))\n",
        "  if num % 2 == 0:\n",
        "    lista[0].append(num)\n",
        "  else:\n",
        "    lista[1].append(num)\n",
        "lista[1].sort()\n",
        "lista[0].sort()\n",
        "print(f'Os valores pares digitados foram: {lista[0]}')\n",
        "print(f'Os valores ímpares digitados foram: {lista[1]}')\n"
      ],
      "metadata": {
        "id": "elZh1LTTQ1ki"
      },
      "execution_count": null,
      "outputs": []
    },
    {
      "cell_type": "code",
      "source": [
        "lista = [[], [], []]\n",
        "c = 0\n",
        "for b in lista:\n",
        "  for d in range(0, 3):\n",
        "    n = int(input(f'Digite um valor para[{c, d}]'))\n",
        "    lista[c].append(n)\n",
        "  c += 1\n",
        "print(f'[ {lista[0][0]} ] [ {lista[0][1]} ] [ {lista[0][2]} ]')\n",
        "print(f'[ {lista[1][0]} ] [ {lista[1][1]} ] [ {lista[1][2]} ]')\n",
        "print(f'[ {lista[2][0]} ] [ {lista[2][1]} ] [ {lista[2][2]} ]')\n"
      ],
      "metadata": {
        "colab": {
          "base_uri": "https://localhost:8080/"
        },
        "id": "9HSumYoOe6_t",
        "outputId": "f9724a39-0fb3-4aa9-908e-5f1f811b0567"
      },
      "execution_count": null,
      "outputs": [
        {
          "output_type": "stream",
          "name": "stdout",
          "text": [
            "Digite um valor para[(0, 0)]1\n",
            "Digite um valor para[(0, 1)]2\n",
            "Digite um valor para[(0, 2)]3\n",
            "Digite um valor para[(1, 0)]4\n",
            "Digite um valor para[(1, 1)]5\n",
            "Digite um valor para[(1, 2)]6\n",
            "Digite um valor para[(2, 0)]7\n",
            "Digite um valor para[(2, 1)]8\n",
            "Digite um valor para[(2, 2)]9\n",
            "[ 1 ] [ 2 ] [ 3 ]\n",
            "[ 4 ] [ 5 ] [ 6 ]\n",
            "[ 7 ] [ 8 ] [ 9 ]\n"
          ]
        }
      ]
    },
    {
      "cell_type": "code",
      "source": [
        "matriz = [[0, 0, 0], [0, 0, 0], [0, 0, 0]]\n",
        "soma = 0\n",
        "col = 0\n",
        "for l in range(0, 3):\n",
        "  for c in range(0, 3):\n",
        "    matriz[l][c] = int(input(f'Digite um valor para {l, c}: '))\n",
        "print()\n",
        "for l in range(0, 3):\n",
        "  for c in range(0, 3):\n",
        "    print(f'[{matriz[l][c]:^5}]', end=' ')\n",
        "  print()\n",
        "print()\n",
        "for l in range(0, 3):\n",
        "  for c in range(0, 3):\n",
        "    if matriz[l][c] % 2 == 0:\n",
        "      soma = soma + matriz[l][c]\n",
        "      \n",
        "print(f'A soma dos valores pares é {soma}')\n",
        "for l in range(0, 3):\n",
        "  col += matriz[l][2]\n",
        "\n",
        "print(f'A soma dos valores da terceira coluna é {col}')\n",
        "print(f'O maior valor da segunda linha é {max(matriz[1])}')"
      ],
      "metadata": {
        "colab": {
          "base_uri": "https://localhost:8080/"
        },
        "id": "D_aHBlBqvOQI",
        "outputId": "c3c7b17c-f4c2-4c10-f0e0-0dcdcb4ab06d"
      },
      "execution_count": null,
      "outputs": [
        {
          "output_type": "stream",
          "name": "stdout",
          "text": [
            "Digite um valor para (0, 0): 1\n",
            "Digite um valor para (0, 1): 2\n",
            "Digite um valor para (0, 2): 3\n",
            "Digite um valor para (1, 0): 4\n",
            "Digite um valor para (1, 1): 5\n",
            "Digite um valor para (1, 2): 6\n",
            "Digite um valor para (2, 0): 7\n",
            "Digite um valor para (2, 1): 8\n",
            "Digite um valor para (2, 2): 9\n",
            "\n",
            "[  1  ] [  2  ] [  3  ] \n",
            "[  4  ] [  5  ] [  6  ] \n",
            "[  7  ] [  8  ] [  9  ] \n",
            "\n",
            "A soma dos valores pares é 20\n",
            "A soma dos valores da terceira coluna é 18\n",
            "O maior valor da segunda linha é 6\n"
          ]
        }
      ]
    },
    {
      "cell_type": "code",
      "source": [
        "from random import randint\n",
        "from time import sleep\n",
        "jogos = int()\n",
        "matriz = list()\n",
        "jogo = list()\n",
        "sort = int()\n",
        "print(30 * '-')\n",
        "print('Jogo Mega Sena')\n",
        "print(30 * '-')\n",
        "jogos = int(input('Quantos jogos você quer que eu sorteie? :'))\n",
        "for c in range(0, jogos):\n",
        "  for n in range(0, 6):\n",
        "    sort = randint(0, 60)\n",
        "    if sort not in jogo:\n",
        "      jogo.append(sort)\n",
        "  matriz.append(jogo[:])\n",
        "  jogo.clear()\n",
        "for j in range(0, len(matriz)):\n",
        "  print(f'Jogo {j + 1}: {matriz[j]} ')\n",
        "  sleep(2)\n",
        "\n"
      ],
      "metadata": {
        "colab": {
          "base_uri": "https://localhost:8080/"
        },
        "id": "ZWDgLyU6VhZk",
        "outputId": "619c30f3-c431-43cc-ae40-eb38dba50e7b"
      },
      "execution_count": null,
      "outputs": [
        {
          "output_type": "stream",
          "name": "stdout",
          "text": [
            "------------------------------\n",
            "Jogo Mega Sena\n",
            "------------------------------\n",
            "Quantos jogos você quer que eu sorteie? :3\n",
            "Jogo 1: [7, 46, 57, 43, 59, 26] \n",
            "Jogo 2: [43, 3, 11, 31, 10, 24] \n",
            "Jogo 3: [40, 53, 31, 58, 60, 9] \n"
          ]
        }
      ]
    },
    {
      "cell_type": "code",
      "source": [
        "arq = list()\n",
        "nota = list()\n",
        "lista = list()\n",
        "while True:\n",
        "  nome = (input('Nome: '))\n",
        "  lista.append(nome)\n",
        "  for n in range(0, 2):\n",
        "    nota.append(int(input(f'Nota {n + 1}: ')))\n",
        "  lista.append(nota[:])\n",
        "  arq.append(lista[:])  \n",
        "  lista.clear()\n",
        "  nota.clear()\n",
        "  resp = input(f'Deseja sair [S/N]: ')\n",
        "  if resp in 'sS':\n",
        "    break\n",
        "print()\n",
        "print(\"No\", ' ' * 5, \"Nome\",' ' * 10,  \"Média\")\n",
        "for p in range(0, len(arq)):\n",
        "  print(p,' ' * 6, arq[p][0], ' ' * 15, sum(arq[p][1])/2)\n",
        "while True:\n",
        "  resp = (int(input('Deseja mostrar nota de qual aluno? (999 interrompe): ')))\n",
        "  if resp == 999:\n",
        "    break\n",
        "  else:\n",
        "    print(f'Notas de {arq[resp][0]} são {arq[resp][1]}')\n",
        "  "
      ],
      "metadata": {
        "colab": {
          "base_uri": "https://localhost:8080/"
        },
        "id": "J6Aa8mMViIGp",
        "outputId": "b474b2c6-be31-4bd9-e24b-036c0c6b70f4"
      },
      "execution_count": null,
      "outputs": [
        {
          "name": "stdout",
          "output_type": "stream",
          "text": [
            "Nome: nnnn\n",
            "Nota 1: 9\n",
            "Nota 2: 9\n",
            "Deseja sair [S/N]: n\n",
            "Nome: oooo\n",
            "Nota 1: 9\n",
            "Nota 2: 8\n",
            "Deseja sair [S/N]: s\n",
            "\n",
            "No       Nome            Média\n",
            "0        nnnn                 9.0\n",
            "1        oooo                 8.5\n",
            "Deseja mostrar nota de qual aluno? (999 interrompe): 999\n"
          ]
        }
      ]
    },
    {
      "cell_type": "code",
      "source": [
        "dados = dict()\n",
        "dados['nome'] = input('Nome: ')\n",
        "dados['media'] = float(input(f'Digite a média de {dados[\"nome\"]} é : '))\n",
        "\n",
        "print('Nome é igual a',dados['nome'])\n",
        "print('A média é igual a', dados['media'])\n",
        "if dados['media'] < 7:\n",
        "  print('Situação é igual a reprovado')\n",
        "else:\n",
        "  print('Situação é igual a aprovado')\n",
        "\n"
      ],
      "metadata": {
        "colab": {
          "base_uri": "https://localhost:8080/"
        },
        "id": "S9fwi7P2Fb16",
        "outputId": "e112a157-c6e6-4f38-ba8e-747a6e00d192"
      },
      "execution_count": null,
      "outputs": [
        {
          "output_type": "stream",
          "name": "stdout",
          "text": [
            "Nome: Veve\n",
            "Digite a média de Veve é : 10\n",
            "Nome é igual a Veve\n",
            "A média é igual a 10.0\n",
            "Situação é igual a aprovado\n",
            "{'nome': 'Veve', 'media': 10.0}\n"
          ]
        }
      ]
    },
    {
      "cell_type": "code",
      "source": [
        "from random import randint\n",
        "from time import sleep\n",
        "from operator import itemgetter\n",
        "jogo = dict()\n",
        "for j in range(1, 5):\n",
        "  jogo[f'Jogador {j}'] = randint(1,6)\n",
        "for j, r in jogo.items():\n",
        "  print(f'O {j} tirou {r} ')\n",
        "  sleep(2)\n",
        "rank = sorted(jogo.items(), key=itemgetter(1), reverse=True)\n",
        "print('O ranking dos jogadores:')\n",
        "\n",
        "for i, v in enumerate(rank):\n",
        "  print(f'O {i+1}o. lugar foi o {v[0]} com {v[1]} pontos.')\n",
        "  sleep(1)\n",
        "\n",
        "print(jogo)\n",
        "\n",
        "\n",
        "\n",
        "\n"
      ],
      "metadata": {
        "colab": {
          "base_uri": "https://localhost:8080/"
        },
        "id": "C66DoeZ3k_aU",
        "outputId": "966df4d7-fccf-4a85-b246-ba79952cf6f7"
      },
      "execution_count": null,
      "outputs": [
        {
          "output_type": "stream",
          "name": "stdout",
          "text": [
            "O Jogador 1 tirou 6 \n",
            "O Jogador 2 tirou 6 \n",
            "O Jogador 3 tirou 6 \n",
            "O Jogador 4 tirou 3 \n",
            "O ranking dos jogadores:\n",
            "O 1o. lugar foi o Jogador 1 com 6 pontos.\n",
            "O 2o. lugar foi o Jogador 2 com 6 pontos.\n",
            "O 3o. lugar foi o Jogador 3 com 6 pontos.\n",
            "O 4o. lugar foi o Jogador 4 com 3 pontos.\n",
            "{'Jogador 1': 6, 'Jogador 2': 6, 'Jogador 3': 6, 'Jogador 4': 3}\n"
          ]
        }
      ]
    },
    {
      "cell_type": "code",
      "source": [
        "import datetime \n",
        "cad = dict()\n",
        "cad['nome'] = str(input('Nome: '))\n",
        "ano = datetime.datetime.today().year\n",
        "cad['idade'] = ano - int(input('Ano de nascimento: '))\n",
        "cad['ctps'] = int(input('Carteira de trabalho (0 não tem): '))\n",
        "if cad['ctps'] != 0:\n",
        "  cad['contratação'] = int(input('Ano de contratação: ')) \n",
        "  cad['salário'] = float(input('Salário : R$ '))\n",
        "  ap = 35 -(ano - cad['contratação'])\n",
        "print()\n",
        "print(cad)\n",
        "print()\n",
        "print(f'Nome tem o valor: {cad[\"nome\"]}')\n",
        "print(f'Idade tem o valor: {cad[\"idade\"]}')\n",
        "print(f'Carteira de trabalho tem o valor: {cad[\"ctps\"]}')\n",
        "if cad['ctps'] != 0:\n",
        "  print(f'Contratação tem o valor: {cad[\"contratação\"]}')\n",
        "  print(f'Salário tem o valor: {cad[\"salário\"]}')\n",
        "  print(f'Aposentadoria tem o valor: {cad[\"idade\"] + ap}')\n"
      ],
      "metadata": {
        "colab": {
          "base_uri": "https://localhost:8080/"
        },
        "id": "NQWTc8xaAN7F",
        "outputId": "fdc958c1-97c4-4def-c995-55311373cd93"
      },
      "execution_count": null,
      "outputs": [
        {
          "output_type": "stream",
          "name": "stdout",
          "text": [
            "Nome: vi\n",
            "Ano de nascimento: 1977\n",
            "Carteira de trabalho (0 não tem): 1234\n",
            "Ano de contratação: 1990\n",
            "Salário : R$ 20000\n",
            "\n",
            "{'nome': 'vi', 'idade': 45, 'ctps': 1234, 'contratação': 1990, 'salário': 20000.0}\n",
            "\n",
            "Nome tem o valor: vi\n",
            "Idade tem o valor: 45\n",
            "Carteira de trabalho tem o valor: 1234\n",
            "Contratação tem o valor: 1990\n",
            "Salário tem o valor: 20000.0\n",
            "Aposentadoria tem o valor: 48\n"
          ]
        }
      ]
    },
    {
      "cell_type": "code",
      "source": [
        "cad = dict()\n",
        "gol = list()\n",
        "cad['nome'] = input('Nome do jogador: ')\n",
        "part = int(input(f'Quantas partidas {cad[\"nome\"]} jogou? '))\n",
        "for g in range(0, part):\n",
        "  gp = int(input(f'Quantos gols na partida {g + 1}: '))\n",
        "  gol.append(gp)\n",
        "cad['gols'] = gol\n",
        "cad['total'] = sum(gol)\n",
        "print('=-' * 20)\n",
        "print(cad)\n",
        "print('=-' * 20)\n",
        "for c, v in cad.items():\n",
        "  print(f'O campo {c} tem o valor {v}')\n",
        "print('=-' * 20)\n",
        "print(f'O jogador {cad[\"nome\"]} jogou {part} partidas.')\n",
        "for p, g in enumerate(cad['gols']) :\n",
        "  print(f'Na partida {p+1} fez {g} gols.')\n",
        "print(f'Foi um total de {cad[\"total\"]} gols')"
      ],
      "metadata": {
        "colab": {
          "base_uri": "https://localhost:8080/"
        },
        "id": "uuqAGbRYis6f",
        "outputId": "22563987-2b8e-49a0-ba37-2b212aacc48a"
      },
      "execution_count": null,
      "outputs": [
        {
          "output_type": "stream",
          "name": "stdout",
          "text": [
            "Nome do jogador: Vini\n",
            "Quantas partidas Vini jogou? 5\n",
            "Quantos gols na partida 1: 4\n",
            "Quantos gols na partida 2: 7\n",
            "Quantos gols na partida 3: 2\n",
            "Quantos gols na partida 4: 0\n",
            "Quantos gols na partida 5: 2\n",
            "=-=-=-=-=-=-=-=-=-=-=-=-=-=-=-=-=-=-=-=-\n",
            "{'nome': 'Vini', 'gols': [4, 7, 2, 0, 2], 'total': 15}\n",
            "=-=-=-=-=-=-=-=-=-=-=-=-=-=-=-=-=-=-=-=-\n",
            "O campo nome tem o valor Vini\n",
            "O campo gols tem o valor [4, 7, 2, 0, 2]\n",
            "O campo total tem o valor 15\n",
            "=-=-=-=-=-=-=-=-=-=-=-=-=-=-=-=-=-=-=-=-\n",
            "O jogador Vini jogou 5 partidas.\n",
            "Na partida 1 fez 4 gols.\n",
            "Na partida 2 fez 7 gols.\n",
            "Na partida 3 fez 2 gols.\n",
            "Na partida 4 fez 0 gols.\n",
            "Na partida 5 fez 2 gols.\n",
            "Foi um total de 15 gols\n"
          ]
        }
      ]
    },
    {
      "cell_type": "code",
      "source": [
        "arq = list()\n",
        "cad = dict()\n",
        "idade = 0\n",
        "mul = list()\n",
        "while True:\n",
        "  cad['nome'] = input('Nome: ')\n",
        "  cad['sexo'] = input('Sexo [M/F]: ')\n",
        "  if cad['sexo'] in 'fF':\n",
        "    mul.append(cad['nome'])\n",
        "  cad['idade'] = int(input('Idade: '))\n",
        "  idade += cad['idade']\n",
        "  arq.append(cad)\n",
        "  cad = dict()\n",
        "  resp = str(input('Quer continuar? [S/N]'))\n",
        "  if resp in 'nN':\n",
        "    break\n",
        "print(f'O grupo tem {len(arq)} pessoas.')\n",
        "print(f'A média de idade é de {idade/len(arq)}.')\n",
        "print(f'As mulheres cadastradas foram ',end=' ')\n",
        "for c in mul:\n",
        "  print(c, end=' ')\n",
        "print()\n",
        "print('As pessoas que estão acima da média de idade são:')\n",
        "for p in arq:\n",
        "  if p['idade'] >= idade/len(arq):\n",
        "    print(p)\n",
        "print()\n",
        "print(arq)\n",
        "print(mul)"
      ],
      "metadata": {
        "id": "dYVpYEuhfV_N"
      },
      "execution_count": null,
      "outputs": []
    },
    {
      "cell_type": "code",
      "source": [
        "time = list()\n",
        "jog = dict()\n",
        "part = list()\n",
        "while True:\n",
        "  jog.clear()\n",
        "  jog['nome'] = str(input('Nome do jogador: '))\n",
        "  tot = int(input(f'Quantas partidas {jog[\"nome\"]} jogou? '))\n",
        "  part.clear()\n",
        "  for c in range(0, tot):\n",
        "    part.append(int(input(f'Quantos gols na partida {c + 1}? ')))\n",
        "  jog['gols'] = part[:]\n",
        "  jog['total'] = sum(part)\n",
        "  time.append(jog.copy())\n",
        "  while True:\n",
        "    resp = str(input('Quer continuar ? [S/N]')).upper()[0]\n",
        "    if resp in 'SN':\n",
        "      break\n",
        "    print('Erro responda apenas S ou N')\n",
        "  if resp == 'N':\n",
        "    break\n",
        "print('-=' * 30)\n",
        "print('Cod  ', end='')\n",
        "for i in jog.keys():\n",
        "  print(f'{i:<15}', end='')\n",
        "print()\n",
        "print('-' * 40)\n",
        "for k, v in enumerate(time):\n",
        "  print(f'{k:>3}', end=' ')\n",
        "  for d in v.values():\n",
        "    print(f'{str(d):<15}', end='')\n",
        "  print()\n",
        "print('-' * 40)\n",
        "while True:\n",
        "  busca = int(input('Monstrar dados de qual jogador? (999 para sair)'))\n",
        "  if busca == 999:\n",
        "    break\n",
        "  if busca >= len(time):\n",
        "    print(f'Erro não existe jogador {time[busca][\"nome\"]}')\n",
        "  else:\n",
        "    print(f'Levantamento do jogador {time[busca][\"nome\"]}: ')\n",
        "    for i, g in enumerate(time[busca]['gols']):\n",
        "      print(f'No jogo {i + 1} fez {g} gols.')\n",
        "      \n",
        "\n",
        "\n",
        "\n",
        "print(time)\n"
      ],
      "metadata": {
        "colab": {
          "base_uri": "https://localhost:8080/"
        },
        "id": "ZhV7xrR5w_1J",
        "outputId": "a09edba2-6ae2-489f-ba7e-7a7f072758aa"
      },
      "execution_count": null,
      "outputs": [
        {
          "output_type": "stream",
          "name": "stdout",
          "text": [
            "Nome do jogador: Vini\n",
            "Quantas partidas Vini jogou? 3\n",
            "Quantos gols na partida 1? 2\n",
            "Quantos gols na partida 2? 3\n",
            "Quantos gols na partida 3? 4\n",
            "Quer continuar ? [S/N]s\n",
            "Nome do jogador: gato\n",
            "Quantas partidas gato jogou? 2\n",
            "Quantos gols na partida 1? 2\n",
            "Quantos gols na partida 2? 3\n",
            "Quer continuar ? [S/N]n\n",
            "-=-=-=-=-=-=-=-=-=-=-=-=-=-=-=-=-=-=-=-=-=-=-=-=-=-=-=-=-=-=\n",
            "Cod  nome           gols           total          \n",
            "----------------------------------------\n",
            "  0 Vini           [2, 3, 4]      9              \n",
            "  1 gato           [2, 3]         5              \n",
            "----------------------------------------\n",
            "Monstrar dados de qual jogador? (999 para sair)999\n",
            "[{'nome': 'Vini', 'gols': [2, 3, 4], 'total': 9}, {'nome': 'gato', 'gols': [2, 3], 'total': 5}]\n"
          ]
        }
      ]
    },
    {
      "cell_type": "code",
      "source": [
        "time = [{'nome': 'Vinicius', 'gols': [4, 6], 'total': 10}, {'nome': 'Gato', 'gols': [5, 2, 1], 'total': 8}]\n",
        "for i in time:\n",
        "  print(i)\n",
        "  for v in i.keys():\n",
        "    print(v)"
      ],
      "metadata": {
        "colab": {
          "base_uri": "https://localhost:8080/"
        },
        "id": "V6gDEzdB-Q4A",
        "outputId": "fa3e4501-18d5-4c05-b200-334a645353c3"
      },
      "execution_count": null,
      "outputs": [
        {
          "output_type": "stream",
          "name": "stdout",
          "text": [
            "{'nome': 'Vinicius', 'gols': [4, 6], 'total': 10}\n",
            "nome\n",
            "gols\n",
            "total\n",
            "{'nome': 'Gato', 'gols': [5, 2, 1], 'total': 8}\n",
            "nome\n",
            "gols\n",
            "total\n"
          ]
        }
      ]
    },
    {
      "cell_type": "code",
      "source": [
        "def lin(msg):\n",
        "  print('-' * 30)\n",
        "  print(msg)\n",
        "  print('-' * 30)\n",
        "\n",
        "lin(2)\n",
        "lin('Vinicius')\n",
        "\n",
        "\n",
        "\n"
      ],
      "metadata": {
        "colab": {
          "base_uri": "https://localhost:8080/"
        },
        "id": "02HLjjy8-9_o",
        "outputId": "65203e76-c38f-49fc-f53a-523deda9c30f"
      },
      "execution_count": null,
      "outputs": [
        {
          "output_type": "stream",
          "name": "stdout",
          "text": [
            "------------------------------\n",
            "2\n",
            "------------------------------\n",
            "------------------------------\n",
            "Vinicius\n",
            "------------------------------\n"
          ]
        }
      ]
    },
    {
      "cell_type": "code",
      "source": [
        "def area():\n",
        "  print('Controle de terrenos')\n",
        "  print('-' * 30)\n",
        "  a = float(input('Largura (m): '))\n",
        "  b = float(input('Comprimento (m): '))\n",
        "  print(f'A área de um terreno {a} x {b} é de {a * b} m2.')\n",
        "  \n",
        "\n",
        "area()\n",
        "def área(lar, com):\n",
        "  a = lar * com\n",
        "  print(f'A área de um terreno é {lar} x {com} é de {a}m2.')\n",
        "\n",
        "\n",
        "l = float(input('Largura (m): '))\n",
        "c = float(input('Comprimento (m): '))\n",
        "área(l, c)"
      ],
      "metadata": {
        "colab": {
          "base_uri": "https://localhost:8080/"
        },
        "id": "Nh9tQb26HJvN",
        "outputId": "9b25e118-ad60-401f-8550-1ef101566786"
      },
      "execution_count": null,
      "outputs": [
        {
          "output_type": "stream",
          "name": "stdout",
          "text": [
            "Controle de terrenos\n",
            "------------------------------\n",
            "Largura (m): 6\n",
            "Comprimento (m): 9\n",
            "A área de um terreno 6.0 x 9.0 é de 54.0 m2.\n",
            "Largura (m): 7\n",
            "Comprimento (m): 6\n",
            "A área de um terreno é 7.0 x 6.0 é de 42.0m2.\n"
          ]
        }
      ]
    },
    {
      "cell_type": "code",
      "source": [
        "def escreva(frase):\n",
        "  print('-' * len(frase))\n",
        "  print(frase)\n",
        "  print('-' * len(frase))\n",
        "\n",
        "\n",
        "f = str(input('Digite sua frase: '))\n",
        "escreva(f)"
      ],
      "metadata": {
        "colab": {
          "base_uri": "https://localhost:8080/"
        },
        "id": "q2S0qG2at2p3",
        "outputId": "5e14b4a0-7cec-4e4e-9755-e3aaab99f222"
      },
      "execution_count": null,
      "outputs": [
        {
          "output_type": "stream",
          "name": "stdout",
          "text": [
            "Digite sua frase: vaca\n",
            "----\n",
            "vaca\n",
            "----\n"
          ]
        }
      ]
    },
    {
      "cell_type": "code",
      "source": [
        "from time import sleep\n",
        "\n",
        "def contador(início, fim, passo):\n",
        "    for c in range(início, fim, passo):\n",
        "      print(c, end=' ')\n",
        "      sleep(1)\n",
        "    print('FIM !')\n",
        "    \n",
        "contador(1, 11, 1)\n",
        "contador(10, -1, -2)\n",
        "início = int(input('Início: '))\n",
        "fim = int(input('Fim : '))\n",
        "passo = (int(input('Passo: ')))\n",
        "if fim < início:\n",
        "  passo *= -1\n",
        "if passo == 0:\n",
        "  passo +=1\n",
        "contador(início, fim, passo)\n",
        "\n",
        "\n",
        "\n",
        "\n"
      ],
      "metadata": {
        "id": "3pmIy1ce3PpP"
      },
      "execution_count": null,
      "outputs": []
    },
    {
      "cell_type": "code",
      "source": [
        "def maior(*num):\n",
        "  maior = 0\n",
        "  print('Analizando os valores passados ...')\n",
        "  for i in num:\n",
        "    print(f'{i}', end=' ')\n",
        "    if  i > maior:\n",
        "      maior = i\n",
        "  print(f'Foram informados {len(num)} valores ao todo.')\n",
        "  print(f'O maior valor informado foi {maior}')\n",
        "\n",
        "\n",
        "\n",
        "maior(2, 3, 2.3, -1)\n",
        "\n"
      ],
      "metadata": {
        "colab": {
          "base_uri": "https://localhost:8080/"
        },
        "id": "sm5faM9HTvN_",
        "outputId": "301c87b5-cac7-48a3-a578-f2d33f3cdad3"
      },
      "execution_count": null,
      "outputs": [
        {
          "output_type": "stream",
          "name": "stdout",
          "text": [
            "Analizando os valores passados ...\n",
            "2 3 2.3 -1 Foram informados 4 valores ao todo.\n",
            "O maior valor informado foi 3\n"
          ]
        }
      ]
    },
    {
      "cell_type": "code",
      "source": [
        "from random import randint\n",
        "from time import sleep\n",
        "\n",
        "lista = list()\n",
        "def sorteia():\n",
        "  print('Sorteando 5 valores da lista:', end=' ')\n",
        "  for valor in range(0, 5):\n",
        "    n = randint(0, 10)\n",
        "    print(n, end=' ')\n",
        "    lista.append(n)\n",
        "    sleep(1)\n",
        "  print('Pronto !!!')\n",
        "\n",
        "def somap():\n",
        "  soma = 0\n",
        "  for v in lista:\n",
        "    if v % 2 == 0:\n",
        "      soma +=  v\n",
        "  print(f'Somando os valores pares de {lista} temos {soma}')\n",
        "\n",
        "sorteia()\n",
        "somap()"
      ],
      "metadata": {
        "colab": {
          "base_uri": "https://localhost:8080/"
        },
        "id": "Z2uR3ArGdVea",
        "outputId": "35bb34ae-c6dd-4532-f30e-cf46d8c5f7dc"
      },
      "execution_count": null,
      "outputs": [
        {
          "output_type": "stream",
          "name": "stdout",
          "text": [
            "Sorteando 5 valores da lista: 2 5 9 6 2 Pronto !!!\n",
            "Somando os valores pares de [2, 5, 9, 6, 2] temos 10\n"
          ]
        }
      ]
    },
    {
      "cell_type": "code",
      "source": [
        "from datetime import date\n",
        "def voto(ano):\n",
        "  idade = date.today().year - ano\n",
        "  if idade < 18:\n",
        "    return f'Com {idade} anos. Não vota.'\n",
        "  elif idade > 65:\n",
        "    return f'Com {idade} anos. Voto opcional.'\n",
        "  else:\n",
        "    return f'Com {idade} anos. Voto obrigatório.'\n",
        "\n",
        "\n",
        "\n",
        "ano = int(input('Em que ano você nasceu? : '))\n",
        "print(voto(ano))\n",
        "\n"
      ],
      "metadata": {
        "colab": {
          "base_uri": "https://localhost:8080/"
        },
        "id": "kDi67SQksbmC",
        "outputId": "7f7c902e-5179-43be-e50f-d035218348c5"
      },
      "execution_count": null,
      "outputs": [
        {
          "output_type": "stream",
          "name": "stdout",
          "text": [
            "Em que ano você nasceu? : 2020\n",
            "Com 2 anos. Não vota.\n"
          ]
        }
      ]
    },
    {
      "cell_type": "code",
      "source": [
        "def fatorial(n, show = False):\n",
        "  f = 1\n",
        "  for c in range(n, 0, -1):\n",
        "    if show:\n",
        "      print(c, end=' ')\n",
        "      if c > 1:\n",
        "        print(' x ', end='')\n",
        "      else:\n",
        "        print(' = ', end='')\n",
        "    f *= c\n",
        "  return f\n",
        "  \n",
        "\n",
        "print(fatorial(5, show=True))"
      ],
      "metadata": {
        "colab": {
          "base_uri": "https://localhost:8080/"
        },
        "id": "l9VZptu-yvnk",
        "outputId": "17cb0a0a-0449-4b66-cc10-ecc437981612"
      },
      "execution_count": null,
      "outputs": [
        {
          "output_type": "stream",
          "name": "stdout",
          "text": [
            "5  x 4  x 3  x 2  x 1  = 120\n"
          ]
        }
      ]
    },
    {
      "cell_type": "code",
      "source": [
        "def ficha(nome='<desconhecido>', gol=0):\n",
        "  print(f'O jogador {nome} marcou {gol} gols')\n",
        "\n",
        "\n",
        "\n",
        "n = input('Nome do jogador: ')\n",
        "g = int(input('Numero de gols: '))\n",
        "if n == '':\n",
        "  ficha(gol=g)\n",
        "print(ficha(n, g))"
      ],
      "metadata": {
        "colab": {
          "base_uri": "https://localhost:8080/"
        },
        "id": "IIZ3HtR_6BA9",
        "outputId": "3a1a956a-3074-43d5-bfbd-347fdf4e9921"
      },
      "execution_count": null,
      "outputs": [
        {
          "output_type": "stream",
          "name": "stdout",
          "text": [
            "Nome do jogador: \n",
            "Numero de gols: 9\n",
            "O jogador <desconhecido> marcou 9 gols\n",
            "O jogador  marcou 9 gols\n",
            "None\n"
          ]
        }
      ]
    },
    {
      "cell_type": "code",
      "source": [
        "def leiaint(msg):\n",
        "  ok = False\n",
        "  valor = 0\n",
        "  while True:\n",
        "    n = str(input(msg))\n",
        "    if n.isnumeric():\n",
        "      valor = int(n)\n",
        "      ok = True\n",
        "    else:\n",
        "      print('Erro')\n",
        "    if ok:\n",
        "      break\n",
        "  return valor\n",
        "\n",
        "\n",
        "\n",
        "\n",
        "\n",
        "n = leiaint('Digite um número: ')\n",
        "print(f'Você acabou de digitar o número {n}.')\n"
      ],
      "metadata": {
        "colab": {
          "base_uri": "https://localhost:8080/"
        },
        "id": "ftBzvSwjN0jf",
        "outputId": "0ec798c7-c07a-4173-9cd4-ef0b2230f1e6"
      },
      "execution_count": null,
      "outputs": [
        {
          "output_type": "stream",
          "name": "stdout",
          "text": [
            "Digite um número: n\n",
            "Erro\n",
            "Digite um número:  \n",
            "Erro\n",
            "Digite um número: 7\n",
            "Você acabou de digitar o número 7.\n"
          ]
        }
      ]
    },
    {
      "cell_type": "code",
      "source": [
        "def notas(*n, sit=False):\n",
        "  notas = n\n",
        "  ficha = dict()\n",
        "  ficha['total'] = len(notas)\n",
        "  ficha['maior'] = max(notas)\n",
        "  ficha['menor'] = min(notas)\n",
        "  ficha['média'] = sum(notas)/len(notas)\n",
        "  if sit:\n",
        "    if ficha['média'] >= 7:\n",
        "      ficha['situação'] = 'boa'\n",
        "    elif ficha['média'] >= 5:\n",
        "      ficha['situação'] = 'regular'\n",
        "    else:\n",
        "      ficha['situação'] = 'ruim'\n",
        "\n",
        "\n",
        "  return ficha\n",
        "  \n",
        "\n",
        "\n",
        "\n",
        "\n",
        "resp = notas(6, 1)\n",
        "print(resp)"
      ],
      "metadata": {
        "colab": {
          "base_uri": "https://localhost:8080/"
        },
        "id": "iUDmeubzVXcf",
        "outputId": "bb61e98d-5ba8-4ea3-9a89-f61f1281fcb4"
      },
      "execution_count": null,
      "outputs": [
        {
          "output_type": "stream",
          "name": "stdout",
          "text": [
            "{'total': 2, 'maior': 6, 'menor': 1, 'média': 3.5}\n"
          ]
        }
      ]
    },
    {
      "cell_type": "code",
      "source": [
        "def leiaInt(msg):\n",
        "  while True:\n",
        "    try:\n",
        "      i = int(input(msg))\n",
        "    except:\n",
        "      print('Erro. por favor digite um número inteiro válido.')\n",
        "    else:\n",
        "      return i\n",
        "\n",
        "\n",
        "n = leiaInt('Digite um valor inteiro: ')\n",
        "print(n)"
      ],
      "metadata": {
        "colab": {
          "base_uri": "https://localhost:8080/"
        },
        "id": "4PbNC051QNF_",
        "outputId": "c8f99ff8-714f-4c9d-eb38-24fc70d4855d"
      },
      "execution_count": null,
      "outputs": [
        {
          "output_type": "stream",
          "name": "stdout",
          "text": [
            "Digite um valor inteiro: y\n",
            "Erro. por favor digite um número inteiro válido.\n",
            "Digite um valor inteiro: 7\n",
            "7\n"
          ]
        }
      ]
    },
    {
      "cell_type": "code",
      "source": [
        "nome ='Vinicius'\n",
        "print(f'{nome:+^100}')\n",
        "for l in nome:\n",
        "  print(l)"
      ],
      "metadata": {
        "colab": {
          "base_uri": "https://localhost:8080/"
        },
        "id": "We1wSiVn85i0",
        "outputId": "dc471540-e505-42ca-929e-e10d3e13b4f0"
      },
      "execution_count": null,
      "outputs": [
        {
          "output_type": "stream",
          "name": "stdout",
          "text": [
            "++++++++++++++++++++++++++++++++++++++++++++++Vinicius++++++++++++++++++++++++++++++++++++++++++++++\n",
            "V\n",
            "i\n",
            "n\n",
            "i\n",
            "c\n",
            "i\n",
            "u\n",
            "s\n"
          ]
        }
      ]
    },
    {
      "cell_type": "code",
      "source": [
        "nome = 'vinicius'\n",
        "c = 0\n",
        "n = str()\n",
        "while c < len(nome):\n",
        "  n += nome[c]\n",
        "  print(n)\n",
        "  c += 1"
      ],
      "metadata": {
        "colab": {
          "base_uri": "https://localhost:8080/"
        },
        "id": "xkce9ji_1P8t",
        "outputId": "9183168f-a7ca-4831-e055-74f0ecde5dbb"
      },
      "execution_count": null,
      "outputs": [
        {
          "output_type": "stream",
          "name": "stdout",
          "text": [
            "v\n",
            "vi\n",
            "vin\n",
            "vini\n",
            "vinic\n",
            "vinici\n",
            "viniciu\n",
            "vinicius\n"
          ]
        }
      ]
    },
    {
      "cell_type": "code",
      "source": [
        "nome = 'vinicius'\n",
        "nm = str()\n",
        "for letra in nome:\n",
        "  nm += letra\n",
        "  print(nm)\n"
      ],
      "metadata": {
        "id": "hiUea7e-gASo"
      },
      "execution_count": null,
      "outputs": []
    },
    {
      "cell_type": "code",
      "source": [
        "def ret (var):\n",
        "  r = var\n",
        "  return r\n",
        "\n",
        "ret ('oi')\n"
      ],
      "metadata": {
        "colab": {
          "base_uri": "https://localhost:8080/",
          "height": 35
        },
        "id": "ZQoY5dtDlTN6",
        "outputId": "82f4afd4-1a8c-4db5-ebfe-0cd620c52a0b"
      },
      "execution_count": null,
      "outputs": [
        {
          "output_type": "execute_result",
          "data": {
            "application/vnd.google.colaboratory.intrinsic+json": {
              "type": "string"
            },
            "text/plain": [
              "'oi'"
            ]
          },
          "metadata": {},
          "execution_count": 2
        }
      ]
    },
    {
      "cell_type": "code",
      "source": [
        "conj = {1, 1, 2, 5, 7, 9, 'texto'}\n",
        "p='texto'\n",
        "print(conj)\n",
        "hash(p)\n",
        "b = set('12345')\n",
        "print(b)\n",
        "len(b)\n",
        "L = [1, 1, 2, 3,5, 6,7]\n",
        "C = set(L)\n",
        "print(L, C)\n",
        "L = set(L)\n",
        "L"
      ],
      "metadata": {
        "id": "NZAs3iyoE8sQ",
        "colab": {
          "base_uri": "https://localhost:8080/"
        },
        "outputId": "01c0d300-3089-4d99-d86e-0ba4dd22d3bf"
      },
      "execution_count": null,
      "outputs": [
        {
          "output_type": "stream",
          "name": "stdout",
          "text": [
            "{1, 2, 'texto', 5, 7, 9}\n",
            "{'1', '3', '5', '2', '4'}\n",
            "[1, 1, 2, 3, 5, 6, 7] {1, 2, 3, 5, 6, 7}\n"
          ]
        },
        {
          "output_type": "execute_result",
          "data": {
            "text/plain": [
              "{1, 2, 3, 5, 6, 7}"
            ]
          },
          "metadata": {},
          "execution_count": 13
        }
      ]
    },
    {
      "cell_type": "code",
      "source": [
        "a = set(range(1, 31))\n",
        "b = set(range(0, 41)) - a\n",
        "c = a & b\n",
        "print(a)\n",
        "print(b)\n",
        "print(c)"
      ],
      "metadata": {
        "id": "RUACycSB8-Jg",
        "colab": {
          "base_uri": "https://localhost:8080/"
        },
        "outputId": "05981d9f-e26a-4926-c10c-2b916470957b"
      },
      "execution_count": null,
      "outputs": [
        {
          "output_type": "stream",
          "name": "stdout",
          "text": [
            "{1, 2, 3, 4, 5, 6, 7, 8, 9, 10, 11, 12, 13, 14, 15, 16, 17, 18, 19, 20, 21, 22, 23, 24, 25, 26, 27, 28, 29, 30}\n",
            "{0, 33, 32, 34, 35, 36, 37, 38, 39, 40, 31}\n",
            "set()\n"
          ]
        }
      ]
    },
    {
      "cell_type": "code",
      "source": [
        "var = 'teste' # global\n",
        "id(var)\n",
        "\n",
        "def func():\n",
        "  var = 'outro teste' # local\n",
        "  return id(var), var\n",
        "\n",
        "print(func())\n",
        "print(id(var), var)"
      ],
      "metadata": {
        "colab": {
          "base_uri": "https://localhost:8080/"
        },
        "id": "VksMUuOaf1dW",
        "outputId": "a088e886-9208-45a1-afc7-e2775d1ef9b4"
      },
      "execution_count": null,
      "outputs": [
        {
          "output_type": "stream",
          "name": "stdout",
          "text": [
            "(139720734880304, 'outro teste')\n",
            "139720740759920 teste\n"
          ]
        }
      ]
    },
    {
      "cell_type": "code",
      "source": [
        "var = 'teste' # global\n",
        "id(var)\n",
        "\n",
        "def func():\n",
        "  global var\n",
        "  var = 'outro teste' # local\n",
        "  return id(var), var\n",
        "\n",
        "print(func())\n",
        "print(id(var), var)"
      ],
      "metadata": {
        "id": "Jc-TOec8nT8v",
        "outputId": "8cb3ea2e-df3b-4713-8da7-fb6bf82822f6",
        "colab": {
          "base_uri": "https://localhost:8080/"
        }
      },
      "execution_count": null,
      "outputs": [
        {
          "output_type": "stream",
          "name": "stdout",
          "text": [
            "(139720734836400, 'outro teste')\n",
            "139720734836400 outro teste\n"
          ]
        }
      ]
    },
    {
      "cell_type": "code",
      "source": [
        "d = {}\n",
        "d['a'] = 1\n",
        "d['b'] = 2\n",
        "d\n",
        "for i, v in d.items():\n",
        "  print(i, v)"
      ],
      "metadata": {
        "colab": {
          "base_uri": "https://localhost:8080/"
        },
        "id": "Fz7qyWoCWDtE",
        "outputId": "169d3425-977c-4b93-eaf7-f3f0e507faa3"
      },
      "execution_count": null,
      "outputs": [
        {
          "output_type": "stream",
          "name": "stdout",
          "text": [
            "a 1\n",
            "b 2\n"
          ]
        }
      ]
    },
    {
      "cell_type": "code",
      "source": [
        "t = ('a', 'b', 'c', 'd')\n",
        "d = {}\n",
        "d = dict.fromkeys(t, 1)\n",
        "d.keys()\n",
        "d.values()\n",
        "d.items()"
      ],
      "metadata": {
        "colab": {
          "base_uri": "https://localhost:8080/"
        },
        "id": "wzATzjE7W_pJ",
        "outputId": "869d4288-cd5c-47b2-903c-9e368db35e5c"
      },
      "execution_count": null,
      "outputs": [
        {
          "output_type": "execute_result",
          "data": {
            "text/plain": [
              "dict_items([('a', 1), ('b', 1), ('c', 1), ('d', 1)])"
            ]
          },
          "metadata": {},
          "execution_count": 17
        }
      ]
    },
    {
      "cell_type": "code",
      "source": [
        "perguntas = {'Pergunta 1':{'pergunta': 'Quanto é 1 + 1',\n",
        "                           'respostas': {'a': '1', 'b': '2', 'c': '3'}, \n",
        "                           'resp_certa': 'b'\n",
        "                           }\n",
        "             }\n",
        "print()\n",
        "respostas_certas = 0\n",
        "for pk, pv in perguntas.items():\n",
        "  print(pk, pv['pergunta'])\n",
        "  for rk, rv in pv['respostas'].items():\n",
        "    print(rk, rv)"
      ],
      "metadata": {
        "colab": {
          "base_uri": "https://localhost:8080/"
        },
        "id": "f7yQthy8pOIq",
        "outputId": "0a7c90bb-fd97-43d1-b4ae-b80033393201"
      },
      "execution_count": null,
      "outputs": [
        {
          "output_type": "stream",
          "name": "stdout",
          "text": [
            "\n",
            "Pergunta 1 Quanto é 1 + 1\n",
            "a 1\n",
            "b 2\n",
            "c 3\n"
          ]
        }
      ]
    },
    {
      "cell_type": "code",
      "source": [
        "G = 'Grava nada'\n",
        "arq = open('exemp.txt','w')\n",
        "arq.write(G)\n",
        "arq.close()\n",
        "arq = open('exemp.txt', 'r')\n",
        "L = arq.readline()\n",
        "arq.close()\n",
        "print(f'String lido = {L}')"
      ],
      "metadata": {
        "colab": {
          "base_uri": "https://localhost:8080/"
        },
        "id": "ylDP25NtEu3v",
        "outputId": "38ddbf4e-8908-4055-c519-6131eaf55fdc"
      },
      "execution_count": null,
      "outputs": [
        {
          "output_type": "stream",
          "name": "stdout",
          "text": [
            "String lido = Grava nada\n"
          ]
        }
      ]
    },
    {
      "cell_type": "code",
      "source": [
        "print('Início do programa')\n",
        "arqreais = open('ValsReais.txt', 'w')\n",
        "x = float(input('Digite um número real: '))\n",
        "while x != 0:\n",
        "  arqreais.write(f'{x:.3f}\\n')\n",
        "  x = float(input('Digite um número real: '))\n",
        "arqreais.close()\n",
        "arqreais = open('ValsReais.txt', 'r')\n",
        "l = arqreais.readlines()\n",
        "arqreais.close()\n",
        "print(l)\n",
        "print('Fim do programa')\n"
      ],
      "metadata": {
        "colab": {
          "base_uri": "https://localhost:8080/"
        },
        "id": "KKiMmI0JlWsW",
        "outputId": "b5a45353-eaf3-453b-dd5a-1d41728148f8"
      },
      "execution_count": null,
      "outputs": [
        {
          "output_type": "stream",
          "name": "stdout",
          "text": [
            "Início do programa\n",
            "Digite um número real: 9\n",
            "Digite um número real: 6\n",
            "Digite um número real: 3\n",
            "Digite um número real: 0\n",
            "['9.000\\n', '6.000\\n', '3.000\\n']\n",
            "Fim do programa\n"
          ]
        }
      ]
    },
    {
      "cell_type": "code",
      "source": [
        "inteiros = open('inteiros.txt', 'w')\n",
        "x = int(input('Digite um número inteiro: '))\n",
        "while x != 0:\n",
        "  inteiros.write(f'{x}\\n')\n",
        "  x = int(input('Digite um número inteiro: '))\n",
        "inteiros.close()\n",
        "\n",
        "print('Início do programa')\n",
        "soma = 0\n",
        "cont = 0\n",
        "arq = open('inteiros.txt')\n",
        "s = arq.readline()\n",
        "while s != '':\n",
        "  n = int(s)\n",
        "  soma = soma + n \n",
        "  cont += 1\n",
        "  print(f'Elemento {cont} = {n}')\n",
        "  s = arq.readline()\n",
        "arq.close()\n",
        "print(f'Soma = {soma}')\n",
        "print('Fim do programa')"
      ],
      "metadata": {
        "colab": {
          "base_uri": "https://localhost:8080/"
        },
        "id": "OjFsWt_yCOZE",
        "outputId": "c962a809-049f-4284-b594-614c4f8251ce"
      },
      "execution_count": null,
      "outputs": [
        {
          "output_type": "stream",
          "name": "stdout",
          "text": [
            "Digite um número inteiro: 7\n",
            "Digite um número inteiro: 9\n",
            "Digite um número inteiro: 5\n",
            "Digite um número inteiro: 0\n",
            "Início do programa\n",
            "Elemento 1 = 7\n",
            "Elemento 2 = 9\n",
            "Elemento 3 = 5\n",
            "Soma = 21\n",
            "Fim do programa\n"
          ]
        }
      ]
    },
    {
      "cell_type": "code",
      "source": [
        "print('Início do programa')\n",
        "soma = 0\n",
        "cont = 0\n",
        "for s in open('inteiros.txt'):\n",
        "  n = int(s)\n",
        "  soma += n \n",
        "  cont += 1\n",
        "  print(f'Elemento {cont} = {n}')\n",
        "print(f'Soma = {soma}')\n",
        "print('Fim do programa')"
      ],
      "metadata": {
        "colab": {
          "base_uri": "https://localhost:8080/"
        },
        "id": "bsaN97ziMAl5",
        "outputId": "276a7197-cfb5-4fd8-9dd6-363bba1ff7ea"
      },
      "execution_count": null,
      "outputs": [
        {
          "output_type": "stream",
          "name": "stdout",
          "text": [
            "Início do programa\n",
            "Elemento 1 = 7\n",
            "Elemento 2 = 9\n",
            "Elemento 3 = 4\n",
            "Elemento 4 = 3\n",
            "Soma = 23\n",
            "Fim do programa\n"
          ]
        }
      ]
    },
    {
      "cell_type": "code",
      "source": [
        "for s in open('teste.txt'):\n",
        "  print(s)\n"
      ],
      "metadata": {
        "colab": {
          "base_uri": "https://localhost:8080/"
        },
        "id": "BVHclFnNsQzX",
        "outputId": "fef7ace5-dcf8-4549-f729-7fa25ea19ab0"
      },
      "execution_count": null,
      "outputs": [
        {
          "output_type": "stream",
          "name": "stdout",
          "text": [
            "abacate tomate\n",
            "\n",
            "abobora\n",
            "\n",
            "pera\n",
            "\n",
            "mel\n"
          ]
        }
      ]
    },
    {
      "cell_type": "code",
      "source": [
        "print('Lista de compras')\n",
        "TotGeral = 0\n",
        "for s in open('dados.txt'):\n",
        "  s = s.rstrip()\n",
        "  l = s.split(',')\n",
        "  l[1], l[2] = int(l[1]), float(l[2])\n",
        "  TotProd = l[1] * l[2]\n",
        "  TotGeral += TotProd\n",
        "  print(f'{l[0]:>12}: {l[1]:3} x {l[2]:6.2f} = {TotProd:7.2f} ')\n",
        "print('-' * 38)\n",
        "print(f'Total da lista de compras {TotGeral:>10}')\n",
        "\n"
      ],
      "metadata": {
        "colab": {
          "base_uri": "https://localhost:8080/"
        },
        "id": "HkFwsv9hcuyt",
        "outputId": "a7663d9e-59e9-480f-f40f-c8db5fa17f4f"
      },
      "execution_count": null,
      "outputs": [
        {
          "output_type": "stream",
          "name": "stdout",
          "text": [
            "Lista de compras\n",
            "       Leite:  12 x   3.80 =   45.60 \n",
            "        Maçã: 100 x   4.40 =  440.00 \n",
            "        Café:   9 x  16.35 =  147.15 \n",
            "Pão de Forma:  41 x   5.90 =  241.90 \n",
            "--------------------------------------\n",
            "Total da lista de compras     874.65\n"
          ]
        }
      ]
    },
    {
      "cell_type": "code",
      "source": [
        "lista = list(range(100))\n",
        "print(lista)"
      ],
      "metadata": {
        "colab": {
          "base_uri": "https://localhost:8080/"
        },
        "id": "7Uky7BtHz6Jp",
        "outputId": "095b614c-6393-4415-afb6-a4b8744f5d74"
      },
      "execution_count": null,
      "outputs": [
        {
          "output_type": "stream",
          "name": "stdout",
          "text": [
            "[0, 1, 2, 3, 4, 5, 6, 7, 8, 9, 10, 11, 12, 13, 14, 15, 16, 17, 18, 19, 20, 21, 22, 23, 24, 25, 26, 27, 28, 29, 30, 31, 32, 33, 34, 35, 36, 37, 38, 39, 40, 41, 42, 43, 44, 45, 46, 47, 48, 49, 50, 51, 52, 53, 54, 55, 56, 57, 58, 59, 60, 61, 62, 63, 64, 65, 66, 67, 68, 69, 70, 71, 72, 73, 74, 75, 76, 77, 78, 79, 80, 81, 82, 83, 84, 85, 86, 87, 88, 89, 90, 91, 92, 93, 94, 95, 96, 97, 98, 99]\n"
          ]
        }
      ]
    },
    {
      "cell_type": "code",
      "source": [
        "import sys\n",
        "print(sys.platform)"
      ],
      "metadata": {
        "colab": {
          "base_uri": "https://localhost:8080/"
        },
        "id": "BRW3QDLO2zO7",
        "outputId": "ffdf1040-d8b3-4797-a13e-faba1056389b"
      },
      "execution_count": null,
      "outputs": [
        {
          "output_type": "stream",
          "name": "stdout",
          "text": [
            "linux\n"
          ]
        }
      ]
    },
    {
      "cell_type": "code",
      "source": [
        "import sqlite3\n",
        "\n",
        "conector = sqlite3.connect('academia.db')\n",
        "cursor = conector.cursor()\n",
        "\n",
        "sql = ''' create table cadastro \n",
        "          (codigo interger, nome text, idade interger)\n",
        "      '''\n",
        "\n",
        "cursor.execute(sql)\n",
        "\n",
        "sql = \"\"\" insert into cadastro (codigo, nome, idade) values (1284, 'Pedro de Oliveira', 32)\"\"\"\n",
        "cursor.execute(sql)\n",
        "\n",
        "sql = \"\"\" insert into cadastro (codigo, nome, idade) values (1309, 'Maria Lucia Machado', 37)\"\"\"\n",
        "cursor.execute(sql)\n",
        "\n",
        "conector.commit()\n",
        "cursor.close()\n"
      ],
      "metadata": {
        "id": "f7KjSs86sJMZ"
      },
      "execution_count": 1,
      "outputs": []
    },
    {
      "cell_type": "code",
      "source": [
        "class MinhaClasse:\n",
        "\n",
        "  def meu_metodo(self):\n",
        "    print('Estou no método')\n",
        "  \n",
        "  def meu_metodo2(self, num, mult):\n",
        "    return num * mult\n",
        "\n",
        "objeto = MinhaClasse()\n",
        "\n",
        "objeto.meu_metodo()\n",
        "\n",
        "resultado = objeto.meu_metodo2(2, 3)\n",
        "print(resultado)"
      ],
      "metadata": {
        "colab": {
          "base_uri": "https://localhost:8080/"
        },
        "id": "hCY3n9UlBttx",
        "outputId": "37309a6e-6e51-4587-8be1-04fb8bb3a9a7"
      },
      "execution_count": null,
      "outputs": [
        {
          "output_type": "stream",
          "name": "stdout",
          "text": [
            "Estou no método\n",
            "6\n"
          ]
        }
      ]
    },
    {
      "cell_type": "code",
      "source": [
        "import sqlite3\n",
        "\n",
        "conector = sqlite3.connect('academia.db')\n",
        "cursor = conector.cursor()\n",
        "sql = 'select * from cadastro'\n",
        "cursor.execute(sql)\n",
        "dados = cursor.fetchall()\n",
        "cursor.close()\n",
        "conector.close()\n",
        "\n",
        "print(\"\\nConsulta ao Banco de Dados 'academia.db' \\n\") \n",
        "print(\"Dados da tabela 'cadastro'\")\n",
        "print(\"-\" * 35)\n",
        "print('{:7} {:20} {:>6}'.format(\"Código\", \"Nome\", \"Idade\")) \n",
        "print(\"-\" * 18)\n",
        "for d in dados:\n",
        "  print(\"{:<7} {:20} {:>6}\".format(d[0], d[1], d[2]))\n",
        "print(\"-\" * 35)\n",
        "print(\"Encontrados {} registros\".format(len(dados)))\n",
        "print(\"\\n\\nFim do programa\")"
      ],
      "metadata": {
        "colab": {
          "base_uri": "https://localhost:8080/"
        },
        "id": "y8zGn_Vl5hPR",
        "outputId": "b3ad132a-507f-4236-ca28-a909c04bd1a8"
      },
      "execution_count": 8,
      "outputs": [
        {
          "output_type": "stream",
          "name": "stdout",
          "text": [
            "\n",
            "Consulta ao Banco de Dados 'academia.db' \n",
            "\n",
            "Dados da tabela 'cadastro'\n",
            "-----------------------------------\n",
            "Código  Nome                  Idade\n",
            "------------------\n",
            "1284    Pedro de Oliveira        32\n",
            "1309    Maria Lucia Machado      37\n",
            "-----------------------------------\n",
            "Encontrados 2 registros\n",
            "\n",
            "\n",
            "Fim do programa\n"
          ]
        }
      ]
    },
    {
      "cell_type": "code",
      "source": [
        ""
      ],
      "metadata": {
        "id": "bhmjLOnWRr0r"
      },
      "execution_count": null,
      "outputs": []
    },
    {
      "cell_type": "code",
      "source": [
        ""
      ],
      "metadata": {
        "id": "dGvTVuwF_eqh"
      },
      "execution_count": null,
      "outputs": []
    },
    {
      "cell_type": "markdown",
      "source": [
        ""
      ],
      "metadata": {
        "id": "ti4ck3yIS-l0"
      }
    }
  ]
}