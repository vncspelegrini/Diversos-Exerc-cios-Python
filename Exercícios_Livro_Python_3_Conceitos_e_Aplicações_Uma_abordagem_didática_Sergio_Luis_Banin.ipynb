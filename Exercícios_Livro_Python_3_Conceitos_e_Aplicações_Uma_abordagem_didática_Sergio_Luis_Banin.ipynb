{
  "nbformat": 4,
  "nbformat_minor": 0,
  "metadata": {
    "colab": {
      "name": "Exercícios Livro Python 3 - Conceitos e Aplicações - Uma abordagem didática - Sergio Luis Banin",
      "provenance": [],
      "authorship_tag": "ABX9TyPcmRLdYwCaDBTjNXOEws1q",
      "include_colab_link": true
    },
    "kernelspec": {
      "name": "python3",
      "display_name": "Python 3"
    },
    "language_info": {
      "name": "python"
    }
  },
  "cells": [
    {
      "cell_type": "markdown",
      "metadata": {
        "id": "view-in-github",
        "colab_type": "text"
      },
      "source": [
        "<a href=\"https://colab.research.google.com/github/vncspelegrini/execiciosPython/blob/main/Exerc%C3%ADcios_Livro_Python_3_Conceitos_e_Aplica%C3%A7%C3%B5es_Uma_abordagem_did%C3%A1tica_Sergio_Luis_Banin.ipynb\" target=\"_parent\"><img src=\"https://colab.research.google.com/assets/colab-badge.svg\" alt=\"Open In Colab\"/></a>"
      ]
    },
    {
      "cell_type": "code",
      "metadata": {
        "id": "Lpp4BlBM6Tzs"
      },
      "source": [
        "# Capítulo 2"
      ],
      "execution_count": null,
      "outputs": []
    },
    {
      "cell_type": "code",
      "metadata": {
        "colab": {
          "base_uri": "https://localhost:8080/"
        },
        "id": "s8MLhWnF7TxL",
        "outputId": "3864c611-26b0-48e7-8d9c-3788710f86cc"
      },
      "source": [
        "# Exercício 1 pg 47\n",
        "\n",
        "x = 0.0\n",
        "y = 18\n",
        "\n",
        "print('O tipo de x é {}'.format(type(x)))\n",
        "print('O tipo de y é {}'.format(type(y)))\n",
        "\n",
        "z = x + y\n",
        "\n",
        "print('A soma de x + y é {} e o seu tipo é {}'.format(z, type(z)))\n"
      ],
      "execution_count": null,
      "outputs": [
        {
          "output_type": "stream",
          "name": "stdout",
          "text": [
            "O tipo de x é <class 'float'>\n",
            "O tipo de y é <class 'int'>\n",
            "A soma de x + y é 18.0 e o seu tipo é <class 'float'>\n"
          ]
        }
      ]
    },
    {
      "cell_type": "code",
      "metadata": {
        "id": "PHZdig_B9hBp"
      },
      "source": [
        "# Exercício 2 pg 47\n",
        "\n",
        "a = 16\n",
        "print(A)\n",
        "\n",
        "# Ocorre um erro pois não existe o objeto A.\n",
        "# O objeto que foi atribuído valor foi nomeado com a.\n",
        "\n"
      ],
      "execution_count": null,
      "outputs": []
    },
    {
      "cell_type": "code",
      "metadata": {
        "colab": {
          "base_uri": "https://localhost:8080/"
        },
        "id": "BT5fKs2b-20S",
        "outputId": "43001fb0-5eb8-4afc-ecb1-66e98940a813"
      },
      "source": [
        "# Exercício 3 pg 47\n",
        "\n",
        "A = 'Questão 3'\n",
        "B = 25\n",
        "C = 3.9\n",
        "\n",
        "print('A', type(A))\n",
        "\n",
        "print('B', type(B))\n",
        "\n",
        "print('C', type(C))\n"
      ],
      "execution_count": null,
      "outputs": [
        {
          "output_type": "stream",
          "name": "stdout",
          "text": [
            "A <class 'str'>\n",
            "B <class 'int'>\n",
            "C <class 'float'>\n"
          ]
        }
      ]
    },
    {
      "cell_type": "code",
      "metadata": {
        "id": "b0-nmgDkCgOE",
        "colab": {
          "base_uri": "https://localhost:8080/"
        },
        "outputId": "2b4ff638-8bdc-40a1-ff9f-9f858e440312"
      },
      "source": [
        "# Exercício 4 pg 47\n",
        "\n",
        "A = 14\n",
        "B = 5\n",
        "\n",
        "C = A + B\n",
        "print(C)\n",
        "C = A - B\n",
        "print(C)\n",
        "C = A * B\n",
        "print(C) \n",
        "C = A / B\n",
        "print(C)\n",
        "C = A // B\n",
        "print(C)\n",
        "C = A % B\n",
        "print(C)\n",
        "C = -A\n",
        "print(C)\n",
        "C = A ** B\n",
        "print(C)"
      ],
      "execution_count": null,
      "outputs": [
        {
          "output_type": "stream",
          "name": "stdout",
          "text": [
            "19\n",
            "9\n",
            "70\n",
            "2.8\n",
            "2\n",
            "4\n",
            "-14\n",
            "537824\n"
          ]
        }
      ]
    },
    {
      "cell_type": "code",
      "metadata": {
        "colab": {
          "base_uri": "https://localhost:8080/"
        },
        "id": "HvraEQbkISle",
        "outputId": "83ec5bb3-0d31-4e7a-d64d-a3b7fcae22b0"
      },
      "source": [
        "# Exercício 5 pg 47\n",
        "\n",
        "b = 9\n",
        "h = 6\n",
        "A = (b*h)/2\n",
        "print('A área do triângulo é {}'.format(A))"
      ],
      "execution_count": null,
      "outputs": [
        {
          "output_type": "stream",
          "name": "stdout",
          "text": [
            "A área do triângulo é 27.0\n"
          ]
        }
      ]
    },
    {
      "cell_type": "code",
      "metadata": {
        "colab": {
          "base_uri": "https://localhost:8080/"
        },
        "id": "IbQjUMUzJXvI",
        "outputId": "d187cc8b-4781-45b4-95f3-3eeb7f61e1ae"
      },
      "source": [
        "# Exercício 6 pg 47\n",
        "\n",
        "print('Cálculo da área do triângulo')\n",
        "b = (int(input('Digite o valor da base: ')))\n",
        "h = (int(input('Digite o valor da altura: ')))\n",
        "A = (b*h)/2\n",
        "print('A área do triângulo é {}'.format(A))"
      ],
      "execution_count": null,
      "outputs": [
        {
          "output_type": "stream",
          "name": "stdout",
          "text": [
            "Cálculo da área do triângulo\n",
            "Digite o valor da base: 6\n",
            "Digite o valor da altura: 9\n",
            "A área do triângulo é 27.0\n"
          ]
        }
      ]
    },
    {
      "cell_type": "code",
      "metadata": {
        "colab": {
          "base_uri": "https://localhost:8080/"
        },
        "id": "Do8SUJDkMW8k",
        "outputId": "b9611468-4296-40b3-c1b9-3fc46b4de65f"
      },
      "source": [
        "# Exercício 7 pg 48\n",
        "\n",
        "print('Cálculo salário bruto')\n",
        "vh = 14.25\n",
        "h = 163\n",
        "vhe = 14.25 * 2\n",
        "he = 20\n",
        "sb = (vh * h) + (vhe * he)\n",
        "print('Salário bruto R$ {}'.format(sb))"
      ],
      "execution_count": null,
      "outputs": [
        {
          "output_type": "stream",
          "name": "stdout",
          "text": [
            "Cálculo salário bruto\n",
            "Salário bruto R$ 2892.75\n"
          ]
        }
      ]
    },
    {
      "cell_type": "code",
      "metadata": {
        "colab": {
          "base_uri": "https://localhost:8080/"
        },
        "id": "AKYPjhQdlz7A",
        "outputId": "a2eb4e4c-96c8-44ed-fdb7-4cb2df65157b"
      },
      "source": [
        "# Exercício 8 pg 48\n",
        "\n",
        "A = 4\n",
        "B = 5 \n",
        "C = 1\n",
        "\n",
        "x1 = 0\n",
        "y1 = 0\n",
        "x2 = 3\n",
        "y2 = 4\n",
        "\n",
        "R = (A + B)/2\n",
        "print(R)\n",
        "\n",
        "x = (-B + (B**2-4*A*C)**(1/2))/2*A\n",
        "print(x)\n",
        " # ou\n",
        "import math\n",
        "x= (-B + math.sqrt(B**2-4*A*C))/2*A\n",
        "print(x)\n",
        "\n",
        "R = (3*A + 2*B)/(A + B)\n",
        "print(R)\n",
        "\n",
        "z = 7.6 * A - B**(1/7)\n",
        "print(z)\n",
        "\n",
        "d = ((x1 - x2)**2 + y - y**2)**(1/2)\n",
        "print(d)\n",
        "#esta expressão está errada falta valor y2 ou eu estou fazendo errado\n"
      ],
      "execution_count": null,
      "outputs": [
        {
          "output_type": "stream",
          "name": "stdout",
          "text": [
            "4.5\n",
            "-4.0\n",
            "-4.0\n",
            "2.4444444444444446\n",
            "29.141501049358173\n",
            "(1.0552590386376367e-15+17.233687939614086j)\n"
          ]
        }
      ]
    },
    {
      "cell_type": "code",
      "metadata": {
        "id": "Z2Ix8xi8t8UY"
      },
      "source": [
        "#Exercício 9 pg 48 usa a expressão acima mas não tem o y2 nela irei pular e tentar descobrir se o erro está no livro ou por eu não entender o exercício\n"
      ],
      "execution_count": null,
      "outputs": []
    },
    {
      "cell_type": "code",
      "metadata": {
        "id": "TMJzWi6A10y2"
      },
      "source": [
        "# Exercício 10 pg 48\n",
        "\n",
        "\n",
        "prod1 = input('Digite o produto: ')\n",
        "quan1 = int(input('Digite a quantidade: '))\n",
        "valo1 = float(input('Digite o valor: '))\n",
        "tota1 = quan1 * valo1\n",
        "prod2 = input('Digite o produto: ')\n",
        "quan2 = int(input('Digite a quantidade: '))\n",
        "valo2 = float(input('Digite o valor: '))\n",
        "tota2 = quan2 * valo2\n",
        "prod3 = input('Digite o produto: ')\n",
        "quan3 = int(input('Digite a quantidade: '))\n",
        "valo3 = float(input('Digite o valor: '))\n",
        "tota3 = quan3 * valo3\n",
        "print('O faturamento de {} foi de R$ {}'.format(prod1, tota1))\n",
        "print('O faturamento de {} foi de R$ {}'.format(prod2, tota2))\n",
        "print('O faturamento de {} foi de R$ {}'.format(prod3, tota3))"
      ],
      "execution_count": null,
      "outputs": []
    },
    {
      "cell_type": "code",
      "metadata": {
        "id": "z4YUIoPtGczZ"
      },
      "source": [
        "# Capítulo 4"
      ],
      "execution_count": null,
      "outputs": []
    },
    {
      "cell_type": "code",
      "metadata": {
        "colab": {
          "base_uri": "https://localhost:8080/"
        },
        "id": "RK9FKp0cZX5D",
        "outputId": "e44b9ec4-8572-45d5-c5e4-43d058c5bd13"
      },
      "source": [
        "#Exercício 1 pg 75\n",
        "\n",
        "A = 0 \n",
        "B = -3\n",
        "print(A>B)\n",
        "\n",
        "X = 3.7\n",
        "print(X <= 10.0)\n",
        "\n",
        "A = 9\n",
        "B = 16\n",
        "print(A-B>=0)\n",
        "\n",
        "A = 2\n",
        "B = 4\n",
        "N = 10\n",
        "print(A*B<N)\n",
        "\n",
        "A = 3\n",
        "B = 9\n",
        "C = 5\n",
        "print(10*A>=B*C)\n",
        "\n",
        "A = 3\n",
        "B = 6\n",
        "C = 5\n",
        "print(10*A>=B*C)\n",
        "\n",
        "N = 7 \n",
        "print(N%2==0)\n",
        "\n",
        "N = 8 \n",
        "print(N%2==0)\n",
        "\n",
        "T = 'MORANGO'\n",
        "print(T == 'BANANA')\n",
        "\n",
        "T = 'MORANGO'\n",
        "print(T>'BANANA')\n",
        "\n",
        "\n",
        "\n"
      ],
      "execution_count": null,
      "outputs": [
        {
          "output_type": "stream",
          "name": "stdout",
          "text": [
            "True\n",
            "True\n",
            "False\n",
            "True\n",
            "False\n",
            "True\n",
            "False\n",
            "True\n",
            "False\n",
            "True\n"
          ]
        }
      ]
    },
    {
      "cell_type": "code",
      "metadata": {
        "colab": {
          "base_uri": "https://localhost:8080/"
        },
        "id": "n2RrT4GPcfJl",
        "outputId": "ac33ee73-dd8e-4d4c-c68b-ba7241f9289a"
      },
      "source": [
        "#Exercício 2 pg 75\n",
        "\n",
        "A = 10\n",
        "B = 15 \n",
        "C = 4\n",
        "print(A<B and A<C)\n",
        "\n",
        "print(A<B or A<C)\n",
        "\n",
        "A = 1\n",
        "B = 9\n",
        "C = 0\n",
        "print(A>=0 and B==C )\n",
        "\n",
        "A = 1\n",
        "B = 9\n",
        "C = 9\n",
        "print(A>=0 and B==C )\n",
        "\n",
        "A = 1\n",
        "B = 9\n",
        "C = 0\n",
        "print(A>=0 or B==C )\n",
        "\n",
        "A = 1\n",
        "B = 9\n",
        "C = 9\n",
        "print(A>=0 or B==C )\n",
        "\n",
        "A = 0\n",
        "B = 0\n",
        "C = 0\n",
        "print(B!=0 and A!=C)\n",
        "\n",
        "A = 0\n",
        "B = 0\n",
        "C = 25\n",
        "print(B!=0 and A!=C)\n",
        "\n",
        "A = 0\n",
        "B = 0\n",
        "C = 0\n",
        "print(B!=0 or A!=C)\n",
        "\n",
        "A = 0\n",
        "B = 0\n",
        "C = 25\n",
        "print(B!=0 or A!=C)"
      ],
      "execution_count": null,
      "outputs": [
        {
          "output_type": "stream",
          "name": "stdout",
          "text": [
            "False\n",
            "True\n",
            "False\n",
            "True\n",
            "True\n",
            "True\n",
            "False\n",
            "False\n",
            "False\n",
            "True\n"
          ]
        }
      ]
    },
    {
      "cell_type": "code",
      "metadata": {
        "colab": {
          "base_uri": "https://localhost:8080/"
        },
        "id": "gfKgAQ_CguM3",
        "outputId": "193d77d8-1ebb-4add-c1d4-f3b1ca828a80"
      },
      "source": [
        "#Exercício 3 pg 75\n",
        "\n",
        "\n",
        "A = 10\n",
        "B = 15\n",
        "C = 4\n",
        "print(A<B and A<C or C!=0)\n",
        "\n",
        "A = 10\n",
        "B = 15\n",
        "C = 4\n",
        "print(A<B and (A<C or C!=0))\n",
        "\n",
        "A = 1\n",
        "B = 9\n",
        "C = 0\n",
        "print(not(A>=0 and B==C))\n",
        "\n",
        "A = 1\n",
        "B = 9\n",
        "C = 9\n",
        "print((not A>=0) and not B==C)\n",
        "\n",
        "A = 1\n",
        "B = 9\n",
        "C = 0\n",
        "print((A>=0 or B==C) and B > A)\n",
        "\n",
        "A = -2\n",
        "B = 0\n",
        "C = 2\n",
        "print(not(A<=B) or C>B)\n",
        "\n",
        "A = -2\n",
        "B = 0\n",
        "C = 2\n",
        "print(not(A<=B or C>B))\n",
        "\n",
        "A = 0\n",
        "B = 1\n",
        "C = 0\n",
        "print(A==0 and B !=0 and C==0)\n",
        "\n",
        "A = 5\n",
        "B = 0\n",
        "C = 0\n",
        "print(A==0 and B !=0 and C==0)\n",
        "\n",
        "A = 5\n",
        "B = 0\n",
        "C = 0\n",
        "print(A==0 or B !=0 or C==0)"
      ],
      "execution_count": null,
      "outputs": [
        {
          "output_type": "stream",
          "name": "stdout",
          "text": [
            "True\n",
            "True\n",
            "True\n",
            "False\n",
            "True\n",
            "True\n",
            "False\n",
            "True\n",
            "False\n",
            "True\n"
          ]
        }
      ]
    },
    {
      "cell_type": "code",
      "metadata": {
        "colab": {
          "base_uri": "https://localhost:8080/"
        },
        "id": "SM6_fLUulI5D",
        "outputId": "2169e982-e5ef-4f9d-ffb5-352defd9a5ed"
      },
      "source": [
        "#Exercício 4 pg 75\n",
        "\n",
        "try:\n",
        "  N = int(input('Digite um número inteiro: '))\n",
        "  if N < 0:\n",
        "    print('Este número é negativo')\n",
        "  else:\n",
        "    print('Esse numero é positivo')\n",
        "except:\n",
        "  print('Você deve digitar um número inteiro !!!')\n",
        "  "
      ],
      "execution_count": null,
      "outputs": [
        {
          "output_type": "stream",
          "name": "stdout",
          "text": [
            "Digite um número inteiro: 6.8\n",
            "Você deve digitar um número inteiro !!!\n"
          ]
        }
      ]
    },
    {
      "cell_type": "code",
      "metadata": {
        "colab": {
          "base_uri": "https://localhost:8080/"
        },
        "id": "CeZ0NUDvm0Vp",
        "outputId": "91e1331a-76a8-43f6-8184-0a95cc8d07f1"
      },
      "source": [
        "# Exercício 5 pg 75\n",
        "\n",
        "try :\n",
        "  N= int(input('Digite um número inteiro: '))\n",
        "  if N % 2 == 0:\n",
        "    print(N, ' é par !!!')\n",
        "  else:\n",
        "    print(N, 'é ímpar !!!')\n",
        "except:\n",
        "  print('Digite um número inteiro')\n",
        "\n",
        "\n"
      ],
      "execution_count": null,
      "outputs": [
        {
          "output_type": "stream",
          "name": "stdout",
          "text": [
            "Digite um número inteiro: h\n",
            "Digite um número inteiro\n"
          ]
        }
      ]
    },
    {
      "cell_type": "code",
      "metadata": {
        "colab": {
          "base_uri": "https://localhost:8080/"
        },
        "id": "t5xDMtXZoTY3",
        "outputId": "b29f541d-ed14-4111-ba1c-0184ab5052d1"
      },
      "source": [
        "# Exercício 6 pg 76\n",
        "\n",
        "try:\n",
        "  N = float(input('Digite o primeiro número: '))\n",
        "  M = float(input('Digite o segundo número:'))\n",
        "  if N < M :\n",
        "    print('{} é menor do que {}.'.format(N, M))\n",
        "  else: \n",
        "    print('{} é menor do que {}.'.format(M,N))\n",
        "except: \n",
        "  print('Você deve digitar um número') "
      ],
      "execution_count": null,
      "outputs": [
        {
          "output_type": "stream",
          "name": "stdout",
          "text": [
            "Digite o primeiro número: 4.1\n",
            "Digite o segundo número:4.2\n",
            "4.1 é menor do que 4.2.\n"
          ]
        }
      ]
    },
    {
      "cell_type": "code",
      "metadata": {
        "colab": {
          "base_uri": "https://localhost:8080/"
        },
        "id": "cCywlGd2qz-r",
        "outputId": "1a2a60ea-2b0c-4450-e3c3-7f4ac0f17b02"
      },
      "source": [
        "# Exercício 7 pg 76\n",
        "\n",
        "try:\n",
        "  n1 = float(input('Digite o primeiro número: '))\n",
        "  n2 = float(input('Digite o segundo número: '))\n",
        "  n3 = float(input('Digite o terceiro número: '))\n",
        "  if n1 < n2 + n3 and n2 < n1 + n3 and n3 < n1 + n2:\n",
        "    if n1 == n2 and n2 == n3:\n",
        "      print('Triângulo equilátero')\n",
        "    elif n1 == n2 or n1 == n3 or n2 == n3:\n",
        "     print('Triângulo isósceles')\n",
        "    else:\n",
        "      print('Triângulo escaleno')\n",
        "  else:\n",
        "   print('Não é um triângulo')\n",
        "except:\n",
        "  print('Digite um número !!!')"
      ],
      "execution_count": null,
      "outputs": [
        {
          "output_type": "stream",
          "name": "stdout",
          "text": [
            "Digite o primeiro número: 3\n",
            "Digite o segundo número: 5\n",
            "Digite o terceiro número: 7\n",
            "Triângulo escaleno\n"
          ]
        }
      ]
    },
    {
      "cell_type": "code",
      "metadata": {
        "id": "Q2FbpO2Aq4NE"
      },
      "source": [
        "# Exercício 8 pg 76\n",
        "\n",
        "try:\n",
        "  nome = input('Digite o nome: ')\n",
        "  peso = float(input('Digite o peso: '))\n",
        "  cat = ''\n",
        "  \n",
        "  if peso < 65 :\n",
        "    cat = 'Pena'\n",
        "  elif peso >= 65 and peso < 72:\n",
        "    cat = 'Leve'\n",
        "  elif peso >= 72 and peso < 79:\n",
        "    cat = 'Ligeiro'\n",
        "  elif peso >= 79 and peso < 86:\n",
        "    cat = 'Meio-médio'\n",
        "  elif peso >= 86 and peso < 93:\n",
        "    cat = 'Médio'\n",
        "  elif peso >= 93 and peso < 100:\n",
        "    cat = 'Meio-pesado'\n",
        "  else:\n",
        "    cat = 'pesado'\n",
        "  print('O lutador {} pesa {} e se enquadra na categoria {}.'.format(nome, peso, cat))\n",
        "except:\n",
        "  print('Peso deve ser um número e o nome letras')\n",
        "  "
      ],
      "execution_count": null,
      "outputs": []
    },
    {
      "cell_type": "code",
      "metadata": {
        "id": "A_FLUCkrtxaX"
      },
      "source": [
        "# Exercício 9 pg 76\n",
        "\n",
        "valho = float (input('Digite o valor da hora: '))\n",
        "qtho = int (input('Digite a quantidade de horas: '))\n",
        "extra = int (input('Digite a quantidade de horas extras: '))\n",
        "\n",
        "valext = valho * extra * 2\n",
        "pag = valext + (qtho * valho)\n"
      ],
      "execution_count": null,
      "outputs": []
    },
    {
      "cell_type": "code",
      "metadata": {
        "id": "kiih7WnQG0qi"
      },
      "source": [
        "# Exercício 10 pg 76\n",
        "\n",
        "n = 0\n",
        "while n < 10 :\n",
        "  n += 1\n",
        "  print (n)\n",
        "  "
      ],
      "execution_count": null,
      "outputs": []
    },
    {
      "cell_type": "code",
      "metadata": {
        "colab": {
          "base_uri": "https://localhost:8080/"
        },
        "id": "SX4kgbguH0aE",
        "outputId": "5aebb3e9-ee32-45c4-b5ca-4b2296202a0d"
      },
      "source": [
        "# Exercício 11 pg 76\n",
        "\n",
        "t = int (input('Digite um número: '))\n",
        "n = 0\n",
        "while n < 10 :\n",
        "  n += 1\n",
        "  print ('{} x {} = {}'.format (t, n, t*n))\n",
        "  "
      ],
      "execution_count": null,
      "outputs": [
        {
          "output_type": "stream",
          "name": "stdout",
          "text": [
            "Digite um número: 7\n",
            "7 x 1 = 7\n",
            "7 x 2 = 14\n",
            "7 x 3 = 21\n",
            "7 x 4 = 28\n",
            "7 x 5 = 35\n",
            "7 x 6 = 42\n",
            "7 x 7 = 49\n",
            "7 x 8 = 56\n",
            "7 x 9 = 63\n",
            "7 x 10 = 70\n"
          ]
        }
      ]
    },
    {
      "cell_type": "code",
      "metadata": {
        "id": "tQmRmHK7KgQp"
      },
      "source": [
        "# Exercício 12 pg 77\n",
        "\n",
        "n = int (input('Digite a quantidade de números a serem somados: '))\n",
        "s = float (0)\n",
        "while n > 0 :\n",
        "  r = float (input('Digite o valor: '))\n",
        "  if r > 0:\n",
        "    s = s + r\n",
        "    n -= 1\n",
        "  else:\n",
        "    n -= 1\n",
        "print('A soma deu {}'.format(s))\n",
        "  "
      ],
      "execution_count": null,
      "outputs": []
    },
    {
      "cell_type": "code",
      "metadata": {
        "id": "1wU9EBFtLAGc"
      },
      "source": [
        "# Exercício 13 pg 78\n",
        "\n",
        "n = ''\n",
        "p = int (0)\n",
        "i = int (0)\n",
        "while n != 0 :\n",
        "  n = int(input('Digite um número: '))\n",
        "  if n < 0 :\n",
        "    i = i + n\n",
        "  else:\n",
        "    p = p + n\n",
        "print('A soma dos números positivos foi {}'.format(p))\n",
        "print('A soma dos números negativos foi {}'.format(i))\n"
      ],
      "execution_count": null,
      "outputs": []
    },
    {
      "cell_type": "code",
      "metadata": {
        "id": "ynPsFYntLIq5"
      },
      "source": [
        "# Exercício 14 pag 78\n",
        "\n",
        "N = int (input('Digite a quantidade de termos da PG: '))\n",
        "R = int (input('Digite a razão: '))\n",
        "P = int (input('Digite o primeiro termo da PG: '))\n",
        "S = 0\n",
        "print(P)\n",
        "while N - 1 > 0 :\n",
        "  P = P * R\n",
        "  S = S + P\n",
        "  N -= 1\n",
        "  print(P)\n",
        "else:\n",
        "  print('A soma dos termos é {}'.format(S))\n",
        "  \n"
      ],
      "execution_count": null,
      "outputs": []
    },
    {
      "cell_type": "code",
      "metadata": {
        "id": "r9eRRHvpOsIn"
      },
      "source": [
        "# Exercício 15 pag 78\n",
        "\n",
        "min = int (input('Digite o 1o. intervalo: '))\n",
        "max = int (input('Digite o 2o. intervalo: '))\n",
        "if min > max :\n",
        "  t = max\n",
        "  max = min\n",
        "  min = t\n",
        "  print('O 1o.intervalo é maior que o 2o. intervalo, os valores foram invertidos !!!')\n",
        "c = max - min\n",
        "while c >= 0 :\n",
        "  if min % 5 == 0 :\n",
        "    print(min)\n",
        "    min += 1\n",
        "    c = c - 1\n",
        "  else:\n",
        "    min += 1\n",
        "    c -= 1\n",
        "    "
      ],
      "execution_count": null,
      "outputs": []
    },
    {
      "cell_type": "code",
      "metadata": {
        "id": "FTJtK1OCO6LY"
      },
      "source": [
        "#Exercício 16 pg 78\n",
        "\n",
        "n = int (input('Digite um número: '))\n",
        "\n",
        "while n > 0 :\n",
        "  r = float (input('Digite o 1o. termo: '))\n",
        "  t = float (input('Digite o 2o. termo: '))\n",
        "  if r < t :\n",
        "    print('{} é menor {}'.format(r, t))\n",
        "    n -=1\n",
        "  else:\n",
        "    print('{} é menor {}'.format(t, r))\n",
        "    n -= 1\n"
      ],
      "execution_count": null,
      "outputs": []
    },
    {
      "cell_type": "code",
      "metadata": {
        "id": "lrElZo0kQxP_"
      },
      "source": [
        "# Exercício 17 pg 78\n",
        "\n",
        "n = int (input('Digite um número: '))\n",
        "\n",
        "while n > 0 :\n",
        "  r = float (input('Digite o 1o. termo: '))\n",
        "  t = float (input('Digite o 2o. termo: '))\n",
        "  if r < t :\n",
        "    if r < 0:\n",
        "      n -= 1\n",
        "    else:\n",
        "      n -= 1\n",
        "      print('{} é menor que {}.'.format(r, t))\n",
        "  elif t < r :\n",
        "    if t < 0 :\n",
        "      n -= 1\n",
        "    else:\n",
        "      print('{} é menor que {}.'.format(t, r))\n",
        "      n -= 1\n",
        "  else:\n",
        "    print('Números iguais.')\n",
        "    n -= 1\n",
        "    "
      ],
      "execution_count": null,
      "outputs": []
    },
    {
      "cell_type": "code",
      "metadata": {
        "id": "nAvnsNYTQ9qn"
      },
      "source": [
        "# Exercício 18 pg 78\n",
        "\n",
        "n = int (1)\n",
        "comp = 0\n",
        "maior = int ()\n",
        "menor = int (9)\n",
        "cont = int ()\n",
        "soma = int ()\n",
        "media = float ()\n",
        "while n >= 1:\n",
        "  n = int (input('Digite um número: '))\n",
        "  cont += 1\n",
        "  soma = soma + n\n",
        "  if n <= 0 :\n",
        "    print('fim')\n",
        "  elif n > maior :\n",
        "    maior = n\n",
        "    if n < menor :\n",
        "      menor = n\n",
        "if cont > 0:\n",
        "  cont -= 1\n",
        "  media = soma / cont \n",
        "  print('Maior número {}, menor número {}, quantidade de valores {}, soma foi de {} e média {}'.format(maior, menor, cont, soma, media))\n",
        "\n"
      ],
      "execution_count": null,
      "outputs": []
    },
    {
      "cell_type": "code",
      "metadata": {
        "id": "ZdKhJwM-STYI"
      },
      "source": [
        "# Exercício 19 pg 78\n",
        "\n",
        "n = int (1)\n",
        "while n != 0 :\n",
        "  n = int (input('Digite um número:'))\n",
        "  if n == 0 :\n",
        "    print('fim')\n",
        "  elif n % 2 == 0 and n % 3 == 0:\n",
        "    print('{} é divisível por 2 e por 3'.format(n))\n",
        "  elif n % 3 == 0 :\n",
        "    print('{} é divisível por 3'.format(n))\n",
        "  elif n % 2 == 0 :\n",
        "    print('{} é divisível por 2'.format(n))\n",
        "    \n",
        "    "
      ],
      "execution_count": null,
      "outputs": []
    },
    {
      "cell_type": "code",
      "metadata": {
        "id": "EWygYn9tSoIY"
      },
      "source": [
        "# Exercício 20 pag 78\n",
        "\n",
        "n = (int (input('Digite um número maior que 100: ')))\n",
        "soma = 0\n",
        "while n < 100:\n",
        "  n = (int (input('Digite um número maior que 100: ')))\n",
        "while n > 0 :\n",
        "  if n % 2 != 0 :\n",
        "    n -= 1\n",
        "  elif n % 2 == 0 :\n",
        "    print(n)\n",
        "    soma = soma + n\n",
        "    n -= 1\n",
        "print(soma)\n",
        "print('fim')\n",
        "\n"
      ],
      "execution_count": null,
      "outputs": []
    },
    {
      "cell_type": "code",
      "metadata": {
        "id": "AsGtJc5iS38y"
      },
      "source": [
        "# Exercício 21 pag 78\n",
        "\n"
      ],
      "execution_count": null,
      "outputs": []
    },
    {
      "cell_type": "code",
      "metadata": {
        "id": "apyj75gGMc0t"
      },
      "source": [
        "#Capítulo 4 \n",
        "# Exercício 1 pg 116\n",
        "\n",
        "x = []\n",
        "cont = 10\n",
        "while cont > 0:\n",
        "  a = input('Digite algo :')\n",
        "  x.append(a)\n",
        "  cont -= 1\n",
        "print(x)\n",
        "x.reverse()\n",
        "print(x)"
      ],
      "execution_count": null,
      "outputs": []
    },
    {
      "cell_type": "code",
      "metadata": {
        "id": "pCya60uRbnjk"
      },
      "source": [
        "# Exercício 2 pg 116\n",
        "\n",
        "x =[]\n",
        "y =[]\n",
        "cont = 2\n",
        "for a in range(10):\n",
        "  l = input('Digite algo: ')\n",
        "  x.append(l)\n",
        "  \n",
        "for a in range(10):\n",
        "  l = input('Digite algo: ')\n",
        "  y.append(l)\n",
        "\n",
        "print(x)\n",
        "print(y)\n",
        "\n",
        "w = y + x\n",
        "print(w)\n"
      ],
      "execution_count": null,
      "outputs": []
    },
    {
      "cell_type": "code",
      "metadata": {
        "colab": {
          "base_uri": "https://localhost:8080/"
        },
        "id": "TCrzFrN_fzfu",
        "outputId": "1a06605b-6091-4ca1-cebb-55cc1fa8d344"
      },
      "source": [
        "# Exercício 3 pg 116\n",
        "from random import randint\n",
        "\n",
        "a = []\n",
        "b = []\n",
        "\n",
        "for x in range(5):\n",
        "  x = randint(0, 100)\n",
        "  a.append(x)\n",
        "for x in range(7):\n",
        "  x = randint(0, 100)\n",
        "  b.append(x)\n",
        "\n",
        "c = a + b\n",
        "\n",
        "print('A lista a possui {} elementos {}.'.format(len(a), a))\n",
        "print('A lista b possui {} elementos{}.'.format(len(b), b))\n",
        "print('A soma das listas a e b resulta em outra lista c = {} com {} elementos.'.format(c, len(c)))\n",
        "\n"
      ],
      "execution_count": null,
      "outputs": [
        {
          "output_type": "stream",
          "name": "stdout",
          "text": [
            "A lista a possui 5 elementos [45, 62, 42, 9, 77].\n",
            "A lista b possui 7 elementos[28, 74, 78, 88, 92, 98, 52].\n",
            "A soma das listas a e b resulta em outra lista c = [45, 62, 42, 9, 77, 28, 74, 78, 88, 92, 98, 52] com 12 elementos.\n"
          ]
        }
      ]
    },
    {
      "cell_type": "code",
      "metadata": {
        "id": "OVmyMLW6nqT1"
      },
      "source": [
        "#Exercício 4 pg 116\n",
        "a = []\n",
        "c = 0\n",
        "while c != ' ':\n",
        "  print('Tecle espaço para sair ou')\n",
        "  c = input('Digite um nú mero: ')\n",
        "  if c == ' ':\n",
        "    print('sair')\n",
        "  else:\n",
        "    b = int(c)\n",
        "    \n",
        "    if b in a:\n",
        "      print('Você digitou um número repetido !!!')\n",
        "    else:\n",
        "      a.append(b)\n",
        "print(a)"
      ],
      "execution_count": null,
      "outputs": []
    },
    {
      "cell_type": "code",
      "metadata": {
        "id": "HkjDhOS4tRd-"
      },
      "source": [
        "#exercício 6 pg 116\n",
        "\n",
        "pt = int(input('Digite o primeiro termo: '))\n",
        "rz = int(input('Digite a razão: '))\n",
        "qt = int(input('Digite a quantidade de termos: '))\n",
        "pa = []\n",
        "for x in range(qt):\n",
        "  pa.append(pt)\n",
        "  pt = pt + rz\n",
        "  \n",
        "print(pa)\n"
      ],
      "execution_count": null,
      "outputs": []
    },
    {
      "cell_type": "code",
      "metadata": {
        "id": "m1B-sAZ9E142",
        "colab": {
          "base_uri": "https://localhost:8080/"
        },
        "outputId": "01a9191e-95d0-412e-bdb5-4fa72fe914fe"
      },
      "source": [
        "# Exercício 7 pg 117\n",
        "\n",
        "from random import randint\n",
        "A = []\n",
        "N = 0\n",
        "POS = []\n",
        "NEG = []\n",
        "while N < 50:\n",
        "  N = int(input('Digite um número entre 0 e 50: '))\n",
        "  if N < 50:\n",
        "    for x in range(N):\n",
        "      AA = randint(-50, 50)\n",
        "      A.append(AA)\n",
        "      N = 51\n",
        "  else:\n",
        "    print('Digite um número dentro do intervalo solicitado: ')\n",
        "    N = 0gi\n",
        "\n",
        "cont1 = 0\n",
        "cont2 = 0\n",
        "\n",
        "for x in A:\n",
        "  if x > 0:\n",
        "    POS.append(x)\n",
        "    cont1 += 1\n",
        "  else:\n",
        "    NEG.append(x)\n",
        "    cont2 += 1\n",
        "print(A)\n",
        "print(NEG)\n",
        "print(POS)"
      ],
      "execution_count": null,
      "outputs": [
        {
          "output_type": "stream",
          "name": "stdout",
          "text": [
            "Digite um número entre 0 e 50: 7\n",
            "[-3, -44, 5, 9, -20, 9, -50]\n",
            "[-3, -44, -20, -50]\n",
            "[5, 9, 9]\n"
          ]
        }
      ]
    },
    {
      "cell_type": "code",
      "metadata": {
        "id": "xwgDLHhO4Kem"
      },
      "source": [
        "# Exercicio 8 pg 117\n",
        "from random import randint\n",
        "\n",
        "N = int(input('Digite um número entre 0 e 50: '))\n",
        "V = []\n",
        "while N > 0:\n",
        "  V.append(randint(0, 100))\n",
        "  N -= 1\n",
        "print(V) \n",
        "while X > 0:\n",
        "  if X in V:\n",
        "    V.remove(X)\n",
        "  X -= 1\n",
        "print(V)"
      ],
      "execution_count": null,
      "outputs": []
    },
    {
      "cell_type": "code",
      "metadata": {
        "colab": {
          "base_uri": "https://localhost:8080/"
        },
        "id": "0VNYMz9yorPf",
        "outputId": "7a639b23-4d5f-4a71-8bc5-aeef8d1dd65e"
      },
      "source": [
        "# Exercício 9 pg 117\n",
        "Min = int(input('Digite um número mínimo: '))\n",
        "Max = int(input('Digite um número máximo:'))\n",
        "L = []\n",
        "\n",
        "while Max < Min:\n",
        "  Max = int(input('Digite um número máximo maior que o mínimo: '))\n",
        "for x in range(Min, Max):\n",
        "  if x % 7 == 0:\n",
        "    L.append(x)\n",
        "print(L)\n"
      ],
      "execution_count": null,
      "outputs": [
        {
          "output_type": "stream",
          "name": "stdout",
          "text": [
            "Digite um número mínimo: 2\n",
            "Digite um número máximo:100\n",
            "[7, 14, 21, 28, 35, 42, 49, 56, 63, 70, 77, 84, 91, 98]\n",
            "100 2\n"
          ]
        }
      ]
    },
    {
      "cell_type": "code",
      "metadata": {
        "id": "MiFDOFSDrm9B"
      },
      "source": [
        "# Exercício 10 \n",
        "L = []\n",
        "L2 = []\n",
        "N = int(input('Quantos elementos quer adicionar a lista: '))\n",
        "while N > 0:\n",
        "  a = (input('Digite um elemento: '))\n",
        "  if a not in L:\n",
        "    L.append(a)\n",
        "  else:\n",
        "    L2.append(a)\n",
        "  N -= 1\n",
        "  \n",
        "print(L)\n",
        "print(L2)\n",
        "\n",
        "\n"
      ],
      "execution_count": null,
      "outputs": []
    },
    {
      "cell_type": "code",
      "metadata": {
        "id": "1jt1HMe3wbuh"
      },
      "source": [
        "# Exercício 11 pg 117\n",
        "\n",
        "from random import randint\n",
        "n = int(input('Digite um número acima de 5000: '))\n",
        "l = []\n",
        "for x in range(0, n):\n",
        "  l.append(randint(0, n))\n",
        "print(l)\n",
        "while True:\n",
        "  p = int(input('Que número quer pesquisar? : '))\n",
        "  if p == 0:\n",
        "    break\n",
        "  else:\n",
        "    print(l.index(p))\n",
        "      \n",
        "    \n",
        "\n",
        "\n"
      ],
      "execution_count": null,
      "outputs": []
    },
    {
      "cell_type": "code",
      "metadata": {
        "colab": {
          "base_uri": "https://localhost:8080/"
        },
        "id": "QX5UBV0HZ5A6",
        "outputId": "b287f60d-733f-4fa5-b44e-87b1a3d913a7"
      },
      "source": [
        "#Exercício 12 e 13 pg 117\n",
        "\n",
        "l = [0] * 2\n",
        "m = [l] * 2\n",
        "mm = m + m\n",
        "print(mm)\n"
      ],
      "execution_count": null,
      "outputs": [
        {
          "output_type": "stream",
          "name": "stdout",
          "text": [
            "[[0, 0], [0, 0], [0, 0], [0, 0]]\n"
          ]
        }
      ]
    },
    {
      "cell_type": "code",
      "metadata": {
        "id": "2LdaNqVQqwsP"
      },
      "source": [
        "#Exercício 14 pg 117\n"
      ],
      "execution_count": null,
      "outputs": []
    },
    {
      "cell_type": "code",
      "metadata": {
        "id": "JeUmIjlXq3U1"
      },
      "source": [
        "# Capítulo 5"
      ],
      "execution_count": null,
      "outputs": []
    },
    {
      "cell_type": "code",
      "source": [
        "# pag 139 Exercício 1"
      ],
      "metadata": {
        "id": "4YnOPQsILFCx"
      },
      "execution_count": null,
      "outputs": []
    },
    {
      "cell_type": "code",
      "source": [
        "def ParImpar(I):\n",
        "  if I % 2 == 0:\n",
        "    print('PAR')\n",
        "  else:\n",
        "    print('Ímpar')\n",
        "\n",
        "N = int(input('Digite um valor: '))\n",
        "ParImpar(N)"
      ],
      "metadata": {
        "colab": {
          "base_uri": "https://localhost:8080/"
        },
        "id": "KQ1qN9IgLONs",
        "outputId": "a2b00635-a244-4277-8e2c-2f4a9eaf50f2"
      },
      "execution_count": null,
      "outputs": [
        {
          "output_type": "stream",
          "name": "stdout",
          "text": [
            "Digite um valor: 7\n",
            "Ímpar\n"
          ]
        }
      ]
    },
    {
      "cell_type": "code",
      "source": [
        "# pag 139 Exercício 2\n",
        "\n",
        "def EPrimo(P):\n",
        "  if P <= 1:\n",
        "    return 'Erro'\n",
        "  elif P == 2:\n",
        "    return 1\n",
        "  elif P % 2 == 0:\n",
        "    return 0\n",
        "  else:\n",
        "    raiz = P ** 0.5\n",
        "    R = 1\n",
        "    i = 3\n",
        "    while i <= raiz and R != 0:\n",
        "      R = P % i\n",
        "      i += 2\n",
        "      return R\n",
        "        \n",
        "print(EPrimo(11))"
      ],
      "metadata": {
        "id": "ThmMuwJjMTX0",
        "colab": {
          "base_uri": "https://localhost:8080/"
        },
        "outputId": "3a1fbf80-2ec9-4039-ea88-4d7db2e43821"
      },
      "execution_count": null,
      "outputs": [
        {
          "output_type": "stream",
          "name": "stdout",
          "text": [
            "2\n"
          ]
        }
      ]
    },
    {
      "cell_type": "code",
      "source": [
        "# pag 139 Exercício 3\n",
        "\n",
        "def Dividir(a, b):\n",
        "  if a % b == 0:\n",
        "    return 1\n",
        "  else:\n",
        "    return 0\n",
        "\n",
        "Dividir(10, 5)\n",
        "\n",
        "\n"
      ],
      "metadata": {
        "colab": {
          "base_uri": "https://localhost:8080/"
        },
        "id": "NohuIWxTtliN",
        "outputId": "367d5b62-7808-4fee-c3a4-169cf621e262"
      },
      "execution_count": null,
      "outputs": [
        {
          "output_type": "execute_result",
          "data": {
            "text/plain": [
              "1"
            ]
          },
          "metadata": {},
          "execution_count": 14
        }
      ]
    },
    {
      "cell_type": "code",
      "source": [
        "# pag 139 Exercício 4\n",
        "\n",
        "def Bin(a):\n",
        "  bin = str()\n",
        "  v = a\n",
        "  while v > 0:\n",
        "    b = v % 2\n",
        "    bin = bin + str(b)\n",
        "    v = v // 2\n",
        "  return bin [::-1]\n",
        "    \n",
        "    \n",
        "Bin(57)\n",
        "  \n"
      ],
      "metadata": {
        "id": "qks5vYM9c0IH"
      },
      "execution_count": null,
      "outputs": []
    },
    {
      "cell_type": "code",
      "source": [
        "# pag 139 Exercício 5\n",
        "\n",
        "def Cont(lista, valor):\n",
        "  return lista.count(valor)\n",
        "\n",
        "Cont([1, 2, 1, 5, 6, 1, 1], 3)\n"
      ],
      "metadata": {
        "colab": {
          "base_uri": "https://localhost:8080/"
        },
        "id": "NkwO0K0DIZio",
        "outputId": "c807fba3-5228-40b2-d1c6-a8faedc25922"
      },
      "execution_count": null,
      "outputs": [
        {
          "output_type": "execute_result",
          "data": {
            "text/plain": [
              "0"
            ]
          },
          "metadata": {},
          "execution_count": 18
        }
      ]
    },
    {
      "cell_type": "code",
      "source": [
        "# pag 139 Exercício 6\n",
        "\n",
        "def Dverif(n):\n",
        "  cont = 2\n",
        "  tot = 0\n",
        "  for num in n:\n",
        "    tot = tot + int(num) * cont \n",
        "    cont +=1\n",
        "  tot = tot % 7\n",
        "  return tot\n",
        "\n",
        "n = str(input('Digite um número entre 10000, 30000: '))\n",
        "Dverif(n)"
      ],
      "metadata": {
        "colab": {
          "base_uri": "https://localhost:8080/"
        },
        "id": "fczeaVW8KYKt",
        "outputId": "713377bd-1610-4909-baaa-09b60662c887"
      },
      "execution_count": null,
      "outputs": [
        {
          "name": "stdout",
          "output_type": "stream",
          "text": [
            "Digite um número entre 10000, 30000: 10000\n"
          ]
        },
        {
          "output_type": "execute_result",
          "data": {
            "text/plain": [
              "2"
            ]
          },
          "metadata": {},
          "execution_count": 20
        }
      ]
    },
    {
      "cell_type": "code",
      "source": [
        "# pag 139 Exercício 7\n",
        "\n",
        "def Maxmin():\n",
        "  Min = float(input('Digite um valor mínimo: '))\n",
        "  Max = float(input('Digite um valor máximo: '))\n",
        "  while True:\n",
        "    num = float(input('Digite um valor: '))\n",
        "    if Min <= num and Max >= num:\n",
        "      return num\n",
        "    else: \n",
        "      print('Erro !!!')\n",
        "   \n",
        "Maxmin()\n"
      ],
      "metadata": {
        "colab": {
          "base_uri": "https://localhost:8080/"
        },
        "id": "hBxXajGFtH58",
        "outputId": "0bac8f69-f52b-4b59-a4dc-41050b0469e3"
      },
      "execution_count": null,
      "outputs": [
        {
          "name": "stdout",
          "output_type": "stream",
          "text": [
            "Digite um valor mínimo: 2\n",
            "Digite um valor máximo: 6\n",
            "Digite um valor: 2\n"
          ]
        },
        {
          "output_type": "execute_result",
          "data": {
            "text/plain": [
              "2.0"
            ]
          },
          "metadata": {},
          "execution_count": 27
        }
      ]
    },
    {
      "cell_type": "code",
      "source": [
        "# pag 139 Exercício 8\n",
        "\n",
        "def Lista(lst):\n",
        "  som = float()\n",
        "  min = float()\n",
        "  max = float()\n",
        "  med = float()\n",
        "  for s in lst:\n",
        "    som = som + s\n",
        "    if min == False and max == False:\n",
        "      min = s \n",
        "      max = s \n",
        "    else:\n",
        "      if s < min:\n",
        "        min = s \n",
        "      elif s > max:\n",
        "        max = s\n",
        "  med = som / len(lst)  \n",
        "  res = (som, min, max, med)\n",
        "  return res\n",
        "l = [5, 5, 5, 5, 5]\n",
        "Lista(l)\n",
        "\n",
        "\n",
        "\n",
        "  \n"
      ],
      "metadata": {
        "colab": {
          "base_uri": "https://localhost:8080/"
        },
        "id": "7ecuYT5bxx-J",
        "outputId": "2b07e69e-6142-40fa-9988-0914b4e35ea9"
      },
      "execution_count": null,
      "outputs": [
        {
          "output_type": "execute_result",
          "data": {
            "text/plain": [
              "(25.0, 5, 5, 5.0)"
            ]
          },
          "metadata": {},
          "execution_count": 35
        }
      ]
    },
    {
      "cell_type": "code",
      "source": [
        "# pag 140 Exercício 9\n",
        "\n",
        "def Remlst(a):\n",
        "  rlst = list()\n",
        "  for e in a:\n",
        "    if e not in rlst:\n",
        "      rlst.append(e)\n",
        "  return rlst \n",
        "\n",
        "lst = list()\n",
        "resp = str()\n",
        "while True:\n",
        "  lst.append(input('Digite um valor para lista: '))\n",
        "  resp = input('Quer continuar ? [S/N]: ').upper()\n",
        "  if resp == 'N':\n",
        "    break\n",
        "\n",
        "Remlst(lst)\n",
        "\n"
      ],
      "metadata": {
        "colab": {
          "base_uri": "https://localhost:8080/"
        },
        "id": "hFn3rZFg3Nt7",
        "outputId": "000b718b-a108-433e-d303-8fad859b0688"
      },
      "execution_count": null,
      "outputs": [
        {
          "name": "stdout",
          "output_type": "stream",
          "text": [
            "Digite um valor para lista: 2\n",
            "Quer continuar ? [S/N]: s\n",
            "Digite um valor para lista: 4\n",
            "Quer continuar ? [S/N]: s\n",
            "Digite um valor para lista: 2\n",
            "Quer continuar ? [S/N]: s\n",
            "Digite um valor para lista: 7\n",
            "Quer continuar ? [S/N]: n\n"
          ]
        },
        {
          "output_type": "execute_result",
          "data": {
            "text/plain": [
              "['2', '4', '7']"
            ]
          },
          "metadata": {},
          "execution_count": 40
        }
      ]
    },
    {
      "cell_type": "code",
      "source": [
        "# pag 140 Exercício 10\n",
        "\n",
        "def Listas(l1, l2):\n",
        "  lista = list()\n",
        "  for e in l1:\n",
        "    if e not in l2:\n",
        "      lista.append(e)\n",
        "  return f'A primeira lista foi essa {l1}, a segunda lista foi essa {l2} e a lista com os elementos que estão somente na lista 1 é {lista}'\n",
        "\n",
        "a = [1, 2, 3, 4]\n",
        "b = [2, 3,  4]\n",
        "\n",
        "Listas(a, b)"
      ],
      "metadata": {
        "colab": {
          "base_uri": "https://localhost:8080/",
          "height": 35
        },
        "id": "0pPprygnQT-9",
        "outputId": "2decbe62-d68a-47ae-b5f2-fa5c9e176000"
      },
      "execution_count": null,
      "outputs": [
        {
          "output_type": "execute_result",
          "data": {
            "application/vnd.google.colaboratory.intrinsic+json": {
              "type": "string"
            },
            "text/plain": [
              "'A primeira lista foi essa [1, 2, 3, 4], a segunda lista foi essa [2, 3, 4] e a lista com oselementos que está somente na lista 1 é [1]'"
            ]
          },
          "metadata": {},
          "execution_count": 45
        }
      ]
    },
    {
      "cell_type": "code",
      "source": [
        "# pag 140 Exercício 11\n",
        "from random import randint\n",
        "\n",
        "def bubble_sort(Lista):\n",
        "  elementos = len(Lista) - 1\n",
        "  ordenado = False\n",
        "  while not ordenado:\n",
        "    ordenado = True\n",
        "    for i in range(elementos):\n",
        "      if Lista[i] > Lista [i+1]:\n",
        "        Lista[i], Lista[i+1] = Lista[i+1], Lista[i]\n",
        "        ordenado = False\n",
        "    print(Lista)\n",
        "  return Lista\n",
        "\n",
        "def Rbubble_sort(Lista):\n",
        "  elementos = len(Lista) - 1\n",
        "  ordenado = False\n",
        "  while not ordenado:\n",
        "    ordenado = True\n",
        "    for i in range(elementos):\n",
        "      if Lista[i] > Lista [i+1]:\n",
        "        Lista[i], Lista[i+1] = Lista[i+1], Lista[i]\n",
        "        ordenado = False\n",
        "  Lista.reverse()\n",
        "  return Lista\n",
        "\n",
        "l = list()\n",
        "elem = int(input('Quantos elementos você deseja em sua lista? : '))\n",
        "for i in range(elem):\n",
        "  n = randint(0, 100)\n",
        "  l.append(n)\n",
        "\n",
        "  \n",
        "bubble_sort(l)\n",
        "Rbubble_sort(l)\n"
      ],
      "metadata": {
        "colab": {
          "base_uri": "https://localhost:8080/"
        },
        "id": "xeN-2RpaRQg0",
        "outputId": "e2cf76ae-4607-40ab-8b33-ef5053e443aa"
      },
      "execution_count": null,
      "outputs": [
        {
          "output_type": "stream",
          "name": "stdout",
          "text": [
            "Quantos elementos você deseja em sua lista? : 12\n",
            "[61, 47, 96, 20, 81, 84, 63, 61, 30, 70, 78, 97]\n",
            "[47, 61, 20, 81, 84, 63, 61, 30, 70, 78, 96, 97]\n",
            "[47, 20, 61, 81, 63, 61, 30, 70, 78, 84, 96, 97]\n",
            "[20, 47, 61, 63, 61, 30, 70, 78, 81, 84, 96, 97]\n",
            "[20, 47, 61, 61, 30, 63, 70, 78, 81, 84, 96, 97]\n",
            "[20, 47, 61, 30, 61, 63, 70, 78, 81, 84, 96, 97]\n",
            "[20, 47, 30, 61, 61, 63, 70, 78, 81, 84, 96, 97]\n",
            "[20, 30, 47, 61, 61, 63, 70, 78, 81, 84, 96, 97]\n",
            "[20, 30, 47, 61, 61, 63, 70, 78, 81, 84, 96, 97]\n"
          ]
        },
        {
          "output_type": "execute_result",
          "data": {
            "text/plain": [
              "[97, 96, 84, 81, 78, 70, 63, 61, 61, 47, 30, 20]"
            ]
          },
          "metadata": {},
          "execution_count": 15
        }
      ]
    },
    {
      "cell_type": "code",
      "source": [
        "# pag 140 Exercício 12\n",
        "\n",
        "def Fibonacci(n):\n",
        "  if n > 1:\n",
        "    return Fibonacci(n - 1) + Fibonacci(n - 2)\n",
        "  return n \n",
        "\n",
        "n = int(input('Quantos termos da sequência de Fibonacci deseja? : '))\n",
        "for i in range(n):\n",
        "  print(Fibonacci(i))"
      ],
      "metadata": {
        "id": "brt425gWDoMt"
      },
      "execution_count": null,
      "outputs": []
    },
    {
      "cell_type": "code",
      "source": [
        "# pag 140 Exercício 13\n",
        "\n",
        "def multiplicar(lista, n):\n",
        "    if n == 1:\n",
        "        return lista[0]\n",
        "    else:\n",
        "        return lista[n - 1] * multiplicar(lista, n - 1)\n",
        "\n",
        "lista = [1, 2, 3, 4, 5]\n",
        "produto = multiplicar(lista, len(lista))\n",
        "print(f\"O produto é {produto}\")\n",
        "\n",
        "\n"
      ],
      "metadata": {
        "colab": {
          "base_uri": "https://localhost:8080/"
        },
        "id": "DYu-QXYuKfMr",
        "outputId": "36bac3b4-7b33-44dd-c1a5-652c47c74a30"
      },
      "execution_count": null,
      "outputs": [
        {
          "output_type": "stream",
          "name": "stdout",
          "text": [
            "O produto é 120\n"
          ]
        }
      ]
    },
    {
      "cell_type": "code",
      "source": [
        "# pag 140 Exercício 14\n",
        "\n",
        "def partition(array, start, end):\n",
        "    pivot = array[start]\n",
        "    low = start + 1\n",
        "    high = end\n",
        "\n",
        "    while True:\n",
        "        while low <= high and array[high] >= pivot:\n",
        "            high = high - 1\n",
        "\n",
        "        while low <= high and array[low] <= pivot:\n",
        "            low = low + 1\n",
        "\n",
        "        if low <= high:\n",
        "            array[low], array[high] = array[high], array[low]\n",
        "        else:\n",
        "          break\n",
        "\n",
        "    array[start], array[high] = array[high], array[start]\n",
        "\n",
        "    return high\n",
        "\n",
        "def quick_sort(array, start, end):\n",
        "    if start >= end:\n",
        "        return\n",
        "\n",
        "    p = partition(array, start, end)\n",
        "    quick_sort(array, start, p-1)\n",
        "    quick_sort(array, p+1, end)\n",
        "\n",
        "array = [29,99,27,41,66,28,44,78,87,19,31,76,58,88,83,97,12,21,44]\n",
        "\n",
        "quick_sort(array, 0, len(array) - 1)\n",
        "print(array)\n"
      ],
      "metadata": {
        "colab": {
          "base_uri": "https://localhost:8080/"
        },
        "id": "mpy68X_P_SFB",
        "outputId": "32f93e57-b01a-4b7d-f64e-d02a85fbb314"
      },
      "execution_count": null,
      "outputs": [
        {
          "output_type": "stream",
          "name": "stdout",
          "text": [
            "[12, 19, 21, 27, 28, 29, 31, 41, 44, 44, 58, 66, 76, 78, 83, 87, 88, 97, 99]\n"
          ]
        }
      ]
    },
    {
      "cell_type": "code",
      "source": [
        "# pag 141 Exercício 15 - A\n",
        "from random import randint\n",
        "\n",
        "def bubble_sort(Lista):\n",
        "  elementos = len(Lista) - 1\n",
        "  ordenado = False\n",
        "  while not ordenado:\n",
        "    ordenado = True\n",
        "    for i in range(elementos):\n",
        "      if Lista[i] > Lista [i+1]:\n",
        "        Lista[i], Lista[i+1] = Lista[i+1], Lista[i]\n",
        "        ordenado = False\n",
        "    print(Lista)\n",
        "  return Lista\n",
        "\n",
        "\n",
        "def partition(array, start, end):\n",
        "    pivot = array[start]\n",
        "    low = start + 1\n",
        "    high = end\n",
        "\n",
        "    while True:\n",
        "        while low <= high and array[high] >= pivot:\n",
        "            high = high - 1\n",
        "\n",
        "        while low <= high and array[low] <= pivot:\n",
        "            low = low + 1\n",
        "\n",
        "        if low <= high:\n",
        "            array[low], array[high] = array[high], array[low]\n",
        "        else:\n",
        "          break\n",
        "\n",
        "    array[start], array[high] = array[high], array[start]\n",
        "\n",
        "    return high\n",
        "\n",
        "def quick_sort(array, start, end):\n",
        "    if start >= end:\n",
        "        return\n",
        "\n",
        "    p = partition(array, start, end)\n",
        "    quick_sort(array, start, p-1)\n",
        "    quick_sort(array, p+1, end)\n",
        "\n",
        "l = list()\n",
        "n =int()\n",
        "elem = int(input('Quantos elementos você deseja em sua lista? : '))\n",
        "for i in range(elem):\n",
        "  n = randint(0, 10000)\n",
        "  l.append(n)\n",
        "\n",
        "bubble_sort(l)\n",
        "\n"
      ],
      "metadata": {
        "id": "C-VJX1HgAogQ"
      },
      "execution_count": null,
      "outputs": []
    },
    {
      "cell_type": "code",
      "source": [
        "# pag 141 Exercício 15 - B - Muito mais rápido\n",
        "\n",
        "def partition(array, start, end):\n",
        "    pivot = array[start]\n",
        "    low = start + 1\n",
        "    high = end\n",
        "\n",
        "    while True:\n",
        "        while low <= high and array[high] >= pivot:\n",
        "            high = high - 1\n",
        "\n",
        "        while low <= high and array[low] <= pivot:\n",
        "            low = low + 1\n",
        "\n",
        "        if low <= high:\n",
        "            array[low], array[high] = array[high], array[low]\n",
        "        else:\n",
        "          break\n",
        "\n",
        "    array[start], array[high] = array[high], array[start]\n",
        "\n",
        "    return high\n",
        "\n",
        "def quick_sort(array, start, end):\n",
        "    if start >= end:\n",
        "        return\n",
        "\n",
        "    p = partition(array, start, end)\n",
        "    quick_sort(array, start, p-1)\n",
        "    quick_sort(array, p+1, end)\n",
        "    \n",
        "\n",
        "array = list()\n",
        "n =int()\n",
        "elem = int(input('Quantos elementos você deseja em sua lista? : '))\n",
        "for i in range(elem):\n",
        "  n = randint(0, 10000)\n",
        "  array.append(n)\n",
        "\n",
        "quick_sort(array, 0, len(array) - 1)\n",
        "print(array)"
      ],
      "metadata": {
        "colab": {
          "base_uri": "https://localhost:8080/"
        },
        "id": "zC9hi4soD_5M",
        "outputId": "d868693d-ac50-4741-fa1e-a9c0fe789c3d"
      },
      "execution_count": null,
      "outputs": [
        {
          "output_type": "stream",
          "name": "stdout",
          "text": [
            "Quantos elementos você deseja em sua lista? : 10000\n",
            "[4, 4, 6, 6, 8, 8, 10, 10, 12, 12, 12, 15, 16, 16, 17, 18, 18, 19, 19, 20, 23, 23, 25, 28, 29, 30, 31, 31, 31, 31, 31, 34, 35, 36, 37, 38, 40, 42, 42, 42, 43, 43, 44, 45, 45, 45, 49, 49, 50, 50, 51, 52, 53, 53, 55, 55, 56, 57, 59, 59, 60, 62, 62, 63, 63, 65, 65, 70, 73, 73, 77, 77, 80, 80, 80, 81, 83, 83, 83, 85, 85, 85, 85, 85, 86, 86, 87, 88, 88, 89, 90, 91, 91, 92, 93, 94, 94, 95, 96, 99, 101, 103, 103, 104, 104, 104, 104, 106, 107, 107, 108, 111, 112, 113, 114, 115, 116, 117, 118, 119, 119, 121, 121, 124, 124, 126, 127, 128, 129, 131, 131, 132, 132, 132, 132, 134, 134, 134, 135, 136, 137, 140, 143, 143, 143, 143, 144, 145, 146, 148, 151, 151, 153, 153, 156, 156, 157, 158, 159, 159, 160, 160, 161, 162, 164, 164, 165, 165, 167, 167, 167, 167, 168, 169, 170, 171, 171, 172, 173, 174, 175, 175, 175, 179, 184, 184, 185, 186, 186, 188, 188, 191, 192, 192, 193, 193, 194, 194, 195, 195, 196, 197, 198, 200, 201, 201, 202, 202, 202, 202, 203, 203, 204, 205, 206, 206, 209, 209, 210, 212, 213, 219, 219, 220, 220, 221, 221, 224, 224, 225, 225, 228, 229, 229, 229, 229, 229, 230, 230, 230, 230, 232, 232, 232, 233, 233, 236, 238, 239, 241, 243, 243, 244, 245, 252, 253, 254, 254, 254, 255, 256, 256, 257, 257, 257, 257, 257, 259, 260, 261, 261, 262, 262, 263, 264, 266, 267, 267, 268, 274, 276, 277, 280, 281, 281, 283, 284, 284, 284, 284, 284, 285, 287, 288, 288, 289, 291, 293, 293, 301, 303, 305, 306, 306, 307, 308, 311, 312, 312, 312, 313, 313, 314, 314, 315, 317, 317, 317, 317, 318, 318, 321, 321, 321, 323, 324, 324, 326, 326, 329, 331, 331, 331, 331, 334, 334, 335, 336, 337, 337, 337, 339, 341, 342, 342, 344, 346, 346, 348, 348, 350, 350, 351, 352, 353, 358, 359, 360, 361, 362, 365, 367, 367, 369, 370, 371, 371, 371, 371, 374, 374, 376, 376, 377, 377, 378, 379, 379, 380, 381, 381, 382, 383, 383, 384, 384, 384, 384, 387, 388, 388, 389, 390, 392, 392, 393, 394, 395, 396, 396, 397, 399, 401, 402, 403, 405, 405, 406, 407, 409, 409, 410, 411, 413, 413, 415, 415, 417, 417, 419, 420, 422, 424, 426, 427, 428, 428, 429, 430, 430, 431, 431, 432, 434, 434, 434, 434, 435, 436, 438, 439, 439, 439, 440, 442, 442, 442, 445, 446, 447, 447, 447, 448, 451, 455, 457, 460, 464, 467, 468, 468, 468, 470, 471, 472, 472, 475, 475, 475, 476, 476, 476, 477, 478, 479, 479, 481, 482, 484, 485, 485, 488, 489, 491, 492, 493, 493, 494, 494, 494, 496, 497, 497, 499, 500, 500, 500, 501, 501, 502, 503, 504, 506, 507, 513, 513, 513, 515, 516, 517, 518, 518, 519, 519, 521, 522, 523, 524, 525, 525, 527, 532, 532, 533, 533, 535, 539, 539, 542, 542, 543, 543, 544, 544, 544, 545, 545, 545, 545, 545, 546, 548, 549, 554, 555, 555, 557, 557, 558, 559, 559, 559, 560, 560, 561, 563, 563, 565, 566, 567, 569, 569, 570, 572, 572, 573, 574, 575, 577, 578, 581, 584, 584, 587, 587, 588, 589, 589, 591, 591, 592, 593, 593, 593, 593, 594, 595, 596, 596, 597, 597, 598, 600, 600, 600, 602, 605, 605, 605, 605, 607, 610, 610, 610, 611, 611, 613, 616, 617, 621, 622, 622, 623, 624, 624, 624, 625, 630, 632, 634, 634, 635, 635, 635, 635, 636, 636, 638, 638, 638, 639, 639, 640, 641, 641, 641, 644, 645, 645, 647, 649, 652, 653, 654, 655, 655, 655, 657, 657, 657, 658, 659, 659, 660, 660, 661, 662, 662, 663, 663, 664, 664, 665, 665, 667, 667, 670, 671, 672, 675, 676, 676, 680, 680, 682, 683, 684, 684, 684, 685, 686, 686, 692, 692, 694, 695, 696, 697, 697, 698, 698, 702, 704, 704, 706, 706, 706, 706, 707, 707, 710, 711, 711, 712, 712, 713, 715, 715, 715, 719, 719, 719, 721, 722, 723, 727, 730, 730, 732, 733, 738, 738, 738, 739, 741, 741, 741, 744, 744, 745, 745, 746, 746, 746, 747, 748, 751, 752, 753, 754, 755, 756, 757, 757, 758, 759, 759, 760, 760, 764, 764, 765, 766, 766, 770, 770, 770, 772, 772, 773, 774, 774, 776, 777, 777, 779, 780, 781, 783, 784, 786, 789, 791, 792, 792, 793, 793, 797, 797, 798, 798, 798, 800, 800, 801, 801, 801, 802, 803, 805, 805, 806, 807, 810, 810, 812, 814, 817, 819, 819, 822, 823, 823, 823, 826, 826, 826, 828, 829, 832, 835, 835, 836, 838, 839, 840, 841, 841, 843, 846, 846, 846, 847, 848, 848, 849, 850, 850, 854, 854, 854, 855, 857, 857, 858, 858, 859, 860, 864, 866, 866, 866, 868, 868, 868, 870, 871, 872, 872, 876, 878, 878, 881, 881, 882, 884, 885, 886, 887, 890, 891, 894, 894, 894, 896, 896, 899, 899, 900, 900, 900, 902, 903, 904, 905, 905, 905, 908, 909, 913, 913, 913, 916, 919, 919, 921, 921, 921, 922, 922, 925, 926, 926, 928, 928, 929, 929, 930, 932, 932, 932, 933, 934, 935, 937, 938, 940, 940, 941, 942, 942, 943, 944, 944, 945, 947, 949, 950, 950, 953, 953, 957, 958, 958, 959, 959, 965, 967, 970, 970, 971, 971, 975, 975, 976, 977, 978, 978, 978, 979, 979, 979, 980, 980, 980, 981, 981, 984, 984, 984, 984, 984, 985, 985, 985, 986, 987, 987, 987, 987, 988, 989, 991, 991, 991, 992, 993, 994, 995, 997, 999, 999, 1002, 1003, 1004, 1005, 1006, 1006, 1006, 1007, 1007, 1009, 1010, 1011, 1011, 1012, 1013, 1014, 1014, 1015, 1017, 1018, 1019, 1022, 1024, 1026, 1027, 1027, 1028, 1029, 1030, 1032, 1032, 1034, 1035, 1036, 1036, 1037, 1037, 1039, 1039, 1041, 1046, 1048, 1049, 1049, 1050, 1050, 1052, 1052, 1052, 1053, 1058, 1058, 1058, 1058, 1059, 1060, 1061, 1061, 1062, 1062, 1062, 1063, 1064, 1065, 1066, 1067, 1070, 1072, 1072, 1073, 1073, 1073, 1074, 1074, 1075, 1080, 1081, 1083, 1083, 1084, 1084, 1084, 1086, 1088, 1090, 1090, 1091, 1092, 1093, 1095, 1096, 1097, 1099, 1100, 1101, 1101, 1102, 1102, 1103, 1105, 1107, 1108, 1109, 1110, 1110, 1111, 1112, 1116, 1116, 1120, 1121, 1121, 1122, 1124, 1125, 1127, 1127, 1129, 1129, 1130, 1130, 1131, 1131, 1133, 1134, 1134, 1134, 1136, 1138, 1138, 1139, 1140, 1141, 1141, 1143, 1143, 1144, 1144, 1145, 1146, 1146, 1146, 1148, 1149, 1150, 1150, 1150, 1150, 1152, 1154, 1157, 1157, 1158, 1158, 1159, 1159, 1162, 1163, 1165, 1168, 1168, 1168, 1171, 1171, 1172, 1172, 1173, 1175, 1176, 1176, 1179, 1180, 1180, 1183, 1183, 1183, 1184, 1185, 1185, 1185, 1188, 1188, 1189, 1190, 1191, 1192, 1193, 1196, 1197, 1198, 1199, 1201, 1201, 1202, 1202, 1205, 1205, 1206, 1206, 1207, 1207, 1208, 1208, 1210, 1212, 1213, 1214, 1215, 1215, 1217, 1219, 1219, 1220, 1221, 1221, 1222, 1222, 1225, 1226, 1229, 1231, 1233, 1233, 1234, 1234, 1234, 1236, 1236, 1236, 1238, 1238, 1239, 1239, 1243, 1243, 1246, 1246, 1247, 1248, 1248, 1248, 1248, 1249, 1250, 1250, 1250, 1253, 1253, 1254, 1254, 1255, 1255, 1256, 1257, 1258, 1258, 1258, 1259, 1261, 1262, 1263, 1264, 1264, 1267, 1269, 1270, 1270, 1272, 1273, 1273, 1274, 1276, 1277, 1277, 1277, 1282, 1282, 1284, 1285, 1285, 1287, 1287, 1289, 1289, 1289, 1289, 1293, 1294, 1296, 1297, 1297, 1299, 1303, 1304, 1304, 1304, 1305, 1305, 1305, 1307, 1311, 1311, 1311, 1312, 1312, 1313, 1313, 1315, 1315, 1315, 1316, 1319, 1319, 1320, 1320, 1320, 1320, 1320, 1320, 1321, 1322, 1322, 1323, 1323, 1324, 1326, 1326, 1327, 1328, 1331, 1331, 1333, 1334, 1334, 1338, 1340, 1340, 1340, 1341, 1342, 1344, 1345, 1345, 1346, 1346, 1347, 1347, 1348, 1349, 1350, 1350, 1350, 1351, 1353, 1354, 1354, 1354, 1355, 1355, 1360, 1361, 1362, 1363, 1364, 1366, 1366, 1367, 1367, 1369, 1370, 1371, 1373, 1374, 1374, 1375, 1375, 1377, 1377, 1378, 1378, 1380, 1380, 1381, 1383, 1383, 1386, 1386, 1388, 1388, 1390, 1390, 1392, 1394, 1397, 1398, 1398, 1398, 1399, 1399, 1401, 1402, 1404, 1407, 1410, 1410, 1411, 1412, 1413, 1414, 1415, 1415, 1415, 1415, 1416, 1417, 1420, 1420, 1420, 1420, 1422, 1423, 1426, 1427, 1427, 1427, 1428, 1428, 1428, 1429, 1430, 1430, 1431, 1431, 1433, 1433, 1434, 1435, 1436, 1438, 1443, 1443, 1444, 1445, 1446, 1448, 1449, 1450, 1451, 1452, 1452, 1453, 1454, 1454, 1455, 1456, 1458, 1459, 1459, 1459, 1461, 1461, 1463, 1464, 1465, 1465, 1466, 1467, 1467, 1468, 1468, 1468, 1469, 1470, 1471, 1471, 1471, 1471, 1472, 1472, 1473, 1475, 1475, 1476, 1478, 1478, 1478, 1479, 1481, 1485, 1486, 1489, 1491, 1491, 1491, 1492, 1498, 1499, 1501, 1502, 1504, 1504, 1504, 1506, 1506, 1506, 1508, 1508, 1509, 1511, 1512, 1513, 1513, 1515, 1516, 1517, 1517, 1518, 1519, 1523, 1523, 1524, 1524, 1524, 1524, 1525, 1526, 1528, 1528, 1529, 1529, 1530, 1533, 1533, 1535, 1537, 1537, 1539, 1540, 1541, 1542, 1544, 1545, 1546, 1549, 1550, 1550, 1551, 1551, 1552, 1553, 1553, 1554, 1554, 1554, 1555, 1555, 1557, 1558, 1558, 1559, 1561, 1562, 1562, 1562, 1563, 1566, 1568, 1569, 1569, 1573, 1576, 1580, 1580, 1580, 1580, 1581, 1581, 1584, 1584, 1584, 1584, 1585, 1585, 1586, 1586, 1586, 1587, 1589, 1590, 1594, 1594, 1595, 1596, 1598, 1600, 1602, 1603, 1603, 1603, 1604, 1604, 1606, 1607, 1609, 1610, 1611, 1612, 1615, 1616, 1617, 1617, 1617, 1617, 1618, 1619, 1621, 1621, 1622, 1625, 1626, 1627, 1628, 1628, 1628, 1628, 1629, 1630, 1634, 1634, 1634, 1636, 1637, 1638, 1638, 1640, 1642, 1642, 1642, 1643, 1643, 1643, 1645, 1645, 1645, 1645, 1645, 1647, 1647, 1651, 1651, 1654, 1655, 1655, 1655, 1657, 1658, 1658, 1660, 1660, 1661, 1661, 1662, 1663, 1663, 1663, 1664, 1664, 1670, 1672, 1672, 1676, 1676, 1677, 1677, 1678, 1682, 1683, 1683, 1685, 1686, 1687, 1692, 1693, 1693, 1693, 1695, 1695, 1697, 1697, 1700, 1700, 1701, 1705, 1707, 1709, 1710, 1710, 1710, 1712, 1713, 1713, 1713, 1714, 1714, 1714, 1715, 1717, 1720, 1720, 1721, 1723, 1723, 1726, 1726, 1728, 1729, 1729, 1729, 1729, 1730, 1730, 1731, 1731, 1731, 1731, 1732, 1733, 1735, 1735, 1736, 1737, 1738, 1739, 1741, 1741, 1743, 1743, 1745, 1745, 1746, 1746, 1746, 1747, 1749, 1749, 1750, 1752, 1752, 1752, 1752, 1754, 1755, 1755, 1755, 1755, 1756, 1756, 1756, 1758, 1758, 1758, 1759, 1759, 1760, 1760, 1761, 1762, 1763, 1763, 1764, 1765, 1766, 1766, 1766, 1767, 1767, 1769, 1769, 1769, 1770, 1772, 1772, 1773, 1773, 1775, 1777, 1778, 1778, 1779, 1781, 1783, 1784, 1784, 1784, 1785, 1786, 1786, 1789, 1789, 1790, 1790, 1790, 1792, 1796, 1796, 1797, 1797, 1798, 1801, 1801, 1803, 1805, 1805, 1805, 1805, 1807, 1807, 1807, 1808, 1812, 1814, 1815, 1815, 1815, 1815, 1816, 1818, 1820, 1820, 1822, 1824, 1825, 1825, 1825, 1825, 1827, 1827, 1827, 1828, 1828, 1829, 1830, 1830, 1830, 1831, 1833, 1833, 1834, 1835, 1836, 1837, 1838, 1839, 1839, 1841, 1841, 1844, 1845, 1846, 1846, 1846, 1846, 1847, 1848, 1849, 1851, 1851, 1852, 1852, 1853, 1854, 1855, 1856, 1858, 1859, 1860, 1861, 1862, 1864, 1864, 1865, 1865, 1865, 1866, 1866, 1867, 1868, 1869, 1870, 1871, 1871, 1872, 1876, 1878, 1879, 1880, 1881, 1882, 1883, 1883, 1883, 1883, 1884, 1884, 1884, 1885, 1885, 1885, 1886, 1887, 1887, 1889, 1891, 1892, 1893, 1893, 1893, 1894, 1896, 1897, 1897, 1897, 1898, 1899, 1900, 1901, 1901, 1903, 1904, 1908, 1909, 1911, 1912, 1912, 1913, 1914, 1914, 1915, 1916, 1917, 1918, 1919, 1919, 1919, 1921, 1921, 1922, 1925, 1927, 1927, 1927, 1931, 1931, 1932, 1933, 1937, 1937, 1938, 1938, 1938, 1939, 1941, 1942, 1943, 1943, 1946, 1946, 1946, 1947, 1947, 1948, 1950, 1950, 1953, 1957, 1958, 1959, 1959, 1961, 1962, 1962, 1964, 1965, 1965, 1967, 1968, 1968, 1971, 1971, 1972, 1973, 1973, 1974, 1975, 1976, 1979, 1979, 1980, 1981, 1982, 1984, 1985, 1986, 1987, 1989, 1991, 1994, 1995, 1995, 1996, 1997, 1997, 1997, 1999, 1999, 2002, 2003, 2003, 2004, 2006, 2007, 2007, 2007, 2007, 2009, 2011, 2012, 2012, 2012, 2012, 2013, 2013, 2014, 2015, 2015, 2016, 2019, 2020, 2020, 2020, 2022, 2023, 2023, 2023, 2023, 2024, 2024, 2027, 2027, 2033, 2037, 2037, 2039, 2039, 2040, 2042, 2043, 2045, 2045, 2046, 2046, 2047, 2047, 2048, 2048, 2049, 2049, 2050, 2050, 2051, 2053, 2053, 2055, 2055, 2056, 2057, 2058, 2061, 2065, 2066, 2067, 2067, 2067, 2071, 2072, 2074, 2074, 2074, 2076, 2076, 2078, 2078, 2078, 2079, 2080, 2081, 2082, 2082, 2084, 2085, 2086, 2089, 2089, 2090, 2090, 2091, 2091, 2092, 2092, 2093, 2093, 2096, 2098, 2099, 2100, 2100, 2100, 2101, 2101, 2103, 2103, 2103, 2103, 2106, 2107, 2109, 2111, 2111, 2114, 2115, 2115, 2116, 2116, 2116, 2118, 2120, 2120, 2121, 2121, 2121, 2122, 2123, 2125, 2125, 2125, 2125, 2126, 2126, 2126, 2127, 2127, 2128, 2128, 2129, 2129, 2129, 2132, 2132, 2133, 2133, 2135, 2136, 2137, 2139, 2141, 2141, 2141, 2143, 2145, 2145, 2146, 2147, 2148, 2149, 2151, 2151, 2153, 2153, 2155, 2156, 2158, 2160, 2161, 2164, 2164, 2164, 2164, 2165, 2169, 2169, 2169, 2169, 2170, 2171, 2172, 2173, 2173, 2173, 2175, 2175, 2176, 2177, 2177, 2178, 2179, 2180, 2180, 2180, 2180, 2181, 2181, 2182, 2183, 2184, 2186, 2187, 2188, 2189, 2191, 2192, 2192, 2194, 2194, 2195, 2196, 2196, 2197, 2198, 2198, 2199, 2199, 2200, 2200, 2200, 2201, 2202, 2202, 2204, 2204, 2204, 2206, 2208, 2208, 2209, 2210, 2210, 2212, 2213, 2213, 2213, 2213, 2214, 2214, 2214, 2214, 2214, 2214, 2216, 2217, 2218, 2221, 2221, 2222, 2223, 2223, 2223, 2224, 2226, 2226, 2227, 2228, 2229, 2231, 2231, 2232, 2232, 2232, 2233, 2233, 2234, 2234, 2234, 2236, 2238, 2239, 2240, 2241, 2242, 2242, 2245, 2246, 2246, 2252, 2252, 2254, 2258, 2260, 2260, 2261, 2261, 2261, 2262, 2263, 2264, 2266, 2267, 2267, 2268, 2271, 2271, 2271, 2272, 2274, 2275, 2276, 2277, 2278, 2278, 2279, 2281, 2282, 2282, 2284, 2291, 2293, 2294, 2294, 2297, 2299, 2299, 2299, 2304, 2304, 2305, 2305, 2305, 2306, 2306, 2306, 2306, 2307, 2307, 2308, 2309, 2309, 2310, 2311, 2312, 2312, 2312, 2316, 2318, 2319, 2321, 2322, 2323, 2323, 2323, 2324, 2325, 2327, 2328, 2328, 2330, 2331, 2331, 2333, 2334, 2336, 2337, 2339, 2340, 2344, 2344, 2346, 2346, 2347, 2349, 2349, 2350, 2350, 2352, 2352, 2356, 2357, 2358, 2360, 2360, 2361, 2361, 2361, 2362, 2362, 2362, 2364, 2367, 2367, 2369, 2371, 2371, 2372, 2373, 2373, 2373, 2374, 2375, 2376, 2377, 2378, 2379, 2379, 2380, 2380, 2382, 2384, 2384, 2384, 2384, 2384, 2384, 2384, 2388, 2388, 2389, 2391, 2393, 2395, 2398, 2398, 2402, 2404, 2406, 2407, 2407, 2407, 2408, 2408, 2410, 2411, 2413, 2413, 2413, 2414, 2415, 2415, 2415, 2416, 2416, 2417, 2418, 2420, 2422, 2423, 2424, 2426, 2426, 2427, 2430, 2431, 2432, 2433, 2435, 2435, 2437, 2437, 2441, 2441, 2443, 2447, 2448, 2450, 2450, 2452, 2454, 2455, 2456, 2458, 2459, 2460, 2460, 2460, 2461, 2461, 2461, 2461, 2462, 2463, 2463, 2463, 2464, 2464, 2464, 2466, 2466, 2466, 2468, 2469, 2470, 2470, 2470, 2471, 2471, 2472, 2473, 2475, 2475, 2477, 2477, 2478, 2478, 2478, 2481, 2481, 2482, 2483, 2483, 2484, 2485, 2486, 2486, 2486, 2488, 2488, 2488, 2489, 2491, 2491, 2492, 2492, 2493, 2496, 2501, 2501, 2502, 2502, 2503, 2505, 2506, 2507, 2507, 2508, 2508, 2510, 2511, 2512, 2516, 2516, 2517, 2520, 2520, 2520, 2521, 2521, 2522, 2522, 2523, 2524, 2526, 2527, 2528, 2528, 2530, 2530, 2531, 2532, 2532, 2532, 2534, 2535, 2535, 2536, 2536, 2536, 2537, 2538, 2539, 2539, 2540, 2541, 2541, 2544, 2544, 2545, 2546, 2548, 2549, 2550, 2551, 2552, 2555, 2555, 2557, 2558, 2559, 2560, 2562, 2564, 2564, 2565, 2565, 2567, 2569, 2569, 2570, 2571, 2571, 2572, 2573, 2573, 2574, 2574, 2574, 2575, 2575, 2575, 2575, 2576, 2578, 2580, 2583, 2586, 2588, 2588, 2589, 2590, 2590, 2590, 2592, 2594, 2594, 2594, 2595, 2601, 2601, 2602, 2602, 2605, 2605, 2606, 2607, 2609, 2610, 2611, 2611, 2611, 2612, 2612, 2613, 2615, 2618, 2618, 2620, 2620, 2621, 2621, 2625, 2625, 2626, 2627, 2629, 2629, 2630, 2630, 2631, 2632, 2633, 2633, 2634, 2636, 2636, 2637, 2638, 2639, 2639, 2640, 2640, 2640, 2641, 2641, 2642, 2642, 2642, 2642, 2643, 2644, 2645, 2646, 2648, 2649, 2650, 2651, 2651, 2652, 2654, 2654, 2655, 2656, 2657, 2659, 2660, 2666, 2666, 2668, 2668, 2670, 2672, 2673, 2673, 2674, 2676, 2677, 2677, 2678, 2679, 2680, 2681, 2681, 2681, 2682, 2682, 2682, 2685, 2685, 2685, 2685, 2688, 2688, 2689, 2689, 2689, 2690, 2692, 2692, 2693, 2694, 2694, 2695, 2695, 2698, 2698, 2699, 2699, 2702, 2702, 2703, 2705, 2707, 2707, 2708, 2709, 2709, 2713, 2713, 2713, 2714, 2716, 2720, 2723, 2723, 2724, 2727, 2728, 2729, 2730, 2731, 2733, 2733, 2733, 2738, 2739, 2742, 2742, 2742, 2744, 2745, 2745, 2746, 2747, 2747, 2753, 2753, 2753, 2753, 2755, 2756, 2757, 2757, 2758, 2758, 2759, 2760, 2760, 2762, 2764, 2765, 2766, 2766, 2767, 2768, 2769, 2771, 2772, 2773, 2774, 2774, 2775, 2775, 2778, 2779, 2782, 2783, 2784, 2785, 2785, 2786, 2786, 2787, 2787, 2789, 2790, 2791, 2792, 2792, 2793, 2793, 2794, 2795, 2795, 2796, 2796, 2797, 2797, 2798, 2798, 2799, 2799, 2799, 2799, 2799, 2801, 2801, 2802, 2803, 2804, 2806, 2806, 2807, 2809, 2810, 2812, 2814, 2816, 2817, 2817, 2818, 2822, 2823, 2823, 2823, 2823, 2824, 2824, 2825, 2825, 2826, 2829, 2832, 2832, 2833, 2834, 2834, 2835, 2835, 2835, 2836, 2836, 2837, 2837, 2838, 2842, 2842, 2843, 2844, 2845, 2851, 2854, 2854, 2854, 2855, 2855, 2856, 2856, 2858, 2858, 2858, 2859, 2859, 2862, 2862, 2863, 2864, 2864, 2866, 2867, 2868, 2869, 2870, 2870, 2871, 2872, 2873, 2874, 2875, 2877, 2877, 2878, 2878, 2878, 2879, 2879, 2881, 2881, 2882, 2883, 2887, 2888, 2890, 2891, 2892, 2893, 2893, 2894, 2897, 2897, 2900, 2903, 2904, 2904, 2905, 2905, 2906, 2908, 2909, 2909, 2910, 2911, 2912, 2912, 2914, 2914, 2915, 2915, 2915, 2916, 2917, 2918, 2919, 2921, 2923, 2923, 2925, 2927, 2928, 2928, 2931, 2932, 2932, 2933, 2933, 2933, 2934, 2935, 2935, 2937, 2938, 2938, 2938, 2940, 2943, 2945, 2945, 2948, 2948, 2950, 2951, 2951, 2953, 2954, 2955, 2956, 2957, 2960, 2960, 2961, 2961, 2962, 2963, 2964, 2964, 2965, 2965, 2967, 2969, 2970, 2971, 2971, 2972, 2973, 2973, 2974, 2974, 2975, 2977, 2977, 2977, 2978, 2978, 2979, 2981, 2982, 2982, 2983, 2985, 2987, 2990, 2990, 2991, 2992, 2993, 2994, 2994, 2994, 2995, 2995, 2996, 2997, 2997, 2999, 3000, 3000, 3001, 3003, 3005, 3005, 3006, 3008, 3009, 3009, 3009, 3011, 3011, 3014, 3014, 3020, 3022, 3022, 3022, 3023, 3024, 3029, 3029, 3029, 3032, 3034, 3034, 3035, 3036, 3037, 3037, 3038, 3038, 3040, 3040, 3040, 3042, 3044, 3045, 3045, 3046, 3048, 3048, 3051, 3054, 3055, 3059, 3060, 3061, 3062, 3063, 3064, 3064, 3065, 3066, 3067, 3068, 3068, 3071, 3073, 3074, 3076, 3079, 3079, 3080, 3081, 3083, 3083, 3083, 3085, 3086, 3087, 3087, 3089, 3097, 3098, 3098, 3098, 3099, 3100, 3103, 3105, 3106, 3106, 3106, 3107, 3107, 3107, 3108, 3111, 3112, 3112, 3113, 3113, 3114, 3115, 3117, 3117, 3118, 3119, 3119, 3124, 3124, 3125, 3127, 3127, 3127, 3130, 3131, 3132, 3132, 3134, 3137, 3139, 3141, 3141, 3143, 3144, 3144, 3145, 3148, 3150, 3153, 3156, 3157, 3159, 3161, 3163, 3163, 3164, 3165, 3165, 3170, 3170, 3171, 3171, 3171, 3172, 3174, 3175, 3176, 3178, 3178, 3179, 3181, 3181, 3182, 3182, 3182, 3183, 3184, 3186, 3187, 3187, 3187, 3187, 3189, 3191, 3191, 3192, 3192, 3194, 3195, 3196, 3199, 3201, 3201, 3201, 3201, 3208, 3208, 3210, 3210, 3211, 3211, 3212, 3212, 3213, 3215, 3217, 3218, 3219, 3219, 3219, 3219, 3219, 3219, 3221, 3222, 3224, 3225, 3226, 3226, 3226, 3228, 3228, 3230, 3230, 3233, 3234, 3236, 3237, 3238, 3239, 3240, 3240, 3241, 3242, 3244, 3244, 3244, 3245, 3246, 3248, 3248, 3248, 3250, 3250, 3253, 3253, 3253, 3255, 3256, 3256, 3258, 3260, 3261, 3263, 3263, 3264, 3266, 3267, 3268, 3268, 3268, 3269, 3270, 3270, 3271, 3271, 3272, 3272, 3273, 3273, 3274, 3274, 3274, 3274, 3275, 3276, 3277, 3277, 3278, 3279, 3280, 3280, 3281, 3285, 3286, 3286, 3287, 3288, 3289, 3289, 3289, 3290, 3291, 3292, 3293, 3293, 3294, 3295, 3295, 3295, 3296, 3297, 3297, 3297, 3299, 3300, 3301, 3302, 3303, 3303, 3303, 3304, 3306, 3306, 3307, 3308, 3311, 3312, 3313, 3314, 3314, 3314, 3315, 3318, 3319, 3319, 3320, 3323, 3324, 3325, 3326, 3326, 3327, 3328, 3328, 3330, 3331, 3334, 3335, 3337, 3337, 3338, 3339, 3339, 3339, 3344, 3345, 3345, 3346, 3347, 3349, 3349, 3349, 3349, 3350, 3352, 3355, 3355, 3356, 3357, 3360, 3361, 3361, 3361, 3362, 3362, 3363, 3364, 3364, 3366, 3369, 3370, 3370, 3371, 3372, 3372, 3373, 3373, 3374, 3375, 3375, 3377, 3377, 3377, 3379, 3379, 3380, 3382, 3383, 3383, 3385, 3386, 3386, 3388, 3391, 3391, 3392, 3393, 3394, 3394, 3395, 3396, 3398, 3400, 3400, 3402, 3403, 3404, 3404, 3404, 3405, 3406, 3406, 3406, 3407, 3408, 3410, 3410, 3412, 3412, 3414, 3417, 3418, 3418, 3419, 3420, 3424, 3425, 3425, 3425, 3425, 3427, 3428, 3428, 3431, 3431, 3431, 3431, 3431, 3435, 3438, 3438, 3438, 3438, 3439, 3440, 3440, 3441, 3444, 3447, 3448, 3448, 3450, 3450, 3451, 3452, 3452, 3457, 3459, 3460, 3460, 3463, 3464, 3464, 3464, 3466, 3467, 3468, 3468, 3468, 3470, 3470, 3470, 3471, 3471, 3472, 3472, 3472, 3473, 3476, 3479, 3479, 3479, 3481, 3483, 3483, 3484, 3484, 3486, 3487, 3487, 3489, 3490, 3491, 3492, 3493, 3495, 3495, 3495, 3495, 3496, 3496, 3497, 3497, 3498, 3500, 3501, 3502, 3502, 3504, 3504, 3504, 3505, 3506, 3506, 3508, 3510, 3511, 3520, 3520, 3520, 3521, 3521, 3522, 3523, 3524, 3525, 3527, 3527, 3528, 3528, 3528, 3530, 3531, 3531, 3532, 3533, 3533, 3533, 3534, 3534, 3534, 3534, 3535, 3535, 3536, 3536, 3541, 3542, 3542, 3543, 3543, 3543, 3543, 3544, 3544, 3545, 3546, 3546, 3548, 3549, 3551, 3552, 3556, 3556, 3558, 3559, 3559, 3559, 3559, 3560, 3561, 3561, 3563, 3564, 3564, 3565, 3566, 3566, 3567, 3567, 3567, 3568, 3569, 3572, 3572, 3572, 3573, 3575, 3578, 3578, 3581, 3581, 3583, 3583, 3583, 3585, 3588, 3589, 3589, 3590, 3591, 3592, 3592, 3592, 3593, 3594, 3595, 3595, 3596, 3597, 3600, 3600, 3600, 3601, 3601, 3603, 3604, 3605, 3605, 3606, 3607, 3609, 3609, 3610, 3610, 3611, 3611, 3612, 3612, 3615, 3616, 3617, 3618, 3620, 3622, 3623, 3623, 3626, 3626, 3626, 3628, 3628, 3629, 3629, 3629, 3629, 3632, 3632, 3633, 3633, 3634, 3635, 3638, 3638, 3639, 3639, 3641, 3643, 3643, 3645, 3647, 3647, 3647, 3648, 3648, 3649, 3649, 3650, 3651, 3652, 3652, 3654, 3654, 3658, 3659, 3659, 3659, 3659, 3662, 3662, 3662, 3662, 3663, 3664, 3665, 3665, 3668, 3668, 3669, 3670, 3671, 3672, 3675, 3676, 3676, 3679, 3680, 3681, 3684, 3685, 3686, 3688, 3688, 3690, 3691, 3692, 3692, 3693, 3693, 3693, 3694, 3694, 3694, 3694, 3696, 3697, 3697, 3702, 3702, 3702, 3703, 3703, 3703, 3704, 3705, 3706, 3706, 3707, 3707, 3707, 3708, 3708, 3709, 3710, 3711, 3713, 3713, 3713, 3714, 3714, 3715, 3715, 3715, 3716, 3719, 3721, 3721, 3721, 3723, 3724, 3725, 3725, 3725, 3728, 3728, 3730, 3733, 3733, 3734, 3735, 3735, 3735, 3736, 3738, 3738, 3740, 3740, 3743, 3745, 3746, 3746, 3746, 3747, 3747, 3747, 3747, 3748, 3748, 3749, 3750, 3750, 3751, 3752, 3753, 3754, 3757, 3757, 3757, 3757, 3759, 3759, 3760, 3761, 3762, 3763, 3764, 3764, 3764, 3765, 3767, 3767, 3769, 3772, 3772, 3773, 3773, 3773, 3774, 3777, 3778, 3778, 3780, 3780, 3782, 3782, 3783, 3783, 3785, 3785, 3787, 3787, 3788, 3788, 3789, 3789, 3789, 3792, 3793, 3794, 3795, 3798, 3799, 3800, 3800, 3803, 3804, 3805, 3806, 3807, 3807, 3808, 3811, 3811, 3812, 3812, 3814, 3814, 3815, 3818, 3818, 3819, 3820, 3821, 3823, 3826, 3826, 3829, 3830, 3830, 3830, 3831, 3834, 3834, 3835, 3836, 3839, 3839, 3840, 3841, 3843, 3843, 3843, 3845, 3846, 3847, 3848, 3849, 3849, 3851, 3853, 3853, 3853, 3854, 3854, 3855, 3855, 3855, 3856, 3859, 3862, 3862, 3862, 3868, 3868, 3869, 3870, 3871, 3871, 3873, 3873, 3875, 3876, 3876, 3877, 3879, 3880, 3881, 3881, 3884, 3884, 3885, 3886, 3886, 3887, 3887, 3888, 3889, 3889, 3889, 3890, 3890, 3892, 3892, 3894, 3895, 3896, 3896, 3898, 3899, 3899, 3900, 3901, 3903, 3906, 3906, 3908, 3908, 3909, 3910, 3911, 3912, 3917, 3918, 3919, 3919, 3919, 3922, 3926, 3926, 3928, 3928, 3928, 3929, 3929, 3930, 3931, 3931, 3932, 3932, 3933, 3933, 3934, 3934, 3936, 3936, 3936, 3937, 3938, 3938, 3939, 3941, 3941, 3942, 3942, 3943, 3943, 3945, 3946, 3947, 3948, 3948, 3952, 3952, 3953, 3954, 3956, 3958, 3958, 3958, 3959, 3959, 3961, 3961, 3961, 3963, 3964, 3966, 3966, 3966, 3967, 3967, 3967, 3968, 3968, 3970, 3974, 3975, 3975, 3976, 3980, 3980, 3981, 3982, 3984, 3984, 3986, 3987, 3990, 3991, 3993, 3993, 3994, 3995, 3997, 3997, 3998, 4000, 4000, 4001, 4003, 4003, 4004, 4004, 4005, 4006, 4007, 4008, 4009, 4009, 4011, 4012, 4012, 4012, 4014, 4014, 4015, 4015, 4017, 4017, 4017, 4019, 4019, 4020, 4020, 4020, 4024, 4026, 4027, 4027, 4027, 4028, 4028, 4028, 4029, 4033, 4035, 4036, 4037, 4037, 4037, 4038, 4040, 4043, 4043, 4043, 4043, 4043, 4044, 4045, 4045, 4046, 4049, 4051, 4051, 4051, 4051, 4055, 4057, 4058, 4058, 4058, 4059, 4060, 4061, 4061, 4061, 4062, 4063, 4063, 4063, 4064, 4066, 4066, 4067, 4068, 4068, 4071, 4071, 4072, 4072, 4073, 4076, 4076, 4077, 4077, 4078, 4079, 4079, 4080, 4080, 4080, 4081, 4082, 4082, 4083, 4083, 4084, 4084, 4085, 4085, 4086, 4087, 4088, 4088, 4089, 4089, 4089, 4090, 4091, 4091, 4094, 4096, 4096, 4097, 4097, 4098, 4098, 4098, 4101, 4101, 4102, 4102, 4103, 4104, 4105, 4105, 4107, 4107, 4109, 4110, 4110, 4111, 4112, 4112, 4112, 4116, 4116, 4117, 4119, 4120, 4120, 4120, 4122, 4124, 4125, 4126, 4126, 4129, 4129, 4130, 4130, 4130, 4130, 4130, 4131, 4132, 4134, 4134, 4136, 4136, 4138, 4140, 4142, 4142, 4144, 4144, 4146, 4147, 4147, 4148, 4148, 4150, 4150, 4151, 4151, 4151, 4152, 4152, 4154, 4155, 4155, 4157, 4158, 4159, 4159, 4160, 4160, 4163, 4163, 4164, 4166, 4167, 4168, 4169, 4170, 4171, 4173, 4174, 4175, 4176, 4177, 4177, 4177, 4180, 4181, 4181, 4181, 4182, 4187, 4189, 4189, 4190, 4191, 4191, 4192, 4192, 4193, 4194, 4194, 4195, 4195, 4196, 4196, 4197, 4199, 4202, 4203, 4204, 4204, 4204, 4207, 4208, 4209, 4210, 4210, 4211, 4211, 4211, 4211, 4215, 4217, 4217, 4219, 4219, 4219, 4220, 4221, 4221, 4222, 4222, 4222, 4223, 4223, 4223, 4223, 4224, 4224, 4224, 4224, 4227, 4229, 4229, 4230, 4230, 4232, 4232, 4232, 4234, 4235, 4237, 4237, 4238, 4238, 4241, 4242, 4243, 4243, 4243, 4244, 4247, 4248, 4248, 4249, 4251, 4251, 4251, 4252, 4253, 4255, 4256, 4258, 4258, 4259, 4259, 4259, 4261, 4261, 4261, 4263, 4263, 4263, 4265, 4265, 4267, 4267, 4268, 4269, 4269, 4269, 4269, 4269, 4269, 4270, 4271, 4272, 4272, 4272, 4276, 4276, 4277, 4277, 4278, 4278, 4280, 4284, 4284, 4286, 4286, 4286, 4287, 4288, 4288, 4288, 4289, 4290, 4290, 4290, 4291, 4292, 4292, 4293, 4293, 4294, 4294, 4294, 4295, 4296, 4296, 4297, 4297, 4298, 4299, 4299, 4300, 4300, 4301, 4301, 4301, 4304, 4304, 4305, 4305, 4305, 4305, 4306, 4306, 4308, 4309, 4310, 4311, 4312, 4312, 4313, 4313, 4315, 4319, 4320, 4320, 4322, 4322, 4322, 4324, 4325, 4326, 4327, 4327, 4332, 4333, 4334, 4334, 4335, 4337, 4337, 4338, 4339, 4343, 4344, 4346, 4349, 4349, 4350, 4351, 4351, 4354, 4356, 4357, 4358, 4359, 4360, 4361, 4362, 4363, 4364, 4365, 4366, 4366, 4369, 4370, 4372, 4373, 4373, 4374, 4375, 4375, 4377, 4377, 4378, 4378, 4378, 4383, 4383, 4384, 4384, 4385, 4386, 4387, 4388, 4388, 4390, 4393, 4394, 4394, 4395, 4395, 4397, 4399, 4400, 4400, 4401, 4402, 4402, 4403, 4405, 4405, 4406, 4407, 4407, 4407, 4407, 4408, 4410, 4412, 4412, 4414, 4414, 4415, 4416, 4416, 4418, 4419, 4420, 4421, 4421, 4421, 4421, 4422, 4427, 4428, 4431, 4431, 4434, 4435, 4435, 4435, 4435, 4436, 4436, 4438, 4438, 4438, 4441, 4444, 4445, 4446, 4448, 4448, 4449, 4452, 4453, 4455, 4456, 4458, 4458, 4459, 4460, 4461, 4464, 4465, 4466, 4467, 4467, 4468, 4468, 4469, 4475, 4478, 4478, 4482, 4482, 4484, 4484, 4485, 4486, 4486, 4487, 4488, 4488, 4488, 4490, 4491, 4492, 4494, 4495, 4496, 4498, 4498, 4499, 4499, 4499, 4501, 4501, 4502, 4502, 4503, 4504, 4506, 4508, 4509, 4510, 4512, 4512, 4512, 4513, 4513, 4518, 4519, 4520, 4521, 4522, 4523, 4523, 4524, 4526, 4527, 4529, 4529, 4530, 4531, 4532, 4533, 4534, 4534, 4535, 4538, 4538, 4539, 4539, 4540, 4540, 4541, 4541, 4543, 4543, 4544, 4544, 4545, 4547, 4548, 4548, 4549, 4551, 4553, 4556, 4557, 4557, 4557, 4560, 4561, 4562, 4563, 4568, 4571, 4572, 4572, 4574, 4574, 4576, 4577, 4577, 4579, 4579, 4580, 4581, 4582, 4582, 4582, 4582, 4588, 4588, 4589, 4590, 4591, 4591, 4592, 4592, 4593, 4594, 4595, 4596, 4596, 4597, 4598, 4599, 4599, 4600, 4601, 4602, 4603, 4603, 4604, 4605, 4605, 4605, 4605, 4606, 4607, 4607, 4608, 4608, 4610, 4610, 4611, 4614, 4615, 4616, 4617, 4617, 4617, 4619, 4619, 4620, 4621, 4621, 4621, 4623, 4624, 4625, 4625, 4625, 4626, 4627, 4629, 4631, 4633, 4634, 4634, 4635, 4635, 4635, 4638, 4640, 4642, 4643, 4645, 4651, 4653, 4654, 4654, 4655, 4655, 4656, 4658, 4658, 4659, 4659, 4660, 4660, 4661, 4662, 4662, 4662, 4664, 4664, 4665, 4666, 4667, 4668, 4668, 4669, 4669, 4669, 4669, 4670, 4675, 4675, 4678, 4681, 4682, 4685, 4687, 4688, 4689, 4691, 4693, 4694, 4695, 4697, 4697, 4697, 4698, 4700, 4701, 4701, 4703, 4703, 4703, 4704, 4705, 4707, 4708, 4709, 4709, 4709, 4710, 4711, 4715, 4715, 4716, 4717, 4719, 4720, 4720, 4721, 4721, 4721, 4721, 4723, 4724, 4724, 4726, 4730, 4732, 4733, 4734, 4735, 4735, 4735, 4736, 4737, 4739, 4739, 4739, 4739, 4741, 4742, 4742, 4743, 4743, 4744, 4744, 4745, 4746, 4746, 4747, 4748, 4749, 4752, 4754, 4755, 4756, 4757, 4757, 4759, 4760, 4760, 4761, 4761, 4762, 4762, 4763, 4763, 4763, 4767, 4769, 4769, 4769, 4769, 4772, 4773, 4773, 4773, 4774, 4774, 4775, 4776, 4777, 4778, 4780, 4782, 4782, 4783, 4783, 4784, 4784, 4785, 4785, 4785, 4785, 4787, 4787, 4788, 4788, 4792, 4793, 4793, 4793, 4796, 4797, 4799, 4801, 4801, 4802, 4802, 4802, 4805, 4805, 4805, 4806, 4807, 4811, 4811, 4812, 4814, 4815, 4817, 4817, 4817, 4818, 4820, 4820, 4823, 4823, 4823, 4824, 4825, 4826, 4826, 4827, 4828, 4829, 4832, 4832, 4833, 4834, 4835, 4835, 4838, 4838, 4839, 4840, 4841, 4843, 4844, 4845, 4846, 4847, 4849, 4850, 4851, 4851, 4853, 4853, 4854, 4854, 4855, 4855, 4855, 4855, 4856, 4856, 4858, 4859, 4861, 4862, 4864, 4865, 4865, 4866, 4866, 4868, 4868, 4868, 4868, 4869, 4869, 4870, 4870, 4871, 4871, 4875, 4876, 4877, 4879, 4881, 4883, 4883, 4883, 4886, 4887, 4887, 4888, 4888, 4889, 4889, 4892, 4893, 4893, 4893, 4894, 4895, 4897, 4897, 4898, 4900, 4900, 4902, 4902, 4903, 4903, 4903, 4906, 4908, 4908, 4910, 4910, 4913, 4913, 4914, 4915, 4915, 4916, 4917, 4919, 4919, 4920, 4924, 4924, 4926, 4926, 4926, 4927, 4928, 4928, 4928, 4928, 4930, 4931, 4932, 4934, 4934, 4935, 4936, 4938, 4940, 4940, 4941, 4941, 4943, 4944, 4945, 4947, 4948, 4949, 4949, 4949, 4950, 4951, 4952, 4952, 4953, 4953, 4954, 4956, 4956, 4957, 4957, 4958, 4959, 4959, 4959, 4960, 4960, 4961, 4961, 4962, 4967, 4967, 4968, 4971, 4972, 4974, 4975, 4975, 4976, 4977, 4979, 4980, 4981, 4981, 4982, 4983, 4984, 4985, 4987, 4988, 4988, 4990, 4992, 4994, 4995, 4997, 4997, 4997, 4997, 4998, 4998, 4999, 4999, 5000, 5000, 5002, 5003, 5003, 5008, 5008, 5011, 5012, 5013, 5014, 5014, 5015, 5015, 5015, 5016, 5017, 5017, 5017, 5017, 5018, 5018, 5020, 5022, 5026, 5026, 5027, 5027, 5028, 5028, 5030, 5035, 5038, 5038, 5039, 5041, 5041, 5041, 5042, 5046, 5047, 5047, 5048, 5051, 5052, 5052, 5052, 5056, 5058, 5058, 5059, 5060, 5061, 5061, 5062, 5064, 5066, 5067, 5067, 5067, 5067, 5068, 5070, 5070, 5073, 5074, 5074, 5074, 5074, 5077, 5077, 5077, 5077, 5078, 5079, 5079, 5080, 5080, 5080, 5082, 5083, 5084, 5085, 5088, 5089, 5090, 5093, 5093, 5094, 5094, 5094, 5095, 5096, 5097, 5099, 5099, 5100, 5101, 5103, 5104, 5104, 5104, 5105, 5106, 5107, 5107, 5107, 5108, 5108, 5109, 5110, 5112, 5112, 5113, 5114, 5115, 5116, 5117, 5119, 5120, 5122, 5124, 5125, 5126, 5127, 5129, 5130, 5130, 5130, 5131, 5131, 5131, 5132, 5132, 5134, 5135, 5135, 5135, 5137, 5138, 5139, 5139, 5139, 5140, 5141, 5142, 5142, 5144, 5145, 5146, 5147, 5149, 5151, 5151, 5152, 5153, 5154, 5154, 5155, 5160, 5160, 5160, 5164, 5164, 5164, 5165, 5166, 5167, 5169, 5170, 5171, 5175, 5177, 5180, 5181, 5181, 5183, 5184, 5184, 5185, 5185, 5186, 5187, 5191, 5192, 5192, 5194, 5194, 5194, 5194, 5194, 5195, 5196, 5199, 5204, 5205, 5205, 5205, 5208, 5208, 5208, 5209, 5209, 5209, 5211, 5214, 5214, 5214, 5215, 5215, 5216, 5216, 5216, 5219, 5219, 5220, 5222, 5222, 5222, 5225, 5225, 5226, 5226, 5227, 5229, 5229, 5229, 5230, 5232, 5232, 5233, 5234, 5234, 5234, 5235, 5235, 5236, 5238, 5239, 5240, 5241, 5241, 5243, 5244, 5246, 5246, 5248, 5248, 5249, 5252, 5254, 5256, 5257, 5258, 5259, 5259, 5259, 5263, 5266, 5266, 5267, 5267, 5268, 5268, 5270, 5270, 5272, 5273, 5273, 5274, 5274, 5278, 5278, 5280, 5281, 5282, 5285, 5287, 5289, 5290, 5292, 5293, 5294, 5296, 5297, 5297, 5298, 5299, 5300, 5300, 5301, 5301, 5302, 5304, 5305, 5306, 5307, 5309, 5310, 5310, 5313, 5313, 5314, 5314, 5316, 5317, 5318, 5320, 5321, 5324, 5325, 5325, 5326, 5326, 5326, 5327, 5328, 5329, 5329, 5330, 5330, 5334, 5334, 5335, 5336, 5337, 5338, 5339, 5340, 5342, 5343, 5347, 5349, 5349, 5349, 5349, 5350, 5352, 5354, 5354, 5355, 5358, 5359, 5360, 5361, 5361, 5362, 5362, 5364, 5365, 5369, 5369, 5372, 5373, 5373, 5374, 5374, 5375, 5376, 5377, 5379, 5379, 5380, 5380, 5381, 5382, 5383, 5383, 5384, 5388, 5388, 5388, 5389, 5390, 5392, 5395, 5395, 5396, 5396, 5397, 5397, 5397, 5398, 5398, 5400, 5402, 5402, 5402, 5403, 5404, 5405, 5407, 5407, 5408, 5410, 5410, 5410, 5411, 5413, 5413, 5413, 5414, 5416, 5416, 5416, 5417, 5417, 5418, 5420, 5421, 5423, 5424, 5424, 5424, 5426, 5430, 5432, 5433, 5433, 5435, 5436, 5437, 5437, 5437, 5437, 5437, 5438, 5438, 5439, 5440, 5441, 5442, 5443, 5444, 5446, 5446, 5448, 5451, 5451, 5451, 5452, 5453, 5453, 5453, 5454, 5456, 5457, 5458, 5458, 5459, 5460, 5460, 5461, 5462, 5463, 5463, 5465, 5466, 5467, 5468, 5469, 5470, 5471, 5473, 5473, 5474, 5474, 5475, 5477, 5478, 5478, 5480, 5480, 5482, 5483, 5486, 5488, 5489, 5489, 5490, 5491, 5492, 5493, 5493, 5494, 5494, 5495, 5495, 5498, 5499, 5503, 5504, 5504, 5508, 5509, 5510, 5510, 5513, 5515, 5518, 5519, 5521, 5523, 5524, 5524, 5525, 5525, 5525, 5526, 5526, 5527, 5528, 5528, 5530, 5531, 5531, 5532, 5532, 5534, 5535, 5539, 5539, 5540, 5540, 5540, 5540, 5541, 5544, 5544, 5545, 5545, 5546, 5547, 5547, 5547, 5547, 5547, 5547, 5549, 5549, 5549, 5550, 5550, 5552, 5554, 5559, 5560, 5562, 5563, 5563, 5563, 5563, 5564, 5565, 5566, 5566, 5567, 5568, 5568, 5569, 5570, 5571, 5573, 5574, 5574, 5574, 5575, 5575, 5577, 5578, 5578, 5581, 5581, 5582, 5582, 5584, 5584, 5584, 5585, 5585, 5586, 5589, 5592, 5592, 5595, 5595, 5596, 5597, 5598, 5599, 5601, 5603, 5604, 5604, 5606, 5608, 5610, 5613, 5614, 5615, 5616, 5620, 5620, 5620, 5621, 5624, 5625, 5626, 5628, 5628, 5630, 5630, 5633, 5634, 5634, 5634, 5635, 5635, 5637, 5638, 5638, 5638, 5639, 5639, 5639, 5642, 5642, 5642, 5643, 5645, 5648, 5649, 5649, 5649, 5653, 5654, 5654, 5655, 5655, 5658, 5660, 5660, 5663, 5665, 5666, 5667, 5667, 5669, 5670, 5673, 5673, 5676, 5676, 5676, 5676, 5677, 5680, 5680, 5682, 5682, 5683, 5683, 5683, 5683, 5684, 5690, 5693, 5694, 5695, 5696, 5696, 5697, 5698, 5699, 5700, 5701, 5701, 5704, 5704, 5705, 5705, 5708, 5710, 5711, 5712, 5712, 5712, 5713, 5714, 5716, 5716, 5717, 5718, 5718, 5718, 5718, 5719, 5719, 5720, 5720, 5723, 5723, 5724, 5724, 5725, 5725, 5726, 5727, 5730, 5732, 5732, 5735, 5735, 5735, 5737, 5739, 5740, 5741, 5744, 5744, 5745, 5746, 5749, 5749, 5749, 5751, 5752, 5753, 5754, 5756, 5756, 5757, 5759, 5759, 5759, 5760, 5761, 5762, 5763, 5764, 5767, 5769, 5769, 5769, 5776, 5776, 5776, 5776, 5777, 5777, 5778, 5779, 5780, 5781, 5782, 5783, 5783, 5784, 5786, 5788, 5788, 5794, 5795, 5796, 5796, 5797, 5797, 5800, 5801, 5802, 5804, 5806, 5808, 5809, 5810, 5811, 5812, 5813, 5814, 5815, 5815, 5816, 5816, 5818, 5819, 5821, 5821, 5822, 5825, 5826, 5826, 5826, 5826, 5829, 5831, 5831, 5832, 5832, 5833, 5833, 5834, 5834, 5835, 5835, 5837, 5837, 5838, 5838, 5839, 5840, 5841, 5841, 5841, 5842, 5843, 5844, 5846, 5851, 5852, 5852, 5853, 5853, 5856, 5856, 5857, 5859, 5860, 5860, 5862, 5863, 5863, 5864, 5865, 5866, 5866, 5867, 5867, 5868, 5868, 5869, 5870, 5870, 5873, 5874, 5875, 5875, 5876, 5876, 5876, 5877, 5877, 5877, 5877, 5878, 5878, 5878, 5880, 5880, 5882, 5882, 5882, 5887, 5887, 5887, 5888, 5888, 5888, 5888, 5888, 5889, 5890, 5890, 5890, 5891, 5893, 5894, 5896, 5897, 5898, 5898, 5899, 5900, 5902, 5902, 5903, 5906, 5906, 5906, 5908, 5909, 5909, 5912, 5915, 5917, 5917, 5918, 5920, 5920, 5922, 5922, 5923, 5923, 5924, 5924, 5925, 5926, 5926, 5928, 5930, 5933, 5933, 5934, 5937, 5937, 5937, 5938, 5938, 5941, 5942, 5943, 5944, 5945, 5945, 5945, 5946, 5948, 5948, 5950, 5952, 5952, 5952, 5954, 5954, 5955, 5958, 5958, 5959, 5960, 5961, 5962, 5962, 5962, 5964, 5966, 5968, 5969, 5970, 5971, 5971, 5972, 5972, 5973, 5974, 5975, 5975, 5975, 5976, 5976, 5976, 5976, 5978, 5981, 5984, 5984, 5986, 5988, 5990, 5991, 5991, 5991, 5993, 5993, 5994, 5996, 5997, 5999, 5999, 6000, 6000, 6000, 6001, 6002, 6003, 6003, 6003, 6004, 6004, 6005, 6006, 6009, 6009, 6009, 6009, 6009, 6009, 6011, 6011, 6012, 6013, 6013, 6014, 6015, 6016, 6017, 6019, 6021, 6021, 6021, 6022, 6024, 6026, 6027, 6027, 6029, 6030, 6030, 6030, 6033, 6034, 6036, 6036, 6036, 6038, 6040, 6040, 6041, 6041, 6042, 6042, 6042, 6044, 6047, 6048, 6048, 6051, 6051, 6052, 6052, 6053, 6054, 6054, 6054, 6056, 6057, 6059, 6059, 6060, 6060, 6061, 6064, 6065, 6066, 6068, 6070, 6070, 6071, 6073, 6074, 6074, 6075, 6075, 6075, 6075, 6076, 6076, 6077, 6080, 6081, 6081, 6081, 6081, 6081, 6082, 6082, 6083, 6083, 6085, 6086, 6088, 6088, 6088, 6089, 6089, 6091, 6091, 6092, 6093, 6095, 6095, 6098, 6100, 6100, 6101, 6102, 6103, 6104, 6105, 6105, 6106, 6107, 6107, 6107, 6110, 6110, 6110, 6111, 6111, 6112, 6113, 6116, 6117, 6118, 6119, 6119, 6120, 6121, 6123, 6123, 6124, 6125, 6125, 6125, 6125, 6126, 6127, 6127, 6128, 6129, 6129, 6130, 6132, 6132, 6134, 6134, 6135, 6135, 6135, 6138, 6139, 6140, 6141, 6141, 6141, 6142, 6142, 6146, 6147, 6151, 6152, 6158, 6158, 6160, 6161, 6162, 6163, 6164, 6164, 6164, 6164, 6165, 6165, 6166, 6167, 6170, 6171, 6172, 6174, 6175, 6175, 6176, 6176, 6176, 6177, 6177, 6178, 6179, 6180, 6181, 6186, 6186, 6189, 6190, 6190, 6191, 6192, 6193, 6194, 6194, 6195, 6196, 6197, 6201, 6202, 6203, 6204, 6205, 6206, 6206, 6208, 6209, 6210, 6210, 6212, 6213, 6215, 6216, 6218, 6218, 6219, 6220, 6220, 6224, 6224, 6226, 6227, 6227, 6227, 6229, 6230, 6230, 6230, 6232, 6232, 6233, 6233, 6234, 6236, 6236, 6237, 6238, 6240, 6241, 6244, 6245, 6246, 6247, 6247, 6249, 6249, 6249, 6249, 6251, 6252, 6254, 6255, 6256, 6256, 6257, 6261, 6264, 6265, 6265, 6266, 6267, 6267, 6268, 6268, 6271, 6271, 6274, 6274, 6276, 6277, 6277, 6278, 6279, 6279, 6281, 6281, 6281, 6282, 6282, 6285, 6287, 6288, 6289, 6290, 6291, 6291, 6292, 6293, 6293, 6293, 6294, 6295, 6295, 6297, 6297, 6298, 6301, 6303, 6304, 6306, 6306, 6307, 6309, 6309, 6310, 6311, 6312, 6312, 6315, 6316, 6318, 6318, 6320, 6322, 6322, 6323, 6323, 6324, 6324, 6324, 6324, 6328, 6330, 6331, 6332, 6333, 6334, 6336, 6337, 6340, 6340, 6342, 6343, 6344, 6346, 6347, 6349, 6351, 6352, 6352, 6353, 6353, 6355, 6357, 6357, 6359, 6359, 6360, 6361, 6361, 6363, 6363, 6367, 6368, 6370, 6370, 6372, 6375, 6376, 6378, 6380, 6382, 6383, 6385, 6385, 6385, 6386, 6387, 6388, 6388, 6389, 6393, 6395, 6396, 6396, 6397, 6397, 6398, 6399, 6399, 6400, 6401, 6401, 6401, 6402, 6402, 6403, 6403, 6404, 6407, 6408, 6409, 6411, 6412, 6413, 6414, 6414, 6415, 6415, 6415, 6416, 6417, 6417, 6417, 6418, 6419, 6419, 6420, 6420, 6421, 6422, 6424, 6424, 6425, 6426, 6427, 6427, 6427, 6431, 6432, 6432, 6433, 6436, 6437, 6437, 6438, 6438, 6438, 6438, 6438, 6439, 6439, 6440, 6441, 6443, 6445, 6446, 6447, 6447, 6448, 6449, 6451, 6453, 6455, 6455, 6456, 6458, 6458, 6460, 6460, 6461, 6461, 6465, 6465, 6466, 6469, 6470, 6470, 6470, 6472, 6473, 6474, 6474, 6475, 6477, 6477, 6477, 6480, 6480, 6481, 6482, 6484, 6485, 6485, 6486, 6489, 6490, 6491, 6491, 6493, 6494, 6497, 6497, 6497, 6497, 6498, 6499, 6500, 6504, 6504, 6505, 6506, 6508, 6508, 6508, 6508, 6508, 6508, 6509, 6510, 6510, 6514, 6514, 6515, 6516, 6517, 6519, 6520, 6521, 6523, 6523, 6524, 6526, 6526, 6526, 6529, 6531, 6532, 6534, 6534, 6534, 6535, 6537, 6539, 6540, 6542, 6542, 6542, 6543, 6545, 6548, 6550, 6550, 6550, 6551, 6552, 6552, 6554, 6556, 6558, 6559, 6560, 6564, 6564, 6565, 6565, 6566, 6566, 6566, 6569, 6569, 6570, 6571, 6573, 6574, 6576, 6576, 6577, 6577, 6578, 6579, 6582, 6582, 6583, 6583, 6585, 6586, 6588, 6589, 6590, 6594, 6594, 6595, 6595, 6596, 6599, 6601, 6601, 6602, 6602, 6603, 6603, 6606, 6607, 6609, 6610, 6612, 6613, 6615, 6620, 6621, 6622, 6622, 6623, 6624, 6624, 6625, 6625, 6627, 6627, 6628, 6631, 6632, 6634, 6635, 6636, 6639, 6639, 6640, 6643, 6644, 6645, 6645, 6645, 6645, 6646, 6646, 6647, 6647, 6650, 6650, 6651, 6651, 6652, 6653, 6655, 6658, 6660, 6660, 6664, 6664, 6664, 6666, 6667, 6667, 6668, 6669, 6670, 6673, 6674, 6675, 6676, 6676, 6677, 6679, 6679, 6679, 6681, 6682, 6683, 6683, 6684, 6686, 6687, 6687, 6688, 6688, 6688, 6688, 6691, 6691, 6691, 6692, 6692, 6692, 6694, 6695, 6697, 6698, 6699, 6699, 6702, 6704, 6704, 6704, 6705, 6705, 6705, 6706, 6706, 6707, 6709, 6709, 6711, 6711, 6713, 6713, 6715, 6715, 6715, 6716, 6716, 6718, 6719, 6721, 6721, 6724, 6726, 6727, 6727, 6731, 6733, 6734, 6734, 6735, 6736, 6738, 6739, 6740, 6740, 6741, 6742, 6742, 6744, 6747, 6748, 6748, 6749, 6749, 6754, 6754, 6754, 6756, 6757, 6757, 6757, 6759, 6759, 6759, 6759, 6760, 6762, 6763, 6763, 6765, 6766, 6767, 6768, 6769, 6770, 6771, 6771, 6771, 6772, 6774, 6775, 6775, 6775, 6776, 6777, 6779, 6781, 6781, 6781, 6782, 6783, 6783, 6785, 6787, 6788, 6792, 6792, 6793, 6794, 6794, 6795, 6797, 6799, 6800, 6800, 6800, 6801, 6802, 6802, 6803, 6806, 6809, 6811, 6812, 6812, 6814, 6815, 6815, 6816, 6817, 6818, 6819, 6820, 6821, 6821, 6822, 6822, 6824, 6824, 6826, 6826, 6827, 6828, 6828, 6829, 6832, 6832, 6833, 6834, 6834, 6836, 6837, 6837, 6837, 6840, 6840, 6840, 6841, 6841, 6842, 6842, 6845, 6845, 6846, 6846, 6847, 6847, 6847, 6847, 6847, 6848, 6849, 6850, 6850, 6850, 6855, 6856, 6857, 6857, 6857, 6859, 6859, 6860, 6862, 6863, 6865, 6865, 6872, 6872, 6873, 6875, 6875, 6878, 6878, 6878, 6879, 6879, 6880, 6884, 6885, 6886, 6886, 6888, 6888, 6889, 6889, 6892, 6892, 6892, 6892, 6893, 6894, 6894, 6896, 6897, 6897, 6898, 6899, 6899, 6900, 6901, 6902, 6903, 6904, 6904, 6905, 6906, 6906, 6907, 6908, 6908, 6909, 6909, 6913, 6914, 6914, 6916, 6916, 6916, 6917, 6918, 6918, 6920, 6921, 6921, 6922, 6924, 6925, 6925, 6925, 6927, 6927, 6929, 6929, 6929, 6930, 6930, 6932, 6933, 6934, 6934, 6935, 6935, 6936, 6937, 6938, 6938, 6940, 6940, 6941, 6941, 6942, 6942, 6942, 6944, 6946, 6946, 6946, 6949, 6949, 6951, 6951, 6951, 6952, 6953, 6954, 6956, 6959, 6959, 6959, 6961, 6961, 6961, 6965, 6965, 6966, 6969, 6969, 6970, 6971, 6971, 6971, 6972, 6972, 6972, 6972, 6973, 6973, 6974, 6976, 6976, 6976, 6977, 6978, 6978, 6978, 6978, 6979, 6980, 6981, 6981, 6984, 6984, 6984, 6984, 6984, 6984, 6985, 6985, 6986, 6986, 6988, 6989, 6990, 6990, 6994, 6995, 6998, 6999, 7000, 7001, 7003, 7004, 7006, 7007, 7007, 7009, 7009, 7010, 7010, 7010, 7011, 7011, 7011, 7011, 7013, 7014, 7015, 7015, 7020, 7022, 7022, 7022, 7022, 7026, 7027, 7028, 7030, 7031, 7031, 7032, 7032, 7032, 7032, 7032, 7034, 7036, 7036, 7036, 7038, 7043, 7045, 7045, 7046, 7047, 7047, 7050, 7052, 7053, 7055, 7057, 7057, 7058, 7060, 7060, 7060, 7061, 7061, 7062, 7062, 7063, 7063, 7065, 7068, 7068, 7068, 7069, 7069, 7070, 7073, 7073, 7073, 7074, 7074, 7075, 7075, 7075, 7076, 7077, 7080, 7080, 7082, 7082, 7082, 7083, 7084, 7085, 7085, 7085, 7086, 7087, 7088, 7089, 7089, 7090, 7091, 7091, 7092, 7093, 7093, 7093, 7094, 7094, 7094, 7094, 7095, 7095, 7095, 7096, 7097, 7098, 7101, 7102, 7102, 7103, 7104, 7104, 7104, 7107, 7107, 7107, 7109, 7110, 7110, 7111, 7112, 7114, 7115, 7115, 7115, 7118, 7119, 7120, 7120, 7121, 7121, 7122, 7124, 7124, 7125, 7125, 7125, 7125, 7127, 7127, 7127, 7127, 7129, 7130, 7130, 7131, 7131, 7132, 7135, 7136, 7139, 7139, 7140, 7140, 7141, 7142, 7142, 7142, 7142, 7144, 7144, 7147, 7150, 7152, 7154, 7155, 7155, 7156, 7156, 7157, 7157, 7159, 7159, 7160, 7161, 7163, 7163, 7164, 7165, 7165, 7167, 7168, 7168, 7169, 7173, 7175, 7175, 7175, 7175, 7175, 7177, 7178, 7178, 7179, 7179, 7180, 7181, 7182, 7182, 7182, 7183, 7186, 7187, 7187, 7188, 7189, 7189, 7194, 7194, 7196, 7196, 7197, 7197, 7197, 7198, 7198, 7202, 7203, 7203, 7204, 7204, 7205, 7206, 7207, 7207, 7207, 7209, 7209, 7210, 7211, 7211, 7211, 7212, 7212, 7216, 7219, 7226, 7227, 7228, 7230, 7233, 7233, 7233, 7234, 7234, 7235, 7236, 7236, 7237, 7237, 7240, 7241, 7242, 7242, 7242, 7243, 7247, 7247, 7247, 7247, 7250, 7251, 7252, 7254, 7256, 7257, 7258, 7260, 7261, 7261, 7262, 7263, 7263, 7264, 7268, 7269, 7271, 7271, 7271, 7271, 7271, 7273, 7274, 7274, 7274, 7274, 7275, 7276, 7278, 7280, 7281, 7282, 7282, 7283, 7283, 7285, 7285, 7287, 7289, 7289, 7290, 7290, 7290, 7290, 7291, 7291, 7291, 7292, 7292, 7292, 7294, 7294, 7294, 7294, 7294, 7294, 7295, 7295, 7297, 7298, 7298, 7299, 7302, 7302, 7303, 7303, 7303, 7303, 7304, 7304, 7307, 7307, 7308, 7309, 7310, 7311, 7313, 7315, 7315, 7315, 7315, 7316, 7316, 7318, 7319, 7319, 7320, 7320, 7320, 7321, 7322, 7322, 7322, 7323, 7326, 7326, 7328, 7329, 7329, 7331, 7333, 7334, 7335, 7335, 7336, 7339, 7340, 7340, 7341, 7341, 7341, 7343, 7345, 7345, 7346, 7348, 7348, 7353, 7354, 7355, 7356, 7359, 7359, 7361, 7361, 7362, 7362, 7363, 7363, 7364, 7365, 7367, 7368, 7369, 7370, 7371, 7371, 7372, 7373, 7374, 7376, 7377, 7378, 7378, 7379, 7380, 7381, 7381, 7381, 7382, 7382, 7383, 7385, 7385, 7387, 7388, 7388, 7390, 7391, 7392, 7394, 7394, 7394, 7395, 7396, 7399, 7400, 7401, 7406, 7408, 7409, 7409, 7410, 7412, 7412, 7414, 7416, 7416, 7417, 7419, 7419, 7421, 7422, 7423, 7423, 7426, 7427, 7429, 7430, 7430, 7432, 7432, 7432, 7433, 7433, 7434, 7435, 7436, 7437, 7437, 7439, 7439, 7439, 7439, 7440, 7440, 7441, 7442, 7442, 7443, 7443, 7443, 7444, 7445, 7447, 7448, 7448, 7451, 7453, 7453, 7454, 7454, 7454, 7454, 7457, 7458, 7458, 7459, 7459, 7459, 7460, 7461, 7461, 7461, 7463, 7465, 7466, 7469, 7470, 7470, 7471, 7471, 7472, 7476, 7477, 7477, 7477, 7480, 7483, 7483, 7484, 7486, 7487, 7491, 7491, 7491, 7493, 7493, 7494, 7494, 7495, 7496, 7497, 7497, 7497, 7497, 7498, 7498, 7498, 7498, 7499, 7499, 7500, 7500, 7500, 7500, 7500, 7501, 7501, 7507, 7510, 7510, 7511, 7512, 7513, 7514, 7514, 7514, 7515, 7519, 7520, 7523, 7524, 7524, 7526, 7527, 7527, 7527, 7527, 7528, 7529, 7530, 7530, 7533, 7533, 7533, 7536, 7536, 7537, 7538, 7539, 7539, 7540, 7541, 7542, 7543, 7543, 7543, 7543, 7544, 7545, 7546, 7550, 7558, 7558, 7558, 7559, 7559, 7560, 7560, 7560, 7561, 7563, 7564, 7564, 7564, 7565, 7565, 7567, 7567, 7568, 7569, 7570, 7571, 7572, 7574, 7574, 7575, 7577, 7578, 7578, 7579, 7581, 7581, 7582, 7583, 7583, 7583, 7583, 7587, 7588, 7589, 7589, 7590, 7591, 7593, 7595, 7598, 7598, 7599, 7599, 7599, 7601, 7602, 7605, 7606, 7607, 7607, 7608, 7609, 7609, 7610, 7610, 7610, 7611, 7612, 7615, 7616, 7616, 7617, 7618, 7619, 7621, 7622, 7622, 7623, 7623, 7623, 7625, 7625, 7625, 7626, 7628, 7630, 7630, 7631, 7631, 7632, 7633, 7633, 7634, 7635, 7635, 7636, 7637, 7641, 7643, 7644, 7644, 7646, 7647, 7647, 7648, 7648, 7648, 7650, 7650, 7651, 7653, 7654, 7655, 7659, 7659, 7659, 7661, 7662, 7662, 7664, 7667, 7667, 7668, 7668, 7670, 7670, 7671, 7674, 7676, 7677, 7678, 7678, 7680, 7680, 7680, 7683, 7683, 7684, 7685, 7686, 7687, 7690, 7693, 7696, 7696, 7697, 7699, 7700, 7700, 7701, 7702, 7702, 7703, 7704, 7705, 7706, 7706, 7709, 7709, 7714, 7714, 7715, 7715, 7716, 7717, 7719, 7719, 7722, 7722, 7723, 7724, 7727, 7729, 7729, 7730, 7731, 7733, 7736, 7736, 7737, 7738, 7739, 7741, 7742, 7743, 7743, 7744, 7744, 7745, 7746, 7746, 7748, 7749, 7749, 7749, 7750, 7751, 7752, 7752, 7753, 7755, 7755, 7756, 7759, 7759, 7760, 7760, 7761, 7763, 7764, 7769, 7769, 7770, 7771, 7771, 7771, 7771, 7773, 7774, 7775, 7775, 7778, 7778, 7779, 7781, 7781, 7781, 7782, 7782, 7782, 7784, 7785, 7786, 7787, 7788, 7790, 7792, 7792, 7794, 7795, 7795, 7795, 7796, 7797, 7798, 7799, 7799, 7802, 7803, 7804, 7804, 7806, 7806, 7807, 7807, 7810, 7811, 7811, 7813, 7814, 7816, 7816, 7818, 7820, 7820, 7821, 7822, 7823, 7825, 7827, 7829, 7829, 7832, 7834, 7835, 7836, 7837, 7837, 7841, 7846, 7847, 7848, 7850, 7853, 7854, 7856, 7859, 7861, 7861, 7861, 7862, 7863, 7863, 7864, 7865, 7867, 7868, 7868, 7868, 7870, 7872, 7872, 7873, 7875, 7875, 7876, 7877, 7877, 7878, 7880, 7881, 7882, 7883, 7884, 7884, 7885, 7885, 7886, 7886, 7887, 7887, 7888, 7888, 7888, 7890, 7890, 7890, 7891, 7892, 7892, 7894, 7896, 7898, 7899, 7900, 7902, 7902, 7903, 7903, 7903, 7905, 7905, 7908, 7909, 7911, 7912, 7913, 7916, 7916, 7918, 7918, 7919, 7919, 7920, 7921, 7921, 7922, 7925, 7925, 7926, 7926, 7926, 7928, 7928, 7929, 7929, 7932, 7933, 7937, 7937, 7937, 7938, 7939, 7943, 7944, 7950, 7951, 7952, 7953, 7953, 7954, 7954, 7955, 7955, 7956, 7957, 7958, 7958, 7961, 7963, 7964, 7966, 7967, 7967, 7969, 7971, 7973, 7973, 7974, 7975, 7976, 7976, 7976, 7977, 7979, 7979, 7979, 7979, 7979, 7980, 7981, 7982, 7983, 7984, 7986, 7988, 7988, 7990, 7991, 7992, 7992, 7993, 7993, 7995, 7996, 7998, 7998, 7998, 7999, 7999, 8002, 8002, 8002, 8003, 8003, 8003, 8003, 8007, 8008, 8008, 8010, 8010, 8011, 8012, 8013, 8015, 8015, 8016, 8016, 8017, 8018, 8018, 8019, 8020, 8020, 8023, 8025, 8026, 8029, 8030, 8037, 8038, 8040, 8041, 8041, 8043, 8046, 8046, 8047, 8047, 8048, 8049, 8051, 8052, 8052, 8053, 8055, 8055, 8057, 8058, 8058, 8059, 8059, 8059, 8060, 8060, 8060, 8061, 8063, 8064, 8064, 8067, 8067, 8068, 8068, 8068, 8071, 8074, 8075, 8075, 8076, 8077, 8082, 8082, 8090, 8090, 8091, 8091, 8094, 8094, 8095, 8096, 8096, 8097, 8097, 8099, 8099, 8101, 8101, 8102, 8102, 8103, 8103, 8105, 8105, 8107, 8107, 8110, 8111, 8111, 8112, 8112, 8112, 8114, 8114, 8114, 8115, 8115, 8116, 8117, 8118, 8119, 8120, 8121, 8121, 8121, 8123, 8123, 8124, 8124, 8125, 8127, 8128, 8130, 8131, 8131, 8132, 8134, 8136, 8137, 8142, 8142, 8145, 8146, 8147, 8151, 8151, 8151, 8152, 8152, 8155, 8155, 8156, 8158, 8158, 8159, 8160, 8160, 8160, 8160, 8161, 8162, 8164, 8164, 8165, 8165, 8166, 8166, 8167, 8168, 8168, 8173, 8173, 8174, 8175, 8176, 8177, 8178, 8179, 8180, 8181, 8183, 8183, 8183, 8184, 8187, 8191, 8191, 8191, 8194, 8195, 8195, 8196, 8196, 8198, 8199, 8201, 8202, 8206, 8207, 8208, 8208, 8209, 8209, 8209, 8210, 8210, 8211, 8211, 8213, 8216, 8218, 8219, 8221, 8222, 8223, 8224, 8225, 8225, 8226, 8226, 8226, 8227, 8229, 8231, 8233, 8234, 8234, 8235, 8236, 8236, 8237, 8237, 8239, 8239, 8239, 8240, 8243, 8246, 8247, 8249, 8249, 8249, 8251, 8252, 8252, 8252, 8254, 8255, 8255, 8255, 8256, 8258, 8258, 8259, 8259, 8259, 8259, 8262, 8263, 8264, 8265, 8266, 8266, 8268, 8268, 8268, 8269, 8269, 8269, 8272, 8272, 8274, 8274, 8276, 8277, 8279, 8282, 8285, 8285, 8287, 8287, 8296, 8296, 8297, 8298, 8298, 8298, 8300, 8300, 8301, 8302, 8302, 8303, 8303, 8311, 8312, 8316, 8316, 8319, 8321, 8321, 8321, 8322, 8323, 8324, 8326, 8326, 8327, 8328, 8329, 8332, 8333, 8333, 8333, 8335, 8335, 8336, 8336, 8337, 8338, 8339, 8340, 8340, 8342, 8342, 8343, 8344, 8344, 8344, 8346, 8347, 8347, 8349, 8349, 8350, 8350, 8352, 8354, 8355, 8357, 8358, 8360, 8361, 8361, 8362, 8363, 8364, 8365, 8365, 8366, 8366, 8367, 8371, 8372, 8373, 8373, 8374, 8375, 8375, 8376, 8376, 8377, 8378, 8381, 8382, 8382, 8382, 8383, 8385, 8386, 8387, 8387, 8391, 8391, 8392, 8393, 8393, 8394, 8396, 8396, 8396, 8398, 8398, 8399, 8403, 8404, 8404, 8405, 8406, 8406, 8407, 8408, 8409, 8409, 8409, 8413, 8414, 8415, 8417, 8418, 8419, 8419, 8420, 8422, 8422, 8423, 8424, 8425, 8427, 8428, 8429, 8429, 8429, 8430, 8430, 8430, 8430, 8431, 8433, 8433, 8433, 8434, 8435, 8437, 8437, 8440, 8440, 8440, 8441, 8441, 8441, 8442, 8443, 8444, 8445, 8445, 8446, 8446, 8448, 8448, 8449, 8449, 8450, 8451, 8451, 8452, 8453, 8453, 8454, 8454, 8455, 8456, 8458, 8459, 8459, 8459, 8462, 8463, 8463, 8465, 8466, 8467, 8467, 8468, 8468, 8469, 8471, 8471, 8474, 8474, 8475, 8475, 8475, 8475, 8475, 8476, 8478, 8480, 8480, 8482, 8483, 8484, 8484, 8485, 8485, 8487, 8487, 8488, 8491, 8491, 8492, 8494, 8494, 8495, 8495, 8499, 8499, 8499, 8499, 8501, 8502, 8502, 8502, 8503, 8503, 8504, 8504, 8505, 8506, 8507, 8508, 8508, 8510, 8510, 8517, 8519, 8520, 8520, 8520, 8521, 8522, 8524, 8524, 8525, 8527, 8528, 8528, 8528, 8528, 8531, 8532, 8533, 8534, 8536, 8536, 8538, 8538, 8540, 8542, 8543, 8543, 8543, 8544, 8547, 8547, 8549, 8550, 8550, 8552, 8553, 8554, 8555, 8556, 8558, 8560, 8561, 8561, 8562, 8562, 8564, 8565, 8571, 8572, 8572, 8573, 8573, 8575, 8576, 8577, 8578, 8579, 8582, 8584, 8585, 8585, 8585, 8590, 8590, 8595, 8595, 8595, 8596, 8597, 8597, 8601, 8601, 8604, 8604, 8604, 8606, 8607, 8609, 8610, 8610, 8610, 8611, 8612, 8613, 8614, 8614, 8614, 8615, 8616, 8616, 8616, 8618, 8621, 8622, 8623, 8626, 8627, 8628, 8629, 8631, 8631, 8632, 8635, 8635, 8636, 8636, 8636, 8637, 8637, 8637, 8637, 8638, 8638, 8638, 8639, 8641, 8643, 8643, 8644, 8644, 8644, 8644, 8645, 8645, 8646, 8647, 8647, 8648, 8649, 8649, 8650, 8651, 8651, 8651, 8651, 8652, 8653, 8653, 8654, 8655, 8656, 8656, 8657, 8658, 8659, 8660, 8662, 8663, 8664, 8664, 8665, 8665, 8666, 8668, 8668, 8669, 8671, 8671, 8672, 8672, 8674, 8674, 8675, 8676, 8678, 8679, 8679, 8679, 8680, 8680, 8683, 8683, 8684, 8684, 8684, 8685, 8686, 8687, 8688, 8690, 8692, 8693, 8696, 8697, 8698, 8698, 8699, 8700, 8701, 8702, 8702, 8706, 8707, 8707, 8709, 8710, 8710, 8711, 8711, 8711, 8712, 8714, 8715, 8715, 8716, 8718, 8719, 8721, 8723, 8726, 8728, 8728, 8731, 8733, 8734, 8735, 8736, 8737, 8739, 8740, 8744, 8745, 8747, 8748, 8748, 8748, 8749, 8750, 8750, 8751, 8752, 8757, 8757, 8758, 8758, 8759, 8762, 8763, 8763, 8763, 8764, 8765, 8765, 8766, 8769, 8769, 8769, 8770, 8771, 8772, 8772, 8772, 8774, 8774, 8775, 8777, 8777, 8778, 8780, 8780, 8781, 8782, 8782, 8783, 8784, 8784, 8785, 8786, 8788, 8788, 8789, 8790, 8790, 8790, 8790, 8791, 8791, 8792, 8794, 8799, 8800, 8800, 8801, 8801, 8804, 8805, 8805, 8806, 8806, 8807, 8807, 8808, 8809, 8810, 8811, 8813, 8814, 8817, 8817, 8819, 8821, 8821, 8823, 8824, 8824, 8824, 8826, 8827, 8828, 8829, 8829, 8829, 8830, 8830, 8831, 8833, 8833, 8835, 8838, 8840, 8841, 8842, 8843, 8843, 8847, 8847, 8847, 8848, 8848, 8849, 8850, 8851, 8852, 8852, 8853, 8853, 8853, 8854, 8855, 8856, 8857, 8857, 8860, 8862, 8863, 8863, 8864, 8864, 8864, 8868, 8869, 8870, 8872, 8874, 8874, 8876, 8876, 8876, 8877, 8877, 8877, 8878, 8878, 8879, 8881, 8882, 8882, 8882, 8882, 8884, 8884, 8885, 8885, 8886, 8886, 8887, 8888, 8888, 8889, 8889, 8889, 8891, 8891, 8892, 8893, 8893, 8893, 8901, 8903, 8904, 8905, 8906, 8907, 8909, 8911, 8912, 8912, 8912, 8914, 8915, 8918, 8919, 8921, 8921, 8923, 8928, 8929, 8929, 8930, 8931, 8931, 8932, 8934, 8935, 8936, 8936, 8936, 8937, 8937, 8938, 8938, 8941, 8942, 8943, 8944, 8944, 8946, 8946, 8947, 8948, 8948, 8950, 8950, 8951, 8952, 8952, 8953, 8955, 8956, 8961, 8965, 8966, 8966, 8967, 8967, 8967, 8968, 8968, 8969, 8969, 8970, 8971, 8972, 8972, 8973, 8974, 8976, 8976, 8976, 8977, 8978, 8979, 8980, 8981, 8981, 8981, 8981, 8982, 8984, 8985, 8985, 8986, 8989, 8990, 8991, 8992, 8993, 8995, 8996, 8997, 8998, 8998, 8999, 9002, 9002, 9002, 9002, 9003, 9004, 9006, 9007, 9008, 9011, 9011, 9012, 9012, 9015, 9016, 9016, 9016, 9017, 9017, 9017, 9018, 9019, 9020, 9023, 9025, 9025, 9026, 9026, 9026, 9027, 9027, 9030, 9031, 9032, 9032, 9032, 9035, 9035, 9038, 9038, 9038, 9040, 9040, 9042, 9043, 9043, 9043, 9044, 9044, 9045, 9046, 9047, 9047, 9047, 9048, 9049, 9049, 9050, 9050, 9051, 9051, 9051, 9051, 9054, 9055, 9056, 9057, 9058, 9060, 9062, 9062, 9066, 9067, 9068, 9073, 9073, 9074, 9077, 9077, 9078, 9079, 9079, 9081, 9084, 9084, 9084, 9084, 9084, 9084, 9085, 9085, 9087, 9090, 9092, 9094, 9095, 9095, 9095, 9096, 9096, 9097, 9097, 9099, 9100, 9100, 9100, 9101, 9101, 9101, 9104, 9105, 9106, 9108, 9108, 9111, 9112, 9112, 9112, 9113, 9113, 9114, 9114, 9116, 9116, 9116, 9118, 9119, 9119, 9120, 9121, 9122, 9124, 9125, 9125, 9125, 9125, 9126, 9126, 9127, 9128, 9129, 9130, 9130, 9131, 9132, 9133, 9134, 9137, 9138, 9142, 9144, 9146, 9148, 9150, 9151, 9153, 9155, 9156, 9159, 9159, 9160, 9160, 9160, 9161, 9161, 9162, 9162, 9162, 9164, 9164, 9169, 9169, 9170, 9171, 9172, 9172, 9172, 9176, 9177, 9178, 9179, 9179, 9180, 9181, 9181, 9182, 9185, 9187, 9189, 9190, 9191, 9193, 9194, 9198, 9200, 9202, 9202, 9205, 9206, 9207, 9209, 9209, 9213, 9215, 9218, 9219, 9220, 9224, 9225, 9226, 9229, 9229, 9229, 9229, 9229, 9230, 9231, 9232, 9232, 9233, 9236, 9236, 9237, 9237, 9237, 9237, 9241, 9242, 9242, 9242, 9242, 9243, 9244, 9245, 9246, 9246, 9246, 9248, 9248, 9248, 9250, 9250, 9251, 9252, 9256, 9257, 9258, 9259, 9260, 9260, 9263, 9264, 9265, 9266, 9267, 9267, 9269, 9270, 9270, 9271, 9271, 9272, 9274, 9277, 9277, 9279, 9280, 9283, 9283, 9285, 9286, 9290, 9291, 9292, 9294, 9295, 9295, 9295, 9296, 9296, 9297, 9298, 9299, 9299, 9300, 9300, 9302, 9302, 9302, 9303, 9304, 9305, 9305, 9306, 9308, 9308, 9309, 9310, 9311, 9313, 9314, 9317, 9319, 9320, 9323, 9325, 9328, 9328, 9328, 9329, 9330, 9330, 9331, 9332, 9333, 9334, 9335, 9335, 9336, 9337, 9337, 9337, 9340, 9340, 9342, 9343, 9345, 9345, 9347, 9347, 9349, 9349, 9351, 9351, 9354, 9354, 9354, 9356, 9357, 9358, 9359, 9359, 9360, 9360, 9360, 9363, 9363, 9366, 9366, 9367, 9368, 9369, 9372, 9373, 9373, 9373, 9374, 9374, 9375, 9376, 9376, 9377, 9377, 9377, 9377, 9377, 9379, 9381, 9381, 9383, 9383, 9384, 9384, 9385, 9385, 9391, 9393, 9394, 9394, 9396, 9398, 9399, 9401, 9401, 9402, 9402, 9404, 9407, 9407, 9408, 9408, 9409, 9410, 9411, 9412, 9413, 9416, 9416, 9417, 9419, 9421, 9422, 9422, 9422, 9423, 9423, 9424, 9425, 9425, 9425, 9426, 9429, 9429, 9429, 9430, 9431, 9431, 9431, 9432, 9434, 9437, 9438, 9439, 9440, 9441, 9441, 9442, 9443, 9443, 9443, 9444, 9449, 9450, 9450, 9450, 9452, 9454, 9454, 9456, 9457, 9458, 9459, 9459, 9461, 9462, 9463, 9463, 9463, 9464, 9465, 9466, 9466, 9468, 9468, 9469, 9469, 9470, 9472, 9472, 9473, 9476, 9476, 9476, 9476, 9476, 9478, 9481, 9481, 9483, 9483, 9485, 9485, 9485, 9485, 9486, 9486, 9488, 9489, 9490, 9490, 9491, 9492, 9493, 9496, 9496, 9496, 9497, 9498, 9499, 9499, 9500, 9501, 9501, 9503, 9503, 9503, 9504, 9504, 9504, 9505, 9505, 9505, 9506, 9508, 9508, 9509, 9510, 9510, 9511, 9512, 9514, 9515, 9517, 9519, 9519, 9522, 9522, 9523, 9524, 9525, 9529, 9529, 9531, 9532, 9535, 9536, 9538, 9538, 9538, 9539, 9541, 9542, 9543, 9543, 9544, 9544, 9544, 9547, 9548, 9548, 9548, 9549, 9549, 9550, 9551, 9554, 9558, 9559, 9559, 9559, 9562, 9563, 9563, 9564, 9565, 9565, 9566, 9566, 9566, 9568, 9569, 9571, 9571, 9571, 9572, 9573, 9573, 9573, 9578, 9578, 9579, 9580, 9580, 9580, 9580, 9582, 9583, 9585, 9586, 9586, 9591, 9592, 9592, 9593, 9594, 9594, 9596, 9597, 9597, 9598, 9598, 9598, 9599, 9600, 9601, 9604, 9605, 9605, 9607, 9607, 9608, 9609, 9610, 9610, 9611, 9611, 9614, 9615, 9616, 9616, 9619, 9619, 9620, 9622, 9622, 9630, 9630, 9630, 9633, 9634, 9635, 9635, 9635, 9635, 9635, 9639, 9639, 9640, 9644, 9645, 9647, 9647, 9648, 9650, 9650, 9652, 9656, 9657, 9660, 9662, 9667, 9668, 9669, 9670, 9672, 9672, 9675, 9675, 9676, 9679, 9681, 9681, 9681, 9682, 9683, 9684, 9686, 9686, 9687, 9689, 9693, 9695, 9695, 9695, 9695, 9697, 9698, 9702, 9704, 9704, 9705, 9706, 9706, 9706, 9708, 9709, 9709, 9711, 9712, 9712, 9712, 9714, 9715, 9717, 9717, 9719, 9719, 9721, 9721, 9722, 9724, 9726, 9727, 9728, 9728, 9729, 9729, 9729, 9730, 9731, 9733, 9734, 9734, 9735, 9735, 9735, 9737, 9737, 9737, 9742, 9744, 9745, 9749, 9750, 9751, 9752, 9753, 9754, 9756, 9757, 9757, 9758, 9758, 9759, 9760, 9760, 9763, 9765, 9765, 9766, 9766, 9766, 9767, 9767, 9769, 9771, 9771, 9775, 9776, 9777, 9782, 9785, 9785, 9785, 9788, 9788, 9796, 9798, 9798, 9798, 9798, 9799, 9799, 9800, 9801, 9803, 9804, 9804, 9804, 9805, 9806, 9808, 9809, 9809, 9811, 9812, 9812, 9813, 9813, 9814, 9815, 9816, 9816, 9816, 9816, 9816, 9817, 9817, 9818, 9818, 9820, 9822, 9822, 9824, 9825, 9827, 9829, 9830, 9831, 9831, 9832, 9833, 9835, 9836, 9837, 9841, 9842, 9844, 9846, 9848, 9848, 9849, 9850, 9850, 9851, 9853, 9854, 9854, 9855, 9855, 9857, 9858, 9859, 9859, 9859, 9860, 9861, 9862, 9863, 9863, 9864, 9866, 9867, 9868, 9868, 9868, 9869, 9869, 9869, 9870, 9872, 9874, 9875, 9875, 9875, 9877, 9878, 9881, 9882, 9885, 9886, 9887, 9888, 9889, 9889, 9891, 9892, 9893, 9893, 9894, 9894, 9896, 9897, 9897, 9897, 9897, 9898, 9899, 9899, 9900, 9901, 9902, 9903, 9905, 9906, 9908, 9908, 9909, 9910, 9911, 9911, 9913, 9913, 9914, 9914, 9915, 9917, 9922, 9927, 9927, 9928, 9928, 9928, 9928, 9929, 9929, 9932, 9934, 9935, 9935, 9936, 9936, 9936, 9937, 9938, 9940, 9941, 9941, 9941, 9942, 9943, 9943, 9943, 9944, 9946, 9946, 9947, 9947, 9947, 9947, 9954, 9954, 9955, 9956, 9957, 9958, 9958, 9958, 9960, 9961, 9964, 9967, 9969, 9970, 9970, 9971, 9972, 9974, 9976, 9977, 9977, 9977, 9978, 9979, 9980, 9982, 9983, 9985, 9986, 9990, 9990, 9991, 9992, 9992, 9992, 9994, 9995, 9998]\n"
          ]
        }
      ]
    },
    {
      "cell_type": "code",
      "source": [
        "# pag 162 Exercício 1\n",
        "\n",
        "conjunto_1 = set()\n",
        "conjunto_2 = set()\n",
        "\n",
        "while True:\n",
        "  #resp = str()\n",
        "  conjunto_1.add(str(input('Inclua uma fruta no conjunto 1: ')))\n",
        "  resp = str(input('Deseja continuar? [S/N]: ')).upper()\n",
        "  if resp == 'N':\n",
        "    break\n",
        "while True:\n",
        "  #resp = str()\n",
        "  conjunto_2.add(str(input('Inclua uma fruta no conjunto 2: ')))\n",
        "  resp = str(input('Deseja continuar? [S/N]: ')).upper()\n",
        "  if resp == 'N':\n",
        "    break\n",
        "print(f'A união do conjunto 1 {conjunto_1} e do conjunto 2 {conjunto_2} é {conjunto_1 | conjunto_2}')\n",
        "print(f'A interseção do conjunto 1 {conjunto_1} e do conjunto 2 {conjunto_2} é {conjunto_1 & conjunto_2}')\n",
        "print(f'A diferença simétrica do conjunto 1 {conjunto_1} e do conjunto 2 {conjunto_2} é {conjunto_1 ^ conjunto_2}')\n",
        "print(f'O conjunto 1 possui {len(conjunto_1)} elementos e o conjunto 2 possui {len(conjunto_2)} elementos')\n",
        "print(f'A diferença entre os conjuntos 1 e 2 é {conjunto_1 - conjunto_2}')\n"
      ],
      "metadata": {
        "colab": {
          "base_uri": "https://localhost:8080/"
        },
        "id": "HxE69Cfoov0g",
        "outputId": "1186d9c0-473c-46ef-c56c-82873cd124c5"
      },
      "execution_count": null,
      "outputs": [
        {
          "output_type": "stream",
          "name": "stdout",
          "text": [
            "Inclua uma fruta no conjunto 1: maçã\n",
            "Deseja continuar? [S/N]: s\n",
            "Inclua uma fruta no conjunto 1: pêra\n",
            "Deseja continuar? [S/N]: s\n",
            "Inclua uma fruta no conjunto 1: banana\n",
            "Deseja continuar? [S/N]: n\n",
            "Inclua uma fruta no conjunto 2: uva\n",
            "Deseja continuar? [S/N]: s\n",
            "Inclua uma fruta no conjunto 2: melancia\n",
            "Deseja continuar? [S/N]: n\n",
            "A união do conjunto 1 {'banana', 'pêra', 'maçã'} e do conjunto 2 {'uva', 'melancia'} é {'uva', 'banana', 'melancia', 'pêra', 'maçã'}\n",
            "A interseção do conjunto 1 {'banana', 'pêra', 'maçã'} e do conjunto 2 {'uva', 'melancia'} é set()\n",
            "A diferença simétrica do conjunto 1 {'banana', 'pêra', 'maçã'} e do conjunto 2 {'uva', 'melancia'} é {'uva', 'banana', 'pêra', 'melancia', 'maçã'}\n",
            "O conjunto 1 possui 3 elementos e o conjunto 2 possui 2 elementos\n",
            "A diferença entre os conjuntos 1 e 2 é {'banana', 'maçã', 'pêra'}\n"
          ]
        }
      ]
    },
    {
      "cell_type": "code",
      "source": [
        "# pag 162 Exercício 2\n",
        "\n",
        "from random import randint \n",
        "A = set()\n",
        "B = set()\n",
        "while True:\n",
        "  N = int(input(('Digite um número maior do 0 e menor do 30: ')))\n",
        "  if N > 0 and N < 29:\n",
        "    break\n",
        "  else:\n",
        "    print('Digite um número válido !!!')\n",
        "while len(A) < N:\n",
        "  A.add(randint(1, 30))\n",
        "while len(B) < 30 - len(A):\n",
        "  B.add(randint(1, 30))\n",
        "\n",
        "print(f'Conjunto A: {A} possui {len(A)} elementos') \n",
        "print(f'Conjunto B: {B} possui {len(B)} elementos')\n",
        "print('\\nFim do programa')"
      ],
      "metadata": {
        "colab": {
          "base_uri": "https://localhost:8080/"
        },
        "id": "k9X2mvOX_ahr",
        "outputId": "11bccac2-1972-4f40-e98e-b78a28482e95"
      },
      "execution_count": null,
      "outputs": [
        {
          "output_type": "stream",
          "name": "stdout",
          "text": [
            "Digite um número maior do 0 e menor do 30: 26\n",
            "Conjunto A: {1, 3, 4, 5, 6, 7, 8, 9, 10, 11, 12, 13, 14, 15, 16, 18, 19, 20, 23, 24, 25, 26, 27, 28, 29, 30} possui 26 elementos\n",
            "Conjunto B: {19, 25, 27, 14} possui 4 elementos\n",
            "\n",
            "Fim do programa\n"
          ]
        }
      ]
    },
    {
      "cell_type": "code",
      "source": [
        "# pag 163 Exercício 3\n",
        "Conjunto = dict()\n",
        "while True:\n",
        "  N = int(input('Digite um número maior do que 0: '))\n",
        "  if N <= 0:\n",
        "    break\n",
        "  elif N in Conjunto:\n",
        "    Conjunto[N].append(N)\n",
        "  else:\n",
        "    Conjunto[N] = list()\n",
        "    Conjunto[N].append(N)\n",
        "print()\n",
        "for valor, quantidade in Conjunto.items():\n",
        "  print(f'O valor {valor} foi digitado {len(quantidade)} vezes')\n",
        "\n",
        "\n"
      ],
      "metadata": {
        "id": "x-EFa7HsGhQO"
      },
      "execution_count": null,
      "outputs": []
    },
    {
      "cell_type": "code",
      "source": [
        "# pag 163 Exercício 4\n",
        "\n",
        "Q = int(input('Digite a quantidade de alunos: '))\n",
        "Cadastro = dict()\n",
        "\n",
        "print('Notas dos alunos')\n",
        "\n",
        "while Q > 0:\n",
        "  nome = str(input('Digite o nome: '))\n",
        "  n1 = float(input('Digite a nota 1: '))\n",
        "  n2 = float(input('Digite a nota 2: '))\n",
        "  n3 = float(input('Digite a nota 3: '))\n",
        "  n4 = float(input('Digite a nota 4: '))\n",
        "  Cadastro[nome] = (n1, n2, n3, n4)\n",
        "  Q -= 1\n",
        "print()\n",
        "print('Notas dos Alunos')\n",
        "print('-' * 30)\n",
        "for nome, notas in Cadastro.items():\n",
        "  print(f'{nome:<20}', end = ' ')\n",
        "  for i, nota in enumerate(notas):\n",
        "    print(f'Nota {i + 1}: {nota:^10,.2f}', end = ' ')\n",
        "  if sum(notas)/len(notas) >= 6:\n",
        "    print('Aprovado\\n')\n",
        "  else:\n",
        "    print('Reprovado\\n')\n",
        "\n",
        "\n"
      ],
      "metadata": {
        "id": "K6daCFMeOji5",
        "colab": {
          "base_uri": "https://localhost:8080/"
        },
        "outputId": "41229049-ce7b-4cc5-c84c-964e86e8bad5"
      },
      "execution_count": null,
      "outputs": [
        {
          "output_type": "stream",
          "name": "stdout",
          "text": [
            "Digite a quantidade de alunos: 2\n",
            "Notas dos alunos\n",
            "Digite o nome: vaca\n",
            "Digite a nota 1: 3\n",
            "Digite a nota 2: 6\n",
            "Digite a nota 3: 2\n",
            "Digite a nota 4: 9\n",
            "Digite o nome: boi\n",
            "Digite a nota 1: 4\n",
            "Digite a nota 2: 6\n",
            "Digite a nota 3: 2\n",
            "Digite a nota 4: 9\n",
            "\n",
            "Notas dos Alunos\n",
            "------------------------------\n",
            "vaca                 Nota 1:    3.00    Nota 2:    6.00    Nota 3:    2.00    Nota 4:    9.00    Reprovado\n",
            "\n",
            "boi                  Nota 1:    4.00    Nota 2:    6.00    Nota 3:    2.00    Nota 4:    9.00    Reprovado\n",
            "\n"
          ]
        }
      ]
    },
    {
      "cell_type": "code",
      "source": [
        "# pag 163 Exercício 5\n",
        "\n",
        "Q = int(input('Digite o numero de alunos: '))\n",
        "Cadastro = dict()\n",
        "\n",
        "print('Notas dos alunos')\n",
        "print()\n",
        "while Q > 0:\n",
        "  nome = str(input('Digite o nome: '))\n",
        "  n1 = float(input('Digite a nota 1: '))\n",
        "  n2 = float(input('Digite a nota 2: '))\n",
        "  n3 = float(input('Digite a nota 3: '))\n",
        "  n4 = float(input('Digite a nota 4: '))\n",
        "  Q =-1\n",
        "\n",
        "  notas = [n1, n2, n3, n4]\n",
        "  notas.remove(min(notas))\n",
        "  Cadastro[nome] = notas\n",
        "\n",
        "  print()\n",
        "  print('Notas dos alunos')\n",
        "  print('-' * 30)\n",
        "\n",
        "  for nome, notas in Cadastro.items():\n",
        "    print(f'{nome:<10}', end='')\n",
        "    for i, nota in enumerate(notas):\n",
        "      print(f'Nota {i + 1}: {nota:^10,.2f}', end=' ')\n",
        "    if sum(notas)/len(notas) >= 6:\n",
        "      print('Aprovado')"
      ],
      "metadata": {
        "id": "ii81vJXx9jwT"
      },
      "execution_count": null,
      "outputs": []
    },
    {
      "cell_type": "code",
      "source": [
        "# pag 163 Exercício 6\n",
        "\n",
        "Agenda = dict()\n",
        "Agenda_maiores = dict()\n",
        "Agenda_menores = dict()\n",
        "\n",
        "while True:\n",
        "  nome = str(input('Digite o nome: '))\n",
        "  if nome == '':\n",
        "    break\n",
        "  idade = str(input('Digite a idade: '))\n",
        "  telefone = str(input('Digite o telefone'))\n",
        "  Agenda[nome] = [idade, telefone]\n",
        "print('Agenda')\n",
        "for nome, dados in sorted(Agenda.items()):\n",
        "  print(f'{nome:<20}', end=' ')\n",
        "  for dado in dados:\n",
        "    print(f'{dado:<20}', end='')\n",
        "  print()\n",
        "\n",
        "for nome, dados in Agenda.items():\n",
        "  if int(dados[0]) >= 18:\n",
        "    Agenda_maiores[nome] = dados\n",
        "  else:\n",
        "    Agenda_menores[nome] = dados\n",
        "\n",
        "print(Agenda_maiores)\n",
        "print(Agenda_menores)\n"
      ],
      "metadata": {
        "id": "nKNQTTe0Lstm"
      },
      "execution_count": null,
      "outputs": []
    },
    {
      "cell_type": "code",
      "source": [
        "# pag 182 Exercício 1\n",
        "\n",
        "print('Cálculo de primos')\n",
        "\n",
        "N = int(input('Digite um número inteiro para o intervalo 2 ...N : '))\n",
        "arqprimos = open('primos.txt', 'w')\n",
        "for num in range(2, N+1):\n",
        "  cont = 0\n",
        "  for primo in range(1, num+1):\n",
        "    if num % primo == 0:\n",
        "      cont += 1\n",
        "  if cont == 2:\n",
        "    arqprimos.write(f'{num}\\n')\n",
        "arqprimos.close()\n"
      ],
      "metadata": {
        "id": "NcCPVxEVBMt9",
        "colab": {
          "base_uri": "https://localhost:8080/"
        },
        "outputId": "6adf9fc2-bc2e-4deb-ffe7-3cbbfe1fa4fd"
      },
      "execution_count": null,
      "outputs": [
        {
          "name": "stdout",
          "output_type": "stream",
          "text": [
            "Cálculo de primos\n",
            "Digite um número inteiro para o intervalo 2 ...N : 1000\n"
          ]
        }
      ]
    },
    {
      "cell_type": "code",
      "source": [
        "# pag 182 Exercício 2\n",
        "\n",
        "from random import randint\n",
        "\n",
        "cont = 2000\n",
        "arq = open('numeros.txt', 'w')\n",
        "while cont > 0:\n",
        "  n = randint(1, 100000)\n",
        "  arq.write(f'{str(n)}\\n')\n",
        "  cont -=1\n",
        "arq.close()"
      ],
      "metadata": {
        "id": "R5amSava89l5"
      },
      "execution_count": null,
      "outputs": []
    },
    {
      "cell_type": "code",
      "source": [
        "# pag 182 Exercício 3\n",
        "\n",
        "lista = list()\n",
        "arq = open('numeros.txt', 'r')\n",
        "for numeros in arq.readlines():\n",
        "  lista.append(int(numeros.rstrip()))\n",
        "arq.close()\n",
        "print(lista)\n",
        "lista.sort()\n",
        "print(lista)\n",
        "arqOrd = open('ordenados.txt', 'w')\n",
        "for numero in lista:\n",
        "  arqOrd.write(f'{str(numero)}\\n')\n",
        "arqOrd.close() \n"
      ],
      "metadata": {
        "colab": {
          "base_uri": "https://localhost:8080/"
        },
        "id": "lymPCd63KCpc",
        "outputId": "6e784484-4c18-4a8c-cb9d-e661477a383e"
      },
      "execution_count": null,
      "outputs": [
        {
          "output_type": "stream",
          "name": "stdout",
          "text": [
            "[83215, 41895, 21724, 26110, 59786, 12196, 77227, 42756, 22615, 34202, 54569, 20191, 41366, 98995, 87074, 47902, 45576, 21696, 60108, 42802, 99836, 90147, 12746, 96190, 42054, 93123, 38534, 62781, 192, 87792, 4893, 93622, 40511, 37979, 35001, 25914, 21959, 30964, 93920, 14604, 77200, 40006, 6182, 87783, 11326, 85073, 78801, 83617, 33664, 83533, 94108, 85723, 54180, 85844, 88233, 98290, 3370, 88037, 35339, 72988, 3696, 608, 20542, 93090, 94397, 29961, 5135, 68463, 19496, 51292, 52678, 68914, 55081, 45748, 31302, 87864, 8756, 36851, 75039, 63287, 4534, 5283, 28927, 68509, 1735, 62932, 99979, 81045, 69547, 9218, 7371, 86456, 24808, 71655, 34401, 61730, 92005, 88320, 61872, 57133, 18387, 21501, 26769, 24838, 17412, 80829, 41869, 60596, 43391, 91908, 88988, 91122, 44440, 75401, 92473, 96452, 8284, 17654, 80127, 82110, 28971, 49460, 36518, 18838, 95755, 71987, 77571, 83404, 7798, 60902, 95393, 81271, 41832, 37445, 83641, 72477, 19281, 72683, 18214, 43756, 27606, 62315, 46298, 83804, 9717, 11398, 35700, 94252, 6298, 75094, 19416, 82325, 97516, 84864, 13130, 75285, 45323, 31479, 80179, 24885, 51133, 49551, 38577, 73480, 2830, 13665, 232, 10916, 95956, 66390, 14888, 17078, 69318, 29450, 57108, 70395, 36907, 60698, 73802, 53748, 95309, 18592, 19380, 93100, 42696, 94813, 26698, 96975, 34214, 34450, 83991, 56254, 60837, 54670, 86160, 26203, 62510, 43686, 67473, 39544, 98397, 56170, 92710, 42412, 71807, 55907, 14555, 29900, 6763, 15961, 38800, 64033, 41025, 32733, 98892, 41070, 52381, 26851, 80400, 22266, 16726, 32586, 86442, 45160, 80817, 95928, 50522, 66519, 61131, 48474, 66296, 58379, 64723, 19830, 23756, 46479, 61529, 38016, 1434, 92607, 31003, 80660, 54788, 11417, 17563, 49409, 36347, 2549, 5346, 83754, 20352, 95830, 51824, 81609, 59748, 23200, 23052, 18381, 21717, 51268, 29379, 72630, 45387, 66906, 14248, 7264, 48362, 70807, 16548, 42306, 75708, 2711, 35143, 2126, 86653, 81029, 10104, 33217, 41358, 8563, 2814, 49790, 37159, 61515, 95222, 5043, 98333, 54141, 86069, 51291, 19276, 41885, 73586, 48368, 38844, 7635, 29302, 99136, 87215, 32019, 15068, 75574, 57362, 35001, 71427, 94064, 18501, 66496, 24265, 35491, 24007, 50977, 16660, 79453, 62346, 34679, 28727, 53869, 54543, 17880, 47360, 3591, 8946, 31199, 53872, 93261, 63201, 37415, 15696, 73378, 42595, 99366, 92154, 91186, 36793, 38679, 43418, 20997, 14067, 14490, 42938, 92038, 25021, 36819, 9066, 61688, 59516, 12495, 12246, 38634, 27633, 53491, 71932, 74619, 97524, 44888, 60703, 93366, 59862, 15091, 31630, 34047, 61339, 38964, 81068, 35403, 41094, 79512, 61380, 69241, 52933, 62976, 94392, 77453, 35035, 3621, 69669, 72435, 41318, 92109, 23717, 55098, 32213, 72018, 19844, 27133, 23673, 51105, 73398, 80813, 10297, 98922, 90233, 76886, 89957, 31176, 39371, 56307, 62615, 20572, 10707, 83874, 62700, 81218, 82032, 44499, 50189, 87821, 31274, 67909, 31848, 9960, 33775, 82723, 67641, 79621, 69377, 76153, 1665, 42697, 25886, 92180, 27277, 66364, 89311, 20102, 3992, 51748, 18223, 74698, 85312, 53785, 63028, 73141, 34356, 78747, 5700, 28765, 92513, 12565, 15697, 40900, 46463, 38812, 54483, 30313, 33959, 33673, 47742, 43428, 47081, 8470, 88262, 39938, 48636, 80618, 79552, 31835, 69777, 65350, 77201, 7770, 58626, 89434, 48782, 77960, 33433, 19029, 26333, 27315, 33955, 34038, 37243, 47132, 31428, 50144, 52158, 7664, 35342, 98230, 98541, 61514, 38154, 22857, 39481, 30518, 82659, 95960, 36444, 19494, 22139, 40679, 77955, 33329, 81074, 67869, 74173, 5276, 10337, 67109, 23501, 48931, 73226, 84629, 56232, 90090, 70987, 6131, 8855, 79727, 56515, 50910, 21198, 97519, 73763, 94808, 88713, 3021, 60442, 83709, 66603, 88289, 67061, 47730, 12455, 79422, 74377, 6416, 42470, 74105, 67399, 75712, 31035, 50885, 94065, 96383, 74678, 96438, 32763, 29221, 4373, 47341, 35764, 47094, 84068, 87139, 58299, 38049, 84052, 62344, 99137, 5082, 89621, 93122, 507, 53476, 29959, 18046, 26692, 58524, 93369, 92351, 68400, 97862, 2499, 14779, 55316, 42572, 20281, 21782, 71156, 12202, 23581, 1810, 25960, 10283, 16813, 66491, 8467, 33127, 75776, 97784, 86147, 31125, 2105, 18007, 28498, 21800, 50823, 632, 69906, 40369, 6049, 67022, 82902, 45967, 61096, 7671, 44204, 5112, 6508, 73050, 88252, 93622, 91713, 20587, 11600, 88558, 67448, 54295, 87830, 93451, 11645, 36979, 96025, 36738, 66383, 49864, 84122, 3557, 12605, 37252, 14165, 5782, 54562, 15236, 40496, 21492, 29871, 74095, 20115, 76775, 48046, 37992, 57838, 73855, 49433, 36350, 36264, 59016, 81126, 90477, 70390, 12677, 37064, 11799, 62346, 74133, 63898, 97839, 13203, 34463, 64766, 43612, 64958, 30858, 75756, 83030, 95779, 28246, 14416, 10683, 87325, 21406, 99973, 34508, 19942, 54504, 32635, 26508, 55086, 63478, 60943, 73651, 99744, 11886, 97942, 21688, 77751, 27640, 78749, 63709, 244, 66793, 45148, 63893, 80437, 37791, 10902, 90208, 29583, 67585, 14019, 76974, 37723, 38107, 60479, 74818, 271, 88463, 48527, 55345, 31416, 18615, 78997, 66793, 53475, 72668, 99253, 24884, 24732, 27443, 1979, 41019, 76468, 29179, 98954, 31345, 82125, 29079, 34263, 82628, 71193, 66209, 66483, 73405, 24167, 23448, 26723, 70315, 54000, 79848, 68581, 45159, 28501, 30566, 65117, 46829, 34696, 92346, 87946, 73061, 87063, 22202, 97881, 85894, 66012, 65343, 830, 25612, 61562, 22334, 84279, 40711, 49301, 31082, 39345, 68803, 60434, 72136, 59334, 99719, 96852, 445, 37161, 76956, 88068, 64038, 647, 7193, 52801, 83282, 48942, 18072, 36908, 69587, 42854, 77641, 46021, 45109, 38214, 36559, 97010, 12808, 38787, 39601, 21556, 1482, 48013, 47154, 2180, 92104, 29758, 9879, 99609, 59837, 36553, 79533, 30202, 79111, 51390, 2183, 14909, 122, 83096, 54812, 53947, 71052, 66287, 3251, 1325, 96630, 50522, 43396, 89736, 70255, 37925, 3107, 56998, 41643, 31031, 85261, 45119, 14375, 12925, 37994, 60972, 55186, 75281, 15420, 48120, 90669, 89229, 74845, 69013, 5129, 54000, 94820, 68849, 69326, 30842, 37728, 71726, 31506, 97210, 16182, 13229, 29128, 43169, 92170, 17647, 83467, 36047, 71739, 29806, 84635, 1176, 61137, 33580, 4069, 3859, 79424, 1982, 39177, 50785, 68327, 32754, 3085, 46717, 74499, 60765, 34598, 95861, 78273, 93326, 37515, 12156, 59002, 2211, 90201, 10011, 79574, 51700, 26841, 6663, 36911, 75157, 24432, 38379, 81672, 16739, 34338, 37767, 51539, 41249, 72269, 50860, 73539, 22063, 60732, 72346, 81309, 44535, 19535, 59513, 48225, 7301, 69324, 13204, 54753, 64719, 18520, 39124, 96066, 45178, 16654, 17842, 98926, 702, 26021, 6724, 85327, 11066, 56400, 99723, 67593, 36190, 15726, 12930, 36342, 40186, 42833, 95340, 12703, 23033, 90819, 23495, 88526, 13439, 93817, 26065, 42327, 62491, 66918, 2942, 66640, 22942, 59302, 43832, 62224, 11806, 89370, 89560, 36609, 68686, 14957, 32218, 1231, 70348, 874, 81282, 93884, 36094, 44425, 40304, 14556, 75550, 98068, 56622, 54328, 5217, 45778, 90689, 82832, 85256, 53061, 79381, 11154, 78013, 63631, 40368, 50906, 5937, 86894, 73054, 30450, 49836, 79563, 61797, 85708, 49231, 58625, 86700, 63118, 96621, 40831, 28770, 28704, 95343, 73914, 46336, 29336, 80372, 31714, 39642, 98811, 82836, 92840, 8293, 73279, 57463, 6968, 20541, 56051, 42388, 31100, 49505, 62839, 42766, 88391, 99094, 76262, 79833, 98251, 71899, 69367, 10543, 31469, 85229, 24218, 35428, 97878, 7028, 86944, 21584, 58020, 84409, 98261, 3188, 96131, 63638, 6301, 5801, 16119, 93390, 91901, 33986, 73534, 23878, 44273, 41490, 7188, 59684, 61500, 25401, 59456, 15633, 57733, 56179, 53132, 78066, 36654, 6859, 68645, 27392, 13997, 64039, 42364, 36827, 64886, 91011, 19291, 92084, 86214, 23329, 90665, 10753, 14417, 75649, 40970, 59655, 52996, 77426, 84956, 42426, 92642, 84101, 87460, 769, 65703, 26485, 63184, 4292, 27286, 24676, 47348, 45060, 53821, 90795, 19398, 57325, 17116, 45136, 97060, 62214, 76847, 38455, 21309, 2151, 36959, 29617, 69513, 80537, 32196, 74554, 13873, 12397, 89963, 9024, 26098, 76040, 82183, 28509, 74247, 88153, 37799, 44439, 89642, 51905, 4714, 7523, 48522, 78124, 52809, 41365, 96768, 38393, 27168, 9507, 75830, 82214, 22755, 49690, 99557, 14314, 58477, 98549, 46838, 77425, 68719, 36958, 57947, 70862, 48657, 82516, 92010, 92175, 8624, 37644, 93220, 37790, 48020, 25599, 85838, 41776, 84387, 44338, 47375, 22403, 60743, 37853, 98626, 84913, 39634, 20634, 86299, 34691, 63301, 43976, 95150, 1649, 8262, 52751, 68932, 66237, 20561, 32895, 6752, 25099, 98059, 82139, 54383, 89986, 31710, 91344, 96185, 70578, 29883, 69108, 45605, 20846, 42364, 77351, 76913, 7874, 74033, 49323, 49142, 59979, 97883, 26039, 33743, 85791, 97484, 60345, 55825, 37518, 15991, 88126, 43059, 43506, 75114, 15966, 42180, 75484, 91412, 64023, 46603, 60522, 87585, 31832, 95452, 73914, 56921, 95750, 62169, 53645, 75888, 3899, 19529, 92754, 87071, 58044, 20517, 85445, 86200, 84574, 50992, 4730, 90430, 32123, 94571, 31646, 55429, 29673, 62079, 51470, 56234, 55615, 69201, 99464, 54794, 87312, 29339, 9853, 40685, 31200, 82192, 87279, 91599, 15843, 22400, 30814, 78924, 76393, 40888, 80360, 79620, 32424, 65535, 32503, 26242, 99929, 82058, 16462, 58450, 68761, 78858, 27480, 46796, 27261, 23822, 67745, 78367, 34657, 93587, 8462, 24690, 66762, 14370, 95140, 70049, 36639, 44566, 85374, 75289, 15713, 20933, 72939, 35748, 84840, 82001, 93490, 61466, 93138, 29585, 53108, 26338, 2331, 14102, 35878, 35447, 30588, 42483, 46228, 91030, 95275, 23009, 19235, 7551, 74560, 36796, 74680, 9369, 29884, 61404, 9574, 53944, 27932, 94494, 85706, 55191, 68075, 50295, 32714, 38241, 68981, 37140, 83434, 58269, 66114, 4400, 44329, 5356, 53662, 15700, 94005, 56376, 68828, 10270, 93107, 18504, 28598, 97215, 97521, 68581, 4689, 22802, 34625, 37925, 23930, 94921, 35409, 40041, 23058, 61376, 52295, 82834, 21074, 58337, 72927, 64497, 46386, 24671, 90695, 5219, 77231, 65686, 34373, 805, 21573, 47409, 22965, 52634, 67925, 16604, 53812, 45121, 76297, 77180, 93776, 52373, 15715, 52039, 23932, 23826, 76726, 18710, 80198, 36013, 27915, 44027, 51267, 67964, 56544, 86770, 39185, 18081, 94339, 64854, 14505, 6007, 84798, 23201, 4170, 53228, 43936, 90998, 76196, 15604, 18473, 73440, 65463, 32844, 19301, 95678, 62120, 36110, 17147, 82515, 78835, 51335, 74824, 5042, 92148, 55718, 6598, 96832, 73894, 42443, 36231, 86688, 31791, 89799, 62810, 4724, 50039, 85615, 39044, 97754, 39520, 97280, 26786, 67720, 8966, 99710, 3791, 6886, 20496, 50175, 72750, 2575, 22752, 86337, 49274, 8823, 84315, 26936, 64109, 71274, 61221, 68448, 92768, 87584, 40392, 82885, 39591, 91052, 60413, 86561, 10965, 61509, 13150, 18576, 40075, 95426, 11124, 58055, 58203, 4277, 72624, 67542, 64315, 54542, 94956, 91043, 46074, 90847, 9319, 59018, 45999, 67802, 10838, 8676, 28551, 92673, 54089, 9266, 88762, 12579, 2413, 51164, 23365, 77068, 78477, 23246, 35180, 92932, 45059, 62047, 4725, 94645, 33416, 56415, 12453, 99301, 4668, 84748, 27890, 20221, 5019, 96111, 40905, 13727, 28342, 31865, 46095, 45913, 42578, 30649, 92847, 471, 71046, 31780, 30533, 11886, 18068, 57810, 98888, 70070, 98412, 97184, 6859, 85934, 40186, 74395, 86417, 84130, 56364, 11415, 29772, 98276, 63711, 59709, 1317, 52702, 2349, 62593, 7572, 39439, 77450, 67044, 21913, 71163, 71889, 13972, 22037, 64011, 73262, 86492, 58266, 3485, 89551, 63914, 62960, 25916, 15146, 48492, 69458, 51656, 58407, 86089, 9212, 93428, 62193, 92310, 29155, 60661, 97808, 66379, 7985, 84918, 39636, 62247, 97443, 83023, 86859, 26892, 50854, 43233, 68756, 23371, 20339, 47789, 16170, 86678, 82376, 85163, 37718, 49758, 57094, 1831, 34734, 57423, 56744, 36979, 15201, 79391, 81584, 81459, 86424, 69742, 57179, 74267, 63653, 40888, 74009, 96938, 41384, 18025, 33745, 60296, 33130, 26972, 25284, 60384, 91236, 47798, 6712, 9490, 310, 70876, 69409, 23996, 7710, 14254, 80041, 17221, 54673, 73522, 38685, 54886, 73493, 37134, 40140, 32121, 30010, 43734, 19343, 11202, 50998, 25924, 3196, 91472, 49831, 30914, 40802, 99397, 69702, 92427, 68655, 68960, 14283, 72132, 29454, 4366, 77065, 53360, 20187, 5890, 30823, 26510, 32013, 92456, 91946, 68529, 10940, 47211, 14611, 70983, 31790, 55444, 83227, 63050, 55404, 71221, 26221, 76893, 56309, 76502, 67005, 61694, 54607, 27769, 18771, 50004, 9168, 3008, 44028, 57713, 28583, 30444, 9699, 42428, 50924, 56261, 25880, 93331, 18373, 71515, 80772, 40162, 75893, 7861, 23184, 52702, 22100, 37008, 32816, 44586, 86669, 89515, 75438, 88920, 11288, 69515, 3291, 14869, 85288, 44406, 20190, 29156, 54001, 98490, 32583, 14279, 37179, 63263, 27099, 22667, 54282, 56182, 75092, 11221, 18708, 7595, 9244, 94357, 16757, 2291, 59302, 15984, 9788, 16484, 98331, 8817, 24884, 32186, 49738, 87796, 63814, 63142, 15137, 61872, 83568, 48148, 79983, 21458, 39095, 60528, 87767, 94948, 76502, 93334, 69019, 61353, 84329, 1128, 63393, 55555, 27470, 9856, 54026, 80753, 48617, 3913, 88706, 8155, 78464, 23379, 62646, 85127, 61516, 76377, 76692, 69367, 72168, 52632, 62168, 24966, 38618, 93051, 96202, 41473, 23326, 77892, 94871, 13891, 21101, 71153, 4589, 74405, 60070, 52054, 41369, 78516, 31091, 29584, 18883, 27651, 5300, 70769, 96567, 53468, 4532, 77905, 79645, 64260, 69602, 90227, 21467, 9767, 65955, 19084, 36191, 83792, 61412, 18800, 84070, 93201, 2431, 6997, 47251, 91548, 54842, 50729, 65874, 15760, 45194, 44617, 70907, 39217, 68595, 68120, 2479, 35759, 97423, 21817, 30358, 62556, 63249, 98368, 29517, 74283, 5165, 64409, 51129, 98739, 54074, 18153, 24312, 47131, 89487, 84675, 61800, 52726, 7839, 89755, 46248, 73107, 32361, 9155, 4890, 13231, 99589, 62545, 93652, 79543, 19653, 11574, 24047, 27209, 30905, 38083, 89666, 88178, 93563, 28478, 58832, 98340, 78216, 62810, 11687, 42371, 42597, 65666, 86181, 86376, 44815, 11608, 19114, 34939, 58734, 86790, 59344, 76575, 3661, 96608, 76988, 73161, 44997, 51799, 19, 48409, 42415, 60594, 50811, 70465, 36358, 44716, 84641, 5866, 68028, 49215, 92565, 42328, 10297, 12212, 50152, 76614, 23271, 4858, 20447, 82693, 91, 5988, 67517, 54941, 38029, 21635, 84419, 66458, 76261, 48295, 59017, 10623, 2896, 27226, 18880, 32982, 7980, 66922, 48772, 3980, 66994, 57786, 19928, 97632, 82974, 59987]\n",
            "[19, 91, 122, 192, 232, 244, 271, 310, 445, 471, 507, 608, 632, 647, 702, 769, 805, 830, 874, 1128, 1176, 1231, 1317, 1325, 1434, 1482, 1649, 1665, 1735, 1810, 1831, 1979, 1982, 2105, 2126, 2151, 2180, 2183, 2211, 2291, 2331, 2349, 2413, 2431, 2479, 2499, 2549, 2575, 2711, 2814, 2830, 2896, 2942, 3008, 3021, 3085, 3107, 3188, 3196, 3251, 3291, 3370, 3485, 3557, 3591, 3621, 3661, 3696, 3791, 3859, 3899, 3913, 3980, 3992, 4069, 4170, 4277, 4292, 4366, 4373, 4400, 4532, 4534, 4589, 4668, 4689, 4714, 4724, 4725, 4730, 4858, 4890, 4893, 5019, 5042, 5043, 5082, 5112, 5129, 5135, 5165, 5217, 5219, 5276, 5283, 5300, 5346, 5356, 5700, 5782, 5801, 5866, 5890, 5937, 5988, 6007, 6049, 6131, 6182, 6298, 6301, 6416, 6508, 6598, 6663, 6712, 6724, 6752, 6763, 6859, 6859, 6886, 6968, 6997, 7028, 7188, 7193, 7264, 7301, 7371, 7523, 7551, 7572, 7595, 7635, 7664, 7671, 7710, 7770, 7798, 7839, 7861, 7874, 7980, 7985, 8155, 8262, 8284, 8293, 8462, 8467, 8470, 8563, 8624, 8676, 8756, 8817, 8823, 8855, 8946, 8966, 9024, 9066, 9155, 9168, 9212, 9218, 9244, 9266, 9319, 9369, 9490, 9507, 9574, 9699, 9717, 9767, 9788, 9853, 9856, 9879, 9960, 10011, 10104, 10270, 10283, 10297, 10297, 10337, 10543, 10623, 10683, 10707, 10753, 10838, 10902, 10916, 10940, 10965, 11066, 11124, 11154, 11202, 11221, 11288, 11326, 11398, 11415, 11417, 11574, 11600, 11608, 11645, 11687, 11799, 11806, 11886, 11886, 12156, 12196, 12202, 12212, 12246, 12397, 12453, 12455, 12495, 12565, 12579, 12605, 12677, 12703, 12746, 12808, 12925, 12930, 13130, 13150, 13203, 13204, 13229, 13231, 13439, 13665, 13727, 13873, 13891, 13972, 13997, 14019, 14067, 14102, 14165, 14248, 14254, 14279, 14283, 14314, 14370, 14375, 14416, 14417, 14490, 14505, 14555, 14556, 14604, 14611, 14779, 14869, 14888, 14909, 14957, 15068, 15091, 15137, 15146, 15201, 15236, 15420, 15604, 15633, 15696, 15697, 15700, 15713, 15715, 15726, 15760, 15843, 15961, 15966, 15984, 15991, 16119, 16170, 16182, 16462, 16484, 16548, 16604, 16654, 16660, 16726, 16739, 16757, 16813, 17078, 17116, 17147, 17221, 17412, 17563, 17647, 17654, 17842, 17880, 18007, 18025, 18046, 18068, 18072, 18081, 18153, 18214, 18223, 18373, 18381, 18387, 18473, 18501, 18504, 18520, 18576, 18592, 18615, 18708, 18710, 18771, 18800, 18838, 18880, 18883, 19029, 19084, 19114, 19235, 19276, 19281, 19291, 19301, 19343, 19380, 19398, 19416, 19494, 19496, 19529, 19535, 19653, 19830, 19844, 19928, 19942, 20102, 20115, 20187, 20190, 20191, 20221, 20281, 20339, 20352, 20447, 20496, 20517, 20541, 20542, 20561, 20572, 20587, 20634, 20846, 20933, 20997, 21074, 21101, 21198, 21309, 21406, 21458, 21467, 21492, 21501, 21556, 21573, 21584, 21635, 21688, 21696, 21717, 21724, 21782, 21800, 21817, 21913, 21959, 22037, 22063, 22100, 22139, 22202, 22266, 22334, 22400, 22403, 22615, 22667, 22752, 22755, 22802, 22857, 22942, 22965, 23009, 23033, 23052, 23058, 23184, 23200, 23201, 23246, 23271, 23326, 23329, 23365, 23371, 23379, 23448, 23495, 23501, 23581, 23673, 23717, 23756, 23822, 23826, 23878, 23930, 23932, 23996, 24007, 24047, 24167, 24218, 24265, 24312, 24432, 24671, 24676, 24690, 24732, 24808, 24838, 24884, 24884, 24885, 24966, 25021, 25099, 25284, 25401, 25599, 25612, 25880, 25886, 25914, 25916, 25924, 25960, 26021, 26039, 26065, 26098, 26110, 26203, 26221, 26242, 26333, 26338, 26485, 26508, 26510, 26692, 26698, 26723, 26769, 26786, 26841, 26851, 26892, 26936, 26972, 27099, 27133, 27168, 27209, 27226, 27261, 27277, 27286, 27315, 27392, 27443, 27470, 27480, 27606, 27633, 27640, 27651, 27769, 27890, 27915, 27932, 28246, 28342, 28478, 28498, 28501, 28509, 28551, 28583, 28598, 28704, 28727, 28765, 28770, 28927, 28971, 29079, 29128, 29155, 29156, 29179, 29221, 29302, 29336, 29339, 29379, 29450, 29454, 29517, 29583, 29584, 29585, 29617, 29673, 29758, 29772, 29806, 29871, 29883, 29884, 29900, 29959, 29961, 30010, 30202, 30313, 30358, 30444, 30450, 30518, 30533, 30566, 30588, 30649, 30814, 30823, 30842, 30858, 30905, 30914, 30964, 31003, 31031, 31035, 31082, 31091, 31100, 31125, 31176, 31199, 31200, 31274, 31302, 31345, 31416, 31428, 31469, 31479, 31506, 31630, 31646, 31710, 31714, 31780, 31790, 31791, 31832, 31835, 31848, 31865, 32013, 32019, 32121, 32123, 32186, 32196, 32213, 32218, 32361, 32424, 32503, 32583, 32586, 32635, 32714, 32733, 32754, 32763, 32816, 32844, 32895, 32982, 33127, 33130, 33217, 33329, 33416, 33433, 33580, 33664, 33673, 33743, 33745, 33775, 33955, 33959, 33986, 34038, 34047, 34202, 34214, 34263, 34338, 34356, 34373, 34401, 34450, 34463, 34508, 34598, 34625, 34657, 34679, 34691, 34696, 34734, 34939, 35001, 35001, 35035, 35143, 35180, 35339, 35342, 35403, 35409, 35428, 35447, 35491, 35700, 35748, 35759, 35764, 35878, 36013, 36047, 36094, 36110, 36190, 36191, 36231, 36264, 36342, 36347, 36350, 36358, 36444, 36518, 36553, 36559, 36609, 36639, 36654, 36738, 36793, 36796, 36819, 36827, 36851, 36907, 36908, 36911, 36958, 36959, 36979, 36979, 37008, 37064, 37134, 37140, 37159, 37161, 37179, 37243, 37252, 37415, 37445, 37515, 37518, 37644, 37718, 37723, 37728, 37767, 37790, 37791, 37799, 37853, 37925, 37925, 37979, 37992, 37994, 38016, 38029, 38049, 38083, 38107, 38154, 38214, 38241, 38379, 38393, 38455, 38534, 38577, 38618, 38634, 38679, 38685, 38787, 38800, 38812, 38844, 38964, 39044, 39095, 39124, 39177, 39185, 39217, 39345, 39371, 39439, 39481, 39520, 39544, 39591, 39601, 39634, 39636, 39642, 39938, 40006, 40041, 40075, 40140, 40162, 40186, 40186, 40304, 40368, 40369, 40392, 40496, 40511, 40679, 40685, 40711, 40802, 40831, 40888, 40888, 40900, 40905, 40970, 41019, 41025, 41070, 41094, 41249, 41318, 41358, 41365, 41366, 41369, 41384, 41473, 41490, 41643, 41776, 41832, 41869, 41885, 41895, 42054, 42180, 42306, 42327, 42328, 42364, 42364, 42371, 42388, 42412, 42415, 42426, 42428, 42443, 42470, 42483, 42572, 42578, 42595, 42597, 42696, 42697, 42756, 42766, 42802, 42833, 42854, 42938, 43059, 43169, 43233, 43391, 43396, 43418, 43428, 43506, 43612, 43686, 43734, 43756, 43832, 43936, 43976, 44027, 44028, 44204, 44273, 44329, 44338, 44406, 44425, 44439, 44440, 44499, 44535, 44566, 44586, 44617, 44716, 44815, 44888, 44997, 45059, 45060, 45109, 45119, 45121, 45136, 45148, 45159, 45160, 45178, 45194, 45323, 45387, 45576, 45605, 45748, 45778, 45913, 45967, 45999, 46021, 46074, 46095, 46228, 46248, 46298, 46336, 46386, 46463, 46479, 46603, 46717, 46796, 46829, 46838, 47081, 47094, 47131, 47132, 47154, 47211, 47251, 47341, 47348, 47360, 47375, 47409, 47730, 47742, 47789, 47798, 47902, 48013, 48020, 48046, 48120, 48148, 48225, 48295, 48362, 48368, 48409, 48474, 48492, 48522, 48527, 48617, 48636, 48657, 48772, 48782, 48931, 48942, 49142, 49215, 49231, 49274, 49301, 49323, 49409, 49433, 49460, 49505, 49551, 49690, 49738, 49758, 49790, 49831, 49836, 49864, 50004, 50039, 50144, 50152, 50175, 50189, 50295, 50522, 50522, 50729, 50785, 50811, 50823, 50854, 50860, 50885, 50906, 50910, 50924, 50977, 50992, 50998, 51105, 51129, 51133, 51164, 51267, 51268, 51291, 51292, 51335, 51390, 51470, 51539, 51656, 51700, 51748, 51799, 51824, 51905, 52039, 52054, 52158, 52295, 52373, 52381, 52632, 52634, 52678, 52702, 52702, 52726, 52751, 52801, 52809, 52933, 52996, 53061, 53108, 53132, 53228, 53360, 53468, 53475, 53476, 53491, 53645, 53662, 53748, 53785, 53812, 53821, 53869, 53872, 53944, 53947, 54000, 54000, 54001, 54026, 54074, 54089, 54141, 54180, 54282, 54295, 54328, 54383, 54483, 54504, 54542, 54543, 54562, 54569, 54607, 54670, 54673, 54753, 54788, 54794, 54812, 54842, 54886, 54941, 55081, 55086, 55098, 55186, 55191, 55316, 55345, 55404, 55429, 55444, 55555, 55615, 55718, 55825, 55907, 56051, 56170, 56179, 56182, 56232, 56234, 56254, 56261, 56307, 56309, 56364, 56376, 56400, 56415, 56515, 56544, 56622, 56744, 56921, 56998, 57094, 57108, 57133, 57179, 57325, 57362, 57423, 57463, 57713, 57733, 57786, 57810, 57838, 57947, 58020, 58044, 58055, 58203, 58266, 58269, 58299, 58337, 58379, 58407, 58450, 58477, 58524, 58625, 58626, 58734, 58832, 59002, 59016, 59017, 59018, 59302, 59302, 59334, 59344, 59456, 59513, 59516, 59655, 59684, 59709, 59748, 59786, 59837, 59862, 59979, 59987, 60070, 60108, 60296, 60345, 60384, 60413, 60434, 60442, 60479, 60522, 60528, 60594, 60596, 60661, 60698, 60703, 60732, 60743, 60765, 60837, 60902, 60943, 60972, 61096, 61131, 61137, 61221, 61339, 61353, 61376, 61380, 61404, 61412, 61466, 61500, 61509, 61514, 61515, 61516, 61529, 61562, 61688, 61694, 61730, 61797, 61800, 61872, 61872, 62047, 62079, 62120, 62168, 62169, 62193, 62214, 62224, 62247, 62315, 62344, 62346, 62346, 62491, 62510, 62545, 62556, 62593, 62615, 62646, 62700, 62781, 62810, 62810, 62839, 62932, 62960, 62976, 63028, 63050, 63118, 63142, 63184, 63201, 63249, 63263, 63287, 63301, 63393, 63478, 63631, 63638, 63653, 63709, 63711, 63814, 63893, 63898, 63914, 64011, 64023, 64033, 64038, 64039, 64109, 64260, 64315, 64409, 64497, 64719, 64723, 64766, 64854, 64886, 64958, 65117, 65343, 65350, 65463, 65535, 65666, 65686, 65703, 65874, 65955, 66012, 66114, 66209, 66237, 66287, 66296, 66364, 66379, 66383, 66390, 66458, 66483, 66491, 66496, 66519, 66603, 66640, 66762, 66793, 66793, 66906, 66918, 66922, 66994, 67005, 67022, 67044, 67061, 67109, 67399, 67448, 67473, 67517, 67542, 67585, 67593, 67641, 67720, 67745, 67802, 67869, 67909, 67925, 67964, 68028, 68075, 68120, 68327, 68400, 68448, 68463, 68509, 68529, 68581, 68581, 68595, 68645, 68655, 68686, 68719, 68756, 68761, 68803, 68828, 68849, 68914, 68932, 68960, 68981, 69013, 69019, 69108, 69201, 69241, 69318, 69324, 69326, 69367, 69367, 69377, 69409, 69458, 69513, 69515, 69547, 69587, 69602, 69669, 69702, 69742, 69777, 69906, 70049, 70070, 70255, 70315, 70348, 70390, 70395, 70465, 70578, 70769, 70807, 70862, 70876, 70907, 70983, 70987, 71046, 71052, 71153, 71156, 71163, 71193, 71221, 71274, 71427, 71515, 71655, 71726, 71739, 71807, 71889, 71899, 71932, 71987, 72018, 72132, 72136, 72168, 72269, 72346, 72435, 72477, 72624, 72630, 72668, 72683, 72750, 72927, 72939, 72988, 73050, 73054, 73061, 73107, 73141, 73161, 73226, 73262, 73279, 73378, 73398, 73405, 73440, 73480, 73493, 73522, 73534, 73539, 73586, 73651, 73763, 73802, 73855, 73894, 73914, 73914, 74009, 74033, 74095, 74105, 74133, 74173, 74247, 74267, 74283, 74377, 74395, 74405, 74499, 74554, 74560, 74619, 74678, 74680, 74698, 74818, 74824, 74845, 75039, 75092, 75094, 75114, 75157, 75281, 75285, 75289, 75401, 75438, 75484, 75550, 75574, 75649, 75708, 75712, 75756, 75776, 75830, 75888, 75893, 76040, 76153, 76196, 76261, 76262, 76297, 76377, 76393, 76468, 76502, 76502, 76575, 76614, 76692, 76726, 76775, 76847, 76886, 76893, 76913, 76956, 76974, 76988, 77065, 77068, 77180, 77200, 77201, 77227, 77231, 77351, 77425, 77426, 77450, 77453, 77571, 77641, 77751, 77892, 77905, 77955, 77960, 78013, 78066, 78124, 78216, 78273, 78367, 78464, 78477, 78516, 78747, 78749, 78801, 78835, 78858, 78924, 78997, 79111, 79381, 79391, 79422, 79424, 79453, 79512, 79533, 79543, 79552, 79563, 79574, 79620, 79621, 79645, 79727, 79833, 79848, 79983, 80041, 80127, 80179, 80198, 80360, 80372, 80400, 80437, 80537, 80618, 80660, 80753, 80772, 80813, 80817, 80829, 81029, 81045, 81068, 81074, 81126, 81218, 81271, 81282, 81309, 81459, 81584, 81609, 81672, 82001, 82032, 82058, 82110, 82125, 82139, 82183, 82192, 82214, 82325, 82376, 82515, 82516, 82628, 82659, 82693, 82723, 82832, 82834, 82836, 82885, 82902, 82974, 83023, 83030, 83096, 83215, 83227, 83282, 83404, 83434, 83467, 83533, 83568, 83617, 83641, 83709, 83754, 83792, 83804, 83874, 83991, 84052, 84068, 84070, 84101, 84122, 84130, 84279, 84315, 84329, 84387, 84409, 84419, 84574, 84629, 84635, 84641, 84675, 84748, 84798, 84840, 84864, 84913, 84918, 84956, 85073, 85127, 85163, 85229, 85256, 85261, 85288, 85312, 85327, 85374, 85445, 85615, 85706, 85708, 85723, 85791, 85838, 85844, 85894, 85934, 86069, 86089, 86147, 86160, 86181, 86200, 86214, 86299, 86337, 86376, 86417, 86424, 86442, 86456, 86492, 86561, 86653, 86669, 86678, 86688, 86700, 86770, 86790, 86859, 86894, 86944, 87063, 87071, 87074, 87139, 87215, 87279, 87312, 87325, 87460, 87584, 87585, 87767, 87783, 87792, 87796, 87821, 87830, 87864, 87946, 88037, 88068, 88126, 88153, 88178, 88233, 88252, 88262, 88289, 88320, 88391, 88463, 88526, 88558, 88706, 88713, 88762, 88920, 88988, 89229, 89311, 89370, 89434, 89487, 89515, 89551, 89560, 89621, 89642, 89666, 89736, 89755, 89799, 89957, 89963, 89986, 90090, 90147, 90201, 90208, 90227, 90233, 90430, 90477, 90665, 90669, 90689, 90695, 90795, 90819, 90847, 90998, 91011, 91030, 91043, 91052, 91122, 91186, 91236, 91344, 91412, 91472, 91548, 91599, 91713, 91901, 91908, 91946, 92005, 92010, 92038, 92084, 92104, 92109, 92148, 92154, 92170, 92175, 92180, 92310, 92346, 92351, 92427, 92456, 92473, 92513, 92565, 92607, 92642, 92673, 92710, 92754, 92768, 92840, 92847, 92932, 93051, 93090, 93100, 93107, 93122, 93123, 93138, 93201, 93220, 93261, 93326, 93331, 93334, 93366, 93369, 93390, 93428, 93451, 93490, 93563, 93587, 93622, 93622, 93652, 93776, 93817, 93884, 93920, 94005, 94064, 94065, 94108, 94252, 94339, 94357, 94392, 94397, 94494, 94571, 94645, 94808, 94813, 94820, 94871, 94921, 94948, 94956, 95140, 95150, 95222, 95275, 95309, 95340, 95343, 95393, 95426, 95452, 95678, 95750, 95755, 95779, 95830, 95861, 95928, 95956, 95960, 96025, 96066, 96111, 96131, 96185, 96190, 96202, 96383, 96438, 96452, 96567, 96608, 96621, 96630, 96768, 96832, 96852, 96938, 96975, 97010, 97060, 97184, 97210, 97215, 97280, 97423, 97443, 97484, 97516, 97519, 97521, 97524, 97632, 97754, 97784, 97808, 97839, 97862, 97878, 97881, 97883, 97942, 98059, 98068, 98230, 98251, 98261, 98276, 98290, 98331, 98333, 98340, 98368, 98397, 98412, 98490, 98541, 98549, 98626, 98739, 98811, 98888, 98892, 98922, 98926, 98954, 98995, 99094, 99136, 99137, 99253, 99301, 99366, 99397, 99464, 99557, 99589, 99609, 99710, 99719, 99723, 99744, 99836, 99929, 99973, 99979]\n"
          ]
        }
      ]
    },
    {
      "cell_type": "code",
      "source": [
        "# pag 182 Exercício 4\n",
        "# só mudar o algoritmo de ordenação\n"
      ],
      "metadata": {
        "id": "7O1MrQSSSTsQ"
      },
      "execution_count": null,
      "outputs": []
    },
    {
      "cell_type": "code",
      "source": [
        "# pag 182 Exercício 5 - Esta forma não tem boas práticas vou fazer uma segunda versão para melhorar o código\n",
        "\n",
        "\n",
        "def Aliq_INSS(sal):\n",
        "  sal = sal.rstrip()\n",
        "  global AliqINSS\n",
        "  global VALINSS\n",
        "  global SalBruto\n",
        "  \n",
        "  SalBruto = sal\n",
        "  if float(sal) <= 1556.94:\n",
        "    AliqINSS = 8\n",
        "    VALINSS = float(sal) * (AliqINSS / 100)\n",
        "      \n",
        "  elif float(sal) >= 1556.95 and float(sal) <= 2594.92:\n",
        "    AliqINSS = 9\n",
        "    VALINSS = float(sal) * (AliqINSS / 100)\n",
        "      \n",
        "  elif float(sal) >= 2594.93 and float(sal) <= 5189.82:\n",
        "    AliqINSS = 11\n",
        "    VALINSS = float(sal) * (AliqINSS / 100)\n",
        "      \n",
        "  elif float(sal) >= 5189.83:\n",
        "    AliqINSS = 'Teto'\n",
        "    VALINSS = 570.88\n",
        "     \n",
        "\n",
        "def Aliq_IR(sal, VALINSS):\n",
        "  sal = sal.rstrip()\n",
        "  global AliqIR\n",
        "  global DedIR\n",
        "  global VALIR\n",
        "  if sal == 'Bruto':\n",
        "    pass\n",
        "  else:\n",
        "\n",
        "    if float(sal) <= 1903.98:\n",
        "      AliqIR = 0\n",
        "      DedIR = 0\n",
        "      VALIR = 0\n",
        "    elif float(sal) >= 1903.99 and float(sal) <= 2826.65:\n",
        "      AliqIR = 7.50\n",
        "      V_AliqIR = (float(sal) * 7.5) / 100\n",
        "      DedIR = 142.80\n",
        "      VALIR = (float(sal) - VALINSS) * (AliqIR/100) - DedIR\n",
        "    elif float(sal) >= 2826.66 and float(sal) <= 3751.05:\n",
        "      AliqIR = 15.00\n",
        "      V_AliqIR = (float(sal) * 15.0) / 100\n",
        "      DedIR = 354.80\n",
        "      VALIR = (float(sal) - VALINSS) * (AliqIR/100) - DedIR\n",
        "    elif float(sal) >= 3751.06 and float(sal) <= 4664.68:\n",
        "      AliqIR = 22.50\n",
        "      V_AliqIR = (float(sal) * 22.5) / 100\n",
        "      DedIR = 636.13\n",
        "      VALIR = (float(sal) - VALINSS) * (AliqIR/100) - DedIR\n",
        "    elif float(sal) >= 4664.68:\n",
        "      AliqIR = 27.50 \n",
        "      V_AliqIR = (float(sal) * 27.5) / 100\n",
        "      DedIR = 869.36\n",
        "      VALIR = (float(sal) - VALINSS) * (AliqIR/100) - DedIR\n",
        "\n",
        "def Sal_Liquido(a, b, c):\n",
        "  a = a.rstrip()\n",
        "  global SalLiquido\n",
        "  SalLiquido = float(a) - b - c \n",
        "\n",
        "SalBruto = float()\n",
        "SalLiquido = float()\n",
        "AliqINSS = int()\n",
        "AliqIR = float()\n",
        "arqSal = open('salario.txt', 'r')\n",
        "arqCal = open('calculo.txt', 'w')\n",
        "\n",
        "for linha in arqSal:\n",
        "  if linha.rstrip() == 'Bruto':\n",
        "    arqCal.write(f'SalBruto;AliqINSS;AliqIR;DeducaoIR;VALIR;SalLiquido;\\n')\n",
        "  else:\n",
        "    Aliq_INSS(linha)\n",
        "    Aliq_IR(linha, VALINSS)\n",
        "    Sal_Liquido(linha, VALINSS, VALIR)\n",
        "    arqCal.write(f'{SalBruto};{AliqINSS};{VALINSS:.2f};{AliqIR:.2f};{DedIR:.2f};{VALIR:.2f};{SalLiquido:.2f}\\n')\n",
        "\n",
        "\n",
        "arqSal.close()\n",
        "arqCal.close()"
      ],
      "metadata": {
        "id": "BPUg1XkLvU9w"
      },
      "execution_count": null,
      "outputs": []
    },
    {
      "cell_type": "code",
      "source": [
        "# pag 182 Exercício 5 versão 2\n",
        "\n",
        "def Aliq_INSS(sal):\n",
        "  if float(sal) <= 1556.94:\n",
        "    AliqINSS = 8      \n",
        "  elif float(sal) >= 1556.95 and float(sal) <= 2594.92:\n",
        "    AliqINSS = 9      \n",
        "  elif float(sal) >= 2594.93 and float(sal) <= 5189.82:\n",
        "    AliqINSS = 11\n",
        "  elif float(sal) >= 5189.83:\n",
        "    AliqINSS = 'Teto'\n",
        "  return AliqINSS\n",
        "\n",
        "def Cal_INSS(sal, aliq):\n",
        "  if aliq == 'Teto':\n",
        "    VALINSS = 570.88\n",
        "  else:\n",
        "    VALINSS = float(sal) * (int(aliq) / 100)\n",
        "  return VALINSS\n",
        "\n",
        "def Aliq_IR(sal):\n",
        "  if float(sal) <= 1903.98:\n",
        "    AliqIR = 0\n",
        "  elif float(sal) >= 1903.99 and float(sal) <= 2826.65:\n",
        "    AliqIR = 7.50\n",
        "  elif float(sal) >= 2826.66 and float(sal) <= 3751.05:\n",
        "    AliqIR = 15.00\n",
        "  elif float(sal) >= 3751.06 and float(sal) <= 4664.68:\n",
        "    AliqIR = 22.50\n",
        "  elif float(sal) >= 4664.68:\n",
        "    AliqIR = 27.50\n",
        "  return AliqIR \n",
        "\n",
        "def Ded_IR(sal):\n",
        "  if float(sal) <= 1903.98:\n",
        "    DedIR = 0\n",
        "  elif float(sal) >= 1903.99 and float(sal) <= 2826.65:\n",
        "    DedIR = 142.80\n",
        "  elif float(sal) >= 2826.66 and float(sal) <= 3751.05:\n",
        "    DedIR = 354.80\n",
        "  elif float(sal) >= 3751.06 and float(sal) <= 4664.68:\n",
        "    DedIR = 636.13\n",
        "  elif float(sal) >= 4664.68:\n",
        "    DedIR = 869.36\n",
        "  return DedIR\n",
        "\n",
        "def Cal_IR(sal, VALINSS, DedIR):\n",
        "  if float(sal) <= 1903.98:\n",
        "    VALIR = 0\n",
        "  elif float(sal) >= 1903.99 and float(sal) <= 2826.65:\n",
        "    VALIR = (float(sal) - VALINSS) * (7.50 /100) - DedIR\n",
        "  elif float(sal) >= 2826.66 and float(sal) <= 3751.05:\n",
        "    VALIR = (float(sal) - VALINSS) * (15 /100) - DedIR\n",
        "  elif float(sal) >= 3751.06 and float(sal) <= 4664.68:\n",
        "    VALIR = (float(sal) - VALINSS) * (22.5 /100) - DedIR\n",
        "  elif float(sal) >= 4664.68:\n",
        "    VALIR = (float(sal) - VALINSS) * (27.5 /100) - DedIR\n",
        "  return VALIR\n",
        "\n",
        "def Sal_Liquido(sal, VALINSS, VALIR):\n",
        "  SalLiquido = float(sal) - VALINSS - VALIR\n",
        "  return SalLiquido\n",
        "\n",
        "\n",
        "arqSal = open('salario.txt', 'r')\n",
        "arqCal = open('calculo.txt', 'w')\n",
        "\n",
        "for linha in arqSal:\n",
        "  if linha.rstrip() == 'Bruto':\n",
        "    arqCal.write(f'SalBruto;AliqINSS;AliqIR;DeducaoIR;VALIR;SalLiquido;\\n')\n",
        "  else:\n",
        "    SalBruto = float(linha.rstrip())\n",
        "    AliqINSS = Aliq_INSS(linha)\n",
        "    VALINSS = Cal_INSS(linha, AliqINSS)\n",
        "    AliqIR = Aliq_IR(linha)\n",
        "    DedIR = Ded_IR(linha)\n",
        "    VALIR = Cal_IR(linha, VALINSS, DedIR)\n",
        "    SalLiquido = Sal_Liquido(linha, VALINSS, VALIR)\n",
        "    arqCal.write(f'{SalBruto:.2f};{AliqINSS};{VALINSS:.2f};{AliqIR:.2f};{DedIR:.2f};{VALIR:.2f};{SalLiquido:.2f}\\n')\n",
        "\n",
        "arqSal.close()\n",
        "arqCal.close()\n",
        "\n"
      ],
      "metadata": {
        "id": "rc46RIeE0fpp"
      },
      "execution_count": null,
      "outputs": []
    },
    {
      "cell_type": "code",
      "source": [
        "# pag 182 Exercício 6\n",
        "\n",
        "from random import choice, randint\n",
        "import string\n",
        "\n",
        "N = int(input('Escolha o tipo de senha: [1 - Numérica - 2 - Alfanumérica]: '))\n",
        "Q = int(input('Escolha o tamanho da senha: '))\n",
        "\n",
        "arqRA = open('ra.txt', 'r')\n",
        "arqRAsenha = open('rasenha.txt', 'w')\n",
        "\n",
        "for ra in arqRA:\n",
        "  Senha = str()\n",
        "  for i in range(Q):\n",
        "    if N == 1:\n",
        "      Senha = Senha + str(randint(0, 9))\n",
        "    else:\n",
        "      Sorteio = randint(0,1)\n",
        "      if Sorteio == 0:\n",
        "        Senha = Senha + str(randint(0, 9))\n",
        "      else:\n",
        "        Senha = Senha + choice(string.ascii_letters)\n",
        "  \n",
        "  arqRAsenha.write(f'{ra};{Senha}\\n') \n",
        "\n",
        "arqRA.close()\n",
        "arqRAsenha.close()\n",
        "\n",
        "\n",
        "\n"
      ],
      "metadata": {
        "id": "DyAT2C4MuEu7"
      },
      "execution_count": null,
      "outputs": []
    },
    {
      "cell_type": "code",
      "source": [
        "# pag 212 Exercício 1\n",
        "\n",
        "import sqlite3\n",
        "\n",
        "conector = sqlite3.connect('agenda.db')\n",
        "cursor = conector.cursor()\n",
        "sql = ''' create table cadastro\n",
        "          (NumContato interger not Null Primary Key, Nome text, Cel text, Tel text, Email text, Aniver text)\n",
        "      '''\n",
        "cursor.execute(sql)\n",
        "cursor.close()\n",
        "conector.close()"
      ],
      "metadata": {
        "id": "fQNpOL4lPEop"
      },
      "execution_count": 6,
      "outputs": []
    },
    {
      "cell_type": "code",
      "source": [
        "# pag 213 Exercício 2\n",
        "\n",
        "import sqlite3\n",
        "from random import randint\n",
        "\n",
        "def ExibeDados(L):\n",
        "  '''Exibe uma saída dos dados formatados em L'''\n",
        "  print('\\nConsulta ao banco de dados \"Agenda.db\"\\n')\n",
        "  print('Dados da Tabela \"cadastro\"')\n",
        "  print('-' * 35)\n",
        "  print(f'{\"NumContato\":<15}{\"Nome\":<30}{\"Cel\":<15}{\"Tel\":<15}{\"Email\":<15}{\"Aniver\":<10}')\n",
        "  for d in dados:\n",
        "    print(f'{d[0]:<15}{d[1]:30}{d[2]:15}{d[3]:15}{d[4]:15}{d[5]:10}')  \n",
        "\n",
        "conector = sqlite3.connect('agenda.db')\n",
        "cursor = conector.cursor()\n",
        "sql = '''\n",
        "      insert into cadastro\n",
        "      (NumContato, Nome, Cel, Tel, Email, Aniver) values (?, ?, ?, ?, ?, ?)\n",
        "      '''\n",
        "print('Digite os dados separados por vírgulas')\n",
        "print('Nome,Cel,Tel,Email,Aniver')\n",
        "Ler = input()\n",
        "while Ler != '':\n",
        "  NumContato = str(randint(1000, 9999))\n",
        "  Cad = NumContato.split(',') + Ler.split(',')\n",
        "  try:\n",
        "    cursor.execute(sql, Cad)\n",
        "    conector.commit()\n",
        "  except:\n",
        "    print(f'{Cad} Dados Inválidos')\n",
        "  else:\n",
        "    print(' ' * 30, 'dados inseridos com sucesso ...')\n",
        "  finally:\n",
        "    print('Nome,Cel,Tel,Email,Aniver')\n",
        "  Ler = input()\n",
        "\n",
        "sql = ' select * from cadastro'\n",
        "cursor.execute(sql)\n",
        "dados = cursor.fetchall()\n",
        "cursor.close()\n",
        "conector.close()\n",
        "ExibeDados(dados)\n",
        "\n"
      ],
      "metadata": {
        "colab": {
          "base_uri": "https://localhost:8080/"
        },
        "id": "7wZ9MjR2dG1i",
        "outputId": "5edb3fc3-86a2-465b-b95d-2096832cfa0d"
      },
      "execution_count": 13,
      "outputs": [
        {
          "output_type": "stream",
          "name": "stdout",
          "text": [
            "Digite os dados separados por vírgulas\n",
            "Nome,Cel,Tel,Email,Aniver\n",
            "\n",
            "\n",
            "Consulta ao banco de dados \"Agenda.db\"\n",
            "\n",
            "Dados da Tabela \"cadastro\"\n",
            "-----------------------------------\n",
            "NumContato     Nome                          Cel            Tel            Email          Aniver    \n",
            "6895           Boi                           444444         77777          boimail        11/22/1999\n",
            "4123           vaca                          7676767        75622          vacamail       11/22/5555\n"
          ]
        }
      ]
    },
    {
      "cell_type": "code",
      "source": [
        "print(f'{\"nome\":10}{\"numero\":>15}{\"endereco\":>20}')"
      ],
      "metadata": {
        "colab": {
          "base_uri": "https://localhost:8080/"
        },
        "id": "01JukCqjS63G",
        "outputId": "2ea96ac1-89ba-40fc-a66a-94a6e3e5442d"
      },
      "execution_count": 5,
      "outputs": [
        {
          "output_type": "stream",
          "name": "stdout",
          "text": [
            "nome               numero            endereco\n"
          ]
        }
      ]
    }
  ]
}