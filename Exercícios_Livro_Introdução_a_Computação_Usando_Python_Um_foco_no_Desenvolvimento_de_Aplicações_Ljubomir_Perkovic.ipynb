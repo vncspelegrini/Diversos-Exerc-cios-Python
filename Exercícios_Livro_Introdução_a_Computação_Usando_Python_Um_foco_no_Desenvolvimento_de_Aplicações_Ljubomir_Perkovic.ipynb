{
  "nbformat": 4,
  "nbformat_minor": 0,
  "metadata": {
    "colab": {
      "name": "Exercícios Livro Introdução a Computação Usando Python - Um foco no Desenvolvimento de Aplicações - Ljubomir Perkovic",
      "provenance": [],
      "authorship_tag": "ABX9TyOfa5QCM0XN83YZcixCmjqV",
      "include_colab_link": true
    },
    "kernelspec": {
      "name": "python3",
      "display_name": "Python 3"
    },
    "language_info": {
      "name": "python"
    }
  },
  "cells": [
    {
      "cell_type": "markdown",
      "metadata": {
        "id": "view-in-github",
        "colab_type": "text"
      },
      "source": [
        "<a href=\"https://colab.research.google.com/github/vncspelegrini/execiciosPython/blob/main/Exerc%C3%ADcios_Livro_Introdu%C3%A7%C3%A3o_a_Computa%C3%A7%C3%A3o_Usando_Python_Um_foco_no_Desenvolvimento_de_Aplica%C3%A7%C3%B5es_Ljubomir_Perkovic.ipynb\" target=\"_parent\"><img src=\"https://colab.research.google.com/assets/colab-badge.svg\" alt=\"Open In Colab\"/></a>"
      ]
    },
    {
      "cell_type": "code",
      "execution_count": 7,
      "metadata": {
        "id": "kbtzAsDd1Z2Z",
        "colab": {
          "base_uri": "https://localhost:8080/"
        },
        "outputId": "b670e569-99fc-4740-e8ed-25066768e9c7"
      },
      "outputs": [
        {
          "output_type": "stream",
          "name": "stdout",
          "text": [
            "15\n",
            "24.333333333333332\n",
            "5\n",
            "38\n",
            "1024\n",
            "3\n",
            "29.95\n"
          ]
        }
      ],
      "source": [
        "\"\"\" Problema prático 2.1\n",
        "\n",
        "Escreva expressões algébricas Python correspondentes aos seguintes comandos:\n",
        "\n",
        "(a)A soma dos 5 primeiros inteiros positivos.\n",
        "\n",
        "(b)A idade média de Sara (idade 23), Mark (idade 19) e Fátima (idade 31).\n",
        "\n",
        "(c)O número de vezes que 73 cabe em 403.\n",
        "\n",
        "(d)O resto de quando 403 é dividido por 73.\n",
        "\n",
        "(e)2 à 10a potência.\n",
        "\n",
        "(f)O valor absoluto da distância entre a altura de Sara (54 polegadas) e a altura de Mark (57 polegadas).\n",
        "\n",
        "(g)O menor preço entre os seguintes preços: R$ 34,99, R$ 29,95 e R$ 31,50.\"\"\"\n",
        "\n",
        "print(1+2+3+4+5)\n",
        "\n",
        "print((23 + 19 + 31) / 3)\n",
        "\n",
        "print(403 // 73)\n",
        "\n",
        "print(403 % 73)\n",
        "\n",
        "print(2**10)\n",
        "\n",
        "print(abs(54 - 57))\n",
        "\n",
        "print(min(34.99, 29.95, 31.50))\n",
        "\n"
      ]
    },
    {
      "cell_type": "code",
      "source": [
        "\"\"\"Problema Prático 2.2\n",
        "\n",
        "Traduza os comandos a seguir para expressões Booleanas em Python e avalie-as:\n",
        "\n",
        "(a)A soma de 2 e 2 é menor que 4.\n",
        "\n",
        "(b)O valor de 7 // 3 é igual a 1 + 1.\n",
        "\n",
        "(c)A soma de 3 ao quadrado e 4 ao quadrado é igual a 25.\n",
        "\n",
        "(d)A soma de 2, 4 e 6 é maior que 12.\n",
        "\n",
        "(e)1387 é divisível por 19.\n",
        "\n",
        "(f)31 é par. (Dica: o que o resto lhe diz quando você divide por 2?)\n",
        "\n",
        "(g)O preço mais baixo dentre R$ 34,99, R$ 29,95 e R$ 31,50 é menor que R$ 30,00.*\"\"\"\n",
        "\n",
        "print(2 + 2 < 4)\n",
        "\n",
        "print(7 // 3 == 1 + 1)\n",
        "\n",
        "print(3**4 + 4**2 == 25)\n",
        "\n",
        "print(2 + 4 + 6 > 12)\n",
        "\n",
        "print(1387 % 19 == 0)\n",
        "\n",
        "print(31 % 2 == 0)\n",
        "\n",
        "print(min(34.99, 29.95, 31.50) < 30.00)"
      ],
      "metadata": {
        "colab": {
          "base_uri": "https://localhost:8080/"
        },
        "id": "36n63BbVPeew",
        "outputId": "4244ed37-34f5-4732-94d6-1f63d37779d1"
      },
      "execution_count": 9,
      "outputs": [
        {
          "output_type": "stream",
          "name": "stdout",
          "text": [
            "False\n",
            "True\n",
            "False\n",
            "False\n",
            "True\n",
            "False\n",
            "True\n"
          ]
        }
      ]
    },
    {
      "cell_type": "code",
      "source": [
        "\"\"\"Problema Prático 2.3\n",
        "\n",
        "Escreva instruções Python que correspondem às ações a seguir e execute-as:\n",
        "\n",
        "(a)Atribua o valor inteiro 3 à variável a.\n",
        "\n",
        "(b)Atribua 4 à variável b.\n",
        "\n",
        "(c)Atribua à variável c o valor da expressão a * a + b * b.\"\"\"\n",
        "\n",
        "a = 3\n",
        "b = 4\n",
        "c = a * a + b * b\n",
        "print(c)"
      ],
      "metadata": {
        "colab": {
          "base_uri": "https://localhost:8080/"
        },
        "id": "0G7clxQARtuA",
        "outputId": "c341c4f2-e0f7-4b46-bd5d-fc33b0355426"
      },
      "execution_count": 10,
      "outputs": [
        {
          "output_type": "stream",
          "name": "stdout",
          "text": [
            "25\n"
          ]
        }
      ]
    },
    {
      "cell_type": "code",
      "source": [
        "\"\"\"Problema Prático 2.4\n",
        "\n",
        "Comece executando as instruções de atribuição:\n",
        "\n",
        ">>> s1 = 'ant'\n",
        "\n",
        ">>> s2 = 'bat'\n",
        "\n",
        ">>> s3 = 'cod'\n",
        "\n",
        "Escreva expressões Python usando s1, s2 e s3 e os operadores + e * a fim de avaliar para:\n",
        "\n",
        "(a)'ant bat cod'\n",
        "\n",
        "(b)'ant ant ant ant ant ant ant ant ant ant'\n",
        "\n",
        "(c)'ant bat bat cod cod cod'\n",
        "\n",
        "(d)'ant bat ant bat ant bat ant bat ant bat ant bat ant bat'\n",
        "\n",
        "(e)'batbatcod batbatcod batbatcod batbatcod batbatcod'\"\"\"\n",
        "\n",
        "s1 = 'ant'\n",
        "s2 = 'bat'\n",
        "s3 = 'cod'\n",
        "\n",
        "print(s1 + ' ' + s2 + ' ' + s3)\n",
        "\n",
        "print(10 *(s1 + ' '))\n",
        "\n",
        "print(s1 + ' ' + 2 * (s2 + ' ') + 3 * (s3 + ' '))\n",
        "\n",
        "print( 7 * (s1 + ' ' + s2 + ' '))\n",
        "\n",
        "print(5 * (2 * s2 + s3 + ' '))"
      ],
      "metadata": {
        "colab": {
          "base_uri": "https://localhost:8080/"
        },
        "id": "_qzm-T_ATs1w",
        "outputId": "661137d1-c84f-4087-87bf-8f2c7fbae37e"
      },
      "execution_count": 20,
      "outputs": [
        {
          "output_type": "stream",
          "name": "stdout",
          "text": [
            "ant bat cod\n",
            "ant ant ant ant ant ant ant ant ant ant \n",
            "ant bat bat cod cod cod \n",
            "ant bat ant bat ant bat ant bat ant bat ant bat ant bat \n",
            "batbatcod batbatcod batbatcod batbatcod batbatcod \n"
          ]
        }
      ]
    },
    {
      "cell_type": "code",
      "source": [
        "\"\"\"Problema Prático 2.5\n",
        "\n",
        "Comece executando a atribuição:\n",
        "\n",
        "s = '0123456789'\n",
        "\n",
        "Agora, escreva expressões usando a string s e o operador de indexação que é avaliado como:\n",
        "\n",
        "(a)'0'\n",
        "\n",
        "(b)'1'\n",
        "\n",
        "(c)'6'\n",
        "\n",
        "(d)'8'\n",
        "\n",
        "(e)'9'\"\"\"\n",
        "\n",
        "s = '0123456789'\n",
        "\n",
        "print(s[0])\n",
        "\n",
        "print(s[1])\n",
        "\n",
        "print(s[6])\n",
        "\n",
        "print(s[8])\n",
        "\n",
        "print(s[9])\n",
        "\n"
      ],
      "metadata": {
        "colab": {
          "base_uri": "https://localhost:8080/"
        },
        "id": "tZSLgSo2XxmY",
        "outputId": "be757fa2-97fe-42d2-fb14-5aeb45dbc313"
      },
      "execution_count": 22,
      "outputs": [
        {
          "output_type": "stream",
          "name": "stdout",
          "text": [
            "0\n",
            "1\n",
            "6\n",
            "8\n",
            "9\n"
          ]
        }
      ]
    },
    {
      "cell_type": "code",
      "source": [
        "\"\"\"Problema Prático 2.6\n",
        "\n",
        "Primeiro, execute a atribuição\n",
        "\n",
        "palavras = ['taco', 'bola', 'celeiro', 'cesta', 'peteca']\n",
        "\n",
        "Agora, escreva duas expressões Python que são avaliadas, respectivamente,\n",
        "como a primeiro e a última palavras em palavras, na ordem do dicionário.\"\"\"\n",
        "\n",
        "palavras = ['taco', 'bola', 'celeiro', 'cesta', 'peteca']\n",
        "\n",
        "print(min(palavras))\n",
        "\n",
        "print(max(palavras))"
      ],
      "metadata": {
        "colab": {
          "base_uri": "https://localhost:8080/"
        },
        "id": "ArEXByC0Zzdm",
        "outputId": "e1c8afbf-065b-4872-e7e1-25244a01238c"
      },
      "execution_count": 26,
      "outputs": [
        {
          "output_type": "stream",
          "name": "stdout",
          "text": [
            "bola\n",
            "taco\n"
          ]
        }
      ]
    }
  ]
}