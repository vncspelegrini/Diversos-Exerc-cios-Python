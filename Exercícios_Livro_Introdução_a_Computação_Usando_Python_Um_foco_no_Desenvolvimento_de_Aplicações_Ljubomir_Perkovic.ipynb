{
  "nbformat": 4,
  "nbformat_minor": 0,
  "metadata": {
    "colab": {
      "name": "Exercícios Livro Introdução a Computação Usando Python - Um foco no Desenvolvimento de Aplicações - Ljubomir Perkovic",
      "provenance": [],
      "authorship_tag": "ABX9TyPmeoT53My0t4vLqyVSxEQN",
      "include_colab_link": true
    },
    "kernelspec": {
      "name": "python3",
      "display_name": "Python 3"
    },
    "language_info": {
      "name": "python"
    }
  },
  "cells": [
    {
      "cell_type": "markdown",
      "metadata": {
        "id": "view-in-github",
        "colab_type": "text"
      },
      "source": [
        "<a href=\"https://colab.research.google.com/github/vncspelegrini/execiciosPython/blob/main/Exerc%C3%ADcios_Livro_Introdu%C3%A7%C3%A3o_a_Computa%C3%A7%C3%A3o_Usando_Python_Um_foco_no_Desenvolvimento_de_Aplica%C3%A7%C3%B5es_Ljubomir_Perkovic.ipynb\" target=\"_parent\"><img src=\"https://colab.research.google.com/assets/colab-badge.svg\" alt=\"Open In Colab\"/></a>"
      ]
    },
    {
      "cell_type": "code",
      "execution_count": null,
      "metadata": {
        "id": "kbtzAsDd1Z2Z",
        "colab": {
          "base_uri": "https://localhost:8080/"
        },
        "outputId": "b670e569-99fc-4740-e8ed-25066768e9c7"
      },
      "outputs": [
        {
          "output_type": "stream",
          "name": "stdout",
          "text": [
            "15\n",
            "24.333333333333332\n",
            "5\n",
            "38\n",
            "1024\n",
            "3\n",
            "29.95\n"
          ]
        }
      ],
      "source": [
        "\"\"\" Problema prático 2.1\n",
        "\n",
        "Escreva expressões algébricas Python correspondentes aos seguintes comandos:\n",
        "\n",
        "(a)A soma dos 5 primeiros inteiros positivos.\n",
        "\n",
        "(b)A idade média de Sara (idade 23), Mark (idade 19) e Fátima (idade 31).\n",
        "\n",
        "(c)O número de vezes que 73 cabe em 403.\n",
        "\n",
        "(d)O resto de quando 403 é dividido por 73.\n",
        "\n",
        "(e)2 à 10a potência.\n",
        "\n",
        "(f)O valor absoluto da distância entre a altura de Sara (54 polegadas) e a altura de Mark (57 polegadas).\n",
        "\n",
        "(g)O menor preço entre os seguintes preços: R$ 34,99, R$ 29,95 e R$ 31,50.\"\"\"\n",
        "\n",
        "print(1+2+3+4+5)\n",
        "\n",
        "print((23 + 19 + 31) / 3)\n",
        "\n",
        "print(403 // 73)\n",
        "\n",
        "print(403 % 73)\n",
        "\n",
        "print(2**10)\n",
        "\n",
        "print(abs(54 - 57))\n",
        "\n",
        "print(min(34.99, 29.95, 31.50))\n",
        "\n"
      ]
    },
    {
      "cell_type": "code",
      "source": [
        "\"\"\"Problema Prático 2.2\n",
        "\n",
        "Traduza os comandos a seguir para expressões Booleanas em Python e avalie-as:\n",
        "\n",
        "(a)A soma de 2 e 2 é menor que 4.\n",
        "\n",
        "(b)O valor de 7 // 3 é igual a 1 + 1.\n",
        "\n",
        "(c)A soma de 3 ao quadrado e 4 ao quadrado é igual a 25.\n",
        "\n",
        "(d)A soma de 2, 4 e 6 é maior que 12.\n",
        "\n",
        "(e)1387 é divisível por 19.\n",
        "\n",
        "(f)31 é par. (Dica: o que o resto lhe diz quando você divide por 2?)\n",
        "\n",
        "(g)O preço mais baixo dentre R$ 34,99, R$ 29,95 e R$ 31,50 é menor que R$ 30,00.*\"\"\"\n",
        "\n",
        "print(2 + 2 < 4)\n",
        "\n",
        "print(7 // 3 == 1 + 1)\n",
        "\n",
        "print(3**4 + 4**2 == 25)\n",
        "\n",
        "print(2 + 4 + 6 > 12)\n",
        "\n",
        "print(1387 % 19 == 0)\n",
        "\n",
        "print(31 % 2 == 0)\n",
        "\n",
        "print(min(34.99, 29.95, 31.50) < 30.00)"
      ],
      "metadata": {
        "colab": {
          "base_uri": "https://localhost:8080/"
        },
        "id": "36n63BbVPeew",
        "outputId": "4244ed37-34f5-4732-94d6-1f63d37779d1"
      },
      "execution_count": null,
      "outputs": [
        {
          "output_type": "stream",
          "name": "stdout",
          "text": [
            "False\n",
            "True\n",
            "False\n",
            "False\n",
            "True\n",
            "False\n",
            "True\n"
          ]
        }
      ]
    },
    {
      "cell_type": "code",
      "source": [
        "\"\"\"Problema Prático 2.3\n",
        "\n",
        "Escreva instruções Python que correspondem às ações a seguir e execute-as:\n",
        "\n",
        "(a)Atribua o valor inteiro 3 à variável a.\n",
        "\n",
        "(b)Atribua 4 à variável b.\n",
        "\n",
        "(c)Atribua à variável c o valor da expressão a * a + b * b.\"\"\"\n",
        "\n",
        "a = 3\n",
        "b = 4\n",
        "c = a * a + b * b\n",
        "print(c)"
      ],
      "metadata": {
        "colab": {
          "base_uri": "https://localhost:8080/"
        },
        "id": "0G7clxQARtuA",
        "outputId": "c341c4f2-e0f7-4b46-bd5d-fc33b0355426"
      },
      "execution_count": null,
      "outputs": [
        {
          "output_type": "stream",
          "name": "stdout",
          "text": [
            "25\n"
          ]
        }
      ]
    },
    {
      "cell_type": "code",
      "source": [
        "\"\"\"Problema Prático 2.4\n",
        "\n",
        "Comece executando as instruções de atribuição:\n",
        "\n",
        ">>> s1 = 'ant'\n",
        "\n",
        ">>> s2 = 'bat'\n",
        "\n",
        ">>> s3 = 'cod'\n",
        "\n",
        "Escreva expressões Python usando s1, s2 e s3 e os operadores + e * a fim de avaliar para:\n",
        "\n",
        "(a)'ant bat cod'\n",
        "\n",
        "(b)'ant ant ant ant ant ant ant ant ant ant'\n",
        "\n",
        "(c)'ant bat bat cod cod cod'\n",
        "\n",
        "(d)'ant bat ant bat ant bat ant bat ant bat ant bat ant bat'\n",
        "\n",
        "(e)'batbatcod batbatcod batbatcod batbatcod batbatcod'\"\"\"\n",
        "\n",
        "s1 = 'ant'\n",
        "s2 = 'bat'\n",
        "s3 = 'cod'\n",
        "\n",
        "print(s1 + ' ' + s2 + ' ' + s3)\n",
        "\n",
        "print(10 *(s1 + ' '))\n",
        "\n",
        "print(s1 + ' ' + 2 * (s2 + ' ') + 3 * (s3 + ' '))\n",
        "\n",
        "print( 7 * (s1 + ' ' + s2 + ' '))\n",
        "\n",
        "print(5 * (2 * s2 + s3 + ' '))"
      ],
      "metadata": {
        "colab": {
          "base_uri": "https://localhost:8080/"
        },
        "id": "_qzm-T_ATs1w",
        "outputId": "661137d1-c84f-4087-87bf-8f2c7fbae37e"
      },
      "execution_count": null,
      "outputs": [
        {
          "output_type": "stream",
          "name": "stdout",
          "text": [
            "ant bat cod\n",
            "ant ant ant ant ant ant ant ant ant ant \n",
            "ant bat bat cod cod cod \n",
            "ant bat ant bat ant bat ant bat ant bat ant bat ant bat \n",
            "batbatcod batbatcod batbatcod batbatcod batbatcod \n"
          ]
        }
      ]
    },
    {
      "cell_type": "code",
      "source": [
        "\"\"\"Problema Prático 2.5\n",
        "\n",
        "Comece executando a atribuição:\n",
        "\n",
        "s = '0123456789'\n",
        "\n",
        "Agora, escreva expressões usando a string s e o operador de indexação que é avaliado como:\n",
        "\n",
        "(a)'0'\n",
        "\n",
        "(b)'1'\n",
        "\n",
        "(c)'6'\n",
        "\n",
        "(d)'8'\n",
        "\n",
        "(e)'9'\"\"\"\n",
        "\n",
        "s = '0123456789'\n",
        "\n",
        "print(s[0])\n",
        "\n",
        "print(s[1])\n",
        "\n",
        "print(s[6])\n",
        "\n",
        "print(s[8])\n",
        "\n",
        "print(s[9])\n",
        "\n"
      ],
      "metadata": {
        "colab": {
          "base_uri": "https://localhost:8080/"
        },
        "id": "tZSLgSo2XxmY",
        "outputId": "be757fa2-97fe-42d2-fb14-5aeb45dbc313"
      },
      "execution_count": null,
      "outputs": [
        {
          "output_type": "stream",
          "name": "stdout",
          "text": [
            "0\n",
            "1\n",
            "6\n",
            "8\n",
            "9\n"
          ]
        }
      ]
    },
    {
      "cell_type": "code",
      "source": [
        "\"\"\"Problema Prático 2.6\n",
        "\n",
        "Primeiro, execute a atribuição\n",
        "\n",
        "palavras = ['taco', 'bola', 'celeiro', 'cesta', 'peteca']\n",
        "\n",
        "Agora, escreva duas expressões Python que são avaliadas, respectivamente,\n",
        "como a primeiro e a última palavras em palavras, na ordem do dicionário.\"\"\"\n",
        "\n",
        "palavras = ['taco', 'bola', 'celeiro', 'cesta', 'peteca']\n",
        "\n",
        "print(min(palavras))\n",
        "\n",
        "print(max(palavras))"
      ],
      "metadata": {
        "colab": {
          "base_uri": "https://localhost:8080/"
        },
        "id": "ArEXByC0Zzdm",
        "outputId": "e1c8afbf-065b-4872-e7e1-25244a01238c"
      },
      "execution_count": null,
      "outputs": [
        {
          "output_type": "stream",
          "name": "stdout",
          "text": [
            "bola\n",
            "taco\n"
          ]
        }
      ]
    },
    {
      "cell_type": "code",
      "source": [
        "\"\"\"Problema Prático 2.7\n",
        "\n",
        "Dada a lista de notas de trabalho de casa dos alunos\n",
        "\n",
        ">>> notas = [9, 7, 7, 10, 3, 9, 6, 6, 2]\n",
        "\n",
        "escreva:\n",
        "\n",
        "(a)Uma expressão que avalia para o número de 7 notas.\n",
        "\n",
        "(b)Uma instrução que muda a última nota para 4.\n",
        "\n",
        "(c)Uma expressão que avalia para a nota mais alta.\n",
        "\n",
        "(d)Uma instrução que classifica as notas da lista.\n",
        "\n",
        "(e)Uma expressão que avalia para a média das notas.\"\"\"\n",
        "\n",
        "notas = [9, 7, 7, 10, 3, 9, 6, 6, 2]\n",
        "\n",
        "print(notas[0:7])\n",
        "\n",
        "notas[-1] = 4\n",
        "print(notas)\n",
        "\n",
        "print(max(notas))\n",
        "\n",
        "notas.sort()\n",
        "print(notas)\n",
        "\n",
        "print(sum(notas) / len(notas) )\n",
        "\n",
        "\n"
      ],
      "metadata": {
        "colab": {
          "base_uri": "https://localhost:8080/"
        },
        "id": "UondItWnuwR5",
        "outputId": "50db9651-d35b-49f6-b737-26280f6a5b54"
      },
      "execution_count": null,
      "outputs": [
        {
          "output_type": "stream",
          "name": "stdout",
          "text": [
            "[9, 7, 7, 10, 3, 9, 6]\n",
            "[9, 7, 7, 10, 3, 9, 6, 6, 4]\n",
            "10\n",
            "[3, 4, 6, 6, 7, 7, 9, 9, 10]\n",
            "6.777777777777778\n"
          ]
        }
      ]
    },
    {
      "cell_type": "code",
      "source": [
        "'''Problema Prático 2.8\n",
        "\n",
        "Em que ordem os operadores nas expressões a seguir são avaliados?\n",
        "\n",
        "(a)2 + 3 == 4 or a >= 5\n",
        "\n",
        "+\n",
        "\n",
        "== ,  >= \n",
        "\n",
        "or\n",
        "\n",
        "(b)lst[1] * -3 < -10 == 0\n",
        "\n",
        "*\n",
        "\n",
        "<, ==\n",
        "\n",
        "(c)(lst[1] * -3 < -10) in [0, True]\n",
        "\n",
        "()\n",
        "\n",
        "in\n",
        "\n",
        "(d)2 * 3**2\n",
        "\n",
        "**\n",
        "*\n",
        "\n",
        "(e)4 / 2 in [1, 2, 3]\n",
        "\n",
        "/\n",
        "in '''"
      ],
      "metadata": {
        "id": "eAYoQLoB1MUq"
      },
      "execution_count": null,
      "outputs": []
    },
    {
      "cell_type": "code",
      "source": [
        "\"\"\"Problema Prático 2.9\n",
        "\n",
        "Qual é o tipo do objeto ao qual essas expressões são avaliadas?\n",
        "\n",
        "(a)False + False\n",
        "int\n",
        "\n",
        "(b)2 * 3**2.0\n",
        "float\n",
        "\n",
        "(c)4 // 2 + 4 % 2\n",
        "int\n",
        "\n",
        "(d)2 + 3 == 4 or 5 >= 5\n",
        "bool\"\"\"\n",
        "\n"
      ],
      "metadata": {
        "id": "iqWCQnPK2koo"
      },
      "execution_count": null,
      "outputs": []
    },
    {
      "cell_type": "code",
      "source": [
        "\"\"\"Problema Prático 2.10\n",
        "\n",
        "Escreva expressões Python correspondentes ao seguinte:\n",
        "\n",
        "(a)O comprimento da hipotenusa em um triângulo retângulo cujos dois outros lados têm comprimentos a e b\n",
        "\n",
        "(b)O valor da expressão que avalia se o comprimento da hipotenusa acima é 5\n",
        "\n",
        "(c)A área de um disco com raio a\n",
        "\n",
        "(d)O valor da expressão Booleana que verifica se um ponto com coordenadas x e y está dentro de um círculo com centro (a, b) e raio r\"\"\"\n",
        "\n",
        "import math\n",
        "a = 2\n",
        "b = 3\n",
        "print(math.sqrt(a**2 + b**2))\n",
        "\n",
        "print(math.sqrt(a**2 + b**2) == 5)\n",
        "\n",
        "print(math.pi * a**2)\n",
        "\n",
        "#(x - a)**2 + (y - b)**2 < r**2"
      ],
      "metadata": {
        "colab": {
          "base_uri": "https://localhost:8080/"
        },
        "id": "ppHHJKO466qy",
        "outputId": "22ce2acc-04ef-4c4a-90b3-03dcfb2d8335"
      },
      "execution_count": null,
      "outputs": [
        {
          "output_type": "stream",
          "name": "stdout",
          "text": [
            "3.605551275463989\n",
            "False\n",
            "12.566370614359172\n"
          ]
        }
      ]
    },
    {
      "cell_type": "code",
      "source": [
        "\"\"\" 2.12 Escreva expressões Python correspondentes a estas instruções:\n",
        "\n",
        "(a)A soma dos sete primeiros inteiros positivos\n",
        "\n",
        "(b)A idade média de Sara (idade 65), Fátima (idade 56) e Mark (idade 45)\n",
        "\n",
        "(c)2 à 20-ª potência\n",
        "\n",
        "(d)O número de vezes que 61 cabe em 4356\n",
        "\n",
        "(e)O resto de quando 4365 é dividido por 61 \"\"\"\n",
        "\n",
        "print(1 + 2 + 3 + 4 + 5 + 6 + 7)\n",
        "\n",
        "print((65 + 56 + 45) / 3)\n",
        "\n",
        "print(2 ** 20)\n",
        "\n",
        "print(4346 // 61)\n",
        "\n",
        "print(4346 % 61)\n"
      ],
      "metadata": {
        "colab": {
          "base_uri": "https://localhost:8080/"
        },
        "id": "Fel6Y3orgRsr",
        "outputId": "b230bcda-d85f-4776-9146-7eb770f9c29b"
      },
      "execution_count": null,
      "outputs": [
        {
          "output_type": "stream",
          "name": "stdout",
          "text": [
            "28\n",
            "55.333333333333336\n",
            "1048576\n",
            "71\n",
            "15\n"
          ]
        }
      ]
    },
    {
      "cell_type": "code",
      "source": [
        "\"\"\" 2.13 Comece avaliando, no shell interativo, a atribuição:\n",
        "\n",
        ">>> s1 = '-'\n",
        "\n",
        ">>> s2 = '+'\n",
        "\n",
        "Agora, escreva expressões de string envolvendo s1 e s2 e os operadores de string + e * que são avaliados como:\n",
        "\n",
        "(a)'-+'\n",
        "\n",
        "(b)'–+'\n",
        "\n",
        "(c)'+––'\n",
        "\n",
        "(d)'+––+––'\n",
        "\n",
        "(e)'+––+––+––+––+––+––+––+––+––+––+'\n",
        "\n",
        "(f)'+–+++––+–+++––+–+++––+–+++––+–+++––'\n",
        "\n",
        "Tente tornar suas expressões de string as menores possíveis.\"\"\"\n",
        "\n",
        "s1 = '-'\n",
        "s2 = '+'\n",
        "\n",
        "print(s1 +s2)\n",
        "\n",
        "print(2*s1 + s2)\n",
        "\n",
        "print(s2 + 3 * s1)\n",
        "\n",
        "print(2 * (s2 + 3 * s1))\n",
        "\n",
        "print(10 * (s2 + 3 * s1) + s2)\n",
        "\n",
        "print(5 * (s2 + 2 * s1 + 3 * s2 + 3 * s1))\n"
      ],
      "metadata": {
        "colab": {
          "base_uri": "https://localhost:8080/"
        },
        "id": "LhfcZ_EmhUbr",
        "outputId": "e2c67993-1800-47ab-ea7a-a85456c50e4d"
      },
      "execution_count": null,
      "outputs": [
        {
          "output_type": "stream",
          "name": "stdout",
          "text": [
            "-+\n",
            "--+\n",
            "+---\n",
            "+---+---\n",
            "+---+---+---+---+---+---+---+---+---+---+\n",
            "+--+++---+--+++---+--+++---+--+++---+--+++---\n"
          ]
        }
      ]
    },
    {
      "cell_type": "code",
      "source": [
        "\"\"\"2.14 Comece executando, no shell, a seguinte instrução de atribuição:\n",
        "\n",
        ">>> s = 'abcdefghijklmnopqrstuvwxyz'\n",
        "\n",
        "Agora, escreva expressões usando a string s e o operador de indexação que é avaliado como 'a', 'c', 'z', 'y' e 'q'.\"\"\"\n",
        "\n",
        "s = 'abcdefghijklmnopqrstuvwxyz'\n",
        "\n",
        "print(s[0], s[2], s[-1], s[-2], s[-10])"
      ],
      "metadata": {
        "colab": {
          "base_uri": "https://localhost:8080/"
        },
        "id": "vfSKpTsWjl--",
        "outputId": "99dbcca8-ad15-4a8f-d806-ad7235a99e3b"
      },
      "execution_count": null,
      "outputs": [
        {
          "output_type": "stream",
          "name": "stdout",
          "text": [
            "a c z y q\n"
          ]
        }
      ]
    },
    {
      "cell_type": "code",
      "source": [
        "\"\"\"2.15 Comece executando\n",
        "\n",
        "s = 'goodbye'\n",
        "\n",
        "Depois, escreva uma expressão Booleana que verifica se:\n",
        "\n",
        "(a)O primeiro caractere da string s é 'g'\n",
        "\n",
        "(b)O sétimo caractere de s é g\n",
        "\n",
        "(c)Os dois primeiros caracteres de s são g e a\n",
        "\n",
        "(d)O penúltimo caractere de s é x\n",
        "\n",
        "(e)O caractere do meio de s é d\n",
        "\n",
        "(f)O primeiro e último caracteres da string s são iguais\n",
        "\n",
        "(g)Os 4 últimos caracteres da string s correspondem à string 'tion'\n",
        "\n",
        "Nota: Essas sete instruções devem ser avaliadas como True, False, False, False, True, False e False, respectivamente.\"\"\"\n",
        "\n",
        "s = 'goodbye'\n",
        "\n",
        "print(s[0] == 'g')\n",
        "\n",
        "print(s[6] == 'g')\n",
        "\n",
        "print(s[0:2] == 'ga' )\n",
        "\n",
        "print(s[-2] == 'x')\n",
        "\n",
        "print(s[3] == 'd')\n",
        "\n",
        "print(s[0] == s[-1] )\n",
        "\n",
        "print(s[3:] in 'tion')"
      ],
      "metadata": {
        "colab": {
          "base_uri": "https://localhost:8080/"
        },
        "id": "fJx1fbUdkYKr",
        "outputId": "e9996b0d-ea42-46d3-dbc9-fc6349a76c3f"
      },
      "execution_count": null,
      "outputs": [
        {
          "output_type": "stream",
          "name": "stdout",
          "text": [
            "True\n",
            "False\n",
            "False\n",
            "False\n",
            "True\n",
            "False\n",
            "False\n"
          ]
        }
      ]
    },
    {
      "cell_type": "code",
      "source": [
        "\"\"\"2.16 Escreva as instruções de atribuição Python correspondentes a:\n",
        "\n",
        "(a)Atribuir 6 à variável a e 7 à variável b.\n",
        "\n",
        "(b)Atribuir à variável c a média das variáveis a e b.\n",
        "\n",
        "(c)Atribuir à variável estoque a lista contendo as strings 'papel', 'grampos' e 'lápis'.\n",
        "\n",
        "(d)Atribuir às variáveis primeiro, meio e último as strings 'John', 'Fitzgerald' e 'Kennedy'.\n",
        "\n",
        "(e)Atribuir à variável nomecompleto a concatenação das variáveis de string primeiro, meio e último. \n",
        "Lembre-se de incorporar os espaços em branco de modo apropriado.\"\"\"\n",
        "\n",
        "a = 6\n",
        "b = 7\n",
        "\n",
        "c = (a + b) / 2\n",
        "\n",
        "estoque = ['papel', 'grampos', 'lápis']\n",
        "\n",
        "primeiro = 'John'\n",
        "segundo = 'Fitzgerald'\n",
        "terceiro = 'Kennedy'\n",
        "\n",
        "nomecompleto = primeiro + ' ' + segundo + ' ' + terceiro\n",
        "\n",
        "print(c)\n",
        "print(nomecompleto)"
      ],
      "metadata": {
        "colab": {
          "base_uri": "https://localhost:8080/"
        },
        "id": "j7eCk8c_m3jf",
        "outputId": "0c88257f-cb7b-4679-b318-1caaac36bd5e"
      },
      "execution_count": null,
      "outputs": [
        {
          "output_type": "stream",
          "name": "stdout",
          "text": [
            "6.5\n",
            "John Fitzgerald Kennedy\n"
          ]
        }
      ]
    },
    {
      "cell_type": "code",
      "source": [
        "\"\"\"2.17 Escreva expressões Booleanas correspondentes às instruções lógicas a seguir e avalie as expressões:\n",
        "\n",
        "(a)A soma de 16 e –9 é menor que 10.\n",
        "\n",
        "(b)O comprimento da lista inventário é mais de cinco vezes o comprimento da string nomecompleto.\n",
        "\n",
        "(c)c não é maior que 24.\n",
        "\n",
        "(d)6,75 está entre os valores dos inteiros a e b.\n",
        "\n",
        "(e)O comprimento da string meio é maior que o comprimento da string primeiro e menor que o comprimento da string último.\n",
        "\n",
        "(f)Ou a lista estoque está vazia ou tem mais de 10 objetos nela.\"\"\"\n",
        "\n",
        "print( 16 - 9 < 10 )\n",
        "\n",
        "inventário = [1, 2, 3]\n",
        "\n",
        "print(len(inventário) / len(nomecompleto) > 5)\n",
        "\n",
        "print(c < 24)\n",
        "\n",
        "print(a < c and b > c)\n",
        "\n",
        "print(len('meio') > len('primeiro') and len('meio') < len('último'))\n",
        "\n",
        "\n",
        "print(len(estoque) == 0 or len(estoque) > 10)"
      ],
      "metadata": {
        "colab": {
          "base_uri": "https://localhost:8080/"
        },
        "id": "rCL5YBALrfTl",
        "outputId": "de2af7d5-1e7b-4ade-ac91-5c805f837dd3"
      },
      "execution_count": null,
      "outputs": [
        {
          "output_type": "stream",
          "name": "stdout",
          "text": [
            "True\n",
            "False\n",
            "True\n",
            "True\n",
            "False\n",
            "False\n"
          ]
        }
      ]
    },
    {
      "cell_type": "code",
      "source": [
        "\"\"\"2.18 Escreva instruções Python correspondentes ao seguinte:\n",
        "\n",
        "(a)Atribua à variável flores uma lista contendo as strings 'rosa', 'buganvília', 'iúca', 'margarida', 'dália' e 'lírio dos vales'.\n",
        "\n",
        "(b)Escreva uma expressão Booleana que é avaliada como True se a string 'batata' estiver na lista flores e avalie a expressão.\n",
        "\n",
        "(c)Atribua à lista espinhosas a sublista da lista flores consistindo nos três primeiros objetos na lista.\n",
        "\n",
        "(d)Atribua à lista venenosas a sublista da lista flores consistindo apenas no último objeto da lista flores.\n",
        "\n",
        "(e)Atribua à lista perigosas a concatenação das listas espinhosas e venenosas.\"\"\"\n",
        "\n",
        "flores = ['rosa', 'buganvíla', 'iúca', 'margarida', 'dália', 'lírio dos vales']\n",
        "\n",
        "print('batata' in flores)\n",
        "\n",
        "espinhosas = flores[:3]\n",
        "print(espinhosas)\n",
        "\n",
        "venenosas = flores[-1]\n",
        "print(venenosas)\n",
        "\n",
        "perigosas = [espinhosas] + [venenosas]\n",
        "print(perigosas)\n",
        "\n",
        "\n"
      ],
      "metadata": {
        "colab": {
          "base_uri": "https://localhost:8080/"
        },
        "id": "ClTlmRxUhSyg",
        "outputId": "e0a153bd-f9ba-4265-a10e-4a4f3d0ed37a"
      },
      "execution_count": null,
      "outputs": [
        {
          "output_type": "stream",
          "name": "stdout",
          "text": [
            "False\n",
            "['rosa', 'buganvíla', 'iúca']\n",
            "lírio dos vales\n",
            "[['rosa', 'buganvíla', 'iúca'], 'lírio dos vales']\n"
          ]
        }
      ]
    },
    {
      "cell_type": "code",
      "source": [
        "\"\"\"2.21 Escreva uma expressão envolvendo uma string de três letras s que avalia como uma string cujos caracteres são os caracteres de s \n",
        "em ordem contrária. Se s for 'top', a expressão deverá ser avaliada como 'pot'.\"\"\"\n",
        "\n",
        "s = 'top'\n",
        "print(''.join(reversed(s)))"
      ],
      "metadata": {
        "colab": {
          "base_uri": "https://localhost:8080/"
        },
        "id": "agM1sLunnrDa",
        "outputId": "8f029742-a4b4-4a7d-9558-48221d1a3ce2"
      },
      "execution_count": null,
      "outputs": [
        {
          "output_type": "stream",
          "name": "stdout",
          "text": [
            "pot\n"
          ]
        }
      ]
    },
    {
      "cell_type": "code",
      "source": [
        "\"\"\"2.22 Escreva uma expressão envolvendo a string s contendo o último e o primeiro nome de uma pessoa \n",
        "— separados por um espaço em branco — que seja avaliada para as iniciais da pessoa. \n",
        "Se a string tivesse meu primeiro e último nome, a expressão seria avaliada como 'LP'.\"\"\"\n",
        "\n",
        "s = 'Vinicius Pelegrini'\n",
        "print(s[0], s[9])\n"
      ],
      "metadata": {
        "colab": {
          "base_uri": "https://localhost:8080/"
        },
        "id": "clON6U1HpufP",
        "outputId": "d09d8afa-36bb-4c24-b9a6-7210e2e80775"
      },
      "execution_count": null,
      "outputs": [
        {
          "output_type": "stream",
          "name": "stdout",
          "text": [
            "V P\n"
          ]
        }
      ]
    },
    {
      "cell_type": "code",
      "source": [
        "\"\"\"2.23 O intervalo de uma lista de números é a maior diferença entre dois números quaisquer na lista. \n",
        "Escreva uma expressão em Python que calcule o intervalo de uma lista de números lst. \n",
        "Se a lista lst for, digamos, [3, 7, -2, 12], a expressão deverá ser avaliada como 14 (a diferença entre 12 e –2).\"\"\"\n",
        "\n",
        "lst = [3, 7, -2, 12]\n",
        "\n",
        "print(abs(min(lst) - max(lst)))\n",
        "\n",
        "\n"
      ],
      "metadata": {
        "colab": {
          "base_uri": "https://localhost:8080/"
        },
        "id": "tCT6SdZTreE9",
        "outputId": "08d5b31b-ba9e-42b3-f048-bd848825b2ef"
      },
      "execution_count": null,
      "outputs": [
        {
          "output_type": "stream",
          "name": "stdout",
          "text": [
            "14\n"
          ]
        }
      ]
    },
    {
      "cell_type": "code",
      "source": [
        "\"\"\"2.24 Escreva a expressão ou instrução Python relevante, \n",
        "envolvendo uma lista de números lst e usando operadores e métodos de lista para estas especificações.\n",
        "\n",
        "(a)Uma expressão que é avaliada como o índice do elemento do meio de lst\n",
        "\n",
        "(b)Uma expressão que é avaliada como o elemento do meio de lst\n",
        "\n",
        "(c)Uma instrução que classifica a lista lst em ordem decrescente\n",
        "\n",
        "(d)Uma instrução que remove o primeiro número da lista lst e o coloca no final\"\"\"\n",
        "\n",
        "lst = [3, 7, -2, 12, 0]\n",
        "\n",
        "print(lst.index(-2))\n",
        "\n",
        "print(lst[2])\n",
        "\n",
        "lst.sort()\n",
        "lst.reverse()\n",
        "print(lst)\n",
        "\n",
        "del(lst[0])\n",
        "print(lst)\n",
        "lst.append(12)\n",
        "print(lst)\n",
        "\n"
      ],
      "metadata": {
        "colab": {
          "base_uri": "https://localhost:8080/"
        },
        "id": "W4ePekYGs8ek",
        "outputId": "c23fc048-15c7-4ee2-eb7e-4968ebd0a0c1"
      },
      "execution_count": null,
      "outputs": [
        {
          "output_type": "stream",
          "name": "stdout",
          "text": [
            "2\n",
            "-2\n",
            "[12, 7, 3, 0, -2]\n",
            "[7, 3, 0, -2]\n",
            "[7, 3, 0, -2, 12]\n"
          ]
        }
      ]
    },
    {
      "cell_type": "code",
      "source": [
        "\"\"\"2.25 Acrescente um par de parênteses a cada expressão de modo que ela seja avaliada como True.\n",
        "\n",
        "(a)0 == 1 == 2\n",
        "\n",
        "(b)2 + 3 == 4 + 5 == 7\n",
        "\n",
        "(c)1 < –1 == 3 > 4\n",
        "\n",
        "Para cada expressão, explique em que ordem os operadores foram avaliados.\"\"\"\n",
        "\n",
        "print(0 == (1 == 2))\n",
        "print(2 + (3 == 4) + 5 == 7)\n",
        "print((1 < -1) == (3 > 4))"
      ],
      "metadata": {
        "colab": {
          "base_uri": "https://localhost:8080/"
        },
        "id": "lU7E0PomxGHQ",
        "outputId": "4cf102a2-1cae-401a-fa9a-fa55673c0b96"
      },
      "execution_count": null,
      "outputs": [
        {
          "output_type": "stream",
          "name": "stdout",
          "text": [
            "True\n",
            "True\n",
            "True\n"
          ]
        }
      ]
    },
    {
      "cell_type": "code",
      "source": [
        "\"\"\"Problema Prático 3.1\n",
        "\n",
        "Implemente um programa que solicita a temperatura atual em graus Fahrenheit do usuário\n",
        " e exibe a temperatura em graus Celsius usando a fórmula\n",
        "\n",
        "\n",
        "\n",
        "Seu programa deverá ser executado da seguinte forma:\n",
        "\n",
        ">>>\n",
        "\n",
        "Digite a temperatura em graus Fahrenheit: 50\n",
        "\n",
        "A temperatura em graus Celsius é 10.0\"\"\"\n",
        "\n",
        "fahrenheit = float(input('Digite a temperatura em graus Fahrenheit: '))\n",
        "\n",
        "celsius = float(5/9 * (fahrenheit - 32))\n",
        "\n",
        "print(f'A temperatura em Celsius é {celsius}')\n"
      ],
      "metadata": {
        "colab": {
          "base_uri": "https://localhost:8080/"
        },
        "id": "9dk-y4KlOwFS",
        "outputId": "50a24ec6-4fe1-4b29-bc31-37ade6c62e2f"
      },
      "execution_count": null,
      "outputs": [
        {
          "output_type": "stream",
          "name": "stdout",
          "text": [
            "Digite a temperatura em graus Fahrenheit: 50\n",
            "A temperatura em Celsius é 10.0\n"
          ]
        }
      ]
    },
    {
      "cell_type": "code",
      "source": [
        "\"\"\"Problema Prático 3.2\n",
        "\n",
        "Traduza estas instruções condicionais em instruções if do Python:\n",
        "\n",
        "(a)Se idade é maior que 62, exiba 'Você pode obter benefícios de pensão'.\n",
        "\n",
        "(b)Se o nome está na lista ['Musial', 'Aaraon', 'Williams', 'Gehrig', 'Ruth'], exiba 'Um dos 5 maiores jogadores de beisebol de todos os tempos!'.\n",
        "\n",
        "(c)Se golpes é maior que 10 e defesas é 0, exiba 'Você está morto…'.\n",
        "\n",
        "(d)Se pelo menos uma das variáveis booleanas norte, sul, leste e oeste for True, exiba 'Posso escapar.'\"\"\"\n",
        "\n",
        "idade = eval(input('Digite a sua idade: '))\n",
        "\n",
        "if idade > 62:\n",
        "  print('Você pode obter beneficios de pensão')\n",
        "\n",
        "lista = ['Musial', 'Aaraon', 'Williams', 'Gehrig', 'Ruth']\n",
        "\n",
        "nome = input('Digite um nome: ')\n",
        "\n",
        "if nome in lista:\n",
        "  print('Um dos 5 maiores jogadores de beisebol de todos os tempos!')\n",
        "\n",
        "golpes = eval(input('Golpes recebidos: '))\n",
        "defesa = eval(input('Golpes defendidos: '))\n",
        "\n",
        "if golpes > 10 and defesa == 0:\n",
        "  print('Você está morto')\n",
        "\n",
        "norte = True\n",
        "sul = False\n",
        "leste = False\n",
        "oeste = False\n",
        "\n",
        "if norte or sul or leste or oeste == True:\n",
        "  print('Posso escapar')"
      ],
      "metadata": {
        "colab": {
          "base_uri": "https://localhost:8080/"
        },
        "id": "AnwuufgORJO5",
        "outputId": "6a9b0527-77dc-461f-8593-101594dbafc3"
      },
      "execution_count": null,
      "outputs": [
        {
          "output_type": "stream",
          "name": "stdout",
          "text": [
            "Digite a sua idade: 69\n",
            "Você pode obter beneficios de pensão\n",
            "Digite um nome: Musial\n",
            "Um dos 5 maiores jogadores de beisebol de todos os tempos!\n",
            "Golpes recebidos: 11\n",
            "Golpes defendidos: 0\n",
            "Você está morto\n",
            "Posso escapar\n"
          ]
        }
      ]
    },
    {
      "cell_type": "code",
      "source": [
        "'''Problema Prático 3.3\n",
        "\n",
        "Traduza estas declarações em instruções if/else do Python:\n",
        "\n",
        "(a)Se ano é divisível por 4, exiba 'Pode ser um ano bissexto.'; caso contrário, exiba 'Definitivamente não é um ano bissexto.'\n",
        "\n",
        "(b)Se a lista bilhete é igual à lista loteria, exiba 'Você ganhou!'; se não, exiba 'Melhor sorte da próxima vez…'.'''\n",
        "\n",
        "ano = int(input('Digite um ano: '))\n",
        "if ano % 4 == 0:\n",
        "  print('Pode ser um ano bissexto')\n",
        "else: \n",
        "  print('Definitivamente não é bissexto')\n",
        "\n",
        "LstBilhete = [1, 2, 3, 4]\n",
        "LstLoteria = [1, 3, 4, 6]\n",
        "if LstBilhete == LstLoteria:\n",
        "  print('Você ganhou')\n",
        "else:\n",
        "  print('Melhor sorte da próxima vez')\n"
      ],
      "metadata": {
        "id": "xdO615zQWKzh",
        "colab": {
          "base_uri": "https://localhost:8080/"
        },
        "outputId": "3e6c973e-65a0-4d4e-c239-dffa1cb92804"
      },
      "execution_count": null,
      "outputs": [
        {
          "output_type": "stream",
          "name": "stdout",
          "text": [
            "Digite um ano: 2022\n",
            "Definitivamente não é bissexto\n",
            "Melhor sorte da próxima vez\n"
          ]
        }
      ]
    },
    {
      "cell_type": "code",
      "source": [
        "'''Problema Prático 3.4\n",
        "\n",
        "Implemente um programa que comece pedindo ao usuário para digitar uma identificação de login (ou seja, uma string). \n",
        "O programa, então, verifica se a identificação informada pelo usuário está na lista ['joe', 'sue', ' hani', 'sophie' ] de usuários válidos.\n",
        " Dependendo do resultado, uma mensagem apropriada deverá ser impressa. \n",
        " Não importando o resultado, sua função deverá exibir 'Fim.' antes de terminar. Aqui está um exemplo de um login bem-sucedido:'''\n",
        "\n",
        "Lista = ['joe', 'sue', 'hani', 'sophie']\n",
        "\n",
        "Login = input('Login: ')\n",
        "if Login in Lista:\n",
        "  print('Você entrou !!!')\n",
        "else:\n",
        "  print('Usuário desconhecido')\n",
        "print('Fim')\n",
        "\n",
        "\n"
      ],
      "metadata": {
        "colab": {
          "base_uri": "https://localhost:8080/"
        },
        "id": "L-gbmCc6XC8P",
        "outputId": "a9bab5f8-9f01-41ba-e915-308c22f76519"
      },
      "execution_count": null,
      "outputs": [
        {
          "output_type": "stream",
          "name": "stdout",
          "text": [
            "Login: sue\n",
            "Você entrou !!!\n",
            "Fim\n"
          ]
        }
      ]
    },
    {
      "cell_type": "code",
      "source": [
        "\"\"\"Problema Prático 3.5\n",
        "\n",
        "Implemente um programa que solicite do usuário uma lista de palavras (ou seja, strings) e depois exiba na tela,\n",
        "uma por linha, todas as strings de quatro letras nessa lista.\n",
        "\n",
        ">>>\n",
        "\n",
        "Digite a lista de palavras: ['pare', 'desktop', 'tio', 'pote']\n",
        "\n",
        "pare pote \"\"\"\n",
        "\n",
        "lista = eval(input('Digite a lista de palavras:'))\n",
        "for palavra in lista:\n",
        "  if len(palavra) == 4:\n",
        "    print(palavra)\n",
        "\n",
        "\n"
      ],
      "metadata": {
        "colab": {
          "base_uri": "https://localhost:8080/"
        },
        "id": "jrMRJ6ThJVQc",
        "outputId": "d0a2e909-c8f4-45ce-f118-2cfad5f392e3"
      },
      "execution_count": 16,
      "outputs": [
        {
          "output_type": "stream",
          "name": "stdout",
          "text": [
            "Digite a lista de palavras:['pare', 'desktop', 'tio', 'pote']\n",
            "pare\n",
            "pote\n"
          ]
        }
      ]
    },
    {
      "cell_type": "code",
      "source": [
        "\"\"\"Problema Prático 3.6\n",
        "\n",
        "Escreva o laço for que exibirá as sequências de números a seguir, um por linha, no shell interativo do Python.\n",
        "\n",
        "(a)Inteiros de 0 a 9 (isto é, 0, 1, 2, 3, 4, 5, 6, 7, 8, 9).\n",
        "\n",
        "(b)Inteiros de 0 a 1 (isto é, 0, 1).\"\"\"\n",
        "\n",
        "for c in range(10):\n",
        "  print(c)\n",
        "\n",
        "print()\n",
        "\n",
        "for c in range(2):\n",
        "  print(c)\n"
      ],
      "metadata": {
        "colab": {
          "base_uri": "https://localhost:8080/"
        },
        "id": "BmXuMoeXed6e",
        "outputId": "c6c8de4c-a866-4cee-8416-74438d897531"
      },
      "execution_count": 18,
      "outputs": [
        {
          "output_type": "stream",
          "name": "stdout",
          "text": [
            "0\n",
            "1\n",
            "2\n",
            "3\n",
            "4\n",
            "5\n",
            "6\n",
            "7\n",
            "8\n",
            "9\n",
            "\n",
            "0\n",
            "1\n"
          ]
        }
      ]
    },
    {
      "cell_type": "code",
      "source": [
        "\"\"\"Problema Prático 3.7\n",
        "\n",
        "Escreva um laço for que exiba a seguinte sequência de números, um por linha.\n",
        "\n",
        "(a)Inteiros de 3 até 12, inclusive este.\n",
        "\n",
        "(b)Inteiros de 0 até (mas não incluindo) 9, com um passo de 2 em vez do padrão 1 (isto é, 0, 2, 4, 6, 8).\n",
        "\n",
        "(c)Inteiros de 0 até (mas não incluindo) 24, com um passo de 3.\n",
        "\n",
        "(d)Inteiros de 3 até (mas não incluindo) 12, com um passo de 5.\"\"\"\n",
        "\n",
        "for c in range(3,13):\n",
        "  print(c)\n",
        "\n",
        "print()\n",
        "\n",
        "for c in range(0, 9, 2):\n",
        "  print(c)\n",
        "\n",
        "print()\n",
        "\n",
        "for c in range(0, 24, 3):\n",
        "  print(c)\n",
        "\n",
        "print()\n",
        "\n",
        "for c in range(3, 12, 5):\n",
        "  print(c)\n"
      ],
      "metadata": {
        "colab": {
          "base_uri": "https://localhost:8080/"
        },
        "id": "C6q2Kf5we8xk",
        "outputId": "e7f5cbf3-fa6e-492a-8369-424642863786"
      },
      "execution_count": 19,
      "outputs": [
        {
          "output_type": "stream",
          "name": "stdout",
          "text": [
            "3\n",
            "4\n",
            "5\n",
            "6\n",
            "7\n",
            "8\n",
            "9\n",
            "10\n",
            "11\n",
            "12\n",
            "\n",
            "0\n",
            "2\n",
            "4\n",
            "6\n",
            "8\n",
            "\n",
            "0\n",
            "3\n",
            "6\n",
            "9\n",
            "12\n",
            "15\n",
            "18\n",
            "21\n",
            "\n",
            "3\n",
            "8\n"
          ]
        }
      ]
    },
    {
      "cell_type": "code",
      "source": [
        "\"\"\"Problema Prático 3.8\n",
        "\n",
        "Defina, diretamente no shell interativo, a função média(), que aceita dois números como entrada e retorna a média dos números.\n",
        " Um exemplo de uso é:\n",
        "\n",
        ">>> average(2, 3.5)\n",
        "\n",
        "2.75\"\"\"\n",
        "\n",
        "def média(x, y):\n",
        "  'retorna a média de x e y'\n",
        "  return (x + y ) / 2\n",
        "\n",
        "média(2, 3.5)"
      ],
      "metadata": {
        "colab": {
          "base_uri": "https://localhost:8080/"
        },
        "id": "WwwYbncpge2l",
        "outputId": "27400d21-f9f7-4ef2-d6a9-40ba93d0ae60"
      },
      "execution_count": 7,
      "outputs": [
        {
          "output_type": "execute_result",
          "data": {
            "text/plain": [
              "2.75"
            ]
          },
          "metadata": {},
          "execution_count": 7
        }
      ]
    },
    {
      "cell_type": "code",
      "source": [
        "\"\"\"Problema Prático 3.10\n",
        "\n",
        "Escreva a função negativos(), que aceita uma lista como entrada e exibe, um por linha, os valores negativos na lista. A função não deverá retornar nada.\n",
        "\n",
        ">>> negatives([4, 0, -1, -3, 6, -9])\n",
        "\n",
        "-1\n",
        "\n",
        "-3\n",
        "\n",
        "-9\"\"\"\n",
        "\n",
        "def negativos(lista):\n",
        "  'exibe os números negativos contidos em uma lista'\n",
        "  for elemento in lista:\n",
        "    if elemento < 0:\n",
        "      print(elemento)\n",
        "      \n",
        "\n",
        "negativos([4, 0, -1, -3, 6, -9])"
      ],
      "metadata": {
        "colab": {
          "base_uri": "https://localhost:8080/"
        },
        "id": "QsTm_6CJiC4H",
        "outputId": "2a7d9cc6-1f34-4afb-d805-d43b27176ae7"
      },
      "execution_count": 8,
      "outputs": [
        {
          "output_type": "stream",
          "name": "stdout",
          "text": [
            "-1\n",
            "-3\n",
            "-9\n"
          ]
        }
      ]
    },
    {
      "cell_type": "code",
      "source": [
        "help(média)\n",
        "help(negativos)\n",
        "\n"
      ],
      "metadata": {
        "colab": {
          "base_uri": "https://localhost:8080/"
        },
        "id": "DqfckppmXiIs",
        "outputId": "722e1fd0-e62e-4067-e567-de1ac5a94dc4"
      },
      "execution_count": 9,
      "outputs": [
        {
          "output_type": "stream",
          "name": "stdout",
          "text": [
            "Help on function média in module __main__:\n",
            "\n",
            "média(x, y)\n",
            "    retorna a média de x e y\n",
            "\n",
            "Help on function negativos in module __main__:\n",
            "\n",
            "negativos(lista)\n",
            "    exibe os números negativos contidos em uma lista\n",
            "\n"
          ]
        }
      ]
    },
    {
      "cell_type": "code",
      "source": [
        ""
      ],
      "metadata": {
        "id": "b4jMxPUsVxwX"
      },
      "execution_count": null,
      "outputs": []
    }
  ]
}