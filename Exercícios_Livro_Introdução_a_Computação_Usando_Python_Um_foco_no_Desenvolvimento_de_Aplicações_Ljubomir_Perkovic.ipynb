{
  "nbformat": 4,
  "nbformat_minor": 0,
  "metadata": {
    "colab": {
      "provenance": [],
      "authorship_tag": "ABX9TyPM7XKeF6p90XVUR/VayZwS",
      "include_colab_link": true
    },
    "kernelspec": {
      "name": "python3",
      "display_name": "Python 3"
    },
    "language_info": {
      "name": "python"
    }
  },
  "cells": [
    {
      "cell_type": "markdown",
      "metadata": {
        "id": "view-in-github",
        "colab_type": "text"
      },
      "source": [
        "<a href=\"https://colab.research.google.com/github/vncspelegrini/execiciosPython/blob/main/Exerc%C3%ADcios_Livro_Introdu%C3%A7%C3%A3o_a_Computa%C3%A7%C3%A3o_Usando_Python_Um_foco_no_Desenvolvimento_de_Aplica%C3%A7%C3%B5es_Ljubomir_Perkovic.ipynb\" target=\"_parent\"><img src=\"https://colab.research.google.com/assets/colab-badge.svg\" alt=\"Open In Colab\"/></a>"
      ]
    },
    {
      "cell_type": "code",
      "execution_count": null,
      "metadata": {
        "id": "kbtzAsDd1Z2Z",
        "colab": {
          "base_uri": "https://localhost:8080/"
        },
        "outputId": "b670e569-99fc-4740-e8ed-25066768e9c7"
      },
      "outputs": [
        {
          "output_type": "stream",
          "name": "stdout",
          "text": [
            "15\n",
            "24.333333333333332\n",
            "5\n",
            "38\n",
            "1024\n",
            "3\n",
            "29.95\n"
          ]
        }
      ],
      "source": [
        "\"\"\" Problema prático 2.1\n",
        "\n",
        "Escreva expressões algébricas Python correspondentes aos seguintes comandos:\n",
        "\n",
        "(a)A soma dos 5 primeiros inteiros positivos.\n",
        "\n",
        "(b)A idade média de Sara (idade 23), Mark (idade 19) e Fátima (idade 31).\n",
        "\n",
        "(c)O número de vezes que 73 cabe em 403.\n",
        "\n",
        "(d)O resto de quando 403 é dividido por 73.\n",
        "\n",
        "(e)2 à 10a potência.\n",
        "\n",
        "(f)O valor absoluto da distância entre a altura de Sara (54 polegadas) e a altura de Mark (57 polegadas).\n",
        "\n",
        "(g)O menor preço entre os seguintes preços: R$ 34,99, R$ 29,95 e R$ 31,50.\"\"\"\n",
        "\n",
        "print(1+2+3+4+5)\n",
        "\n",
        "print((23 + 19 + 31) / 3)\n",
        "\n",
        "print(403 // 73)\n",
        "\n",
        "print(403 % 73)\n",
        "\n",
        "print(2**10)\n",
        "\n",
        "print(abs(54 - 57))\n",
        "\n",
        "print(min(34.99, 29.95, 31.50))\n",
        "\n"
      ]
    },
    {
      "cell_type": "code",
      "source": [
        "\"\"\"Problema Prático 2.2\n",
        "\n",
        "Traduza os comandos a seguir para expressões Booleanas em Python e avalie-as:\n",
        "\n",
        "(a)A soma de 2 e 2 é menor que 4.\n",
        "\n",
        "(b)O valor de 7 // 3 é igual a 1 + 1.\n",
        "\n",
        "(c)A soma de 3 ao quadrado e 4 ao quadrado é igual a 25.\n",
        "\n",
        "(d)A soma de 2, 4 e 6 é maior que 12.\n",
        "\n",
        "(e)1387 é divisível por 19.\n",
        "\n",
        "(f)31 é par. (Dica: o que o resto lhe diz quando você divide por 2?)\n",
        "\n",
        "(g)O preço mais baixo dentre R$ 34,99, R$ 29,95 e R$ 31,50 é menor que R$ 30,00.*\"\"\"\n",
        "\n",
        "print(2 + 2 < 4)\n",
        "\n",
        "print(7 // 3 == 1 + 1)\n",
        "\n",
        "print(3**4 + 4**2 == 25)\n",
        "\n",
        "print(2 + 4 + 6 > 12)\n",
        "\n",
        "print(1387 % 19 == 0)\n",
        "\n",
        "print(31 % 2 == 0)\n",
        "\n",
        "print(min(34.99, 29.95, 31.50) < 30.00)"
      ],
      "metadata": {
        "colab": {
          "base_uri": "https://localhost:8080/"
        },
        "id": "36n63BbVPeew",
        "outputId": "4244ed37-34f5-4732-94d6-1f63d37779d1"
      },
      "execution_count": null,
      "outputs": [
        {
          "output_type": "stream",
          "name": "stdout",
          "text": [
            "False\n",
            "True\n",
            "False\n",
            "False\n",
            "True\n",
            "False\n",
            "True\n"
          ]
        }
      ]
    },
    {
      "cell_type": "code",
      "source": [
        "\"\"\"Problema Prático 2.3\n",
        "\n",
        "Escreva instruções Python que correspondem às ações a seguir e execute-as:\n",
        "\n",
        "(a)Atribua o valor inteiro 3 à variável a.\n",
        "\n",
        "(b)Atribua 4 à variável b.\n",
        "\n",
        "(c)Atribua à variável c o valor da expressão a * a + b * b.\"\"\"\n",
        "\n",
        "a = 3\n",
        "b = 4\n",
        "c = a * a + b * b\n",
        "print(c)"
      ],
      "metadata": {
        "colab": {
          "base_uri": "https://localhost:8080/"
        },
        "id": "0G7clxQARtuA",
        "outputId": "c341c4f2-e0f7-4b46-bd5d-fc33b0355426"
      },
      "execution_count": null,
      "outputs": [
        {
          "output_type": "stream",
          "name": "stdout",
          "text": [
            "25\n"
          ]
        }
      ]
    },
    {
      "cell_type": "code",
      "source": [
        "\"\"\"Problema Prático 2.4\n",
        "\n",
        "Comece executando as instruções de atribuição:\n",
        "\n",
        ">>> s1 = 'ant'\n",
        "\n",
        ">>> s2 = 'bat'\n",
        "\n",
        ">>> s3 = 'cod'\n",
        "\n",
        "Escreva expressões Python usando s1, s2 e s3 e os operadores + e * a fim de avaliar para:\n",
        "\n",
        "(a)'ant bat cod'\n",
        "\n",
        "(b)'ant ant ant ant ant ant ant ant ant ant'\n",
        "\n",
        "(c)'ant bat bat cod cod cod'\n",
        "\n",
        "(d)'ant bat ant bat ant bat ant bat ant bat ant bat ant bat'\n",
        "\n",
        "(e)'batbatcod batbatcod batbatcod batbatcod batbatcod'\"\"\"\n",
        "\n",
        "s1 = 'ant'\n",
        "s2 = 'bat'\n",
        "s3 = 'cod'\n",
        "\n",
        "print(s1 + ' ' + s2 + ' ' + s3)\n",
        "\n",
        "print(10 *(s1 + ' '))\n",
        "\n",
        "print(s1 + ' ' + 2 * (s2 + ' ') + 3 * (s3 + ' '))\n",
        "\n",
        "print( 7 * (s1 + ' ' + s2 + ' '))\n",
        "\n",
        "print(5 * (2 * s2 + s3 + ' '))"
      ],
      "metadata": {
        "colab": {
          "base_uri": "https://localhost:8080/"
        },
        "id": "_qzm-T_ATs1w",
        "outputId": "661137d1-c84f-4087-87bf-8f2c7fbae37e"
      },
      "execution_count": null,
      "outputs": [
        {
          "output_type": "stream",
          "name": "stdout",
          "text": [
            "ant bat cod\n",
            "ant ant ant ant ant ant ant ant ant ant \n",
            "ant bat bat cod cod cod \n",
            "ant bat ant bat ant bat ant bat ant bat ant bat ant bat \n",
            "batbatcod batbatcod batbatcod batbatcod batbatcod \n"
          ]
        }
      ]
    },
    {
      "cell_type": "code",
      "source": [
        "\"\"\"Problema Prático 2.5\n",
        "\n",
        "Comece executando a atribuição:\n",
        "\n",
        "s = '0123456789'\n",
        "\n",
        "Agora, escreva expressões usando a string s e o operador de indexação que é avaliado como:\n",
        "\n",
        "(a)'0'\n",
        "\n",
        "(b)'1'\n",
        "\n",
        "(c)'6'\n",
        "\n",
        "(d)'8'\n",
        "\n",
        "(e)'9'\"\"\"\n",
        "\n",
        "s = '0123456789'\n",
        "\n",
        "print(s[0])\n",
        "\n",
        "print(s[1])\n",
        "\n",
        "print(s[6])\n",
        "\n",
        "print(s[8])\n",
        "\n",
        "print(s[9])\n",
        "\n"
      ],
      "metadata": {
        "colab": {
          "base_uri": "https://localhost:8080/"
        },
        "id": "tZSLgSo2XxmY",
        "outputId": "be757fa2-97fe-42d2-fb14-5aeb45dbc313"
      },
      "execution_count": null,
      "outputs": [
        {
          "output_type": "stream",
          "name": "stdout",
          "text": [
            "0\n",
            "1\n",
            "6\n",
            "8\n",
            "9\n"
          ]
        }
      ]
    },
    {
      "cell_type": "code",
      "source": [
        "\"\"\"Problema Prático 2.6\n",
        "\n",
        "Primeiro, execute a atribuição\n",
        "\n",
        "palavras = ['taco', 'bola', 'celeiro', 'cesta', 'peteca']\n",
        "\n",
        "Agora, escreva duas expressões Python que são avaliadas, respectivamente,\n",
        "como a primeiro e a última palavras em palavras, na ordem do dicionário.\"\"\"\n",
        "\n",
        "palavras = ['taco', 'bola', 'celeiro', 'cesta', 'peteca']\n",
        "\n",
        "print(min(palavras))\n",
        "\n",
        "print(max(palavras))"
      ],
      "metadata": {
        "colab": {
          "base_uri": "https://localhost:8080/"
        },
        "id": "ArEXByC0Zzdm",
        "outputId": "e1c8afbf-065b-4872-e7e1-25244a01238c"
      },
      "execution_count": null,
      "outputs": [
        {
          "output_type": "stream",
          "name": "stdout",
          "text": [
            "bola\n",
            "taco\n"
          ]
        }
      ]
    },
    {
      "cell_type": "code",
      "source": [
        "\"\"\"Problema Prático 2.7\n",
        "\n",
        "Dada a lista de notas de trabalho de casa dos alunos\n",
        "\n",
        ">>> notas = [9, 7, 7, 10, 3, 9, 6, 6, 2]\n",
        "\n",
        "escreva:\n",
        "\n",
        "(a)Uma expressão que avalia para o número de 7 notas.\n",
        "\n",
        "(b)Uma instrução que muda a última nota para 4.\n",
        "\n",
        "(c)Uma expressão que avalia para a nota mais alta.\n",
        "\n",
        "(d)Uma instrução que classifica as notas da lista.\n",
        "\n",
        "(e)Uma expressão que avalia para a média das notas.\"\"\"\n",
        "\n",
        "notas = [9, 7, 7, 10, 3, 9, 6, 6, 2]\n",
        "\n",
        "print(notas[0:7])\n",
        "\n",
        "notas[-1] = 4\n",
        "print(notas)\n",
        "\n",
        "print(max(notas))\n",
        "\n",
        "notas.sort()\n",
        "print(notas)\n",
        "\n",
        "print(sum(notas) / len(notas) )\n",
        "\n",
        "\n"
      ],
      "metadata": {
        "colab": {
          "base_uri": "https://localhost:8080/"
        },
        "id": "UondItWnuwR5",
        "outputId": "50db9651-d35b-49f6-b737-26280f6a5b54"
      },
      "execution_count": null,
      "outputs": [
        {
          "output_type": "stream",
          "name": "stdout",
          "text": [
            "[9, 7, 7, 10, 3, 9, 6]\n",
            "[9, 7, 7, 10, 3, 9, 6, 6, 4]\n",
            "10\n",
            "[3, 4, 6, 6, 7, 7, 9, 9, 10]\n",
            "6.777777777777778\n"
          ]
        }
      ]
    },
    {
      "cell_type": "code",
      "source": [
        "'''Problema Prático 2.8\n",
        "\n",
        "Em que ordem os operadores nas expressões a seguir são avaliados?\n",
        "\n",
        "(a)2 + 3 == 4 or a >= 5\n",
        "\n",
        "+\n",
        "\n",
        "== ,  >= \n",
        "\n",
        "or\n",
        "\n",
        "(b)lst[1] * -3 < -10 == 0\n",
        "\n",
        "*\n",
        "\n",
        "<, ==\n",
        "\n",
        "(c)(lst[1] * -3 < -10) in [0, True]\n",
        "\n",
        "()\n",
        "\n",
        "in\n",
        "\n",
        "(d)2 * 3**2\n",
        "\n",
        "**\n",
        "*\n",
        "\n",
        "(e)4 / 2 in [1, 2, 3]\n",
        "\n",
        "/\n",
        "in '''"
      ],
      "metadata": {
        "id": "eAYoQLoB1MUq"
      },
      "execution_count": null,
      "outputs": []
    },
    {
      "cell_type": "code",
      "source": [
        "\"\"\"Problema Prático 2.9\n",
        "\n",
        "Qual é o tipo do objeto ao qual essas expressões são avaliadas?\n",
        "\n",
        "(a)False + False\n",
        "int\n",
        "\n",
        "(b)2 * 3**2.0\n",
        "float\n",
        "\n",
        "(c)4 // 2 + 4 % 2\n",
        "int\n",
        "\n",
        "(d)2 + 3 == 4 or 5 >= 5\n",
        "bool\"\"\"\n",
        "\n"
      ],
      "metadata": {
        "id": "iqWCQnPK2koo"
      },
      "execution_count": null,
      "outputs": []
    },
    {
      "cell_type": "code",
      "source": [
        "\"\"\"Problema Prático 2.10\n",
        "\n",
        "Escreva expressões Python correspondentes ao seguinte:\n",
        "\n",
        "(a)O comprimento da hipotenusa em um triângulo retângulo cujos dois outros lados têm comprimentos a e b\n",
        "\n",
        "(b)O valor da expressão que avalia se o comprimento da hipotenusa acima é 5\n",
        "\n",
        "(c)A área de um disco com raio a\n",
        "\n",
        "(d)O valor da expressão Booleana que verifica se um ponto com coordenadas x e y está dentro de um círculo com centro (a, b) e raio r\"\"\"\n",
        "\n",
        "import math\n",
        "a = 2\n",
        "b = 3\n",
        "print(math.sqrt(a**2 + b**2))\n",
        "\n",
        "print(math.sqrt(a**2 + b**2) == 5)\n",
        "\n",
        "print(math.pi * a**2)\n",
        "\n",
        "#(x - a)**2 + (y - b)**2 < r**2"
      ],
      "metadata": {
        "colab": {
          "base_uri": "https://localhost:8080/"
        },
        "id": "ppHHJKO466qy",
        "outputId": "22ce2acc-04ef-4c4a-90b3-03dcfb2d8335"
      },
      "execution_count": null,
      "outputs": [
        {
          "output_type": "stream",
          "name": "stdout",
          "text": [
            "3.605551275463989\n",
            "False\n",
            "12.566370614359172\n"
          ]
        }
      ]
    },
    {
      "cell_type": "code",
      "source": [
        "\"\"\" 2.12 Escreva expressões Python correspondentes a estas instruções:\n",
        "\n",
        "(a)A soma dos sete primeiros inteiros positivos\n",
        "\n",
        "(b)A idade média de Sara (idade 65), Fátima (idade 56) e Mark (idade 45)\n",
        "\n",
        "(c)2 à 20-ª potência\n",
        "\n",
        "(d)O número de vezes que 61 cabe em 4356\n",
        "\n",
        "(e)O resto de quando 4365 é dividido por 61 \"\"\"\n",
        "\n",
        "print(1 + 2 + 3 + 4 + 5 + 6 + 7)\n",
        "\n",
        "print((65 + 56 + 45) / 3)\n",
        "\n",
        "print(2 ** 20)\n",
        "\n",
        "print(4346 // 61)\n",
        "\n",
        "print(4346 % 61)\n"
      ],
      "metadata": {
        "colab": {
          "base_uri": "https://localhost:8080/"
        },
        "id": "Fel6Y3orgRsr",
        "outputId": "b230bcda-d85f-4776-9146-7eb770f9c29b"
      },
      "execution_count": null,
      "outputs": [
        {
          "output_type": "stream",
          "name": "stdout",
          "text": [
            "28\n",
            "55.333333333333336\n",
            "1048576\n",
            "71\n",
            "15\n"
          ]
        }
      ]
    },
    {
      "cell_type": "code",
      "source": [
        "\"\"\" 2.13 Comece avaliando, no shell interativo, a atribuição:\n",
        "\n",
        ">>> s1 = '-'\n",
        "\n",
        ">>> s2 = '+'\n",
        "\n",
        "Agora, escreva expressões de string envolvendo s1 e s2 e os operadores de string + e * que são avaliados como:\n",
        "\n",
        "(a)'-+'\n",
        "\n",
        "(b)'–+'\n",
        "\n",
        "(c)'+––'\n",
        "\n",
        "(d)'+––+––'\n",
        "\n",
        "(e)'+––+––+––+––+––+––+––+––+––+––+'\n",
        "\n",
        "(f)'+–+++––+–+++––+–+++––+–+++––+–+++––'\n",
        "\n",
        "Tente tornar suas expressões de string as menores possíveis.\"\"\"\n",
        "\n",
        "s1 = '-'\n",
        "s2 = '+'\n",
        "\n",
        "print(s1 +s2)\n",
        "\n",
        "print(2*s1 + s2)\n",
        "\n",
        "print(s2 + 3 * s1)\n",
        "\n",
        "print(2 * (s2 + 3 * s1))\n",
        "\n",
        "print(10 * (s2 + 3 * s1) + s2)\n",
        "\n",
        "print(5 * (s2 + 2 * s1 + 3 * s2 + 3 * s1))\n"
      ],
      "metadata": {
        "colab": {
          "base_uri": "https://localhost:8080/"
        },
        "id": "LhfcZ_EmhUbr",
        "outputId": "e2c67993-1800-47ab-ea7a-a85456c50e4d"
      },
      "execution_count": null,
      "outputs": [
        {
          "output_type": "stream",
          "name": "stdout",
          "text": [
            "-+\n",
            "--+\n",
            "+---\n",
            "+---+---\n",
            "+---+---+---+---+---+---+---+---+---+---+\n",
            "+--+++---+--+++---+--+++---+--+++---+--+++---\n"
          ]
        }
      ]
    },
    {
      "cell_type": "code",
      "source": [
        "\"\"\"2.14 Comece executando, no shell, a seguinte instrução de atribuição:\n",
        "\n",
        ">>> s = 'abcdefghijklmnopqrstuvwxyz'\n",
        "\n",
        "Agora, escreva expressões usando a string s e o operador de indexação que é avaliado como 'a', 'c', 'z', 'y' e 'q'.\"\"\"\n",
        "\n",
        "s = 'abcdefghijklmnopqrstuvwxyz'\n",
        "\n",
        "print(s[0], s[2], s[-1], s[-2], s[-10])"
      ],
      "metadata": {
        "colab": {
          "base_uri": "https://localhost:8080/"
        },
        "id": "vfSKpTsWjl--",
        "outputId": "99dbcca8-ad15-4a8f-d806-ad7235a99e3b"
      },
      "execution_count": null,
      "outputs": [
        {
          "output_type": "stream",
          "name": "stdout",
          "text": [
            "a c z y q\n"
          ]
        }
      ]
    },
    {
      "cell_type": "code",
      "source": [
        "\"\"\"2.15 Comece executando\n",
        "\n",
        "s = 'goodbye'\n",
        "\n",
        "Depois, escreva uma expressão Booleana que verifica se:\n",
        "\n",
        "(a)O primeiro caractere da string s é 'g'\n",
        "\n",
        "(b)O sétimo caractere de s é g\n",
        "\n",
        "(c)Os dois primeiros caracteres de s são g e a\n",
        "\n",
        "(d)O penúltimo caractere de s é x\n",
        "\n",
        "(e)O caractere do meio de s é d\n",
        "\n",
        "(f)O primeiro e último caracteres da string s são iguais\n",
        "\n",
        "(g)Os 4 últimos caracteres da string s correspondem à string 'tion'\n",
        "\n",
        "Nota: Essas sete instruções devem ser avaliadas como True, False, False, False, True, False e False, respectivamente.\"\"\"\n",
        "\n",
        "s = 'goodbye'\n",
        "\n",
        "print(s[0] == 'g')\n",
        "\n",
        "print(s[6] == 'g')\n",
        "\n",
        "print(s[0:2] == 'ga' )\n",
        "\n",
        "print(s[-2] == 'x')\n",
        "\n",
        "print(s[3] == 'd')\n",
        "\n",
        "print(s[0] == s[-1] )\n",
        "\n",
        "print(s[3:] in 'tion')"
      ],
      "metadata": {
        "colab": {
          "base_uri": "https://localhost:8080/"
        },
        "id": "fJx1fbUdkYKr",
        "outputId": "e9996b0d-ea42-46d3-dbc9-fc6349a76c3f"
      },
      "execution_count": null,
      "outputs": [
        {
          "output_type": "stream",
          "name": "stdout",
          "text": [
            "True\n",
            "False\n",
            "False\n",
            "False\n",
            "True\n",
            "False\n",
            "False\n"
          ]
        }
      ]
    },
    {
      "cell_type": "code",
      "source": [
        "\"\"\"2.16 Escreva as instruções de atribuição Python correspondentes a:\n",
        "\n",
        "(a)Atribuir 6 à variável a e 7 à variável b.\n",
        "\n",
        "(b)Atribuir à variável c a média das variáveis a e b.\n",
        "\n",
        "(c)Atribuir à variável estoque a lista contendo as strings 'papel', 'grampos' e 'lápis'.\n",
        "\n",
        "(d)Atribuir às variáveis primeiro, meio e último as strings 'John', 'Fitzgerald' e 'Kennedy'.\n",
        "\n",
        "(e)Atribuir à variável nomecompleto a concatenação das variáveis de string primeiro, meio e último. \n",
        "Lembre-se de incorporar os espaços em branco de modo apropriado.\"\"\"\n",
        "\n",
        "a = 6\n",
        "b = 7\n",
        "\n",
        "c = (a + b) / 2\n",
        "\n",
        "estoque = ['papel', 'grampos', 'lápis']\n",
        "\n",
        "primeiro = 'John'\n",
        "segundo = 'Fitzgerald'\n",
        "terceiro = 'Kennedy'\n",
        "\n",
        "nomecompleto = primeiro + ' ' + segundo + ' ' + terceiro\n",
        "\n",
        "print(c)\n",
        "print(nomecompleto)"
      ],
      "metadata": {
        "colab": {
          "base_uri": "https://localhost:8080/"
        },
        "id": "j7eCk8c_m3jf",
        "outputId": "0c88257f-cb7b-4679-b318-1caaac36bd5e"
      },
      "execution_count": null,
      "outputs": [
        {
          "output_type": "stream",
          "name": "stdout",
          "text": [
            "6.5\n",
            "John Fitzgerald Kennedy\n"
          ]
        }
      ]
    },
    {
      "cell_type": "code",
      "source": [
        "\"\"\"2.17 Escreva expressões Booleanas correspondentes às instruções lógicas a seguir e avalie as expressões:\n",
        "\n",
        "(a)A soma de 16 e –9 é menor que 10.\n",
        "\n",
        "(b)O comprimento da lista inventário é mais de cinco vezes o comprimento da string nomecompleto.\n",
        "\n",
        "(c)c não é maior que 24.\n",
        "\n",
        "(d)6,75 está entre os valores dos inteiros a e b.\n",
        "\n",
        "(e)O comprimento da string meio é maior que o comprimento da string primeiro e menor que o comprimento da string último.\n",
        "\n",
        "(f)Ou a lista estoque está vazia ou tem mais de 10 objetos nela.\"\"\"\n",
        "\n",
        "print( 16 - 9 < 10 )\n",
        "\n",
        "inventário = [1, 2, 3]\n",
        "\n",
        "print(len(inventário) / len(nomecompleto) > 5)\n",
        "\n",
        "print(c < 24)\n",
        "\n",
        "print(a < c and b > c)\n",
        "\n",
        "print(len('meio') > len('primeiro') and len('meio') < len('último'))\n",
        "\n",
        "\n",
        "print(len(estoque) == 0 or len(estoque) > 10)"
      ],
      "metadata": {
        "colab": {
          "base_uri": "https://localhost:8080/"
        },
        "id": "rCL5YBALrfTl",
        "outputId": "de2af7d5-1e7b-4ade-ac91-5c805f837dd3"
      },
      "execution_count": null,
      "outputs": [
        {
          "output_type": "stream",
          "name": "stdout",
          "text": [
            "True\n",
            "False\n",
            "True\n",
            "True\n",
            "False\n",
            "False\n"
          ]
        }
      ]
    },
    {
      "cell_type": "code",
      "source": [
        "\"\"\"2.18 Escreva instruções Python correspondentes ao seguinte:\n",
        "\n",
        "(a)Atribua à variável flores uma lista contendo as strings 'rosa', 'buganvília', 'iúca', 'margarida', 'dália' e 'lírio dos vales'.\n",
        "\n",
        "(b)Escreva uma expressão Booleana que é avaliada como True se a string 'batata' estiver na lista flores e avalie a expressão.\n",
        "\n",
        "(c)Atribua à lista espinhosas a sublista da lista flores consistindo nos três primeiros objetos na lista.\n",
        "\n",
        "(d)Atribua à lista venenosas a sublista da lista flores consistindo apenas no último objeto da lista flores.\n",
        "\n",
        "(e)Atribua à lista perigosas a concatenação das listas espinhosas e venenosas.\"\"\"\n",
        "\n",
        "flores = ['rosa', 'buganvíla', 'iúca', 'margarida', 'dália', 'lírio dos vales']\n",
        "\n",
        "print('batata' in flores)\n",
        "\n",
        "espinhosas = flores[:3]\n",
        "print(espinhosas)\n",
        "\n",
        "venenosas = flores[-1]\n",
        "print(venenosas)\n",
        "\n",
        "perigosas = [espinhosas] + [venenosas]\n",
        "print(perigosas)\n",
        "\n",
        "\n"
      ],
      "metadata": {
        "colab": {
          "base_uri": "https://localhost:8080/"
        },
        "id": "ClTlmRxUhSyg",
        "outputId": "e0a153bd-f9ba-4265-a10e-4a4f3d0ed37a"
      },
      "execution_count": null,
      "outputs": [
        {
          "output_type": "stream",
          "name": "stdout",
          "text": [
            "False\n",
            "['rosa', 'buganvíla', 'iúca']\n",
            "lírio dos vales\n",
            "[['rosa', 'buganvíla', 'iúca'], 'lírio dos vales']\n"
          ]
        }
      ]
    },
    {
      "cell_type": "code",
      "source": [
        "\"\"\"2.21 Escreva uma expressão envolvendo uma string de três letras s que avalia como uma string cujos caracteres são os caracteres de s \n",
        "em ordem contrária. Se s for 'top', a expressão deverá ser avaliada como 'pot'.\"\"\"\n",
        "\n",
        "s = 'top'\n",
        "print(''.join(reversed(s)))"
      ],
      "metadata": {
        "colab": {
          "base_uri": "https://localhost:8080/"
        },
        "id": "agM1sLunnrDa",
        "outputId": "8f029742-a4b4-4a7d-9558-48221d1a3ce2"
      },
      "execution_count": null,
      "outputs": [
        {
          "output_type": "stream",
          "name": "stdout",
          "text": [
            "pot\n"
          ]
        }
      ]
    },
    {
      "cell_type": "code",
      "source": [
        "\"\"\"2.22 Escreva uma expressão envolvendo a string s contendo o último e o primeiro nome de uma pessoa \n",
        "— separados por um espaço em branco — que seja avaliada para as iniciais da pessoa. \n",
        "Se a string tivesse meu primeiro e último nome, a expressão seria avaliada como 'LP'.\"\"\"\n",
        "\n",
        "s = 'Vinicius Pelegrini'\n",
        "print(s[0], s[9])\n"
      ],
      "metadata": {
        "colab": {
          "base_uri": "https://localhost:8080/"
        },
        "id": "clON6U1HpufP",
        "outputId": "d09d8afa-36bb-4c24-b9a6-7210e2e80775"
      },
      "execution_count": null,
      "outputs": [
        {
          "output_type": "stream",
          "name": "stdout",
          "text": [
            "V P\n"
          ]
        }
      ]
    },
    {
      "cell_type": "code",
      "source": [
        "\"\"\"2.23 O intervalo de uma lista de números é a maior diferença entre dois números quaisquer na lista. \n",
        "Escreva uma expressão em Python que calcule o intervalo de uma lista de números lst. \n",
        "Se a lista lst for, digamos, [3, 7, -2, 12], a expressão deverá ser avaliada como 14 (a diferença entre 12 e –2).\"\"\"\n",
        "\n",
        "lst = [3, 7, -2, 12]\n",
        "\n",
        "print(abs(min(lst) - max(lst)))\n",
        "\n",
        "\n"
      ],
      "metadata": {
        "colab": {
          "base_uri": "https://localhost:8080/"
        },
        "id": "tCT6SdZTreE9",
        "outputId": "08d5b31b-ba9e-42b3-f048-bd848825b2ef"
      },
      "execution_count": null,
      "outputs": [
        {
          "output_type": "stream",
          "name": "stdout",
          "text": [
            "14\n"
          ]
        }
      ]
    },
    {
      "cell_type": "code",
      "source": [
        "\"\"\"2.24 Escreva a expressão ou instrução Python relevante, \n",
        "envolvendo uma lista de números lst e usando operadores e métodos de lista para estas especificações.\n",
        "\n",
        "(a)Uma expressão que é avaliada como o índice do elemento do meio de lst\n",
        "\n",
        "(b)Uma expressão que é avaliada como o elemento do meio de lst\n",
        "\n",
        "(c)Uma instrução que classifica a lista lst em ordem decrescente\n",
        "\n",
        "(d)Uma instrução que remove o primeiro número da lista lst e o coloca no final\"\"\"\n",
        "\n",
        "lst = [3, 7, -2, 12, 0]\n",
        "\n",
        "print(lst.index(-2))\n",
        "\n",
        "print(lst[2])\n",
        "\n",
        "lst.sort()\n",
        "lst.reverse()\n",
        "print(lst)\n",
        "\n",
        "del(lst[0])\n",
        "print(lst)\n",
        "lst.append(12)\n",
        "print(lst)\n",
        "\n"
      ],
      "metadata": {
        "colab": {
          "base_uri": "https://localhost:8080/"
        },
        "id": "W4ePekYGs8ek",
        "outputId": "c23fc048-15c7-4ee2-eb7e-4968ebd0a0c1"
      },
      "execution_count": null,
      "outputs": [
        {
          "output_type": "stream",
          "name": "stdout",
          "text": [
            "2\n",
            "-2\n",
            "[12, 7, 3, 0, -2]\n",
            "[7, 3, 0, -2]\n",
            "[7, 3, 0, -2, 12]\n"
          ]
        }
      ]
    },
    {
      "cell_type": "code",
      "source": [
        "\"\"\"2.25 Acrescente um par de parênteses a cada expressão de modo que ela seja avaliada como True.\n",
        "\n",
        "(a)0 == 1 == 2\n",
        "\n",
        "(b)2 + 3 == 4 + 5 == 7\n",
        "\n",
        "(c)1 < –1 == 3 > 4\n",
        "\n",
        "Para cada expressão, explique em que ordem os operadores foram avaliados.\"\"\"\n",
        "\n",
        "print(0 == (1 == 2))\n",
        "print(2 + (3 == 4) + 5 == 7)\n",
        "print((1 < -1) == (3 > 4))"
      ],
      "metadata": {
        "colab": {
          "base_uri": "https://localhost:8080/"
        },
        "id": "lU7E0PomxGHQ",
        "outputId": "4cf102a2-1cae-401a-fa9a-fa55673c0b96"
      },
      "execution_count": null,
      "outputs": [
        {
          "output_type": "stream",
          "name": "stdout",
          "text": [
            "True\n",
            "True\n",
            "True\n"
          ]
        }
      ]
    },
    {
      "cell_type": "code",
      "source": [
        "\"\"\"Problema Prático 3.1\n",
        "\n",
        "Implemente um programa que solicita a temperatura atual em graus Fahrenheit do usuário\n",
        " e exibe a temperatura em graus Celsius usando a fórmula\n",
        "\n",
        "\n",
        "\n",
        "Seu programa deverá ser executado da seguinte forma:\n",
        "\n",
        ">>>\n",
        "\n",
        "Digite a temperatura em graus Fahrenheit: 50\n",
        "\n",
        "A temperatura em graus Celsius é 10.0\"\"\"\n",
        "\n",
        "fahrenheit = float(input('Digite a temperatura em graus Fahrenheit: '))\n",
        "\n",
        "celsius = float(5/9 * (fahrenheit - 32))\n",
        "\n",
        "print(f'A temperatura em Celsius é {celsius}')\n"
      ],
      "metadata": {
        "colab": {
          "base_uri": "https://localhost:8080/"
        },
        "id": "9dk-y4KlOwFS",
        "outputId": "def0ade3-7b27-4ba2-8278-14601fdb31c9"
      },
      "execution_count": null,
      "outputs": [
        {
          "output_type": "stream",
          "name": "stdout",
          "text": [
            "Digite a temperatura em graus Fahrenheit: 50\n",
            "A temperatura em Celsius é 10.0\n"
          ]
        }
      ]
    },
    {
      "cell_type": "code",
      "source": [
        "\"\"\"Problema Prático 3.2\n",
        "\n",
        "Traduza estas instruções condicionais em instruções if do Python:\n",
        "\n",
        "(a)Se idade é maior que 62, exiba 'Você pode obter benefícios de pensão'.\n",
        "\n",
        "(b)Se o nome está na lista ['Musial', 'Aaraon', 'Williams', 'Gehrig', 'Ruth'], exiba 'Um dos 5 maiores jogadores de beisebol de todos os tempos!'.\n",
        "\n",
        "(c)Se golpes é maior que 10 e defesas é 0, exiba 'Você está morto…'.\n",
        "\n",
        "(d)Se pelo menos uma das variáveis booleanas norte, sul, leste e oeste for True, exiba 'Posso escapar.'\"\"\"\n",
        "\n",
        "idade = eval(input('Digite a sua idade: '))\n",
        "\n",
        "if idade > 62:\n",
        "  print('Você pode obter beneficios de pensão')\n",
        "\n",
        "lista = ['Musial', 'Aaraon', 'Williams', 'Gehrig', 'Ruth']\n",
        "\n",
        "nome = input('Digite um nome: ')\n",
        "\n",
        "if nome in lista:\n",
        "  print('Um dos 5 maiores jogadores de beisebol de todos os tempos!')\n",
        "\n",
        "golpes = eval(input('Golpes recebidos: '))\n",
        "defesa = eval(input('Golpes defendidos: '))\n",
        "\n",
        "if golpes > 10 and defesa == 0:\n",
        "  print('Você está morto')\n",
        "\n",
        "norte = True\n",
        "sul = False\n",
        "leste = False\n",
        "oeste = False\n",
        "\n",
        "if norte or sul or leste or oeste == True:\n",
        "  print('Posso escapar')"
      ],
      "metadata": {
        "colab": {
          "base_uri": "https://localhost:8080/"
        },
        "id": "AnwuufgORJO5",
        "outputId": "6a9b0527-77dc-461f-8593-101594dbafc3"
      },
      "execution_count": null,
      "outputs": [
        {
          "output_type": "stream",
          "name": "stdout",
          "text": [
            "Digite a sua idade: 69\n",
            "Você pode obter beneficios de pensão\n",
            "Digite um nome: Musial\n",
            "Um dos 5 maiores jogadores de beisebol de todos os tempos!\n",
            "Golpes recebidos: 11\n",
            "Golpes defendidos: 0\n",
            "Você está morto\n",
            "Posso escapar\n"
          ]
        }
      ]
    },
    {
      "cell_type": "code",
      "source": [
        "'''Problema Prático 3.3\n",
        "\n",
        "Traduza estas declarações em instruções if/else do Python:\n",
        "\n",
        "(a)Se ano é divisível por 4, exiba 'Pode ser um ano bissexto.'; caso contrário, exiba 'Definitivamente não é um ano bissexto.'\n",
        "\n",
        "(b)Se a lista bilhete é igual à lista loteria, exiba 'Você ganhou!'; se não, exiba 'Melhor sorte da próxima vez…'.'''\n",
        "\n",
        "ano = int(input('Digite um ano: '))\n",
        "if ano % 4 == 0:\n",
        "  print('Pode ser um ano bissexto')\n",
        "else: \n",
        "  print('Definitivamente não é bissexto')\n",
        "\n",
        "LstBilhete = [1, 2, 3, 4]\n",
        "LstLoteria = [1, 3, 4, 6]\n",
        "if LstBilhete == LstLoteria:\n",
        "  print('Você ganhou')\n",
        "else:\n",
        "  print('Melhor sorte da próxima vez')\n"
      ],
      "metadata": {
        "id": "xdO615zQWKzh",
        "colab": {
          "base_uri": "https://localhost:8080/"
        },
        "outputId": "3e6c973e-65a0-4d4e-c239-dffa1cb92804"
      },
      "execution_count": null,
      "outputs": [
        {
          "output_type": "stream",
          "name": "stdout",
          "text": [
            "Digite um ano: 2022\n",
            "Definitivamente não é bissexto\n",
            "Melhor sorte da próxima vez\n"
          ]
        }
      ]
    },
    {
      "cell_type": "code",
      "source": [
        "'''Problema Prático 3.4\n",
        "\n",
        "Implemente um programa que comece pedindo ao usuário para digitar uma identificação de login (ou seja, uma string). \n",
        "O programa, então, verifica se a identificação informada pelo usuário está na lista ['joe', 'sue', ' hani', 'sophie' ] de usuários válidos.\n",
        " Dependendo do resultado, uma mensagem apropriada deverá ser impressa. \n",
        " Não importando o resultado, sua função deverá exibir 'Fim.' antes de terminar. Aqui está um exemplo de um login bem-sucedido:'''\n",
        "\n",
        "Lista = ['joe', 'sue', 'hani', 'sophie']\n",
        "\n",
        "Login = input('Login: ')\n",
        "if Login in Lista:\n",
        "  print('Você entrou !!!')\n",
        "else:\n",
        "  print('Usuário desconhecido')\n",
        "print('Fim')\n",
        "\n",
        "\n"
      ],
      "metadata": {
        "colab": {
          "base_uri": "https://localhost:8080/"
        },
        "id": "L-gbmCc6XC8P",
        "outputId": "a9bab5f8-9f01-41ba-e915-308c22f76519"
      },
      "execution_count": null,
      "outputs": [
        {
          "output_type": "stream",
          "name": "stdout",
          "text": [
            "Login: sue\n",
            "Você entrou !!!\n",
            "Fim\n"
          ]
        }
      ]
    },
    {
      "cell_type": "code",
      "source": [
        "\"\"\"Problema Prático 3.5\n",
        "\n",
        "Implemente um programa que solicite do usuário uma lista de palavras (ou seja, strings) e depois exiba na tela,\n",
        "uma por linha, todas as strings de quatro letras nessa lista.\n",
        "\n",
        ">>>\n",
        "\n",
        "Digite a lista de palavras: ['pare', 'desktop', 'tio', 'pote']\n",
        "\n",
        "pare pote \"\"\"\n",
        "\n",
        "lista = eval(input('Digite a lista de palavras:'))\n",
        "for palavra in lista:\n",
        "  if len(palavra) == 4:\n",
        "    print(palavra)\n",
        "\n",
        "\n"
      ],
      "metadata": {
        "colab": {
          "base_uri": "https://localhost:8080/"
        },
        "id": "jrMRJ6ThJVQc",
        "outputId": "d0a2e909-c8f4-45ce-f118-2cfad5f392e3"
      },
      "execution_count": null,
      "outputs": [
        {
          "output_type": "stream",
          "name": "stdout",
          "text": [
            "Digite a lista de palavras:['pare', 'desktop', 'tio', 'pote']\n",
            "pare\n",
            "pote\n"
          ]
        }
      ]
    },
    {
      "cell_type": "code",
      "source": [
        "\"\"\"Problema Prático 3.6\n",
        "\n",
        "Escreva o laço for que exibirá as sequências de números a seguir, um por linha, no shell interativo do Python.\n",
        "\n",
        "(a)Inteiros de 0 a 9 (isto é, 0, 1, 2, 3, 4, 5, 6, 7, 8, 9).\n",
        "\n",
        "(b)Inteiros de 0 a 1 (isto é, 0, 1).\"\"\"\n",
        "\n",
        "for c in range(10):\n",
        "  print(c)\n",
        "\n",
        "print()\n",
        "\n",
        "for c in range(2):\n",
        "  print(c)\n"
      ],
      "metadata": {
        "colab": {
          "base_uri": "https://localhost:8080/"
        },
        "id": "BmXuMoeXed6e",
        "outputId": "c6c8de4c-a866-4cee-8416-74438d897531"
      },
      "execution_count": null,
      "outputs": [
        {
          "output_type": "stream",
          "name": "stdout",
          "text": [
            "0\n",
            "1\n",
            "2\n",
            "3\n",
            "4\n",
            "5\n",
            "6\n",
            "7\n",
            "8\n",
            "9\n",
            "\n",
            "0\n",
            "1\n"
          ]
        }
      ]
    },
    {
      "cell_type": "code",
      "source": [
        "\"\"\"Problema Prático 3.7\n",
        "\n",
        "Escreva um laço for que exiba a seguinte sequência de números, um por linha.\n",
        "\n",
        "(a)Inteiros de 3 até 12, inclusive este.\n",
        "\n",
        "(b)Inteiros de 0 até (mas não incluindo) 9, com um passo de 2 em vez do padrão 1 (isto é, 0, 2, 4, 6, 8).\n",
        "\n",
        "(c)Inteiros de 0 até (mas não incluindo) 24, com um passo de 3.\n",
        "\n",
        "(d)Inteiros de 3 até (mas não incluindo) 12, com um passo de 5.\"\"\"\n",
        "\n",
        "for c in range(3,13):\n",
        "  print(c)\n",
        "\n",
        "print()\n",
        "\n",
        "for c in range(0, 9, 2):\n",
        "  print(c)\n",
        "\n",
        "print()\n",
        "\n",
        "for c in range(0, 24, 3):\n",
        "  print(c)\n",
        "\n",
        "print()\n",
        "\n",
        "for c in range(3, 12, 5):\n",
        "  print(c)\n"
      ],
      "metadata": {
        "colab": {
          "base_uri": "https://localhost:8080/"
        },
        "id": "C6q2Kf5we8xk",
        "outputId": "e7f5cbf3-fa6e-492a-8369-424642863786"
      },
      "execution_count": null,
      "outputs": [
        {
          "output_type": "stream",
          "name": "stdout",
          "text": [
            "3\n",
            "4\n",
            "5\n",
            "6\n",
            "7\n",
            "8\n",
            "9\n",
            "10\n",
            "11\n",
            "12\n",
            "\n",
            "0\n",
            "2\n",
            "4\n",
            "6\n",
            "8\n",
            "\n",
            "0\n",
            "3\n",
            "6\n",
            "9\n",
            "12\n",
            "15\n",
            "18\n",
            "21\n",
            "\n",
            "3\n",
            "8\n"
          ]
        }
      ]
    },
    {
      "cell_type": "code",
      "source": [
        "\"\"\"Problema Prático 3.8\n",
        "\n",
        "Defina, diretamente no shell interativo, a função média(), que aceita dois números como entrada e retorna a média dos números.\n",
        " Um exemplo de uso é:\n",
        "\n",
        ">>> average(2, 3.5)\n",
        "\n",
        "2.75\"\"\"\n",
        "\n",
        "def média(x, y):\n",
        "  'retorna a média de x e y'\n",
        "  return (x + y ) / 2\n",
        "\n",
        "média(2, 3.5)"
      ],
      "metadata": {
        "colab": {
          "base_uri": "https://localhost:8080/"
        },
        "id": "WwwYbncpge2l",
        "outputId": "27400d21-f9f7-4ef2-d6a9-40ba93d0ae60"
      },
      "execution_count": null,
      "outputs": [
        {
          "output_type": "execute_result",
          "data": {
            "text/plain": [
              "2.75"
            ]
          },
          "metadata": {},
          "execution_count": 7
        }
      ]
    },
    {
      "cell_type": "code",
      "source": [
        "\"\"\"Problema Prático 3.10\n",
        "\n",
        "Escreva a função negativos(), que aceita uma lista como entrada e exibe, um por linha, os valores negativos na lista. A função não deverá retornar nada.\n",
        "\n",
        ">>> negatives([4, 0, -1, -3, 6, -9])\n",
        "\n",
        "-1\n",
        "\n",
        "-3\n",
        "\n",
        "-9\"\"\"\n",
        "\n",
        "def negativos(lista):\n",
        "  'exibe os números negativos contidos em uma lista'\n",
        "  for elemento in lista:\n",
        "    if elemento < 0:\n",
        "      print(elemento)\n",
        "      \n",
        "\n",
        "negativos([4, 0, -1, -3, 6, -9])"
      ],
      "metadata": {
        "colab": {
          "base_uri": "https://localhost:8080/"
        },
        "id": "QsTm_6CJiC4H",
        "outputId": "2a7d9cc6-1f34-4afb-d805-d43b27176ae7"
      },
      "execution_count": null,
      "outputs": [
        {
          "output_type": "stream",
          "name": "stdout",
          "text": [
            "-1\n",
            "-3\n",
            "-9\n"
          ]
        }
      ]
    },
    {
      "cell_type": "code",
      "source": [
        "\"\"\"Problema Prático 3.11\n",
        "\n",
        "Acrescente a docstring retorna a média de x e y à função média() e \n",
        "a docstring exibe os números negativos contidos na lista lst à função negativos() \n",
        "dos Problemas Práticos 3.8 e 3.10. Verifique seu trabalho usando a ferramenta de documentação help(). Você deverá receber, por exemplo:\n",
        "\n",
        ">>> help(média)\n",
        "\n",
        "Ajuda sobre a função média no módulo __main__:\n",
        "\n",
        "média(x, y)\n",
        "\n",
        "    retorna a média de x e y\"\"\"\n",
        "\n",
        "help(média)\n",
        "help(negativos)\n",
        "\n"
      ],
      "metadata": {
        "colab": {
          "base_uri": "https://localhost:8080/"
        },
        "id": "DqfckppmXiIs",
        "outputId": "7ed85063-f61a-4b01-83c8-8fb224bb1dd5"
      },
      "execution_count": null,
      "outputs": [
        {
          "output_type": "stream",
          "name": "stdout",
          "text": [
            "Help on function média in module __main__:\n",
            "\n",
            "média(x, y)\n",
            "    retorna a média de x e y\n",
            "\n",
            "Help on function negativos in module __main__:\n",
            "\n",
            "negativos(lista)\n",
            "    exibe os números negativos contidos em uma lista\n",
            "\n"
          ]
        }
      ]
    },
    {
      "cell_type": "code",
      "source": [
        "a, b = 3, 4\n",
        "print(a, b)\n",
        "\n"
      ],
      "metadata": {
        "colab": {
          "base_uri": "https://localhost:8080/"
        },
        "id": "b4jMxPUsVxwX",
        "outputId": "cb2697de-5c3f-4e8c-b8f1-b223b59baae4"
      },
      "execution_count": null,
      "outputs": [
        {
          "output_type": "stream",
          "name": "stdout",
          "text": [
            "3 4\n"
          ]
        }
      ]
    },
    {
      "cell_type": "code",
      "source": [
        "\"\"\"Problema Prático 3.13\n",
        "\n",
        "Suponha que uma lista não vazia time foi atribuída. Escreva uma instrução Python ou instruções que mapeiam o primeiro e último valor da lista. Assim, se a lista original for:\n",
        "\n",
        ">>> time = ['Ava', 'Eleanor', 'Clare', 'Sarah']\n",
        "\n",
        "então a lista resultante deverá ser:\n",
        "\n",
        ">>> time\n",
        "\n",
        "['Sarah', 'Eleanor', 'Clare', 'Ava']\"\"\"\n",
        "\n",
        "time = ['Ava', 'Eleanor', 'Clare', 'Sarah']\n",
        "\n",
        "time[0], time[3] = time[3], time[0]\n",
        "\n",
        "time\n",
        "\n"
      ],
      "metadata": {
        "colab": {
          "base_uri": "https://localhost:8080/"
        },
        "id": "DuNxbgzi0s3q",
        "outputId": "74822cf2-e001-4527-d717-93d0a56ef378"
      },
      "execution_count": null,
      "outputs": [
        {
          "output_type": "execute_result",
          "data": {
            "text/plain": [
              "['Sarah', 'Eleanor', 'Clare', 'Ava']"
            ]
          },
          "metadata": {},
          "execution_count": 1
        }
      ]
    },
    {
      "cell_type": "code",
      "source": [
        "\"\"\"Problema Prático 3.14\n",
        "\n",
        "Implemente a função trocaPU(), que aceita uma lista como entrada e troca o primeiro e último elementos da lista. Você pode considerar que a lista não estará vazia. A função não deverá retornar nada.\n",
        "\n",
        ">>> ingredientes = ['farinha', 'açúcar', 'manteiga', 'maçãs']\n",
        "\n",
        ">>> trocaPU(ingredientes)\n",
        "\n",
        ">>> ingredientes\n",
        "\n",
        "['maçãs', 'açúcar', 'manteiga', 'farinha'] \"\"\"\n",
        "\n",
        "ingredientes = ['farinha', 'açúcar', 'manteiga', 'maçãs']\n",
        "\n",
        "def trocaPU(ingrediente):\n",
        "  ingredientes[0], ingredientes[3] = ingredientes[3], ingredientes[0]\n",
        "\n",
        "trocaPU(ingredientes)\n",
        "\n",
        "ingredientes\n",
        "\n"
      ],
      "metadata": {
        "colab": {
          "base_uri": "https://localhost:8080/"
        },
        "id": "eIg40m8i1qMT",
        "outputId": "b17a2ac3-03be-4ae6-f286-ccac76253529"
      },
      "execution_count": null,
      "outputs": [
        {
          "output_type": "execute_result",
          "data": {
            "text/plain": [
              "['maçãs', 'açúcar', 'manteiga', 'farinha']"
            ]
          },
          "metadata": {},
          "execution_count": 1
        }
      ]
    },
    {
      "cell_type": "code",
      "source": [
        "\"\"\"3.17 Suponha que a, b e c tenham sido definidas no shell interativo conforme mostrado:\n",
        "\n",
        ">>> a, b, c = 3, 4, 5\n",
        "\n",
        "Dentro do shell interativo, escreva instruções if que exibem 'OK' se:\n",
        "\n",
        "(a)a for menor que b.\n",
        "\n",
        "(b)c for menor que b.\n",
        "\n",
        "(c)A soma de a e b for igual a c.\n",
        "\n",
        "(d)A soma dos quadrados de a e b for igual ao quadrado de c.\"\"\"\n",
        "\n",
        "\n",
        "a, b, c = 3, 4, 5\n",
        "\n",
        "if a < b:\n",
        "  print('ok')\n",
        "\n",
        "if c < b:\n",
        "  print('ok')\n",
        "\n",
        "if a + b == c:\n",
        "  print('ok')\n",
        "\n",
        "if a ** 2 + b ** 2 == c ** 2:\n",
        "  print('ok')\n"
      ],
      "metadata": {
        "colab": {
          "base_uri": "https://localhost:8080/"
        },
        "id": "jUdj32vSI0fv",
        "outputId": "57e4cee2-b5a5-4a5f-dfb9-79aba73e10df"
      },
      "execution_count": null,
      "outputs": [
        {
          "output_type": "stream",
          "name": "stdout",
          "text": [
            "ok\n",
            "ok\n"
          ]
        }
      ]
    },
    {
      "cell_type": "code",
      "source": [
        "\"\"\"3.18 Repita o exercício anterior com o requisito adicional de que 'NÃO OK' é exibido na tela se a condição for falsa.\"\"\"\n",
        "\n",
        "a, b, c = 3, 4, 5\n",
        "\n",
        "if a < b:\n",
        "  print('ok')\n",
        "else:\n",
        "  print('não ok')\n",
        "\n",
        "if c < b:\n",
        "  print('ok')\n",
        "else:\n",
        "  print('não ok')\n",
        "\n",
        "if a + b == c:\n",
        "  print('ok')\n",
        "else:\n",
        "  print('não ok')\n",
        "\n",
        "if a ** 2 + b ** 2 == c ** 2:\n",
        "  print('ok')\n",
        "else:\n",
        "  print('não ok')\n",
        "  "
      ],
      "metadata": {
        "colab": {
          "base_uri": "https://localhost:8080/"
        },
        "id": "ULiDoVlBJ52S",
        "outputId": "c89ec386-bb11-4508-9601-11cbdf1d5ed2"
      },
      "execution_count": null,
      "outputs": [
        {
          "output_type": "stream",
          "name": "stdout",
          "text": [
            "ok\n",
            "não ok\n",
            "não ok\n",
            "ok\n"
          ]
        }
      ]
    },
    {
      "cell_type": "code",
      "source": [
        "\"\"\"3.19 Escreva um laço for que percorra uma lista de strings lst e exiba os três \n",
        "primeiros caracteres de cada palavra. Se 1st for a lista ['Janeiro' , 'Fevereiro' , 'Março'],\n",
        " então o seguinte deve ser exibido na tela:\n",
        "\n",
        "Jan\n",
        "\n",
        "Fev\n",
        "\n",
        "Mar \"\"\"\n",
        "\n",
        "lst = ['Janeiro', 'Fevereiro', 'Março']\n",
        "\n",
        "for palavra in lst:\n",
        "  print(palavra[0:3])\n",
        "\n",
        "\n"
      ],
      "metadata": {
        "colab": {
          "base_uri": "https://localhost:8080/"
        },
        "id": "rIzsAeZOLMBe",
        "outputId": "e3aabf4e-6e87-4f7b-f76e-c5b5ffb99cf6"
      },
      "execution_count": null,
      "outputs": [
        {
          "output_type": "stream",
          "name": "stdout",
          "text": [
            "Jan\n",
            "Fev\n",
            "Mar\n"
          ]
        }
      ]
    },
    {
      "cell_type": "code",
      "source": [
        "\"\"\"3.20 Escreva um laço for que percorre uma lista de números lst e exibe na tela os números na lista cujo quadrado seja divisível por 8. \n",
        "Por exemplo, se lst for [2, 3, 4, 5, 6, 7, 8, 9], então os números 4 e 8 devem ser exibidos.\"\"\"\n",
        "\n",
        "lst = [2, 3, 4, 5, 6, 7, 8, 9]\n",
        "\n",
        "for n in lst:\n",
        "  if n ** 2 % 8 == 0:\n",
        "    print(n)\n",
        "  "
      ],
      "metadata": {
        "colab": {
          "base_uri": "https://localhost:8080/"
        },
        "id": "qBIGWKoTNAs_",
        "outputId": "09733dc1-d460-40f2-edd2-750ac97a84a4"
      },
      "execution_count": null,
      "outputs": [
        {
          "output_type": "stream",
          "name": "stdout",
          "text": [
            "4\n",
            "8\n"
          ]
        }
      ]
    },
    {
      "cell_type": "code",
      "source": [
        "\"\"\" 3.21 Escreva laços for que usam a função range() e exibem as seguintes sequências:\n",
        "\n",
        "(a)0 1\n",
        "\n",
        "(b)0\n",
        "\n",
        "(c)3 4 5 6\n",
        "\n",
        "(d)1\n",
        "\n",
        "(e)0 3\n",
        "\n",
        "(f)5 9 13 17 21 \"\"\"\n",
        "\n",
        "for n in range(0,2):\n",
        "  print(n, end=' ')\n",
        "print()\n",
        "\n",
        "for c in range(0,1):\n",
        "  print(c, end=' ')\n",
        "print()\n",
        "for n in range(3,7):\n",
        "  print(n, end=' ')\n",
        "print()\n",
        "\n",
        "for n in range(1,2):\n",
        "  print(n, end=' ')\n",
        "print()\n",
        "\n",
        "for n in range(0,4,3):\n",
        "  print(n, end=' ')\n",
        "print()\n",
        "\n",
        "for n in range(5, 22, 4):\n",
        "  print(n, end=' ')\n",
        "print()\n"
      ],
      "metadata": {
        "colab": {
          "base_uri": "https://localhost:8080/"
        },
        "id": "RwX2bHQhQbFG",
        "outputId": "9731d8f1-46f3-4d0d-b896-5c127ab902fc"
      },
      "execution_count": null,
      "outputs": [
        {
          "output_type": "stream",
          "name": "stdout",
          "text": [
            "0 1 \n",
            "0 \n",
            "3 4 5 6 \n",
            "1 \n",
            "0 3 \n",
            "5 9 13 17 21 \n"
          ]
        }
      ]
    },
    {
      "cell_type": "code",
      "source": [
        "\"\"\"3.22 Implemente um programa que solicita uma lista de palavras do usuário e depois exibe cada palavra na lista que não seja 'segredo'.\n",
        "\n",
        ">>>\n",
        "\n",
        "Digite lista de palavras: ['cia', 'segredo', 'mi6', 'isi', 'segredo']\n",
        "\n",
        "cia\n",
        "\n",
        "mi6\n",
        "\n",
        "isi\"\"\"\n",
        "\n",
        "lst = eval(input('Digite uma lista de palavras: '))\n",
        "\n",
        "for palavra in lst:\n",
        "  if palavra != 'segredo':\n",
        "    print(palavra)"
      ],
      "metadata": {
        "colab": {
          "base_uri": "https://localhost:8080/"
        },
        "id": "zLuivOMzVa4b",
        "outputId": "2ca451cd-f993-4b4e-beeb-7a68a5b501db"
      },
      "execution_count": null,
      "outputs": [
        {
          "output_type": "stream",
          "name": "stdout",
          "text": [
            "Digite uma lista de palavras: ['cia', 'segredo', 'mi6', 'isi', 'segredo']\n",
            "cia\n",
            "mi6\n",
            "isi\n"
          ]
        }
      ]
    },
    {
      "cell_type": "code",
      "source": [
        "\"\"\"3.23 Implemente um programa que solicita uma lista de nomes de aluno \n",
        "do usuário e exiba aqueles nomes que começam com as letras de A até M.\n",
        "\n",
        ">>>\n",
        "\n",
        "Digite a lista: ['Ellie', 'Steve', 'Sam', 'Owen', 'Gavin']\n",
        "\n",
        "Ellie\n",
        "\n",
        "Gavin\"\"\"\n",
        "\n",
        "lst = eval(input('Digite a lista: '))\n",
        "\n",
        "for nome in lst:\n",
        "  if nome[0] in 'ABCDEFGHIJKLM':\n",
        "    print(nome)\n"
      ],
      "metadata": {
        "colab": {
          "base_uri": "https://localhost:8080/"
        },
        "id": "zeHZtPGLP_O8",
        "outputId": "cd85d5b6-0fc9-497f-98a4-5a523afc37ca"
      },
      "execution_count": null,
      "outputs": [
        {
          "output_type": "stream",
          "name": "stdout",
          "text": [
            "Digite a lista: ['Ellie', 'Steve', 'Sam', 'Owen', 'Gavin']\n",
            "Ellie\n",
            "Gavin\n"
          ]
        }
      ]
    },
    {
      "cell_type": "code",
      "source": [
        "from traitlets.traitlets import isidentifier\n",
        "\"\"\"3.24 Implemente um programa que solicite uma lista não vazia do usuário e \n",
        "exiba na tela uma mensagem mostrando o primeiro e o último elemento da lista.\n",
        "\n",
        ">>>\n",
        "\n",
        "Digite uma lista: [3, 5, 7, 9]\n",
        "\n",
        "O primeiro elemento da lista é 3\n",
        "\n",
        "O último elemento da lista é 9\"\"\"\n",
        "\n",
        "lst = eval(input('Digite uma lista: '))\n",
        "\n",
        "indice = 0\n",
        "for elemento in lst:\n",
        "  if indice == 0:\n",
        "    print('O primeiro elemento da lista é ', elemento)\n",
        "  elif indice == len(lst)-1:\n",
        "    print('O último elemento da lista é ', elemento) \n",
        "  indice += 1"
      ],
      "metadata": {
        "colab": {
          "base_uri": "https://localhost:8080/"
        },
        "id": "nEzCwMZgR6Qg",
        "outputId": "0bc11f4a-a261-4538-8544-55f94031ebb6"
      },
      "execution_count": null,
      "outputs": [
        {
          "output_type": "stream",
          "name": "stdout",
          "text": [
            "Digite uma lista: [3, 5, 7, 9]\n",
            "O primeiro elemento da lista é  3\n",
            "O último elemento da lista é  9\n"
          ]
        }
      ]
    },
    {
      "cell_type": "code",
      "source": [
        "\"\"\" 3.25 Implemente um programa que solicita um inteiro positivo n\n",
        " do usuário e exiba os quatro primeiros múltiplos de n:\n",
        "\n",
        ">>>\n",
        "\n",
        "Digite n: 5\n",
        "\n",
        "0\n",
        "\n",
        "5\n",
        "\n",
        "10\n",
        "\n",
        "15\"\"\"\n",
        "\n",
        "num = eval(input('Digite n: '))\n",
        "\n",
        "for mult in range(4):\n",
        "  print(num * mult)"
      ],
      "metadata": {
        "colab": {
          "base_uri": "https://localhost:8080/"
        },
        "id": "do_SqYN8adTX",
        "outputId": "1f0eacf7-0a98-474c-ec1f-7c4db7a9397f"
      },
      "execution_count": null,
      "outputs": [
        {
          "output_type": "stream",
          "name": "stdout",
          "text": [
            "Digite n: 5\n",
            "0\n",
            "5\n",
            "10\n",
            "15\n"
          ]
        }
      ]
    },
    {
      "cell_type": "code",
      "source": [
        "\"\"\"3.26 Implemente um programa que solicita um inteiro n do usuário e \n",
        "imprime na tela os quadrados de todos os números de 0 até, mas não incluindo, n.\n",
        "\n",
        ">>>\n",
        "\n",
        "Digite n: 4\n",
        "\n",
        "0\n",
        "\n",
        "1\n",
        "\n",
        "4\n",
        "\n",
        "9\"\"\"\n",
        "\n",
        "nun = eval(input('Digite n: '))\n",
        "\n",
        "for numero in range(num - 1):\n",
        "  print(numero ** 2)"
      ],
      "metadata": {
        "colab": {
          "base_uri": "https://localhost:8080/"
        },
        "id": "P1TlNGaa7nz7",
        "outputId": "14dbca16-fc6f-4452-a5bd-478fd99bda65"
      },
      "execution_count": null,
      "outputs": [
        {
          "output_type": "stream",
          "name": "stdout",
          "text": [
            "Digite n: 4\n",
            "0\n",
            "1\n",
            "4\n",
            "9\n"
          ]
        }
      ]
    },
    {
      "cell_type": "code",
      "source": [
        "\"\"\"3.27 Implemente um programa que solicita um inteiro positivo n \n",
        "e exibe na tela todos os divisores positivos de n. Nota: 0 não é um\n",
        " divisor de qualquer inteiro, e n divide por si mesmo.\n",
        "\n",
        ">>>\n",
        "\n",
        "Digite n: 49\n",
        "\n",
        "1\n",
        "\n",
        "7\n",
        "\n",
        "49\"\"\"\n",
        "\n",
        "num = eval(input('Digite n: '))\n",
        "\n",
        "for divisor in range(1, num + 1):\n",
        "  if num % divisor == 0:\n",
        "    print(divisor)"
      ],
      "metadata": {
        "colab": {
          "base_uri": "https://localhost:8080/"
        },
        "id": "RCSYETcI8pxf",
        "outputId": "f4a47a7f-1d29-4bd9-96e3-7859bb8d7d77"
      },
      "execution_count": null,
      "outputs": [
        {
          "output_type": "stream",
          "name": "stdout",
          "text": [
            "Digite n: 49\n",
            "1\n",
            "7\n",
            "49\n"
          ]
        }
      ]
    },
    {
      "cell_type": "code",
      "source": [
        "\"\"\"3.28 Implemente um programa que solicita quatro números \n",
        "(inteiro ou ponto flutuante) do usuário. Seu programa deverá calcular a média\n",
        " dos três primeiros números e comparar a média com o quarto número. \n",
        " Se elas forem iguais, seu programa deverá exibir 'Igual' na tela.\n",
        "\n",
        ">>>\n",
        "\n",
        "Digite o primeiro número: 4.5\n",
        "\n",
        "Digite o segundo número: 3\n",
        "\n",
        "Digite o terceiro número: 3\n",
        "\n",
        "Digite o quarto número: 3.5\n",
        "\n",
        "Igual\"\"\"\n",
        "\n",
        "soma = 0\n",
        "comp = 0\n",
        "\n",
        "for numero in range(4):\n",
        "  if numero <= 2:\n",
        "    soma += eval(input(f'Digite o {numero + 1}o. número: '))\n",
        "  else:\n",
        "    comp = eval(input(f'Digite o {numero + 1}o. número: '))\n",
        "\n",
        "if soma / 3 == comp:\n",
        "  print('Igual')\n"
      ],
      "metadata": {
        "colab": {
          "base_uri": "https://localhost:8080/"
        },
        "id": "4Hsir6ZkGv5w",
        "outputId": "f7db193c-b12d-4884-a900-086759018882"
      },
      "execution_count": null,
      "outputs": [
        {
          "output_type": "stream",
          "name": "stdout",
          "text": [
            "Digite o 1o. número: 4.5\n",
            "Digite o 2o. número: 3\n",
            "Digite o 3o. número: 3\n",
            "Digite o 4o. número: 3.5\n",
            "Igual\n"
          ]
        }
      ]
    },
    {
      "cell_type": "code",
      "source": [
        "\"\"\"3.29 Implemente um programa que solicita ao usuário que entre com \n",
        "as coordenadas x e y (cada um entre –10 e 10) de um dardo e calcula se \n",
        "o dardo atingiu o alvo, um círculo com centro (0,0) e raio 8. Se tiver \n",
        "atingido, a string Está dentro! deverá ser exibida na tela.\n",
        "\n",
        ">>>\n",
        "\n",
        "Digite x: 2.5\n",
        "\n",
        "Digite y: 4\n",
        "\n",
        "Está dentro!\"\"\"\n",
        "\n",
        "x = eval(input('Digite x: '))\n",
        "y = eval(input('Digite y: '))\n",
        "\n",
        "if x >= -10 and y >= -10 and x <= 10 and y <= 10:\n",
        "  print('Está dentro') "
      ],
      "metadata": {
        "id": "90q5Po6jO9x8",
        "colab": {
          "base_uri": "https://localhost:8080/"
        },
        "outputId": "b31a6c24-20c3-4ed8-9373-29088905b46a"
      },
      "execution_count": null,
      "outputs": [
        {
          "name": "stdout",
          "output_type": "stream",
          "text": [
            "Digite x: 3\n",
            "Digite y: 11\n"
          ]
        }
      ]
    },
    {
      "cell_type": "code",
      "source": [
        "\"\"\"3.30 Escreva um programa que solicita um inteiro positivo de \n",
        "quatro dígitos do usuário e exibe seus dígitos. Você não poderá \n",
        "usar as operações do tipo de dados string para realizar essa tarefa. \n",
        "Seu programa deverá simplesmente ler a entrada como um inteiro e \n",
        "processá-la como um inteiro, usando as operações aritméticas padrão (+, *, -, /, % etc.).\n",
        "\n",
        ">>>\n",
        "\n",
        "Digite n: 1234\n",
        "\n",
        "1\n",
        "\n",
        "2\n",
        "\n",
        "3\n",
        "\n",
        "4\"\"\"\n",
        "\n",
        "n = int(input('Digite n: '))\n",
        "\n",
        "print(n // 1000)\n",
        "n = n % 1000\n",
        "print(n // 100)\n",
        "n = n % 100\n",
        "print(n // 10)\n",
        "n = n % 10\n",
        "print(n)\n"
      ],
      "metadata": {
        "colab": {
          "base_uri": "https://localhost:8080/"
        },
        "id": "uln-cBqaKC48",
        "outputId": "413bcfa5-fe17-4bcf-c9aa-014996f76acd"
      },
      "execution_count": null,
      "outputs": [
        {
          "output_type": "stream",
          "name": "stdout",
          "text": [
            "Digite n: 1234\n",
            "1\n",
            "2\n",
            "3\n",
            "4\n"
          ]
        }
      ]
    },
    {
      "cell_type": "code",
      "source": [
        "\"\"\"3.31 Implemente a função inverte_string() que aceite como entrada\n",
        " uma string de três letras e retorne \n",
        " a string com seus caracteres invertidos.\n",
        "\n",
        ">>> inverte_string('abc')\n",
        "\n",
        "'cba'\n",
        "\n",
        ">>> inverte_string('dna')\n",
        "\n",
        "'and'\"\"\"\n",
        "\n",
        "def inverte_string(string):\n",
        "  if len(string) != 3:\n",
        "    print('Deve informar uma string de 3 letras')\n",
        "  else:\n",
        "    print(string[::-1])\n",
        "\n",
        "inverte_string('dna')"
      ],
      "metadata": {
        "colab": {
          "base_uri": "https://localhost:8080/"
        },
        "id": "Cw8bkAl6MKMc",
        "outputId": "13e9fe3b-ccf7-425b-8d85-8b974f295f40"
      },
      "execution_count": null,
      "outputs": [
        {
          "output_type": "stream",
          "name": "stdout",
          "text": [
            "and\n"
          ]
        }
      ]
    },
    {
      "cell_type": "code",
      "source": [
        "\"\"\"3.32 Implemente a função pagar() que toma como entrada dois argumentos:\n",
        " um salário horário e o número de horas que um empregado trabalhou na última semana.\n",
        "  Sua função deverá calcular e retornar o pagamento do empregado.\n",
        "Quaisquer horas trabalhadas além de 40 é hora extra, e deve ser paga a 1,5 vez o salário horário normal.\n",
        "\n",
        ">>> pagar(10, 10)\n",
        "\n",
        "100\n",
        "\n",
        ">>> pagar(10, 35)\n",
        "\n",
        "350\n",
        "\n",
        ">> pagar(10, 45)\n",
        "\n",
        "475\"\"\"\n",
        "\n",
        "def pagar(sal, ho):\n",
        "  salario = sal * ho\n",
        "  salarioEx = 0\n",
        "  if ho > 40:\n",
        "    ext = ho - 40\n",
        "    salarioEx = sal * 40 + ((sal * 1.5 ) * ext)\n",
        "  return salarioEx\n",
        "\n",
        "pagar(10, 45)"
      ],
      "metadata": {
        "colab": {
          "base_uri": "https://localhost:8080/"
        },
        "id": "xn80qIb5NzZO",
        "outputId": "4fdd9927-f477-4243-a5ee-d252dd156cd4"
      },
      "execution_count": null,
      "outputs": [
        {
          "output_type": "execute_result",
          "data": {
            "text/plain": [
              "475.0"
            ]
          },
          "metadata": {},
          "execution_count": 1
        }
      ]
    },
    {
      "cell_type": "code",
      "source": [
        "\"\"\"3.33 A probabilidade de conseguir n caras em sequência ao lançar uma moeda \n",
        "não viciada n vezes é 2–n. Implemente a função prob() que aceita um inteiro não \n",
        "negativo n como entrada e retorna a probabilidade de n caras em seguida ao lançar uma moeda não viciada n vezes.\n",
        "\n",
        ">>> prob(1)\n",
        "\n",
        "0.5\n",
        "\n",
        ">>> prob(2)\n",
        "\n",
        "0.25\"\"\"\n",
        "\n",
        "def prob(x):\n",
        "  n = 1\n",
        "  if x == 1:\n",
        "    return n * 0.5\n",
        "  else:\n",
        "    for c in range(x - 1):\n",
        "      n = n * 0.5\n",
        "  return n\n",
        "\n",
        "prob(3)\n"
      ],
      "metadata": {
        "colab": {
          "base_uri": "https://localhost:8080/"
        },
        "id": "Le1PIMcilLge",
        "outputId": "c48eed63-3584-44a7-bc34-3ca05266fd36"
      },
      "execution_count": null,
      "outputs": [
        {
          "output_type": "execute_result",
          "data": {
            "text/plain": [
              "0.25"
            ]
          },
          "metadata": {},
          "execution_count": 5
        }
      ]
    },
    {
      "cell_type": "code",
      "source": [
        "\"\"\"3.34 Implemente a função inverte_int() que aceita um inteiro de três dígitos\n",
        " como entrada e retorna o inteiro obtido invertendo seus dígitos. Por exemplo, se \n",
        " a entrada for 123, sua função deverá retornar 321. Você não poderá usar operações \n",
        " do tipo de dado de string para realizar essa tarefa. Seu programa deve simplesmente \n",
        " ler a entrada como um inteiro e processá-la como um inteiro usando operadores como // e %. \n",
        " Você pode considerar que o inteiro informado não termina com o dígito 0.\n",
        "\n",
        ">>> inverte_int(123)\n",
        "\n",
        "321\n",
        "\n",
        ">>> inverte_int(908)\n",
        "\n",
        "809\"\"\"\n",
        "\n",
        "def inverte_int(x):\n",
        "  if len(str(x)) != 3:\n",
        "    return 'escolha um inteiro de 3 digitos'\n",
        "  else:\n",
        "    if x % 100 == 0:\n",
        "      return 'escolha um inteiro que não termine com 0'\n",
        "    else:\n",
        "      unid = (x % 100) % 10\n",
        "      dez = (x // 10) % 10\n",
        "      mil = (x // 100) % 100\n",
        "      print(unid)\n",
        "      print(dez)\n",
        "      print(mil)\n",
        "\n",
        "inverte_int(123)\n",
        "      "
      ],
      "metadata": {
        "colab": {
          "base_uri": "https://localhost:8080/"
        },
        "id": "TiK5Ls0ki2Hc",
        "outputId": "44af6f63-c2f6-4965-f601-c834aa4f09bf"
      },
      "execution_count": null,
      "outputs": [
        {
          "output_type": "stream",
          "name": "stdout",
          "text": [
            "3\n",
            "2\n",
            "1\n"
          ]
        }
      ]
    },
    {
      "cell_type": "code",
      "source": [
        "\"\"\"3.38 Implemente a função partição() que divide uma lista de jogadores \n",
        "de futebol em dois grupos. Mais precisamente, ela toma uma \n",
        "lista de nomes (strings) como entrada e exibe os nomes dos jogadores de futebol \n",
        "cujo nome começa com uma letra entre A e M, inclusive.\n",
        "\n",
        ">>> partição(['Elano', 'Edinho', 'Silas', 'Obina', 'Gerson'])\n",
        "\n",
        "Elano\n",
        "\n",
        "Edinho\n",
        "\n",
        "Gerson\n",
        "\n",
        ">>> partição(['Neymar', 'Silas', 'Obina'])\"\"\"\n",
        "\n",
        "def partição(x):\n",
        "  lista = x\n",
        "  for i in lista:\n",
        "    if i[0] in 'AaBbCcDdEeFfGgHhIiJjKkLlMm':\n",
        "      print(i)\n",
        "\n",
        "partição(['Elano', 'Edinho', 'Silas', 'Obina', 'Gerson'])\n"
      ],
      "metadata": {
        "colab": {
          "base_uri": "https://localhost:8080/"
        },
        "id": "27tF8ea7uBlR",
        "outputId": "87386dc4-237a-4829-97fa-1e6bdf38204f"
      },
      "execution_count": null,
      "outputs": [
        {
          "output_type": "stream",
          "name": "stdout",
          "text": [
            "Elano\n",
            "Edinho\n",
            "Gerson\n"
          ]
        }
      ]
    },
    {
      "cell_type": "code",
      "source": [
        "\"\"\"3.36 Implemente a função abreviação() que aceita um \n",
        "dia da semana como entrada e retorna sua abreviação em três letras.\n",
        "\n",
        ">>> abreviação('Terça-feira')\n",
        "\n",
        "'Ter'\"\"\"\n",
        "\n",
        "def abreviação(x):\n",
        "  nome = x\n",
        "  return nome[0:3]\n",
        "\n",
        "abreviação('segunda')"
      ],
      "metadata": {
        "colab": {
          "base_uri": "https://localhost:8080/",
          "height": 35
        },
        "id": "X3ho5fUkq34k",
        "outputId": "6747f3b7-05b6-47e1-db54-ac3edbb8afac"
      },
      "execution_count": null,
      "outputs": [
        {
          "output_type": "execute_result",
          "data": {
            "text/plain": [
              "'seg'"
            ],
            "application/vnd.google.colaboratory.intrinsic+json": {
              "type": "string"
            }
          },
          "metadata": {},
          "execution_count": 12
        }
      ]
    },
    {
      "cell_type": "code",
      "source": [
        "from os.path import split\n",
        "\"\"\"3.39 Escreva a função inverteNome(), que aceita como entrada uma \n",
        "string na forma 'Nome Sobrenome' e retorna uma string na forma 'Sobrenome, N.'.\n",
        " (Somente a letra inicial deverá ser exibida para o nome.)\n",
        "\n",
        ">>> inverteNome('João Lourenço')\n",
        "\n",
        "'Lourenço, J.'\n",
        "\n",
        ">>> inverteNome('Alberto Carlos')\n",
        "\n",
        "'Carlos, A.'\"\"\"\n",
        "\n",
        "def inverteNome(nome):\n",
        "  lst = nome.split()\n",
        "  abrev = lst[0]\n",
        "  return f'{lst[1]} {abrev[0]}.'\n",
        "\n",
        "inverteNome('Alberto Carlos')"
      ],
      "metadata": {
        "colab": {
          "base_uri": "https://localhost:8080/",
          "height": 35
        },
        "id": "sY53jSzlwVe8",
        "outputId": "128ea06d-00a1-47a2-9019-62814135173a"
      },
      "execution_count": null,
      "outputs": [
        {
          "output_type": "execute_result",
          "data": {
            "text/plain": [
              "'Carlos A.'"
            ],
            "application/vnd.google.colaboratory.intrinsic+json": {
              "type": "string"
            }
          },
          "metadata": {},
          "execution_count": 4
        }
      ]
    },
    {
      "cell_type": "code",
      "source": [
        "\"\"\"3.40 Implemente a função med(), que aceita como entrada uma lista que contém\n",
        " listas de números. Cada lista de números representa as notas que determinado \n",
        " aluno recebeu para um curso. Por exemplo, aqui está uma lista de entrada\n",
        "  para uma classe de quatro alunos:\n",
        "\n",
        "[[95, 92, 86, 87], [66, 54], [89, 72, 100], [33, 0, 0]]\n",
        "\n",
        "A função avg deverá exibir, uma por linha, a nota média de cada aluno. \n",
        "Você pode considerar que cada lista de notas não é vazia, mas não deve \n",
        "considerar que todo aluno tem o mesmo número de notas.\n",
        "\n",
        ">>> med([[95, 92, 86, 87], [66, 54], [89, 72, 100], [33, 0, 0]])\n",
        "\n",
        "90.0\n",
        "\n",
        "60.0\n",
        "\n",
        "87.0\n",
        "\n",
        "11.0\"\"\"\n",
        "\n",
        "def med(lista):\n",
        "  lst = lista\n",
        "  for avg in lst:\n",
        "    print(sum(avg)/len(avg))\n",
        "\n",
        "med([[95, 92, 86, 87], [66, 54], [89, 72, 100], [33, 0, 0]])\n"
      ],
      "metadata": {
        "colab": {
          "base_uri": "https://localhost:8080/"
        },
        "id": "yeHzgeUWJLWe",
        "outputId": "604c072d-d85d-48d7-ddba-0492112a2ba3"
      },
      "execution_count": null,
      "outputs": [
        {
          "output_type": "stream",
          "name": "stdout",
          "text": [
            "90.0\n",
            "60.0\n",
            "87.0\n",
            "11.0\n"
          ]
        }
      ]
    },
    {
      "cell_type": "code",
      "source": [
        "\"\"\"3.42 Implemente a função ion2e() que aceita uma string como entrada \n",
        "e retorna uma cópia da palavra de volta com a seguinte mudança: \n",
        "se a palavra informada terminar com 'ion', então 'ion' é substituído por 'e'.\n",
        "\n",
        ">>> ion2e('congratulation')\n",
        "\n",
        "'congratulate'\n",
        "\n",
        ">>> ion2e('maratona')\n",
        "\n",
        "'maratona'\"\"\"\n",
        "def ion2e(nome):\n",
        "  if 'ion' in nome:\n",
        "    return nome[:-3] + 'e'\n",
        "  else:\n",
        "    return nome\n",
        "\n",
        "ion2e('congratulation')\n",
        "\n"
      ],
      "metadata": {
        "colab": {
          "base_uri": "https://localhost:8080/",
          "height": 35
        },
        "id": "0KtTHm5aNGaW",
        "outputId": "290541e7-51d8-4668-abb6-3e827ba4ef8e"
      },
      "execution_count": null,
      "outputs": [
        {
          "output_type": "execute_result",
          "data": {
            "text/plain": [
              "'congratulate'"
            ],
            "application/vnd.google.colaboratory.intrinsic+json": {
              "type": "string"
            }
          },
          "metadata": {},
          "execution_count": 12
        }
      ]
    }
  ]
}